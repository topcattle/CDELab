{
 "cells": [
  {
   "cell_type": "code",
   "execution_count": 17,
   "id": "c4bd6e25",
   "metadata": {},
   "outputs": [],
   "source": [
    "import pandas as pd\n",
    "import matplotlib.pyplot as plt\n",
    "%matplotlib inline\n",
    "import numpy as np\n",
    "from sklearn.preprocessing import MinMaxScaler\n",
    "from tensorflow.keras.losses import sparse_categorical_crossentropy\n",
    "from tensorflow.keras.optimizers import SGD\n",
    "from keras.utils import np_utils\n",
    "from tensorflow.keras import Sequential, layers, losses, optimizers, models\n",
    "import tensorflow as tf\n",
    "import os\n",
    "from csv import reader\n",
    "os.environ['KMP_DUPLICATE_LIB_OK']='True'"
   ]
  },
  {
   "cell_type": "code",
   "execution_count": 18,
   "id": "fd16bc9b",
   "metadata": {},
   "outputs": [],
   "source": [
    "seed_num = 128\n",
    "import random as python_random\n",
    "np.random.seed(seed_num)\n",
    "python_random.seed(seed_num)\n",
    "tf.random.set_seed(seed_num)\n",
    "from pickle import load\n",
    "load_minmax_scaler = load(open('./minmax_scaler.pkl', 'rb'))"
   ]
  },
  {
   "cell_type": "code",
   "execution_count": 19,
   "id": "334d6a69",
   "metadata": {},
   "outputs": [
    {
     "name": "stdout",
     "output_type": "stream",
     "text": [
      "Model: \"sequential_2\"\n",
      "_________________________________________________________________\n",
      " Layer (type)                Output Shape              Param #   \n",
      "=================================================================\n",
      " dense_10 (Dense)            (None, 38)                1482      \n",
      "                                                                 \n",
      " dense_11 (Dense)            (None, 19)                741       \n",
      "                                                                 \n",
      " dense_12 (Dense)            (None, 19)                380       \n",
      "                                                                 \n",
      " dense_13 (Dense)            (None, 9)                 180       \n",
      "                                                                 \n",
      " dense_14 (Dense)            (None, 3)                 30        \n",
      "                                                                 \n",
      "=================================================================\n",
      "Total params: 2,813\n",
      "Trainable params: 2,813\n",
      "Non-trainable params: 0\n",
      "_________________________________________________________________\n"
     ]
    },
    {
     "data": {
      "text/plain": [
       "<tensorflow.python.training.tracking.util.CheckpointLoadStatus at 0x1ef3e27fee0>"
      ]
     },
     "execution_count": 19,
     "metadata": {},
     "output_type": "execute_result"
    }
   ],
   "source": [
    "checkpoint_path = './temp/checkpoint.ckpt'\n",
    "optimizer = optimizers.Adam()\n",
    "model = Sequential()\n",
    "model.add(tf.keras.layers.Dense(38, input_dim =38,activation = 'relu'))\n",
    "model.add(tf.keras.layers.Dense(19,activation = 'relu'))\n",
    "model.add(tf.keras.layers.Dense(19,activation = 'relu'))\n",
    "model.add(tf.keras.layers.Dense(9,activation = 'relu'))\n",
    "model.add(tf.keras.layers.Dense(3,  activation='softmax'))\n",
    "model.compile(\n",
    "    loss=sparse_categorical_crossentropy, \n",
    "    optimizer=optimizer, \n",
    "    metrics=['acc'])\n",
    "model.summary()\n",
    "model.load_weights(checkpoint_path)"
   ]
  },
  {
   "cell_type": "code",
   "execution_count": 20,
   "id": "44ea0eed",
   "metadata": {},
   "outputs": [
    {
     "name": "stdout",
     "output_type": "stream",
     "text": [
      "치수_shape = (100, 38)\n",
      "체형_shape = (100,)\n"
     ]
    }
   ],
   "source": [
    "excel_data=pd.read_csv('ResultWeight_MainDimension.csv',header=None)\n",
    "num_data = excel_data.to_numpy()\n",
    "inx = [1,3,4,5,6,7,8,9,10,11,12,13,14,15,16,18,20,22,24,25,26,27,28,29,30,31,32,33,34,35,36]\n",
    "data1 = num_data[:,inx]\n",
    "폭 = np.average(num_data[:,37:41],axis=1)\n",
    "높이 = np.average(num_data[:,41:45],axis=1)\n",
    "면적 = np.average(num_data[:,49:53],axis=1)\n",
    "둘레 = np.average(num_data[:,53:57],axis=1)\n",
    "\n",
    "면적둘레 = 면적/둘레\n",
    "면적폭 = 면적/폭\n",
    "면적높이 = 면적/높이\n",
    "폭=np.reshape(폭,(num_data.shape[0],1))\n",
    "높이=np.reshape(높이,(num_data.shape[0],1))\n",
    "면적=np.reshape(면적,(num_data.shape[0],1))\n",
    "둘레=np.reshape(둘레,(num_data.shape[0],1))\n",
    "면적둘레=np.reshape(면적둘레,(num_data.shape[0],1))\n",
    "면적폭=np.reshape(면적폭,(num_data.shape[0],1))\n",
    "면적높이=np.reshape(면적높이,(num_data.shape[0],1))\n",
    "data2 = np.concatenate((data1,폭,높이,면적,둘레,면적둘레,면적폭,면적높이,num_data[:,57:59]),axis=1)\n",
    "num_data2 = data2\n",
    "\n",
    "돼지파일명 = num_data[0:,0]\n",
    "치수 = num_data2[0:,0:-2]\n",
    "체형 = num_data2[0:,-1].astype('float32')\n",
    "print(f'치수_shape = {치수.shape}\\n체형_shape = {체형.shape}') #35개의 선별 치수 + 둘레, 폭, 높이당 면적"
   ]
  },
  {
   "cell_type": "code",
   "execution_count": 21,
   "id": "e2a85f01",
   "metadata": {},
   "outputs": [
    {
     "name": "stdout",
     "output_type": "stream",
     "text": [
      "4/4 [==============================] - 0s 1ms/step\n"
     ]
    }
   ],
   "source": [
    "result = model.predict(load_minmax_scaler.transform(치수))\n",
    "Results = np.argmax(result,axis =1)\n",
    "Results = Results +1"
   ]
  },
  {
   "cell_type": "code",
   "execution_count": 22,
   "id": "6cae9916",
   "metadata": {},
   "outputs": [
    {
     "name": "stdout",
     "output_type": "stream",
     "text": [
      "acc is 98.0\n"
     ]
    }
   ],
   "source": [
    "cnt = 0\n",
    "TF = []\n",
    "for i in range(치수.shape[0]):\n",
    "    if(Results[i] == 체형[i]):\n",
    "        TF.append('True')\n",
    "        cnt = cnt +1\n",
    "    else:\n",
    "        TF.append('False')\n",
    "print(f\"acc is {cnt/치수.shape[0]*100}\")\n",
    "TF = np.array(TF)\n",
    "TF = np.reshape(TF,(100,1))"
   ]
  },
  {
   "cell_type": "code",
   "execution_count": 23,
   "id": "f8cd6088",
   "metadata": {},
   "outputs": [
    {
     "data": {
      "text/plain": [
       "array([['6963_W184_T1_000000006963000_20210527_08_13_35_858.pcd', 870.01,\n",
       "        530.01, ..., 1417.85, 184, 1],\n",
       "       ['6963_W184_T1_000000006963000_20210527_08_13_35_990.pcd', 980.01,\n",
       "        600.01, ..., 1296.5, 184, 1],\n",
       "       ['6963_W184_T1_000000006963000_20210527_08_13_36_028.pcd',\n",
       "        1000.01, 610.01, ..., 1340.92, 184, 1],\n",
       "       ...,\n",
       "       ['6818_W218_T2_000000006818000_20211007_08_07_40_120_245.83kg_1.4type_Clipped_c1.scd',\n",
       "        850.01, 850.01, ..., 1382.29, 218, 2],\n",
       "       ['6963_W184_T1_000000006963000_20210527_08_13_35_774.scd', 800.01,\n",
       "        750.01, ..., 1332.6, 184, 1],\n",
       "       ['6963_W184_T1_000000006963000_20210527_08_13_35_827.scd', 830.01,\n",
       "        590.01, ..., 1367.49, 184, 1]], dtype=object)"
      ]
     },
     "execution_count": 23,
     "metadata": {},
     "output_type": "execute_result"
    }
   ],
   "source": [
    "num_data"
   ]
  },
  {
   "cell_type": "code",
   "execution_count": 24,
   "id": "10fa46fb",
   "metadata": {},
   "outputs": [],
   "source": [
    "merge = np.concatenate((num_data,np.reshape(Results,(100,1))),axis =1)"
   ]
  },
  {
   "cell_type": "code",
   "execution_count": 25,
   "id": "0bc1ebd2",
   "metadata": {},
   "outputs": [
    {
     "data": {
      "text/plain": [
       "array([['6963_W184_T1_000000006963000_20210527_08_13_35_858.pcd', 1, 1,\n",
       "        'True'],\n",
       "       ['6963_W184_T1_000000006963000_20210527_08_13_35_990.pcd', 1, 1,\n",
       "        'True'],\n",
       "       ['6963_W184_T1_000000006963000_20210527_08_13_36_028.pcd', 1, 1,\n",
       "        'True'],\n",
       "       ['6963_W184_T1_000000006963000_20210527_08_13_36_112.pcd', 1, 1,\n",
       "        'True'],\n",
       "       ['6963_W184_T1_000000006963000_20210527_08_13_36_159.pcd', 1, 1,\n",
       "        'True'],\n",
       "       ['7016_W198_T2_000000007016000_20210527_08_18_12_986.pcd', 2, 2,\n",
       "        'True'],\n",
       "       ['7016_W198_T2_000000007016000_20210527_08_18_13_033.pcd', 2, 2,\n",
       "        'True'],\n",
       "       ['7016_W198_T2_000000007016000_20210527_08_18_13_134.pcd', 2, 2,\n",
       "        'True'],\n",
       "       ['7016_W198_T2_000000007016000_20210527_08_18_13_239.pcd', 2, 2,\n",
       "        'True'],\n",
       "       ['7016_W198_T2_000000007016000_20210527_08_18_13_299.pcd', 2, 2,\n",
       "        'True'],\n",
       "       ['7016_W198_T2_000000007016000_20210527_08_18_13_337.pcd', 2, 2,\n",
       "        'True'],\n",
       "       ['7016_W198_T2_000000007016000_20210527_08_18_13_437.pcd', 2, 2,\n",
       "        'True'],\n",
       "       ['7016_W198_T2_000000007016000_20210527_08_18_13_484.pcd', 2, 2,\n",
       "        'True'],\n",
       "       ['7016_W198_T2_000000007016000_20210527_08_18_13_624.pcd', 2, 2,\n",
       "        'True'],\n",
       "       ['7016_W198_T2_000000007016000_20210527_08_18_13_669.pcd', 2, 2,\n",
       "        'True'],\n",
       "       ['5047_W279_T2_20210930_08_11_41_893_299.84kg_3.0type_Clipped_c1.pcd',\n",
       "        2, 2, 'True'],\n",
       "       ['5047_W279_T2_20210930_08_11_41_893_299.84kg_3.0type_Clipped_c2.pcd',\n",
       "        2, 2, 'True'],\n",
       "       ['5047_W279_T2_20210930_08_11_41_934_312.48kg_2.9type_Clipped.pcd',\n",
       "        2, 2, 'True'],\n",
       "       ['5047_W279_T2_20210930_08_11_41_934_312.48kg_2.9type_Clipped_c3.pcd',\n",
       "        2, 2, 'True'],\n",
       "       ['5047_W279_T2_20210930_08_11_42_021_332.50kg_3.4type_Clipped.pcd',\n",
       "        2, 2, 'True'],\n",
       "       ['5047_W279_T2_20210930_08_11_42_021_332.50kg_3.4type_Clipped_c1.pcd',\n",
       "        2, 2, 'True'],\n",
       "       ['5047_W279_T2_20210930_08_11_42_177_298.78kg_2.1type_Clipped.pcd',\n",
       "        2, 2, 'True'],\n",
       "       ['5047_W279_T2_20210930_08_11_42_177_298.78kg_2.1type_Clipped_c1.pcd',\n",
       "        2, 2, 'True'],\n",
       "       ['5047_W279_T2_20210930_08_11_42_177_298.78kg_2.1type_Clipped_c2.pcd',\n",
       "        2, 2, 'True'],\n",
       "       ['5382_W295_T3_20210930_08_15_24_846_243.27kg_2.4type_Clipped_c1.pcd',\n",
       "        3, 3, 'True'],\n",
       "       ['5382_W295_T3_20210930_08_15_24_846_243.27kg_2.4type_Clipped_c3.pcd',\n",
       "        3, 3, 'True'],\n",
       "       ['5382_W295_T3_20210930_08_15_24_911_278.50kg_2.9type_Clipped_c1.pcd',\n",
       "        3, 3, 'True'],\n",
       "       ['5382_W295_T3_20210930_08_15_24_911_278.50kg_2.9type_Clipped_c3.pcd',\n",
       "        3, 3, 'True'],\n",
       "       ['5382_W295_T3_20210930_08_15_24_977_314.15kg_2.7type_Clipped_c2.pcd',\n",
       "        3, 3, 'True'],\n",
       "       ['5382_W295_T3_20210930_08_15_25_055_314.26kg_3.0type_Clipped_c2.pcd',\n",
       "        3, 3, 'True'],\n",
       "       ['5382_W295_T3_20210930_08_15_25_055_314.26kg_3.0type_Clipped_c3.pcd',\n",
       "        3, 3, 'True'],\n",
       "       ['5382_W295_T3_20210930_08_15_25_055_314.26kg_3.0type_Clipped_c4.pcd',\n",
       "        3, 3, 'True'],\n",
       "       ['6081_W241_T2_000000206081000_20211007_08_08_39_672_233.14kg_2.6type_Clipped_c1.pcd',\n",
       "        2, 3, 'False'],\n",
       "       ['6081_W241_T2_000000206081000_20211007_08_08_39_720_216.13kg_2.3type_Clipped_c2.pcd',\n",
       "        2, 2, 'True'],\n",
       "       ['6081_W241_T2_000000206081000_20211007_08_08_39_805_234.21kg_2.4type_Clipped.pcd',\n",
       "        2, 2, 'True'],\n",
       "       ['6081_W241_T2_000000206081000_20211007_08_08_39_843_229.15kg_2.1type_Clipped_c2.pcd',\n",
       "        2, 2, 'True'],\n",
       "       ['6081_W241_T2_000000206081000_20211007_08_08_39_930_265.15kg_2.9type_Clipped.pcd',\n",
       "        2, 2, 'True'],\n",
       "       ['6081_W241_T2_000000206081000_20211007_08_08_39_930_265.15kg_2.9type_Clipped_c2.pcd',\n",
       "        2, 2, 'True'],\n",
       "       ['6081_W241_T2_000000206081000_20211007_08_08_39_979_279.88kg_3.1type_Clipped.pcd',\n",
       "        2, 2, 'True'],\n",
       "       ['6247_W235_T2_000000006247000_20211007_08_12_36_168_287.43kg_2.4type_Clipped_c1.pcd',\n",
       "        2, 2, 'True'],\n",
       "       ['6247_W235_T2_000000006247000_20211007_08_12_36_246_280.76kg_3.1type_Clipped_c1.pcd',\n",
       "        2, 2, 'True'],\n",
       "       ['6247_W235_T2_000000006247000_20211007_08_12_36_246_280.76kg_3.1type_Clipped_c2.pcd',\n",
       "        2, 2, 'True'],\n",
       "       ['6247_W235_T2_000000006247000_20211007_08_12_36_331_299.72kg_2.1type_Clipped_c2.pcd',\n",
       "        2, 2, 'True'],\n",
       "       ['6247_W235_T2_000000006247000_20211007_08_12_36_366_308.76kg_3.4type_Clipped_c1.pcd',\n",
       "        2, 2, 'True'],\n",
       "       ['6247_W235_T2_000000006247000_20211007_08_12_36_366_308.76kg_3.4type_Clipped_c2.pcd',\n",
       "        2, 2, 'True'],\n",
       "       ['6247_W235_T2_000000006247000_20211007_08_12_37_395_251.96kg_2.1type_Clipped_c1.pcd',\n",
       "        2, 2, 'True'],\n",
       "       ['6247_W235_T2_000000006247000_20211007_08_12_37_395_251.96kg_2.1type_Clipped_c2.pcd',\n",
       "        2, 2, 'True'],\n",
       "       ['6247_W235_T2_000000006247000_20211007_08_12_37_487_265.87kg_2.0type_Clipped.pcd',\n",
       "        2, 2, 'True'],\n",
       "       ['6263_W306_T3_20211007_08_07_42_282_340.83kg_3.4type_Clipped_c2.pcd',\n",
       "        3, 3, 'True'],\n",
       "       ['6263_W306_T3_20211007_08_12_36_246_280.76kg_3.1type_Clipped.pcd',\n",
       "        3, 3, 'True'],\n",
       "       ['6263_W306_T3_20211007_08_12_36_331_299.72kg_2.1type_Clipped_c2.pcd',\n",
       "        3, 3, 'True'],\n",
       "       ['6263_W306_T3_20211007_08_12_36_366_308.76kg_3.4type_Clipped.pcd',\n",
       "        3, 3, 'True'],\n",
       "       ['6263_W306_T3_20211007_08_12_36_366_308.76kg_3.4type_Clipped_c2.pcd',\n",
       "        3, 3, 'True'],\n",
       "       ['6263_W306_T3_20211007_08_12_37_395_251.96kg_2.1type_Clipped_c2.pcd',\n",
       "        3, 3, 'True'],\n",
       "       ['6647_W211_T2_000000006647000_20210527_08_24_33_822.pcd', 2, 2,\n",
       "        'True'],\n",
       "       ['6647_W211_T2_000000006647000_20210527_08_24_33_954.pcd', 2, 2,\n",
       "        'True'],\n",
       "       ['6647_W211_T2_000000006647000_20210527_08_24_34_054.pcd', 2, 2,\n",
       "        'True'],\n",
       "       ['6647_W211_T2_000000006647000_20210527_08_24_34_232.pcd', 2, 2,\n",
       "        'True'],\n",
       "       ['6647_W211_T2_000000006647000_20210527_08_24_34_386.pcd', 2, 2,\n",
       "        'True'],\n",
       "       ['6674_W203_T1_20210930_08_09_39_368_185.66kg_1.1type_Clipped.pcd',\n",
       "        1, 1, 'True'],\n",
       "       ['6674_W203_T1_20210930_08_09_39_368_185.66kg_1.1type_Clipped_c1.pcd',\n",
       "        1, 1, 'True'],\n",
       "       ['6674_W203_T1_20210930_08_09_39_402_178.46kg_1.1type_Clipped_c1.pcd',\n",
       "        1, 1, 'True'],\n",
       "       ['6674_W203_T1_20210930_08_09_39_402_178.46kg_1.1type_Clipped_c2.pcd',\n",
       "        1, 1, 'True'],\n",
       "       ['6674_W203_T1_20210930_08_09_39_482_187.44kg_1.5type_Clipped.pcd',\n",
       "        1, 1, 'True'],\n",
       "       ['6674_W203_T1_20210930_08_09_39_482_187.44kg_1.5type_Clipped_c3.pcd',\n",
       "        1, 1, 'True'],\n",
       "       ['6674_W203_T1_20210930_08_09_39_572_190.76kg_1.5type_Clipped.pcd',\n",
       "        1, 1, 'True'],\n",
       "       ['6674_W203_T1_20210930_08_09_39_572_190.76kg_1.5type_Clipped_c1.pcd',\n",
       "        1, 1, 'True'],\n",
       "       ['6818_W218_T2_000000006818000_20211007_08_07_39_750_176.15kg_2.0type_Clipped_c1.pcd',\n",
       "        2, 2, 'True'],\n",
       "       ['6818_W218_T2_000000006818000_20211007_08_07_39_825_206.20kg_1.9type_Clipped_c2.pcd',\n",
       "        2, 2, 'True'],\n",
       "       ['6818_W218_T2_000000006818000_20211007_08_07_39_865_208.37kg_2.1type_Clipped_c2.pcd',\n",
       "        2, 2, 'True'],\n",
       "       ['6818_W218_T2_000000006818000_20211007_08_07_40_089_253.33kg_1.5type_Clipped.pcd',\n",
       "        2, 2, 'True'],\n",
       "       ['6818_W218_T2_000000006818000_20211007_08_07_40_089_253.33kg_1.5type_Clipped_c1.pcd',\n",
       "        2, 2, 'True'],\n",
       "       ['6818_W218_T2_000000006818000_20211007_08_07_40_120_245.83kg_1.4type_Clipped.pcd',\n",
       "        2, 2, 'True'],\n",
       "       ['6818_W218_T2_000000006818000_20211007_08_07_40_120_245.83kg_1.4type_Clipped_c1.pcd',\n",
       "        2, 2, 'True'],\n",
       "       ['6963_W184_T1_000000006963000_20210527_08_13_35_743.pcd', 1, 1,\n",
       "        'True'],\n",
       "       ['6963_W184_T1_000000006963000_20210527_08_13_35_827.pcd', 1, 1,\n",
       "        'True'],\n",
       "       ['6963_W184_T1_000000006963000_20210527_08_13_35_858.scd', 1, 1,\n",
       "        'True'],\n",
       "       ['5047_W279_T2_20210930_08_11_41_893_299.84kg_3.0type_Clipped.scd',\n",
       "        2, 2, 'True'],\n",
       "       ['5382_W295_T3_20210930_08_15_24_977_314.15kg_2.7type_Clipped.scd',\n",
       "        3, 3, 'True'],\n",
       "       ['5382_W295_T3_20210930_08_15_24_977_314.15kg_2.7type_Clipped_c1.scd',\n",
       "        3, 3, 'True'],\n",
       "       ['6081_W241_T2_000000206081000_20211007_08_08_39_979_279.88kg_3.1type_Clipped.scd',\n",
       "        2, 2, 'True'],\n",
       "       ['6081_W241_T2_000000206081000_20211007_08_08_39_979_279.88kg_3.1type_Clipped_c1.scd',\n",
       "        2, 2, 'True'],\n",
       "       ['6081_W241_T2_000000206081000_20211007_08_08_39_979_279.88kg_3.1type_Clipped_c2.scd',\n",
       "        2, 2, 'True'],\n",
       "       ['6247_W235_T2_000000006247000_20211007_08_12_37_527_274.61kg_2.9type_Clipped_c2.scd',\n",
       "        2, 3, 'False'],\n",
       "       ['6263_W306_T3_20211007_08_07_42_189_312.49kg_3.4type_Clipped_c2.scd',\n",
       "        3, 3, 'True'],\n",
       "       ['6263_W306_T3_20211007_08_07_42_282_340.83kg_3.4type_Clipped.scd',\n",
       "        3, 3, 'True'],\n",
       "       ['6263_W306_T3_20211007_08_07_42_282_340.83kg_3.4type_Clipped_c1.scd',\n",
       "        3, 3, 'True'],\n",
       "       ['6263_W306_T3_20211007_08_07_42_282_340.83kg_3.4type_Clipped_c2.scd',\n",
       "        3, 3, 'True'],\n",
       "       ['6647_W211_T2_000000006647000_20210527_08_24_33_954.scd', 2, 2,\n",
       "        'True'],\n",
       "       ['6647_W211_T2_000000006647000_20210527_08_24_34_007.scd', 2, 2,\n",
       "        'True'],\n",
       "       ['6647_W211_T2_000000006647000_20210527_08_24_34_054.scd', 2, 2,\n",
       "        'True'],\n",
       "       ['6647_W211_T2_000000006647000_20210527_08_24_34_108.scd', 2, 2,\n",
       "        'True'],\n",
       "       ['6647_W211_T2_000000006647000_20210527_08_24_34_139.scd', 2, 2,\n",
       "        'True'],\n",
       "       ['6674_W203_T1_20210930_08_09_39_572_190.76kg_1.5type_Clipped_c3.scd',\n",
       "        1, 1, 'True'],\n",
       "       ['6674_W203_T1_20210930_08_09_39_572_190.76kg_1.5type_Clipped_c4.scd',\n",
       "        1, 1, 'True'],\n",
       "       ['6818_W218_T2_000000006818000_20211007_08_07_39_991_250.60kg_2.2type_Clipped_c1.scd',\n",
       "        2, 2, 'True'],\n",
       "       ['6818_W218_T2_000000006818000_20211007_08_07_40_089_253.33kg_1.5type_Clipped_c1.scd',\n",
       "        2, 2, 'True'],\n",
       "       ['6818_W218_T2_000000006818000_20211007_08_07_40_120_245.83kg_1.4type_Clipped_c1.scd',\n",
       "        2, 2, 'True'],\n",
       "       ['6963_W184_T1_000000006963000_20210527_08_13_35_774.scd', 1, 1,\n",
       "        'True'],\n",
       "       ['6963_W184_T1_000000006963000_20210527_08_13_35_827.scd', 1, 1,\n",
       "        'True']], dtype=object)"
      ]
     },
     "execution_count": 25,
     "metadata": {},
     "output_type": "execute_result"
    }
   ],
   "source": [
    "merge = np.concatenate((merge[:,0:1],merge[:,-2:]),axis=1)\n",
    "merge = np.concatenate((merge,TF),axis = 1)\n",
    "merge"
   ]
  },
  {
   "cell_type": "code",
   "execution_count": 26,
   "id": "f3d6fbee",
   "metadata": {},
   "outputs": [],
   "source": [
    "돼지선별 = pd.DataFrame(merge)"
   ]
  },
  {
   "cell_type": "code",
   "execution_count": 27,
   "id": "d396fdbf",
   "metadata": {},
   "outputs": [],
   "source": [
    "돼지선별.to_excel('돼지_100_Results.xlsx')"
   ]
  },
  {
   "cell_type": "code",
   "execution_count": null,
   "id": "ec07075d",
   "metadata": {},
   "outputs": [],
   "source": []
  }
 ],
 "metadata": {
  "kernelspec": {
   "display_name": "Python 3 (ipykernel)",
   "language": "python",
   "name": "python3"
  },
  "language_info": {
   "codemirror_mode": {
    "name": "ipython",
    "version": 3
   },
   "file_extension": ".py",
   "mimetype": "text/x-python",
   "name": "python",
   "nbconvert_exporter": "python",
   "pygments_lexer": "ipython3",
   "version": "3.9.13"
  }
 },
 "nbformat": 4,
 "nbformat_minor": 5
}
