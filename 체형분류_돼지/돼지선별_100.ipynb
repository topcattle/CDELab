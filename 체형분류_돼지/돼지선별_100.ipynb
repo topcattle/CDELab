{
 "cells": [
  {
   "cell_type": "code",
   "execution_count": 49,
   "id": "d25e1cb2",
   "metadata": {},
   "outputs": [],
   "source": [
    "import pandas as pd\n",
    "import matplotlib.pyplot as plt\n",
    "%matplotlib inline\n",
    "import numpy as np\n",
    "from sklearn.preprocessing import MinMaxScaler\n",
    "from tensorflow.keras.losses import sparse_categorical_crossentropy\n",
    "from tensorflow.keras.optimizers import SGD\n",
    "from keras.utils import np_utils\n",
    "from tensorflow.keras import Sequential, layers, losses, optimizers, models\n",
    "import tensorflow as tf\n",
    "import os\n",
    "from csv import reader\n",
    "os.environ['KMP_DUPLICATE_LIB_OK']='True'"
   ]
  },
  {
   "cell_type": "code",
   "execution_count": 50,
   "id": "59fd2fd1",
   "metadata": {},
   "outputs": [],
   "source": [
    "seed_num = 128\n",
    "import random as python_random\n",
    "np.random.seed(seed_num)\n",
    "python_random.seed(seed_num)\n",
    "tf.random.set_seed(seed_num)"
   ]
  },
  {
   "cell_type": "code",
   "execution_count": 51,
   "id": "789aa6dd",
   "metadata": {},
   "outputs": [],
   "source": [
    "from pickle import load\n",
    "load_minmax_scaler = load(open('./minmax_scaler.pkl', 'rb'))"
   ]
  },
  {
   "cell_type": "code",
   "execution_count": 52,
   "id": "f8d0aca3",
   "metadata": {},
   "outputs": [
    {
     "name": "stdout",
     "output_type": "stream",
     "text": [
      "Model: \"sequential_2\"\n",
      "_________________________________________________________________\n",
      " Layer (type)                Output Shape              Param #   \n",
      "=================================================================\n",
      " dense_10 (Dense)            (None, 38)                1482      \n",
      "                                                                 \n",
      " dense_11 (Dense)            (None, 19)                741       \n",
      "                                                                 \n",
      " dense_12 (Dense)            (None, 19)                380       \n",
      "                                                                 \n",
      " dense_13 (Dense)            (None, 9)                 180       \n",
      "                                                                 \n",
      " dense_14 (Dense)            (None, 3)                 30        \n",
      "                                                                 \n",
      "=================================================================\n",
      "Total params: 2,813\n",
      "Trainable params: 2,813\n",
      "Non-trainable params: 0\n",
      "_________________________________________________________________\n"
     ]
    },
    {
     "data": {
      "text/plain": [
       "<tensorflow.python.training.tracking.util.CheckpointLoadStatus at 0x16105d43f40>"
      ]
     },
     "execution_count": 52,
     "metadata": {},
     "output_type": "execute_result"
    }
   ],
   "source": [
    "checkpoint_path = './temp/checkpoint.ckpt'\n",
    "optimizer = optimizers.Adam()\n",
    "model = Sequential()\n",
    "model.add(tf.keras.layers.Dense(38, input_dim =38,activation = 'relu'))\n",
    "model.add(tf.keras.layers.Dense(19,activation = 'relu'))\n",
    "model.add(tf.keras.layers.Dense(19,activation = 'relu'))\n",
    "model.add(tf.keras.layers.Dense(9,activation = 'relu'))\n",
    "model.add(tf.keras.layers.Dense(3,  activation='softmax'))\n",
    "model.compile(\n",
    "    loss=sparse_categorical_crossentropy, \n",
    "    optimizer=optimizer, \n",
    "    metrics=['acc'])\n",
    "model.summary()\n",
    "model.load_weights(checkpoint_path)"
   ]
  },
  {
   "cell_type": "code",
   "execution_count": 53,
   "id": "62dc263b",
   "metadata": {},
   "outputs": [],
   "source": [
    "excel_data=pd.read_csv('Total/ResultWeight_MainDimension.csv',header=None)"
   ]
  },
  {
   "cell_type": "code",
   "execution_count": 54,
   "id": "5677a528",
   "metadata": {},
   "outputs": [],
   "source": [
    "num_data = excel_data.to_numpy()\n",
    "inx = [1,3,4,5,6,7,8,9,10,11,12,13,14,15,16,18,20,22,24,25,26,27,28,29,30,31,32,33,34,35,36]\n",
    "data1 = num_data[:,inx]"
   ]
  },
  {
   "cell_type": "code",
   "execution_count": 55,
   "id": "f49d2916",
   "metadata": {
    "scrolled": true
   },
   "outputs": [
    {
     "data": {
      "text/plain": [
       "31"
      ]
     },
     "execution_count": 55,
     "metadata": {},
     "output_type": "execute_result"
    }
   ],
   "source": [
    "len(inx)"
   ]
  },
  {
   "cell_type": "code",
   "execution_count": 56,
   "id": "69b85471",
   "metadata": {
    "scrolled": true
   },
   "outputs": [],
   "source": [
    "폭 = np.average(num_data[:,37:41],axis=1)\n",
    "높이 = np.average(num_data[:,41:45],axis=1)\n",
    "면적 = np.average(num_data[:,49:53],axis=1)\n",
    "둘레 = np.average(num_data[:,53:57],axis=1)\n",
    "\n",
    "면적둘레 = 면적/둘레\n",
    "면적폭 = 면적/폭\n",
    "면적높이 = 면적/높이\n",
    "폭=np.reshape(폭,(num_data.shape[0],1))\n",
    "높이=np.reshape(높이,(num_data.shape[0],1))\n",
    "면적=np.reshape(면적,(num_data.shape[0],1))\n",
    "둘레=np.reshape(둘레,(num_data.shape[0],1))\n",
    "면적둘레=np.reshape(면적둘레,(num_data.shape[0],1))\n",
    "면적폭=np.reshape(면적폭,(num_data.shape[0],1))\n",
    "면적높이=np.reshape(면적높이,(num_data.shape[0],1))"
   ]
  },
  {
   "cell_type": "code",
   "execution_count": 57,
   "id": "83dfe431",
   "metadata": {},
   "outputs": [
    {
     "data": {
      "text/plain": [
       "array([860.01, 437.81, 351.94, 605.38, 174489.22, 1628.11, 342.24, 362.24,\n",
       "       629.18, 655.27, 180697.82, 196069.74, 1628.76, 1674.88, 368.91,\n",
       "       673.74, 207690.97, 1733.3, 371.8, 366.15, 657.88, 658.86,\n",
       "       195073.62, 204146.25, 1707.21, 1713.75, 417.23, 375.93, 608.3,\n",
       "       178965.78, 1612.7, 296.21000000000004, 494.5075, 150501.885,\n",
       "       1287.5925, 116.8862703067935, 508.0918436244556, 304.3470220370773,\n",
       "       269, 3], dtype=object)"
      ]
     },
     "execution_count": 57,
     "metadata": {},
     "output_type": "execute_result"
    }
   ],
   "source": [
    "data2 = np.concatenate((data1,폭,높이,면적,둘레,면적둘레,면적폭,면적높이,num_data[:,57:59]),axis=1)\n",
    "data2[0]"
   ]
  },
  {
   "cell_type": "code",
   "execution_count": 58,
   "id": "44256b0b",
   "metadata": {},
   "outputs": [
    {
     "name": "stdout",
     "output_type": "stream",
     "text": [
      "치수_shape = (798, 38)\n",
      "체형_shape = (798,)\n"
     ]
    }
   ],
   "source": [
    "\n",
    "num_data2 = data2\n",
    "\n",
    "돼지파일명 = num_data[0:,0]\n",
    "치수 = num_data2[0:,0:-2]\n",
    "체형 = num_data2[0:,-1].astype('float32')\n",
    "print(f'치수_shape = {치수.shape}\\n체형_shape = {체형.shape}') #35개의 선별 치수 + 둘레, 폭, 높이당 면적"
   ]
  },
  {
   "cell_type": "code",
   "execution_count": null,
   "id": "af142bf2",
   "metadata": {},
   "outputs": [],
   "source": []
  },
  {
   "cell_type": "code",
   "execution_count": 59,
   "id": "86de7579",
   "metadata": {
    "scrolled": true
   },
   "outputs": [
    {
     "name": "stdout",
     "output_type": "stream",
     "text": [
      "25/25 [==============================] - 0s 831us/step\n"
     ]
    }
   ],
   "source": [
    "result = model.predict(load_minmax_scaler.transform(치수))\n",
    "Results = np.argmax(result,axis =1)\n",
    "Results = Results +1\n",
    "#체형[696:] = Results[696:]\n",
    "#num_data[697:,-1] = Results[696:]"
   ]
  },
  {
   "cell_type": "code",
   "execution_count": 60,
   "id": "4a252d21",
   "metadata": {},
   "outputs": [
    {
     "name": "stdout",
     "output_type": "stream",
     "text": [
      "acc is 91.72932330827066\n"
     ]
    }
   ],
   "source": [
    "cnt = 0\n",
    "for i in range(치수.shape[0]):\n",
    "    if(Results[i] == 체형[i]):\n",
    "        cnt = cnt +1\n",
    "print(f\"acc is {cnt/치수.shape[0]*100}\")\n"
   ]
  },
  {
   "cell_type": "code",
   "execution_count": null,
   "id": "25dd675d",
   "metadata": {},
   "outputs": [],
   "source": []
  },
  {
   "cell_type": "code",
   "execution_count": 61,
   "id": "8daec074",
   "metadata": {},
   "outputs": [
    {
     "name": "stdout",
     "output_type": "stream",
     "text": [
      "732 of 748 are correct [97.86096256684492%]\n"
     ]
    }
   ],
   "source": [
    "index = []\n",
    "cnt =0\n",
    "for i,m in zip(range(치수.shape[0]),result.max(axis=1)):\n",
    "    if(Results[i] == 체형[i]):\n",
    "        cnt=cnt+1\n",
    "        index.append(i)\n",
    "    else:\n",
    "        if(m < 0.7):\n",
    "            index.append(i)\n",
    "        \n",
    "print(f'{cnt} of {len(index)} are correct [{cnt/len(index)*100}%]')"
   ]
  },
  {
   "cell_type": "code",
   "execution_count": 72,
   "id": "c997922c",
   "metadata": {},
   "outputs": [],
   "source": [
    "np.random.shuffle(index)"
   ]
  },
  {
   "cell_type": "code",
   "execution_count": 73,
   "id": "5e8a583a",
   "metadata": {},
   "outputs": [
    {
     "name": "stdout",
     "output_type": "stream",
     "text": [
      "acc is 98.0\n"
     ]
    }
   ],
   "source": [
    "cnt =0\n",
    "\n",
    "for i in range(200):\n",
    "    if(Results[index][i] == 체형[index][i]):\n",
    "        cnt = cnt +1\n",
    "print(f\"acc is {cnt/200*100}\")"
   ]
  },
  {
   "cell_type": "code",
   "execution_count": 64,
   "id": "8f970d48",
   "metadata": {},
   "outputs": [
    {
     "data": {
      "text/plain": [
       "(100, 59)"
      ]
     },
     "execution_count": 64,
     "metadata": {},
     "output_type": "execute_result"
    }
   ],
   "source": [
    "num_data[index][:100].shape"
   ]
  },
  {
   "cell_type": "code",
   "execution_count": 65,
   "id": "5ad5f257",
   "metadata": {},
   "outputs": [],
   "source": [
    "merge = np.concatenate((num_data[index][:200],np.reshape(Results[index][:200],(200,1))),axis =1)"
   ]
  },
  {
   "cell_type": "code",
   "execution_count": 66,
   "id": "314fef4a",
   "metadata": {},
   "outputs": [],
   "source": [
    "TF =[]\n",
    "for i in range(200):\n",
    "    if(merge[i][-1]==merge[i][-2]):\n",
    "        TF.append(\"True\")\n",
    "    else:\n",
    "        TF.append(\"False\")"
   ]
  },
  {
   "cell_type": "code",
   "execution_count": 67,
   "id": "060038cd",
   "metadata": {},
   "outputs": [],
   "source": [
    "TF = np.array(TF)\n",
    "TF = np.reshape(TF,(200,1))"
   ]
  },
  {
   "cell_type": "markdown",
   "id": "55297238",
   "metadata": {},
   "source": [
    "### 측정 데이터 제거"
   ]
  },
  {
   "cell_type": "code",
   "execution_count": 68,
   "id": "2d28867c",
   "metadata": {},
   "outputs": [
    {
     "data": {
      "text/plain": [
       "array([['5382_W295_T3_20210930_08_15_24_911_278.50kg_2.9type_Clipped_c1.pcd',\n",
       "        3, 3, 'True'],\n",
       "       ['6570_W289_T3_000000006570000_20210930_08_13_14_565_320.13kg_3.0type_Clipped_c1.pcd',\n",
       "        3, 3, 'True'],\n",
       "       ['7013_W186_T2_000000007013000_20210527_08_15_16_010.pcd', 2, 2,\n",
       "        'True'],\n",
       "       ['6247_W235_T2_000000006247000_20211007_08_12_36_366_308.76kg_3.4type_Clipped_c2.pcd',\n",
       "        2, 2, 'True'],\n",
       "       ['6674_W203_T1_20210930_08_09_39_482_187.44kg_1.5type_Clipped_c3.pcd',\n",
       "        1, 1, 'True'],\n",
       "       ['7678_W213_T3_000000007678000_20210930_08_15_17_665_159.24kg_2.0type_Clipped_c8.pcd',\n",
       "        3, 3, 'True'],\n",
       "       ['6818_W218_T2_000000006818000_20211007_08_07_40_089_253.33kg_1.5type_Clipped_c1.pcd',\n",
       "        2, 2, 'True'],\n",
       "       ['5382_W295_T3_20210930_08_15_24_977_314.15kg_2.7type_Clipped_c2.pcd',\n",
       "        3, 3, 'True'],\n",
       "       ['5604_W229_T2_000000195604000_20210527_08_40_21_166_0.00kg_0.0type_Clipped.pcd',\n",
       "        2, 2, 'True'],\n",
       "       ['6988_W168_T1_000000006988000_20210527_08_20_14_707.pcd', 1, 1,\n",
       "        'True'],\n",
       "       ['6081_W241_T2_000000206081000_20211007_08_08_39_930_265.15kg_2.9type_Clipped.pcd',\n",
       "        2, 2, 'True'],\n",
       "       ['6962_W176_T2_000000006962000_20210527_08_15_50_777.pcd', 2, 2,\n",
       "        'True'],\n",
       "       ['6963_W184_T1_000000006963000_20210527_08_13_36_028.pcd', 1, 1,\n",
       "        'True'],\n",
       "       ['6818_W218_T2_000000006818000_20211007_08_07_39_865_208.37kg_2.1type_Clipped_c2.pcd',\n",
       "        2, 2, 'True'],\n",
       "       ['6247_W235_T2_000000006247000_20211007_08_12_36_246_280.76kg_3.1type_Clipped_c1.pcd',\n",
       "        2, 2, 'True'],\n",
       "       ['6963_W184_T1_000000006963000_20210527_08_13_35_743.pcd', 1, 1,\n",
       "        'True'],\n",
       "       ['6895_W249_T3_20210930_08_15_51_670_283.63kg_3.4type_Clipped_c3.pcd',\n",
       "        3, 3, 'True'],\n",
       "       ['7016_W198_T2_000000007016000_20210527_08_18_12_986.pcd', 2, 2,\n",
       "        'True'],\n",
       "       ['5875_W274_T2_000000195875000_20210930_08_15_11_724_262.72kg_2.7type_Clipped_c6.pcd',\n",
       "        2, 2, 'True'],\n",
       "       ['5716_W303_T3_000000195716000_20211007_08_09_57_826_280.86kg_3.4type_Clipped_c1.pcd',\n",
       "        3, 3, 'True'],\n",
       "       ['5577_W238_T2_000000006916000_20210930_08_15_21_079_250.75kg_1.5type_Clipped_c8.pcd',\n",
       "        2, 2, 'True'],\n",
       "       ['5377_W313_T3_000000000122999_20210930_08_12_22_823_325.40kg_3.0type_Clipped.pcd',\n",
       "        3, 3, 'True'],\n",
       "       ['7015_W230_T3_000000007015000_20210527_08_15_57_610.pcd', 3, 3,\n",
       "        'True'],\n",
       "       ['5377_W313_T3_000000000122999_20210930_08_12_22_823_325.40kg_3.0type_Clipped_c2.pcd',\n",
       "        3, 3, 'True'],\n",
       "       ['6989_W208_T2_000000006989000_20210527_08_15_17_567.pcd', 2, 2,\n",
       "        'True'],\n",
       "       ['6988_W168_T1_000000006968000_20210527_08_19_11_351.pcd', 1, 1,\n",
       "        'True'],\n",
       "       ['7016_W198_T2_000000007016000_20210527_08_18_13_337.pcd', 2, 2,\n",
       "        'True'],\n",
       "       ['7695_W195_T2_000000007695000_20211007_08_10_03_719_191.75kg_1.6type_Clipped_c2.pcd',\n",
       "        2, 2, 'True'],\n",
       "       ['6263_W306_T3_20211007_08_12_36_366_308.76kg_3.4type_Clipped.pcd',\n",
       "        3, 3, 'True'],\n",
       "       ['6818_W218_T2_000000006818000_20211007_08_07_39_750_176.15kg_2.0type_Clipped_c1.pcd',\n",
       "        2, 2, 'True'],\n",
       "       ['6574_W229_T2_000000006574000_20210930_08_09_47_779_306.64kg_2.1type_Clipped.pcd',\n",
       "        2, 2, 'True'],\n",
       "       ['6263_W306_T3_20211007_08_12_37_395_251.96kg_2.1type_Clipped_c2.pcd',\n",
       "        3, 3, 'True'],\n",
       "       ['7016_W198_T2_000000007016000_20210527_08_18_13_134.pcd', 2, 2,\n",
       "        'True'],\n",
       "       ['6588_W283_T3_000000006588000_20210930_08_09_54_241_313.89kg_3.4type_Clipped_c2.pcd',\n",
       "        3, 3, 'True'],\n",
       "       ['5047_W279_T2_20210930_08_11_41_934_312.48kg_2.9type_Clipped_c3.pcd',\n",
       "        2, 2, 'True'],\n",
       "       ['7704_W214_T2_000000007704000_20211007_08_09_53_968_257.30kg_2.4type_Clipped_c4.pcd',\n",
       "        2, 2, 'True'],\n",
       "       ['6570_W289_T3_000000006570000_20210930_08_13_14_403_276.87kg_2.3type_Clipped_c5.pcd',\n",
       "        3, 3, 'True'],\n",
       "       ['6574_W229_T2_000000006574000_20210930_08_09_47_779_306.64kg_2.1type_Clipped_c1.pcd',\n",
       "        2, 2, 'True'],\n",
       "       ['5716_W303_T3_000000195716000_20211007_08_09_57_826_280.86kg_3.4type_Clipped_c2.pcd',\n",
       "        3, 3, 'True'],\n",
       "       ['6988_W168_T1_000000006988000_20210527_08_20_14_760.pcd', 1, 1,\n",
       "        'True'],\n",
       "       ['6119_W234_T2_20210527_08_41_14_313_0.00kg_0.0type_Clipped.pcd',\n",
       "        2, 2, 'True'],\n",
       "       ['6509_W211_T2_000000006509000_20210930_08_09_35_383_203.94kg_2.1type_Clipped.pcd',\n",
       "        2, 2, 'True'],\n",
       "       ['6895_W249_T3_20210930_08_15_51_789_252.82kg_2.5type_Clipped.pcd',\n",
       "        3, 3, 'True'],\n",
       "       ['6990_W189_T2_000000006986000_20210527_08_20_27_709.pcd', 2, 2,\n",
       "        'True'],\n",
       "       ['7016_W198_T2_000000007016000_20210527_08_18_13_299.pcd', 2, 2,\n",
       "        'True'],\n",
       "       ['6674_W203_T1_20210930_08_09_39_482_187.44kg_1.5type_Clipped.pcd',\n",
       "        1, 1, 'True'],\n",
       "       ['6895_W249_T3_20210930_08_15_51_710_320.79kg_3.4type_Clipped_c4.pcd',\n",
       "        3, 3, 'True'],\n",
       "       ['7007_W196_T2_000000007007000_20210527_08_18_09_639.pcd', 2, 2,\n",
       "        'True'],\n",
       "       ['6989_W208_T2_000000006989000_20210527_08_15_17_836.pcd', 2, 2,\n",
       "        'True'],\n",
       "       ['5047_W279_T2_20210930_08_11_41_934_312.48kg_2.9type_Clipped.pcd',\n",
       "        2, 2, 'True'],\n",
       "       ['6247_W235_T2_000000006247000_20211007_08_12_36_246_280.76kg_3.1type_Clipped_c2.pcd',\n",
       "        2, 2, 'True'],\n",
       "       ['6985_W178_T1_000000006985000_20210527_08_13_39_637.pcd', 1, 1,\n",
       "        'True'],\n",
       "       ['5377_W313_T3_000000000122999_20210930_08_12_22_787_310.17kg_2.9type_Clipped.pcd',\n",
       "        3, 3, 'True'],\n",
       "       ['6247_W235_T2_000000006247000_20211007_08_12_37_395_251.96kg_2.1type_Clipped_c1.pcd',\n",
       "        2, 2, 'True'],\n",
       "       ['6509_W211_T2_000000006509000_20210930_08_09_35_629_212.06kg_2.1type_Clipped_c1.pcd',\n",
       "        2, 2, 'True'],\n",
       "       ['6990_W189_T2_000000006986000_20210527_08_20_27_571.pcd', 2, 2,\n",
       "        'True'],\n",
       "       ['5047_W279_T2_20210930_08_11_41_893_299.84kg_3.0type_Clipped_c2.pcd',\n",
       "        2, 2, 'True'],\n",
       "       ['5386_W270_T2_000000000148999_20211007_08_12_01_217_228.61kg_1.9type_Clipped_c2.pcd',\n",
       "        2, 2, 'True'],\n",
       "       ['7154_W245_T2_000000007154000_20210930_08_15_30_808_210.23kg_1.7type_Clipped_c3.pcd',\n",
       "        2, 2, 'True'],\n",
       "       ['6570_W289_T3_000000006570000_20210930_08_13_14_403_276.87kg_2.3type_Clipped_c3.pcd',\n",
       "        3, 3, 'True'],\n",
       "       ['6509_W211_T2_000000006509000_20210930_08_09_35_383_203.94kg_2.1type_Clipped_c2.pcd',\n",
       "        2, 2, 'True'],\n",
       "       ['6570_W289_T3_000000006570000_20210930_08_13_14_565_320.13kg_3.0type_Clipped_c5.pcd',\n",
       "        3, 3, 'True'],\n",
       "       ['7695_W195_T2_000000007695000_20211007_08_10_03_578_188.47kg_1.7type_Clipped_c4.pcd',\n",
       "        2, 2, 'True'],\n",
       "       ['7007_W196_T2_000000007007000_20210527_08_18_09_169.pcd', 2, 2,\n",
       "        'True'],\n",
       "       ['6674_W203_T1_20210930_08_09_39_402_178.46kg_1.1type_Clipped_c1.pcd',\n",
       "        1, 1, 'True'],\n",
       "       ['6647_W211_T2_000000006647000_20210527_08_24_34_232.pcd', 2, 2,\n",
       "        'True'],\n",
       "       ['7154_W245_T2_000000007154000_20210930_08_15_30_468_237.97kg_1.9type_Clipped.pcd',\n",
       "        2, 2, 'True'],\n",
       "       ['6511_W245_T2_000000006511000_20211007_08_07_36_406_244.40kg_2.6type_Clipped_c2.pcd',\n",
       "        2, 2, 'True'],\n",
       "       ['5577_W238_T2_000000006916000_20210930_08_15_21_162_232.06kg_1.6type_Clipped_c5.pcd',\n",
       "        2, 2, 'True'],\n",
       "       ['7154_W245_T2_000000007154000_20210930_08_15_30_735_243.34kg_1.5type_Clipped_c3.pcd',\n",
       "        2, 2, 'True'],\n",
       "       ['5382_W295_T3_20210930_08_15_24_911_278.50kg_2.9type_Clipped_c3.pcd',\n",
       "        3, 3, 'True'],\n",
       "       ['5847_W281_T2_20210930_08_09_49_354_295.79kg_2.7type_Clipped_c1.pcd',\n",
       "        2, 2, 'True'],\n",
       "       ['7017_W215_T2_000000007013000_20210527_08_15_21_323.pcd', 2, 2,\n",
       "        'True'],\n",
       "       ['6513_W287_T3_000000006513000_20211007_08_12_40_438_304.27kg_2.8type_Clipped_c1.pcd',\n",
       "        3, 3, 'True'],\n",
       "       ['6263_W306_T3_20211007_08_07_42_282_340.83kg_3.4type_Clipped_c2.pcd',\n",
       "        3, 3, 'True'],\n",
       "       ['6818_W218_T2_000000006818000_20211007_08_07_40_089_253.33kg_1.5type_Clipped.pcd',\n",
       "        2, 2, 'True'],\n",
       "       ['6962_W176_T2_000000006962000_20210527_08_15_50_815.pcd', 2, 2,\n",
       "        'True'],\n",
       "       ['7013_W186_T2_000000007017000_20210527_08_15_42_125.pcd', 2, 2,\n",
       "        'True'],\n",
       "       ['5382_W295_T3_20210930_08_15_25_055_314.26kg_3.0type_Clipped_c4.pcd',\n",
       "        3, 3, 'True'],\n",
       "       ['6511_W245_T2_000000006511000_20211007_08_07_36_379_240.28kg_2.6type_Clipped_c1.pcd',\n",
       "        2, 2, 'True'],\n",
       "       ['6985_W178_T1_000000006985000_20210527_08_13_39_167.pcd', 1, 1,\n",
       "        'True'],\n",
       "       ['6968_W195_T2_000000006968000_20210527_08_20_21_319.pcd', 2, 2,\n",
       "        'True'],\n",
       "       ['6574_W229_T2_000000006574000_20210930_08_09_47_717_222.10kg_2.8type_Clipped_c3.pcd',\n",
       "        2, 2, 'True'],\n",
       "       ['6985_W178_T1_000000006985000_20210527_08_13_39_383.pcd', 1, 1,\n",
       "        'True'],\n",
       "       ['5386_W270_T2_000000000148999_20211007_08_12_01_338_301.04kg_3.0type_Clipped.pcd',\n",
       "        2, 2, 'True'],\n",
       "       ['5382_W295_T3_20210930_08_15_25_055_314.26kg_3.0type_Clipped_c2.pcd',\n",
       "        3, 3, 'True'],\n",
       "       ['6588_W283_T3_000000006588000_20210930_08_09_54_035_275.02kg_2.6type_Clipped_c1.pcd',\n",
       "        3, 3, 'True'],\n",
       "       ['5382_W295_T3_20210930_08_15_24_846_243.27kg_2.4type_Clipped_c1.pcd',\n",
       "        3, 3, 'True'],\n",
       "       ['6647_W211_T2_000000006647000_20210527_08_24_33_954.pcd', 2, 2,\n",
       "        'True'],\n",
       "       ['7695_W195_T2_000000007695000_20211007_08_10_03_578_188.47kg_1.7type_Clipped_c8.pcd',\n",
       "        2, 2, 'True'],\n",
       "       ['5382_W295_T3_20210930_08_15_24_846_243.27kg_2.4type_Clipped_c3.pcd',\n",
       "        3, 3, 'True'],\n",
       "       ['5047_W279_T2_20210930_08_11_42_177_298.78kg_2.1type_Clipped_c1.pcd',\n",
       "        2, 2, 'True'],\n",
       "       ['7017_W215_T2_000000007013000_20210527_08_15_21_176.pcd', 2, 2,\n",
       "        'True'],\n",
       "       ['6509_W211_T2_000000006509000_20210930_08_09_35_694_207.25kg_1.9type_Clipped_c3.pcd',\n",
       "        2, 2, 'True'],\n",
       "       ['5794_W276_T2_20210930_08_13_17_101_270.68kg_1.9type_Clipped_c1.pcd',\n",
       "        2, 3, 'False'],\n",
       "       ['5406_W254_T2_000000000207999_20210527_08_36_38_120_0.00kg_0.0type_Clipped.pcd',\n",
       "        2, 2, 'True'],\n",
       "       ['6818_W218_T2_000000006818000_20211007_08_07_39_825_206.20kg_1.9type_Clipped_c2.pcd',\n",
       "        2, 2, 'True'],\n",
       "       ['6989_W208_T2_000000006989000_20210527_08_15_17_801.pcd', 2, 2,\n",
       "        'True'],\n",
       "       ['6990_W189_T2_000000006986000_20210527_08_20_27_888.pcd', 2, 2,\n",
       "        'True'],\n",
       "       ['6963_W184_T1_000000006963000_20210527_08_13_35_990.pcd', 1, 1,\n",
       "        'True'],\n",
       "       ['7011_W185_T1_000000007011000_20210527_08_14_46_061.pcd', 1, 1,\n",
       "        'True'],\n",
       "       ['5847_W281_T2_20210930_08_09_49_281_270.09kg_3.0type_Clipped_c2.pcd',\n",
       "        2, 2, 'True'],\n",
       "       ['6081_W241_T2_000000206081000_20211007_08_08_39_805_234.21kg_2.4type_Clipped.pcd',\n",
       "        2, 2, 'True'],\n",
       "       ['6574_W229_T2_000000006574000_20210930_08_09_47_717_222.10kg_2.8type_Clipped_c5.pcd',\n",
       "        2, 2, 'True'],\n",
       "       ['6674_W203_T1_20210930_08_09_39_368_185.66kg_1.1type_Clipped_c1.pcd',\n",
       "        1, 1, 'True'],\n",
       "       ['6962_W176_T2_000000006962000_20210527_08_15_50_530.pcd', 2, 2,\n",
       "        'True'],\n",
       "       ['7704_W214_T2_000000007704000_20211007_08_09_53_926_247.59kg_2.0type_Clipped_c8.pcd',\n",
       "        2, 2, 'True'],\n",
       "       ['7016_W198_T2_000000007016000_20210527_08_18_13_669.pcd', 2, 2,\n",
       "        'True'],\n",
       "       ['6674_W203_T1_20210930_08_09_39_572_190.76kg_1.5type_Clipped_c1.pcd',\n",
       "        1, 1, 'True'],\n",
       "       ['5552_W212_T1_000000195552000_20210527_08_43_26_345.pcd', 1, 1,\n",
       "        'True'],\n",
       "       ['5427_W289_T3_000000000260999_20210527_08_38_06_284_0.00kg_0.0type_Clipped.pcd',\n",
       "        3, 3, 'True'],\n",
       "       ['6963_W184_T1_000000006963000_20210527_08_13_36_159.pcd', 1, 1,\n",
       "        'True'],\n",
       "       ['5576_W254_T2_000000195576000_20210527_08_34_28_586_0.00kg_0.0type_Clipped.pcd',\n",
       "        2, 2, 'True'],\n",
       "       ['6988_W168_T1_000000006988000_20210527_08_20_14_391.pcd', 1, 1,\n",
       "        'True'],\n",
       "       ['6081_W241_T2_000000206081000_20211007_08_08_39_672_233.14kg_2.6type_Clipped_c1.pcd',\n",
       "        2, 3, 'False'],\n",
       "       ['5359_W300_T3_000000000074999_20210930_08_16_19_176_240.46kg_2.5type_Clipped.pcd',\n",
       "        3, 3, 'True'],\n",
       "       ['6511_W245_T2_000000006511000_20211007_08_07_36_172_252.07kg_2.8type_Clipped_c1.pcd',\n",
       "        2, 2, 'True'],\n",
       "       ['5322_W303_T3_000000195959000_20211007_08_11_52_281_297.58kg_3.2type_Clipped_c3.pcd',\n",
       "        3, 3, 'True'],\n",
       "       ['5576_W254_T2_000000195576000_20210527_08_34_28_549_0.00kg_0.0type_Clipped.pcd',\n",
       "        2, 2, 'True'],\n",
       "       ['6081_W241_T2_000000206081000_20211007_08_08_39_979_279.88kg_3.1type_Clipped.pcd',\n",
       "        2, 2, 'True'],\n",
       "       ['7695_W195_T2_000000007695000_20211007_08_10_03_719_191.75kg_1.6type_Clipped_c6.pcd',\n",
       "        2, 2, 'True'],\n",
       "       ['5242_W269_T3_000000002844999_20210527_08_42_31_196_0.00kg_0.0type_Clipped.pcd',\n",
       "        3, 3, 'True'],\n",
       "       ['6513_W287_T3_000000006513000_20211007_08_12_40_372_304.92kg_3.4type_Clipped_c5.pcd',\n",
       "        3, 3, 'True'],\n",
       "       ['5242_W269_T3_000000002844999_20210527_08_42_31_143_0.00kg_0.0type_Clipped.pcd',\n",
       "        3, 3, 'True'],\n",
       "       ['5047_W279_T2_20210930_08_11_41_893_299.84kg_3.0type_Clipped_c1.pcd',\n",
       "        2, 2, 'True'],\n",
       "       ['6247_W235_T2_000000006247000_20211007_08_12_36_168_287.43kg_2.4type_Clipped_c1.pcd',\n",
       "        2, 2, 'True'],\n",
       "       ['7016_W198_T2_000000007016000_20210527_08_18_13_624.pcd', 2, 2,\n",
       "        'True'],\n",
       "       ['5047_W279_T2_20210930_08_11_42_177_298.78kg_2.1type_Clipped.pcd',\n",
       "        2, 2, 'True'],\n",
       "       ['6647_W211_T2_000000006647000_20210527_08_24_34_054.pcd', 2, 2,\n",
       "        'True'],\n",
       "       ['6674_W203_T1_20210930_08_09_39_402_178.46kg_1.1type_Clipped_c2.pcd',\n",
       "        1, 1, 'True'],\n",
       "       ['6247_W235_T2_000000006247000_20211007_08_12_37_395_251.96kg_2.1type_Clipped_c2.pcd',\n",
       "        2, 2, 'True'],\n",
       "       ['5322_W303_T3_000000195959000_20211007_08_11_52_458_282.96kg_3.1type_Clipped.pcd',\n",
       "        3, 3, 'True'],\n",
       "       ['5959_W240_T2_20211007_08_11_54_250_241.34kg_2.8type_Clipped.pcd',\n",
       "        2, 2, 'True'],\n",
       "       ['5359_W300_T3_000000000074999_20210930_08_16_19_176_240.46kg_2.5type_Clipped_c2.pcd',\n",
       "        3, 3, 'True'],\n",
       "       ['7017_W215_T2_000000007013000_20210527_08_15_21_260.pcd', 2, 2,\n",
       "        'True'],\n",
       "       ['7016_W198_T2_000000007016000_20210527_08_18_13_239.pcd', 2, 2,\n",
       "        'True'],\n",
       "       ['5552_W212_T1_000000195552000_20210527_08_43_26_030.pcd', 1, 1,\n",
       "        'True'],\n",
       "       ['5382_W295_T3_20210930_08_15_25_055_314.26kg_3.0type_Clipped_c3.pcd',\n",
       "        3, 3, 'True'],\n",
       "       ['5577_W238_T2_000000006916000_20210930_08_15_21_079_250.75kg_1.5type_Clipped_c6.pcd',\n",
       "        2, 2, 'True'],\n",
       "       ['5359_W300_T3_000000000074999_20210930_08_16_19_272_275.30kg_2.7type_Clipped_c1.pcd',\n",
       "        3, 3, 'True'],\n",
       "       ['5047_W279_T2_20210930_08_11_42_021_332.50kg_3.4type_Clipped.pcd',\n",
       "        2, 2, 'True'],\n",
       "       ['6247_W235_T2_000000006247000_20211007_08_12_36_366_308.76kg_3.4type_Clipped_c1.pcd',\n",
       "        2, 2, 'True'],\n",
       "       ['6818_W218_T2_000000006818000_20211007_08_07_40_120_245.83kg_1.4type_Clipped_c1.pcd',\n",
       "        2, 2, 'True'],\n",
       "       ['6963_W184_T1_000000006963000_20210527_08_13_35_858.pcd', 1, 1,\n",
       "        'True'],\n",
       "       ['5322_W303_T3_000000195959000_20211007_08_11_52_368_299.37kg_3.4type_Clipped.pcd',\n",
       "        3, 3, 'True'],\n",
       "       ['6989_W208_T2_000000006989000_20210527_08_15_18_083.pcd', 2, 2,\n",
       "        'True'],\n",
       "       ['6647_W211_T2_000000006647000_20210527_08_24_34_386.pcd', 2, 2,\n",
       "        'True'],\n",
       "       ['5806_W234_T2_000000195806000_20210527_08_23_31_449.pcd', 2, 2,\n",
       "        'True'],\n",
       "       ['7004_W199_T2_000000006990000_20210527_08_20_24_102.pcd', 2, 2,\n",
       "        'True'],\n",
       "       ['6989_W208_T2_000000006989000_20210527_08_15_17_668.pcd', 2, 2,\n",
       "        'True'],\n",
       "       ['6963_W184_T1_000000006963000_20210527_08_13_36_112.pcd', 1, 1,\n",
       "        'True'],\n",
       "       ['7015_W230_T3_000000007015000_20210527_08_15_57_563.pcd', 3, 3,\n",
       "        'True'],\n",
       "       ['6570_W289_T3_000000006570000_20210930_08_13_14_403_276.87kg_2.3type_Clipped_c2.pcd',\n",
       "        3, 3, 'True'],\n",
       "       ['6895_W249_T3_20210930_08_15_51_789_252.82kg_2.5type_Clipped_c1.pcd',\n",
       "        3, 3, 'True'],\n",
       "       ['6263_W306_T3_20211007_08_12_36_331_299.72kg_2.1type_Clipped_c2.pcd',\n",
       "        3, 3, 'True'],\n",
       "       ['7016_W198_T2_000000007016000_20210527_08_18_13_484.pcd', 2, 2,\n",
       "        'True'],\n",
       "       ['6978_W177_T2_000000006978000_20210527_08_14_43_069.pcd', 2, 2,\n",
       "        'True'],\n",
       "       ['5047_W279_T2_20210930_08_11_42_021_332.50kg_3.4type_Clipped_c1.pcd',\n",
       "        2, 2, 'True'],\n",
       "       ['6588_W283_T3_000000006588000_20210930_08_09_54_149_269.48kg_2.7type_Clipped_c4.pcd',\n",
       "        3, 3, 'True'],\n",
       "       ['6647_W211_T2_000000006647000_20210527_08_24_33_822.pcd', 2, 2,\n",
       "        'True'],\n",
       "       ['6962_W176_T2_000000006962000_20210527_08_15_50_445.pcd', 2, 2,\n",
       "        'True'],\n",
       "       ['6513_W287_T3_000000006513000_20211007_08_12_40_372_304.92kg_3.4type_Clipped_c7.pcd',\n",
       "        3, 3, 'True'],\n",
       "       ['6263_W306_T3_20211007_08_12_36_246_280.76kg_3.1type_Clipped.pcd',\n",
       "        3, 3, 'True'],\n",
       "       ['5959_W240_T2_20211007_08_11_54_456_229.43kg_2.2type_Clipped.pcd',\n",
       "        2, 2, 'True'],\n",
       "       ['5794_W276_T2_20210930_08_13_17_227_264.18kg_2.8type_Clipped.pcd',\n",
       "        2, 2, 'True'],\n",
       "       ['5794_W276_T2_20210930_08_13_17_019_274.61kg_2.2type_Clipped_c2.pcd',\n",
       "        2, 2, 'True'],\n",
       "       ['7154_W245_T2_000000007154000_20210930_08_15_30_808_210.23kg_1.7type_Clipped_c2.pcd',\n",
       "        2, 2, 'True'],\n",
       "       ['6674_W203_T1_20210930_08_09_39_368_185.66kg_1.1type_Clipped.pcd',\n",
       "        1, 1, 'True'],\n",
       "       ['7007_W196_T2_000000007007000_20210527_08_18_09_547.pcd', 2, 2,\n",
       "        'True'],\n",
       "       ['6588_W283_T3_000000006588000_20210930_08_09_54_241_313.89kg_3.4type_Clipped_c3.pcd',\n",
       "        3, 3, 'True'],\n",
       "       ['6988_W168_T1_000000006968000_20210527_08_19_11_651.pcd', 1, 1,\n",
       "        'True'],\n",
       "       ['6895_W249_T3_20210930_08_15_51_710_320.79kg_3.4type_Clipped_c5.pcd',\n",
       "        3, 3, 'True'],\n",
       "       ['7013_W186_T2_000000007013000_20210527_08_15_15_963.pcd', 2, 2,\n",
       "        'True'],\n",
       "       ['5552_W212_T1_000000195552000_20210527_08_43_25_951.pcd', 1, 1,\n",
       "        'True'],\n",
       "       ['6985_W178_T1_000000006985000_20210527_08_13_39_436.pcd', 1, 1,\n",
       "        'True'],\n",
       "       ['6247_W235_T2_000000006247000_20211007_08_12_36_331_299.72kg_2.1type_Clipped_c2.pcd',\n",
       "        2, 2, 'True'],\n",
       "       ['6247_W235_T2_000000006247000_20211007_08_12_37_487_265.87kg_2.0type_Clipped.pcd',\n",
       "        2, 2, 'True'],\n",
       "       ['6963_W184_T1_000000006963000_20210527_08_13_35_827.pcd', 1, 1,\n",
       "        'True'],\n",
       "       ['6674_W203_T1_20210930_08_09_39_572_190.76kg_1.5type_Clipped.pcd',\n",
       "        1, 1, 'True'],\n",
       "       ['6263_W306_T3_20211007_08_12_36_366_308.76kg_3.4type_Clipped_c2.pcd',\n",
       "        3, 3, 'True'],\n",
       "       ['5047_W279_T2_20210930_08_11_42_177_298.78kg_2.1type_Clipped_c2.pcd',\n",
       "        2, 2, 'True'],\n",
       "       ['7011_W185_T1_000000007011000_20210527_08_14_45_977.pcd', 1, 1,\n",
       "        'True'],\n",
       "       ['5959_W240_T2_20211007_08_11_54_456_229.43kg_2.2type_Clipped_c1.pcd',\n",
       "        2, 2, 'True'],\n",
       "       ['7016_W198_T2_000000007016000_20210527_08_18_13_033.pcd', 2, 2,\n",
       "        'True'],\n",
       "       ['7007_W196_T2_000000007007000_20210527_08_18_09_692.pcd', 2, 2,\n",
       "        'True'],\n",
       "       ['6981_W178_T1_000000006981000_20210527_08_15_54_001.pcd', 1, 1,\n",
       "        'True'],\n",
       "       ['5959_W240_T2_20211007_08_11_54_018_234.21kg_2.5type_Clipped.pcd',\n",
       "        2, 2, 'True'],\n",
       "       ['7016_W198_T2_000000007016000_20210527_08_18_13_437.pcd', 2, 2,\n",
       "        'True'],\n",
       "       ['6081_W241_T2_000000206081000_20211007_08_08_39_720_216.13kg_2.3type_Clipped_c2.pcd',\n",
       "        2, 2, 'True'],\n",
       "       ['6081_W241_T2_000000206081000_20211007_08_08_39_843_229.15kg_2.1type_Clipped_c2.pcd',\n",
       "        2, 2, 'True'],\n",
       "       ['5806_W234_T2_000000195806000_20210527_08_23_31_348.pcd', 2, 2,\n",
       "        'True'],\n",
       "       ['7678_W213_T3_000000007678000_20210930_08_15_17_665_159.24kg_2.0type_Clipped_c6.pcd',\n",
       "        3, 3, 'True'],\n",
       "       ['5386_W270_T2_000000000148999_20211007_08_12_01_169_229.41kg_2.1type_Clipped_c2.pcd',\n",
       "        2, 2, 'True'],\n",
       "       ['6119_W234_T2_20210527_08_41_14_128_0.00kg_0.0type_Clipped.pcd',\n",
       "        2, 2, 'True'],\n",
       "       ['6081_W241_T2_000000206081000_20211007_08_08_39_930_265.15kg_2.9type_Clipped_c2.pcd',\n",
       "        2, 2, 'True'],\n",
       "       ['5959_W240_T2_20211007_08_11_54_327_247.24kg_2.8type_Clipped_c2.pcd',\n",
       "        2, 2, 'True'],\n",
       "       ['6818_W218_T2_000000006818000_20211007_08_07_40_120_245.83kg_1.4type_Clipped.pcd',\n",
       "        2, 2, 'True'],\n",
       "       ['5322_W303_T3_.000000195959000_20211007_08_11_52_324_300.58kg_3.4type_Clipped_c1.pcd',\n",
       "        3, 3, 'True'],\n",
       "       ['5577_W238_T2_000000006916000_20210930_08_15_21_079_250.75kg_1.5type_Clipped_c7.pcd',\n",
       "        2, 2, 'True'],\n",
       "       ['5377_W313_T3_000000000122999_20210930_08_12_22_605_270.43kg_2.6type_Clipped.pcd',\n",
       "        3, 3, 'True']], dtype=object)"
      ]
     },
     "execution_count": 68,
     "metadata": {},
     "output_type": "execute_result"
    }
   ],
   "source": [
    "merge = np.concatenate((merge[:,0:1],merge[:,-2:]),axis=1)\n",
    "merge = np.concatenate((merge,TF),axis = 1)\n",
    "merge"
   ]
  },
  {
   "cell_type": "markdown",
   "id": "c046a746",
   "metadata": {},
   "source": [
    "### 엑셀 생성"
   ]
  },
  {
   "cell_type": "code",
   "execution_count": 69,
   "id": "c7a6dc3f",
   "metadata": {},
   "outputs": [],
   "source": [
    "돼지선별 = pd.DataFrame(merge)"
   ]
  },
  {
   "cell_type": "code",
   "execution_count": 71,
   "id": "65960ba4",
   "metadata": {},
   "outputs": [],
   "source": [
    "\n",
    "돼지선별.to_excel('돼지_100.xlsx')"
   ]
  },
  {
   "cell_type": "code",
   "execution_count": null,
   "id": "880347e0",
   "metadata": {},
   "outputs": [],
   "source": []
  }
 ],
 "metadata": {
  "kernelspec": {
   "display_name": "Python 3 (ipykernel)",
   "language": "python",
   "name": "python3"
  },
  "language_info": {
   "codemirror_mode": {
    "name": "ipython",
    "version": 3
   },
   "file_extension": ".py",
   "mimetype": "text/x-python",
   "name": "python",
   "nbconvert_exporter": "python",
   "pygments_lexer": "ipython3",
   "version": "3.9.13"
  }
 },
 "nbformat": 4,
 "nbformat_minor": 5
}
