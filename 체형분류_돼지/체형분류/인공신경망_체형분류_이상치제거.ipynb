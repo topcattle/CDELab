{
 "cells": [
  {
   "cell_type": "code",
   "execution_count": 603,
   "id": "049cf559",
   "metadata": {},
   "outputs": [],
   "source": [
    "import pandas as pd\n",
    "import matplotlib.pyplot as plt\n",
    "%matplotlib inline\n",
    "import numpy as np\n",
    "from tensorflow.keras.losses import sparse_categorical_crossentropy\n",
    "from tensorflow.keras.optimizers import SGD\n",
    "from keras.utils import np_utils\n",
    "from tensorflow.keras import Sequential, layers, losses, optimizers, models\n",
    "import tensorflow as tf\n"
   ]
  },
  {
   "cell_type": "code",
   "execution_count": 604,
   "id": "9da33759",
   "metadata": {},
   "outputs": [],
   "source": [
    "import os\n",
    "os.environ['KMP_DUPLICATE_LIB_OK']='True'"
   ]
  },
  {
   "cell_type": "markdown",
   "id": "93c83813",
   "metadata": {},
   "source": [
    "## 데이터 전처리"
   ]
  },
  {
   "cell_type": "code",
   "execution_count": 605,
   "id": "830b99ed",
   "metadata": {},
   "outputs": [],
   "source": [
    "excel_data=pd.read_excel('data.xlsx', sheet_name='ResultWeight_MainDimension', header=1)"
   ]
  },
  {
   "cell_type": "code",
   "execution_count": 606,
   "id": "6ffa8a93",
   "metadata": {},
   "outputs": [],
   "source": [
    "data=excel_data[1:]\n",
    "corr=excel_data[0:1]"
   ]
  },
  {
   "cell_type": "code",
   "execution_count": 607,
   "id": "6853b9d0",
   "metadata": {},
   "outputs": [
    {
     "name": "stderr",
     "output_type": "stream",
     "text": [
      "C:\\Users\\CDELab\\AppData\\Local\\Temp\\ipykernel_23140\\1154377114.py:1: SettingWithCopyWarning: \n",
      "A value is trying to be set on a copy of a slice from a DataFrame\n",
      "\n",
      "See the caveats in the documentation: https://pandas.pydata.org/pandas-docs/stable/user_guide/indexing.html#returning-a-view-versus-a-copy\n",
      "  data.rename(columns={'거리1':'D1', '거리2':'D2'}, inplace=True)\n",
      "C:\\Users\\CDELab\\AppData\\Local\\Temp\\ipykernel_23140\\1154377114.py:2: SettingWithCopyWarning: \n",
      "A value is trying to be set on a copy of a slice from a DataFrame\n",
      "\n",
      "See the caveats in the documentation: https://pandas.pydata.org/pandas-docs/stable/user_guide/indexing.html#returning-a-view-versus-a-copy\n",
      "  data.rename(columns={'폭1':'W1', '폭2':'W2','높이2':'H1','면적2':'A1','둘레2':'G1'}, inplace=True)\n",
      "C:\\Users\\CDELab\\AppData\\Local\\Temp\\ipykernel_23140\\1154377114.py:3: SettingWithCopyWarning: \n",
      "A value is trying to be set on a copy of a slice from a DataFrame\n",
      "\n",
      "See the caveats in the documentation: https://pandas.pydata.org/pandas-docs/stable/user_guide/indexing.html#returning-a-view-versus-a-copy\n",
      "  data.rename(columns = {'폭1.1':'W3','폭2.1':'W4','높이1':'H2','높이2.1':'H3','면적1':'A2','면적2.1':'A3','둘레1':'G2','둘레2.1':'G3'}, inplace=True)\n",
      "C:\\Users\\CDELab\\AppData\\Local\\Temp\\ipykernel_23140\\1154377114.py:4: SettingWithCopyWarning: \n",
      "A value is trying to be set on a copy of a slice from a DataFrame\n",
      "\n",
      "See the caveats in the documentation: https://pandas.pydata.org/pandas-docs/stable/user_guide/indexing.html#returning-a-view-versus-a-copy\n",
      "  data.rename(columns = {'폭1.2':'W5','폭2.2':'W6','높이1.1':'H4','높이2.2':'H5','면적1.1':'A4','면적2.2':'A5','둘레1.1':'G4','둘레2.2':'G5'}, inplace=True)\n",
      "C:\\Users\\CDELab\\AppData\\Local\\Temp\\ipykernel_23140\\1154377114.py:5: SettingWithCopyWarning: \n",
      "A value is trying to be set on a copy of a slice from a DataFrame\n",
      "\n",
      "See the caveats in the documentation: https://pandas.pydata.org/pandas-docs/stable/user_guide/indexing.html#returning-a-view-versus-a-copy\n",
      "  data.rename(columns = {'폭1.3':'W7','폭2.3':'W8','높이1.2':'H6','높이2.3':'H7','면적1.2':'A6','면적2.3':'A7','둘레1.2':'G6','둘레2.3':'G7'}, inplace=True)\n",
      "C:\\Users\\CDELab\\AppData\\Local\\Temp\\ipykernel_23140\\1154377114.py:6: SettingWithCopyWarning: \n",
      "A value is trying to be set on a copy of a slice from a DataFrame\n",
      "\n",
      "See the caveats in the documentation: https://pandas.pydata.org/pandas-docs/stable/user_guide/indexing.html#returning-a-view-versus-a-copy\n",
      "  data.rename(columns = {'폭1.4':'W9','폭2.4':'W10','높이2.4':'H8','면적2.4':'A8','둘레2.4':'G8'}, inplace=True)\n",
      "C:\\Users\\CDELab\\AppData\\Local\\Temp\\ipykernel_23140\\1154377114.py:8: SettingWithCopyWarning: \n",
      "A value is trying to be set on a copy of a slice from a DataFrame\n",
      "\n",
      "See the caveats in the documentation: https://pandas.pydata.org/pandas-docs/stable/user_guide/indexing.html#returning-a-view-versus-a-copy\n",
      "  data.rename(columns = {'평균':'W_Mean','편차':'W_Dev','최대':'W_Max','최소':'W_Min'}, inplace=True)\n",
      "C:\\Users\\CDELab\\AppData\\Local\\Temp\\ipykernel_23140\\1154377114.py:9: SettingWithCopyWarning: \n",
      "A value is trying to be set on a copy of a slice from a DataFrame\n",
      "\n",
      "See the caveats in the documentation: https://pandas.pydata.org/pandas-docs/stable/user_guide/indexing.html#returning-a-view-versus-a-copy\n",
      "  data.rename(columns = {'평균.1':'H_Mean','편차.1':'H_Dev','최대.1':'H_Max','최소.1':'H_Min'}, inplace=True)\n",
      "C:\\Users\\CDELab\\AppData\\Local\\Temp\\ipykernel_23140\\1154377114.py:10: SettingWithCopyWarning: \n",
      "A value is trying to be set on a copy of a slice from a DataFrame\n",
      "\n",
      "See the caveats in the documentation: https://pandas.pydata.org/pandas-docs/stable/user_guide/indexing.html#returning-a-view-versus-a-copy\n",
      "  data.rename(columns = {'평균.2':'WH_Mean','편차.2':'WH_Dev','최대.2':'WH_Max','최소.2':'WH_Min'}, inplace=True)\n",
      "C:\\Users\\CDELab\\AppData\\Local\\Temp\\ipykernel_23140\\1154377114.py:11: SettingWithCopyWarning: \n",
      "A value is trying to be set on a copy of a slice from a DataFrame\n",
      "\n",
      "See the caveats in the documentation: https://pandas.pydata.org/pandas-docs/stable/user_guide/indexing.html#returning-a-view-versus-a-copy\n",
      "  data.rename(columns = {'평균.3':'A_Mean','편차.3':'A_Dev','최대.3':'A_Max','최소.3':'A_Min'}, inplace=True)\n",
      "C:\\Users\\CDELab\\AppData\\Local\\Temp\\ipykernel_23140\\1154377114.py:12: SettingWithCopyWarning: \n",
      "A value is trying to be set on a copy of a slice from a DataFrame\n",
      "\n",
      "See the caveats in the documentation: https://pandas.pydata.org/pandas-docs/stable/user_guide/indexing.html#returning-a-view-versus-a-copy\n",
      "  data.rename(columns = {'평균.4':'G_Mean','편차.4':'G_Dev','최대.4':'G_Max','최소.4':'G_Min'}, inplace=True)\n",
      "C:\\Users\\CDELab\\AppData\\Local\\Temp\\ipykernel_23140\\1154377114.py:13: SettingWithCopyWarning: \n",
      "A value is trying to be set on a copy of a slice from a DataFrame\n",
      "\n",
      "See the caveats in the documentation: https://pandas.pydata.org/pandas-docs/stable/user_guide/indexing.html#returning-a-view-versus-a-copy\n",
      "  data.rename(columns = {'무게':'Weight', '체형':'Shape'}, inplace=True)\n"
     ]
    }
   ],
   "source": [
    "data.rename(columns={'거리1':'D1', '거리2':'D2'}, inplace=True)\n",
    "data.rename(columns={'폭1':'W1', '폭2':'W2','높이2':'H1','면적2':'A1','둘레2':'G1'}, inplace=True)\n",
    "data.rename(columns = {'폭1.1':'W3','폭2.1':'W4','높이1':'H2','높이2.1':'H3','면적1':'A2','면적2.1':'A3','둘레1':'G2','둘레2.1':'G3'}, inplace=True)\n",
    "data.rename(columns = {'폭1.2':'W5','폭2.2':'W6','높이1.1':'H4','높이2.2':'H5','면적1.1':'A4','면적2.2':'A5','둘레1.1':'G4','둘레2.2':'G5'}, inplace=True)\n",
    "data.rename(columns = {'폭1.3':'W7','폭2.3':'W8','높이1.2':'H6','높이2.3':'H7','면적1.2':'A6','면적2.3':'A7','둘레1.2':'G6','둘레2.3':'G7'}, inplace=True)\n",
    "data.rename(columns = {'폭1.4':'W9','폭2.4':'W10','높이2.4':'H8','면적2.4':'A8','둘레2.4':'G8'}, inplace=True)\n",
    "\n",
    "data.rename(columns = {'평균':'W_Mean','편차':'W_Dev','최대':'W_Max','최소':'W_Min'}, inplace=True)\n",
    "data.rename(columns = {'평균.1':'H_Mean','편차.1':'H_Dev','최대.1':'H_Max','최소.1':'H_Min'}, inplace=True)\n",
    "data.rename(columns = {'평균.2':'WH_Mean','편차.2':'WH_Dev','최대.2':'WH_Max','최소.2':'WH_Min'}, inplace=True)\n",
    "data.rename(columns = {'평균.3':'A_Mean','편차.3':'A_Dev','최대.3':'A_Max','최소.3':'A_Min'}, inplace=True)\n",
    "data.rename(columns = {'평균.4':'G_Mean','편차.4':'G_Dev','최대.4':'G_Max','최소.4':'G_Min'}, inplace=True)\n",
    "data.rename(columns = {'무게':'Weight', '체형':'Shape'}, inplace=True)\n",
    "\n",
    "data_area=pd.concat([data['A1'], data['A2'], data['A3'],data['A4'],data['A5'],data['A6'],data['A7'],data['A8']], axis=1)\n",
    "data_width=pd.concat([data['W1'], data['W2'], data['W3'],data['W4'],data['W5'],data['W6'],data['W7'],data['W8'],data['W9'],data['W10']], axis=1)\n",
    "data_height=pd.concat([data['H1'], data['H2'], data['H3'],data['H4'],data['H5'],data['H6'],data['H7'],data['H8']], axis=1)\n",
    "data_girth=pd.concat([data['G1'], data['G2'], data['G3'],data['G4'],data['G5'],data['G6'],data['G7'],data['G8']], axis=1)\n",
    "\n",
    "   \n",
    "data_top10=pd.concat([data['A7'], data['A4'], data['A3'], data['W_Max'], data['W_Mean'], \n",
    "                      data['W9'], data['W_Mean'], data['H6'], data['H3'], data['W1']], axis=1)\n",
    "                 \n",
    "data_co10=pd.concat([data['A_Mean'], data['A7'], data['A4'], data['A5'], data['A3'], \n",
    "                      data['W_Max'], data['W_Mean'], data['W9'], data['A6'], data['A_Max']], axis=1) \n",
    "\n",
    "data_area_width_height_girth=pd.concat([data_area,data_width,data_height,data_girth ], axis=1)"
   ]
  },
  {
   "cell_type": "code",
   "execution_count": 608,
   "id": "da522daa-b526-4e1d-90a9-05b9bb7f6b68",
   "metadata": {},
   "outputs": [],
   "source": [
    "Corr = excel_data[0:1].to_numpy()[0,1:excel_data.shape[1]-2]\n",
    "data_selected = data_area_width_height_girth.to_numpy()\n",
    "\n",
    "data_train = data_selected[0:696]\n",
    "Y=data['Shape'].to_numpy()\n",
    "\n",
    "Shuff = np.arange(696)\n",
    "np.random.shuffle(Shuff)\n",
    "\n",
    "X, y_train, X_Unlabeled, y_None =data_train[Shuff],Y[0:696][Shuff], data_selected[696:], Y[696:]\n"
   ]
  },
  {
   "cell_type": "code",
   "execution_count": 609,
   "id": "8452a51b",
   "metadata": {},
   "outputs": [
    {
     "data": {
      "text/plain": [
       "(326, 34)"
      ]
     },
     "execution_count": 609,
     "metadata": {},
     "output_type": "execute_result"
    }
   ],
   "source": [
    "X_Unlabeled.shape"
   ]
  },
  {
   "cell_type": "code",
   "execution_count": 610,
   "id": "3a6c4d63-1a6b-4e50-9015-2dbf3b62abac",
   "metadata": {},
   "outputs": [],
   "source": [
    "def aCut(TotalArr,Corr,TH):\n",
    "    SelectedArr = []\n",
    "    for corr,index in zip(Corr,range(Corr.shape[0])):\n",
    "        if(corr > TH):\n",
    "            arr = TotalArr[:,index].tolist()\n",
    "            SelectedArr.append(arr)\n",
    "    SelectedArr = np.array(SelectedArr).transpose()\n",
    "    return SelectedArr\n",
    "def pre(data):\n",
    "    X_max = np.max(data,0)\n",
    "    arr = data/X_max\n",
    "    arr = arr.astype('float32')\n",
    "    return arr"
   ]
  },
  {
   "cell_type": "code",
   "execution_count": 611,
   "id": "8f59ff0b-a609-401e-a3e2-76c6b3ab85c0",
   "metadata": {
    "tags": []
   },
   "outputs": [],
   "source": [
    "X_train = X\n",
    "y_train = np.array(y_train, dtype =('uint8'))\n"
   ]
  },
  {
   "cell_type": "markdown",
   "id": "63551775",
   "metadata": {},
   "source": [
    "## 모델 생성"
   ]
  },
  {
   "cell_type": "code",
   "execution_count": 612,
   "id": "e53ed909-6744-4902-9c57-791954cb1530",
   "metadata": {},
   "outputs": [],
   "source": [
    "\n",
    "#optimizer = optimizers.SGD(learning_rate=0.1)\n",
    "# 적응형 학습률 (\"자동 변속\")\n",
    "#optimizer = optimizers.Adagrad()\n",
    "#optimizer = optimizers.RMSprop()\n",
    "optimizer = optimizers.Adam()\n",
    "checkpoint_path = './tmp/checkpoint.ckpt'"
   ]
  },
  {
   "cell_type": "code",
   "execution_count": 613,
   "id": "8303dbf1-eba3-4935-8cbf-6e6d59505bb7",
   "metadata": {},
   "outputs": [
    {
     "name": "stdout",
     "output_type": "stream",
     "text": [
      "Model: \"sequential_28\"\n",
      "_________________________________________________________________\n",
      " Layer (type)                Output Shape              Param #   \n",
      "=================================================================\n",
      " dense_84 (Dense)            (None, 34)                1190      \n",
      "                                                                 \n",
      " dense_85 (Dense)            (None, 34)                1190      \n",
      "                                                                 \n",
      " dense_86 (Dense)            (None, 4)                 140       \n",
      "                                                                 \n",
      "=================================================================\n",
      "Total params: 2,520\n",
      "Trainable params: 2,520\n",
      "Non-trainable params: 0\n",
      "_________________________________________________________________\n"
     ]
    }
   ],
   "source": [
    "model = models.Sequential()\n",
    "model_check_point = tf.keras.callbacks.ModelCheckpoint(\n",
    "    filepath = checkpoint_path, monitor='val_loss', verbose=0, save_best_only=True,\n",
    "    save_weights_only=True, mode='auto', save_freq='epoch', options=None)\n",
    "early_stopping_cb = tf.keras.callbacks.EarlyStopping(patience=20, restore_best_weights=True)\n",
    "model.add(tf.keras.layers.Dense(X_train.shape[1], input_dim =X_train.shape[1],activation = 'relu'))\n",
    "model.add(tf.keras.layers.Dense(X_train.shape[1],activation = 'relu'))\n",
    "model.add(tf.keras.layers.Dense(4,  activation='softmax'))\n",
    "model.compile(\n",
    "    loss=sparse_categorical_crossentropy, \n",
    "    optimizer=optimizer, \n",
    "    metrics=['acc'])\n",
    "model.summary()"
   ]
  },
  {
   "cell_type": "code",
   "execution_count": 614,
   "id": "d9dc1d45",
   "metadata": {},
   "outputs": [],
   "source": [
    "X_train_max = np.max(X_train,0)\n",
    "from sklearn.preprocessing import MinMaxScaler #표준화\n",
    "sc = MinMaxScaler() # preprocessing 모듈에서 MinMaxScalerr 클래스를 로드\n",
    "sc.fit(X_train) # 각 특성마다 샘플평균과 표준편차를 계산\n",
    "X_train_std = sc.transform(X_train) # X_train 값을 표준화\n",
    "\n"
   ]
  },
  {
   "cell_type": "markdown",
   "id": "23a037a3",
   "metadata": {},
   "source": [
    "## 학습 데이터를 이용하여 1차 학습 진행"
   ]
  },
  {
   "cell_type": "code",
   "execution_count": 615,
   "id": "4e2a384e-b93f-4269-b2e3-b7faf3ba188f",
   "metadata": {
    "jupyter": {
     "outputs_hidden": true
    },
    "tags": []
   },
   "outputs": [
    {
     "name": "stdout",
     "output_type": "stream",
     "text": [
      "Epoch 1/200\n",
      "9/9 [==============================] - 1s 29ms/step - loss: 1.6714 - acc: 0.0612 - val_loss: 1.4351 - val_acc: 0.2643\n",
      "Epoch 2/200\n",
      "9/9 [==============================] - 0s 9ms/step - loss: 1.3303 - acc: 0.2644 - val_loss: 1.2178 - val_acc: 0.2714\n",
      "Epoch 3/200\n",
      "9/9 [==============================] - 0s 9ms/step - loss: 1.1733 - acc: 0.3004 - val_loss: 1.0959 - val_acc: 0.4071\n",
      "Epoch 4/200\n",
      "9/9 [==============================] - 0s 9ms/step - loss: 1.0807 - acc: 0.5144 - val_loss: 1.0054 - val_acc: 0.5786\n",
      "Epoch 5/200\n",
      "9/9 [==============================] - 0s 8ms/step - loss: 0.9934 - acc: 0.5917 - val_loss: 0.9206 - val_acc: 0.6071\n",
      "Epoch 6/200\n",
      "9/9 [==============================] - 0s 8ms/step - loss: 0.9299 - acc: 0.5953 - val_loss: 0.8790 - val_acc: 0.6071\n",
      "Epoch 7/200\n",
      "9/9 [==============================] - 0s 9ms/step - loss: 0.9054 - acc: 0.5953 - val_loss: 0.8586 - val_acc: 0.6071\n",
      "Epoch 8/200\n",
      "9/9 [==============================] - 0s 9ms/step - loss: 0.8865 - acc: 0.5953 - val_loss: 0.8421 - val_acc: 0.6071\n",
      "Epoch 9/200\n",
      "9/9 [==============================] - 0s 9ms/step - loss: 0.8717 - acc: 0.5953 - val_loss: 0.8296 - val_acc: 0.6071\n",
      "Epoch 10/200\n",
      "9/9 [==============================] - 0s 9ms/step - loss: 0.8576 - acc: 0.5953 - val_loss: 0.8177 - val_acc: 0.6071\n",
      "Epoch 11/200\n",
      "9/9 [==============================] - 0s 10ms/step - loss: 0.8420 - acc: 0.5953 - val_loss: 0.8053 - val_acc: 0.6071\n",
      "Epoch 12/200\n",
      "9/9 [==============================] - 0s 9ms/step - loss: 0.8282 - acc: 0.5953 - val_loss: 0.7917 - val_acc: 0.6071\n",
      "Epoch 13/200\n",
      "9/9 [==============================] - 0s 8ms/step - loss: 0.8140 - acc: 0.5953 - val_loss: 0.7767 - val_acc: 0.6071\n",
      "Epoch 14/200\n",
      "9/9 [==============================] - 0s 10ms/step - loss: 0.7998 - acc: 0.5953 - val_loss: 0.7608 - val_acc: 0.6143\n",
      "Epoch 15/200\n",
      "9/9 [==============================] - 0s 11ms/step - loss: 0.7829 - acc: 0.6241 - val_loss: 0.7470 - val_acc: 0.6714\n",
      "Epoch 16/200\n",
      "9/9 [==============================] - 0s 9ms/step - loss: 0.7668 - acc: 0.6133 - val_loss: 0.7326 - val_acc: 0.6214\n",
      "Epoch 17/200\n",
      "9/9 [==============================] - 0s 20ms/step - loss: 0.7499 - acc: 0.6439 - val_loss: 0.7175 - val_acc: 0.7000\n",
      "Epoch 18/200\n",
      "9/9 [==============================] - 0s 9ms/step - loss: 0.7343 - acc: 0.6655 - val_loss: 0.7028 - val_acc: 0.7000\n",
      "Epoch 19/200\n",
      "9/9 [==============================] - 0s 10ms/step - loss: 0.7179 - acc: 0.6673 - val_loss: 0.6861 - val_acc: 0.7143\n",
      "Epoch 20/200\n",
      "9/9 [==============================] - 0s 11ms/step - loss: 0.7027 - acc: 0.6691 - val_loss: 0.6719 - val_acc: 0.6929\n",
      "Epoch 21/200\n",
      "9/9 [==============================] - 0s 9ms/step - loss: 0.6915 - acc: 0.6637 - val_loss: 0.6591 - val_acc: 0.7071\n",
      "Epoch 22/200\n",
      "9/9 [==============================] - 0s 9ms/step - loss: 0.6750 - acc: 0.6871 - val_loss: 0.6487 - val_acc: 0.6786\n",
      "Epoch 23/200\n",
      "9/9 [==============================] - 0s 9ms/step - loss: 0.6647 - acc: 0.6888 - val_loss: 0.6354 - val_acc: 0.7214\n",
      "Epoch 24/200\n",
      "9/9 [==============================] - 0s 9ms/step - loss: 0.6518 - acc: 0.6924 - val_loss: 0.6258 - val_acc: 0.6929\n",
      "Epoch 25/200\n",
      "9/9 [==============================] - 0s 8ms/step - loss: 0.6356 - acc: 0.7266 - val_loss: 0.6137 - val_acc: 0.6929\n",
      "Epoch 26/200\n",
      "9/9 [==============================] - 0s 10ms/step - loss: 0.6246 - acc: 0.7122 - val_loss: 0.6064 - val_acc: 0.6929\n",
      "Epoch 27/200\n",
      "9/9 [==============================] - 0s 10ms/step - loss: 0.6150 - acc: 0.7194 - val_loss: 0.5977 - val_acc: 0.7071\n",
      "Epoch 28/200\n",
      "9/9 [==============================] - 0s 8ms/step - loss: 0.6056 - acc: 0.7122 - val_loss: 0.5909 - val_acc: 0.7071\n",
      "Epoch 29/200\n",
      "9/9 [==============================] - 0s 8ms/step - loss: 0.5977 - acc: 0.7194 - val_loss: 0.5851 - val_acc: 0.7071\n",
      "Epoch 30/200\n",
      "9/9 [==============================] - 0s 8ms/step - loss: 0.5905 - acc: 0.7122 - val_loss: 0.5778 - val_acc: 0.6929\n",
      "Epoch 31/200\n",
      "9/9 [==============================] - 0s 8ms/step - loss: 0.5827 - acc: 0.7248 - val_loss: 0.5741 - val_acc: 0.7286\n",
      "Epoch 32/200\n",
      "9/9 [==============================] - 0s 9ms/step - loss: 0.5744 - acc: 0.7230 - val_loss: 0.5661 - val_acc: 0.6929\n",
      "Epoch 33/200\n",
      "9/9 [==============================] - 0s 9ms/step - loss: 0.5696 - acc: 0.7230 - val_loss: 0.5620 - val_acc: 0.7214\n",
      "Epoch 34/200\n",
      "9/9 [==============================] - 0s 10ms/step - loss: 0.5623 - acc: 0.7410 - val_loss: 0.5567 - val_acc: 0.7071\n",
      "Epoch 35/200\n",
      "9/9 [==============================] - 0s 9ms/step - loss: 0.5606 - acc: 0.7446 - val_loss: 0.5541 - val_acc: 0.7286\n",
      "Epoch 36/200\n",
      "9/9 [==============================] - 0s 11ms/step - loss: 0.5542 - acc: 0.7446 - val_loss: 0.5490 - val_acc: 0.7357\n",
      "Epoch 37/200\n",
      "9/9 [==============================] - 0s 9ms/step - loss: 0.5473 - acc: 0.7302 - val_loss: 0.5426 - val_acc: 0.7143\n",
      "Epoch 38/200\n",
      "9/9 [==============================] - 0s 4ms/step - loss: 0.5445 - acc: 0.7554 - val_loss: 0.5445 - val_acc: 0.7500\n",
      "Epoch 39/200\n",
      "9/9 [==============================] - 0s 4ms/step - loss: 0.5415 - acc: 0.7536 - val_loss: 0.5429 - val_acc: 0.7357\n",
      "Epoch 40/200\n",
      "9/9 [==============================] - 0s 9ms/step - loss: 0.5375 - acc: 0.7590 - val_loss: 0.5367 - val_acc: 0.7500\n",
      "Epoch 41/200\n",
      "9/9 [==============================] - 0s 9ms/step - loss: 0.5349 - acc: 0.7662 - val_loss: 0.5311 - val_acc: 0.7357\n",
      "Epoch 42/200\n",
      "9/9 [==============================] - 0s 4ms/step - loss: 0.5280 - acc: 0.7680 - val_loss: 0.5320 - val_acc: 0.7571\n",
      "Epoch 43/200\n",
      "9/9 [==============================] - 0s 8ms/step - loss: 0.5258 - acc: 0.7662 - val_loss: 0.5252 - val_acc: 0.7429\n",
      "Epoch 44/200\n",
      "9/9 [==============================] - 0s 8ms/step - loss: 0.5230 - acc: 0.7788 - val_loss: 0.5220 - val_acc: 0.7429\n",
      "Epoch 45/200\n",
      "9/9 [==============================] - 0s 4ms/step - loss: 0.5222 - acc: 0.7644 - val_loss: 0.5303 - val_acc: 0.7643\n",
      "Epoch 46/200\n",
      "9/9 [==============================] - 0s 8ms/step - loss: 0.5182 - acc: 0.7716 - val_loss: 0.5162 - val_acc: 0.7429\n",
      "Epoch 47/200\n",
      "9/9 [==============================] - 0s 4ms/step - loss: 0.5099 - acc: 0.7842 - val_loss: 0.5171 - val_acc: 0.7714\n",
      "Epoch 48/200\n",
      "9/9 [==============================] - 0s 8ms/step - loss: 0.5060 - acc: 0.7950 - val_loss: 0.5106 - val_acc: 0.7571\n",
      "Epoch 49/200\n",
      "9/9 [==============================] - 0s 9ms/step - loss: 0.5073 - acc: 0.7770 - val_loss: 0.5085 - val_acc: 0.7714\n",
      "Epoch 50/200\n",
      "9/9 [==============================] - 0s 4ms/step - loss: 0.5069 - acc: 0.7680 - val_loss: 0.5137 - val_acc: 0.7571\n",
      "Epoch 51/200\n",
      "9/9 [==============================] - 0s 8ms/step - loss: 0.5032 - acc: 0.7896 - val_loss: 0.5040 - val_acc: 0.7714\n",
      "Epoch 52/200\n",
      "9/9 [==============================] - 0s 8ms/step - loss: 0.4953 - acc: 0.7932 - val_loss: 0.5006 - val_acc: 0.7714\n",
      "Epoch 53/200\n",
      "9/9 [==============================] - 0s 4ms/step - loss: 0.4920 - acc: 0.7896 - val_loss: 0.5024 - val_acc: 0.7643\n",
      "Epoch 54/200\n",
      "9/9 [==============================] - 0s 8ms/step - loss: 0.4885 - acc: 0.7932 - val_loss: 0.4958 - val_acc: 0.7786\n",
      "Epoch 55/200\n",
      "9/9 [==============================] - 0s 4ms/step - loss: 0.4888 - acc: 0.7932 - val_loss: 0.5041 - val_acc: 0.7571\n",
      "Epoch 56/200\n",
      "9/9 [==============================] - 0s 8ms/step - loss: 0.4885 - acc: 0.7896 - val_loss: 0.4908 - val_acc: 0.7786\n",
      "Epoch 57/200\n",
      "9/9 [==============================] - 0s 8ms/step - loss: 0.4782 - acc: 0.7932 - val_loss: 0.4892 - val_acc: 0.7714\n",
      "Epoch 58/200\n",
      "9/9 [==============================] - 0s 8ms/step - loss: 0.4763 - acc: 0.8112 - val_loss: 0.4869 - val_acc: 0.7786\n",
      "Epoch 59/200\n",
      "9/9 [==============================] - 0s 6ms/step - loss: 0.4729 - acc: 0.8255 - val_loss: 0.4927 - val_acc: 0.7714\n",
      "Epoch 60/200\n",
      "9/9 [==============================] - 0s 10ms/step - loss: 0.4842 - acc: 0.7950 - val_loss: 0.4839 - val_acc: 0.7786\n",
      "Epoch 61/200\n",
      "9/9 [==============================] - 0s 4ms/step - loss: 0.4692 - acc: 0.8076 - val_loss: 0.4983 - val_acc: 0.7571\n",
      "Epoch 62/200\n",
      "9/9 [==============================] - 0s 4ms/step - loss: 0.4720 - acc: 0.7896 - val_loss: 0.4977 - val_acc: 0.7643\n",
      "Epoch 63/200\n",
      "9/9 [==============================] - 0s 4ms/step - loss: 0.4737 - acc: 0.8004 - val_loss: 0.4867 - val_acc: 0.7571\n",
      "Epoch 64/200\n",
      "9/9 [==============================] - 0s 9ms/step - loss: 0.4595 - acc: 0.8165 - val_loss: 0.4725 - val_acc: 0.7929\n",
      "Epoch 65/200\n",
      "9/9 [==============================] - 0s 4ms/step - loss: 0.4592 - acc: 0.8327 - val_loss: 0.4819 - val_acc: 0.7714\n",
      "Epoch 66/200\n",
      "9/9 [==============================] - 0s 4ms/step - loss: 0.4606 - acc: 0.8022 - val_loss: 0.4872 - val_acc: 0.7857\n",
      "Epoch 67/200\n",
      "9/9 [==============================] - 0s 4ms/step - loss: 0.4631 - acc: 0.8058 - val_loss: 0.4951 - val_acc: 0.7786\n",
      "Epoch 68/200\n",
      "9/9 [==============================] - 0s 4ms/step - loss: 0.4652 - acc: 0.8040 - val_loss: 0.4815 - val_acc: 0.7857\n",
      "Epoch 69/200\n",
      "9/9 [==============================] - 0s 10ms/step - loss: 0.4602 - acc: 0.7986 - val_loss: 0.4643 - val_acc: 0.7857\n",
      "Epoch 70/200\n",
      "9/9 [==============================] - 0s 8ms/step - loss: 0.4539 - acc: 0.8201 - val_loss: 0.4634 - val_acc: 0.7857\n",
      "Epoch 71/200\n",
      "9/9 [==============================] - 0s 5ms/step - loss: 0.4576 - acc: 0.8183 - val_loss: 0.4657 - val_acc: 0.7929\n",
      "Epoch 72/200\n",
      "9/9 [==============================] - 0s 4ms/step - loss: 0.4418 - acc: 0.8219 - val_loss: 0.4677 - val_acc: 0.7500\n",
      "Epoch 73/200\n",
      "9/9 [==============================] - 0s 8ms/step - loss: 0.4387 - acc: 0.8255 - val_loss: 0.4534 - val_acc: 0.8071\n",
      "Epoch 74/200\n",
      "9/9 [==============================] - 0s 8ms/step - loss: 0.4383 - acc: 0.8381 - val_loss: 0.4486 - val_acc: 0.8143\n",
      "Epoch 75/200\n",
      "9/9 [==============================] - 0s 4ms/step - loss: 0.4367 - acc: 0.8381 - val_loss: 0.4566 - val_acc: 0.7786\n",
      "Epoch 76/200\n",
      "9/9 [==============================] - 0s 4ms/step - loss: 0.4372 - acc: 0.8237 - val_loss: 0.4517 - val_acc: 0.8143\n",
      "Epoch 77/200\n",
      "9/9 [==============================] - 0s 4ms/step - loss: 0.4306 - acc: 0.8507 - val_loss: 0.4488 - val_acc: 0.8000\n",
      "Epoch 78/200\n",
      "9/9 [==============================] - 0s 9ms/step - loss: 0.4297 - acc: 0.8363 - val_loss: 0.4458 - val_acc: 0.8000\n",
      "Epoch 79/200\n",
      "9/9 [==============================] - 0s 4ms/step - loss: 0.4278 - acc: 0.8273 - val_loss: 0.4546 - val_acc: 0.8071\n",
      "Epoch 80/200\n",
      "9/9 [==============================] - 0s 4ms/step - loss: 0.4281 - acc: 0.8219 - val_loss: 0.4700 - val_acc: 0.7571\n",
      "Epoch 81/200\n",
      "9/9 [==============================] - 0s 4ms/step - loss: 0.4414 - acc: 0.8129 - val_loss: 0.4577 - val_acc: 0.8143\n",
      "Epoch 82/200\n",
      "9/9 [==============================] - 0s 4ms/step - loss: 0.4239 - acc: 0.8363 - val_loss: 0.4461 - val_acc: 0.7929\n",
      "Epoch 83/200\n",
      "9/9 [==============================] - 0s 8ms/step - loss: 0.4221 - acc: 0.8291 - val_loss: 0.4410 - val_acc: 0.8071\n",
      "Epoch 84/200\n",
      "9/9 [==============================] - 0s 8ms/step - loss: 0.4140 - acc: 0.8309 - val_loss: 0.4318 - val_acc: 0.8000\n",
      "Epoch 85/200\n",
      "9/9 [==============================] - 0s 8ms/step - loss: 0.4131 - acc: 0.8525 - val_loss: 0.4312 - val_acc: 0.7929\n",
      "Epoch 86/200\n",
      "9/9 [==============================] - 0s 4ms/step - loss: 0.4122 - acc: 0.8273 - val_loss: 0.4447 - val_acc: 0.7786\n",
      "Epoch 87/200\n",
      "9/9 [==============================] - 0s 4ms/step - loss: 0.4153 - acc: 0.8489 - val_loss: 0.4490 - val_acc: 0.7929\n",
      "Epoch 88/200\n",
      "9/9 [==============================] - 0s 9ms/step - loss: 0.4194 - acc: 0.8381 - val_loss: 0.4256 - val_acc: 0.8214\n",
      "Epoch 89/200\n",
      "9/9 [==============================] - 0s 4ms/step - loss: 0.4069 - acc: 0.8507 - val_loss: 0.4276 - val_acc: 0.8000\n",
      "Epoch 90/200\n",
      "9/9 [==============================] - 0s 4ms/step - loss: 0.4069 - acc: 0.8345 - val_loss: 0.4296 - val_acc: 0.8071\n",
      "Epoch 91/200\n",
      "9/9 [==============================] - 0s 4ms/step - loss: 0.4054 - acc: 0.8471 - val_loss: 0.4284 - val_acc: 0.8071\n",
      "Epoch 92/200\n",
      "9/9 [==============================] - 0s 4ms/step - loss: 0.4009 - acc: 0.8453 - val_loss: 0.4267 - val_acc: 0.8000\n",
      "Epoch 93/200\n",
      "9/9 [==============================] - 0s 4ms/step - loss: 0.4065 - acc: 0.8399 - val_loss: 0.4335 - val_acc: 0.8357\n",
      "Epoch 94/200\n",
      "9/9 [==============================] - 0s 4ms/step - loss: 0.4085 - acc: 0.8453 - val_loss: 0.4371 - val_acc: 0.7643\n",
      "Epoch 95/200\n",
      "9/9 [==============================] - 0s 4ms/step - loss: 0.3928 - acc: 0.8471 - val_loss: 0.4260 - val_acc: 0.8071\n",
      "Epoch 96/200\n",
      "9/9 [==============================] - 0s 9ms/step - loss: 0.3909 - acc: 0.8507 - val_loss: 0.4248 - val_acc: 0.7714\n",
      "Epoch 97/200\n",
      "9/9 [==============================] - 0s 8ms/step - loss: 0.3870 - acc: 0.8507 - val_loss: 0.4203 - val_acc: 0.8214\n",
      "Epoch 98/200\n",
      "9/9 [==============================] - 0s 8ms/step - loss: 0.4020 - acc: 0.8471 - val_loss: 0.4163 - val_acc: 0.8071\n",
      "Epoch 99/200\n",
      "9/9 [==============================] - 0s 8ms/step - loss: 0.3938 - acc: 0.8489 - val_loss: 0.4117 - val_acc: 0.7929\n",
      "Epoch 100/200\n",
      "9/9 [==============================] - 0s 4ms/step - loss: 0.3912 - acc: 0.8489 - val_loss: 0.4253 - val_acc: 0.7714\n",
      "Epoch 101/200\n",
      "9/9 [==============================] - 0s 4ms/step - loss: 0.3955 - acc: 0.8255 - val_loss: 0.4259 - val_acc: 0.8286\n",
      "Epoch 102/200\n",
      "9/9 [==============================] - 0s 4ms/step - loss: 0.3877 - acc: 0.8291 - val_loss: 0.4288 - val_acc: 0.7714\n",
      "Epoch 103/200\n",
      "9/9 [==============================] - 0s 10ms/step - loss: 0.3896 - acc: 0.8507 - val_loss: 0.4074 - val_acc: 0.8071\n",
      "Epoch 104/200\n",
      "9/9 [==============================] - 0s 4ms/step - loss: 0.3786 - acc: 0.8561 - val_loss: 0.4096 - val_acc: 0.8143\n",
      "Epoch 105/200\n",
      "9/9 [==============================] - 0s 9ms/step - loss: 0.3774 - acc: 0.8507 - val_loss: 0.4074 - val_acc: 0.8000\n",
      "Epoch 106/200\n",
      "9/9 [==============================] - 0s 9ms/step - loss: 0.3753 - acc: 0.8471 - val_loss: 0.4060 - val_acc: 0.8214\n",
      "Epoch 107/200\n",
      "9/9 [==============================] - 0s 4ms/step - loss: 0.3781 - acc: 0.8507 - val_loss: 0.4199 - val_acc: 0.7929\n",
      "Epoch 108/200\n",
      "9/9 [==============================] - 0s 4ms/step - loss: 0.3741 - acc: 0.8453 - val_loss: 0.4095 - val_acc: 0.8286\n",
      "Epoch 109/200\n",
      "9/9 [==============================] - 0s 4ms/step - loss: 0.3725 - acc: 0.8579 - val_loss: 0.4093 - val_acc: 0.7929\n",
      "Epoch 110/200\n",
      "9/9 [==============================] - 0s 8ms/step - loss: 0.3755 - acc: 0.8525 - val_loss: 0.4052 - val_acc: 0.7786\n",
      "Epoch 111/200\n",
      "9/9 [==============================] - 0s 4ms/step - loss: 0.3733 - acc: 0.8525 - val_loss: 0.4100 - val_acc: 0.8143\n",
      "Epoch 112/200\n",
      "9/9 [==============================] - 0s 8ms/step - loss: 0.3658 - acc: 0.8579 - val_loss: 0.4010 - val_acc: 0.7929\n",
      "Epoch 113/200\n",
      "9/9 [==============================] - 0s 4ms/step - loss: 0.3669 - acc: 0.8651 - val_loss: 0.4027 - val_acc: 0.8071\n",
      "Epoch 114/200\n",
      "9/9 [==============================] - 0s 4ms/step - loss: 0.3636 - acc: 0.8561 - val_loss: 0.4025 - val_acc: 0.8286\n",
      "Epoch 115/200\n",
      "9/9 [==============================] - 0s 4ms/step - loss: 0.3688 - acc: 0.8525 - val_loss: 0.4028 - val_acc: 0.8357\n",
      "Epoch 116/200\n",
      "9/9 [==============================] - 0s 4ms/step - loss: 0.3706 - acc: 0.8417 - val_loss: 0.4169 - val_acc: 0.7929\n",
      "Epoch 117/200\n",
      "9/9 [==============================] - 0s 4ms/step - loss: 0.3673 - acc: 0.8525 - val_loss: 0.4046 - val_acc: 0.8357\n",
      "Epoch 118/200\n",
      "9/9 [==============================] - 0s 9ms/step - loss: 0.3606 - acc: 0.8579 - val_loss: 0.3966 - val_acc: 0.8214\n",
      "Epoch 119/200\n",
      "9/9 [==============================] - 0s 4ms/step - loss: 0.3570 - acc: 0.8579 - val_loss: 0.3970 - val_acc: 0.8214\n",
      "Epoch 120/200\n",
      "9/9 [==============================] - 0s 8ms/step - loss: 0.3537 - acc: 0.8597 - val_loss: 0.3943 - val_acc: 0.8000\n",
      "Epoch 121/200\n",
      "9/9 [==============================] - 0s 4ms/step - loss: 0.3537 - acc: 0.8615 - val_loss: 0.3959 - val_acc: 0.8357\n",
      "Epoch 122/200\n",
      "9/9 [==============================] - 0s 4ms/step - loss: 0.3587 - acc: 0.8507 - val_loss: 0.4068 - val_acc: 0.8143\n",
      "Epoch 123/200\n",
      "9/9 [==============================] - 0s 4ms/step - loss: 0.3518 - acc: 0.8579 - val_loss: 0.3974 - val_acc: 0.8000\n",
      "Epoch 124/200\n",
      "9/9 [==============================] - 0s 4ms/step - loss: 0.3500 - acc: 0.8489 - val_loss: 0.4047 - val_acc: 0.8286\n",
      "Epoch 125/200\n",
      "9/9 [==============================] - 0s 4ms/step - loss: 0.3488 - acc: 0.8633 - val_loss: 0.3957 - val_acc: 0.8071\n",
      "Epoch 126/200\n",
      "9/9 [==============================] - 0s 9ms/step - loss: 0.3443 - acc: 0.8579 - val_loss: 0.3907 - val_acc: 0.8286\n",
      "Epoch 127/200\n",
      "9/9 [==============================] - 0s 8ms/step - loss: 0.3468 - acc: 0.8597 - val_loss: 0.3877 - val_acc: 0.8357\n",
      "Epoch 128/200\n",
      "9/9 [==============================] - 0s 4ms/step - loss: 0.3436 - acc: 0.8579 - val_loss: 0.4027 - val_acc: 0.7786\n",
      "Epoch 129/200\n",
      "9/9 [==============================] - 0s 4ms/step - loss: 0.3434 - acc: 0.8633 - val_loss: 0.4071 - val_acc: 0.8429\n",
      "Epoch 130/200\n",
      "9/9 [==============================] - 0s 4ms/step - loss: 0.3465 - acc: 0.8579 - val_loss: 0.3881 - val_acc: 0.8286\n",
      "Epoch 131/200\n",
      "9/9 [==============================] - 0s 4ms/step - loss: 0.3560 - acc: 0.8579 - val_loss: 0.3995 - val_acc: 0.8071\n",
      "Epoch 132/200\n",
      "9/9 [==============================] - 0s 5ms/step - loss: 0.3468 - acc: 0.8525 - val_loss: 0.4046 - val_acc: 0.8429\n",
      "Epoch 133/200\n",
      "9/9 [==============================] - 0s 15ms/step - loss: 0.3366 - acc: 0.8723 - val_loss: 0.3875 - val_acc: 0.8071\n",
      "Epoch 134/200\n",
      "9/9 [==============================] - 0s 8ms/step - loss: 0.3332 - acc: 0.8669 - val_loss: 0.3873 - val_acc: 0.8500\n",
      "Epoch 135/200\n",
      "9/9 [==============================] - 0s 4ms/step - loss: 0.3379 - acc: 0.8687 - val_loss: 0.3969 - val_acc: 0.8429\n",
      "Epoch 136/200\n",
      "9/9 [==============================] - 0s 4ms/step - loss: 0.3366 - acc: 0.8687 - val_loss: 0.3888 - val_acc: 0.8071\n",
      "Epoch 137/200\n",
      "9/9 [==============================] - 0s 8ms/step - loss: 0.3342 - acc: 0.8633 - val_loss: 0.3846 - val_acc: 0.8429\n",
      "Epoch 138/200\n",
      "9/9 [==============================] - 0s 4ms/step - loss: 0.3293 - acc: 0.8669 - val_loss: 0.3873 - val_acc: 0.8500\n",
      "Epoch 139/200\n",
      "9/9 [==============================] - 0s 9ms/step - loss: 0.3281 - acc: 0.8705 - val_loss: 0.3831 - val_acc: 0.8357\n",
      "Epoch 140/200\n",
      "9/9 [==============================] - 0s 4ms/step - loss: 0.3308 - acc: 0.8669 - val_loss: 0.3896 - val_acc: 0.8429\n",
      "Epoch 141/200\n",
      "9/9 [==============================] - 0s 4ms/step - loss: 0.3285 - acc: 0.8723 - val_loss: 0.3876 - val_acc: 0.7929\n",
      "Epoch 142/200\n",
      "9/9 [==============================] - 0s 11ms/step - loss: 0.3261 - acc: 0.8669 - val_loss: 0.3773 - val_acc: 0.8357\n",
      "Epoch 143/200\n",
      "9/9 [==============================] - 0s 4ms/step - loss: 0.3232 - acc: 0.8723 - val_loss: 0.3802 - val_acc: 0.8357\n",
      "Epoch 144/200\n",
      "9/9 [==============================] - 0s 4ms/step - loss: 0.3266 - acc: 0.8669 - val_loss: 0.4031 - val_acc: 0.8429\n",
      "Epoch 145/200\n",
      "9/9 [==============================] - 0s 4ms/step - loss: 0.3271 - acc: 0.8669 - val_loss: 0.3823 - val_acc: 0.8214\n",
      "Epoch 146/200\n",
      "9/9 [==============================] - 0s 4ms/step - loss: 0.3198 - acc: 0.8705 - val_loss: 0.3929 - val_acc: 0.8429\n",
      "Epoch 147/200\n",
      "9/9 [==============================] - 0s 10ms/step - loss: 0.3191 - acc: 0.8777 - val_loss: 0.3749 - val_acc: 0.8429\n",
      "Epoch 148/200\n",
      "9/9 [==============================] - 0s 4ms/step - loss: 0.3226 - acc: 0.8723 - val_loss: 0.3802 - val_acc: 0.8571\n",
      "Epoch 149/200\n",
      "9/9 [==============================] - 0s 4ms/step - loss: 0.3152 - acc: 0.8759 - val_loss: 0.3766 - val_acc: 0.8500\n",
      "Epoch 150/200\n",
      "9/9 [==============================] - 0s 4ms/step - loss: 0.3152 - acc: 0.8759 - val_loss: 0.3770 - val_acc: 0.8571\n",
      "Epoch 151/200\n",
      "9/9 [==============================] - 0s 4ms/step - loss: 0.3143 - acc: 0.8777 - val_loss: 0.3919 - val_acc: 0.8429\n",
      "Epoch 152/200\n",
      "9/9 [==============================] - 0s 9ms/step - loss: 0.3149 - acc: 0.8795 - val_loss: 0.3700 - val_acc: 0.8357\n",
      "Epoch 153/200\n",
      "9/9 [==============================] - 0s 4ms/step - loss: 0.3177 - acc: 0.8795 - val_loss: 0.3752 - val_acc: 0.8286\n",
      "Epoch 154/200\n",
      "9/9 [==============================] - 0s 4ms/step - loss: 0.3202 - acc: 0.8831 - val_loss: 0.3762 - val_acc: 0.8643\n",
      "Epoch 155/200\n",
      "9/9 [==============================] - 0s 4ms/step - loss: 0.3078 - acc: 0.8849 - val_loss: 0.3729 - val_acc: 0.8500\n",
      "Epoch 156/200\n",
      "9/9 [==============================] - 0s 9ms/step - loss: 0.3085 - acc: 0.8813 - val_loss: 0.3696 - val_acc: 0.8500\n",
      "Epoch 157/200\n",
      "9/9 [==============================] - 0s 4ms/step - loss: 0.3123 - acc: 0.8777 - val_loss: 0.3764 - val_acc: 0.8143\n",
      "Epoch 158/200\n",
      "9/9 [==============================] - 0s 4ms/step - loss: 0.3092 - acc: 0.8849 - val_loss: 0.3830 - val_acc: 0.8429\n",
      "Epoch 159/200\n",
      "9/9 [==============================] - 0s 9ms/step - loss: 0.3091 - acc: 0.8903 - val_loss: 0.3680 - val_acc: 0.8500\n",
      "Epoch 160/200\n",
      "9/9 [==============================] - 0s 8ms/step - loss: 0.3032 - acc: 0.8795 - val_loss: 0.3680 - val_acc: 0.8643\n",
      "Epoch 161/200\n",
      "9/9 [==============================] - 0s 8ms/step - loss: 0.3040 - acc: 0.8831 - val_loss: 0.3648 - val_acc: 0.8286\n",
      "Epoch 162/200\n",
      "9/9 [==============================] - 0s 4ms/step - loss: 0.3010 - acc: 0.8921 - val_loss: 0.3892 - val_acc: 0.8500\n",
      "Epoch 163/200\n",
      "9/9 [==============================] - 0s 8ms/step - loss: 0.3049 - acc: 0.8867 - val_loss: 0.3634 - val_acc: 0.8714\n",
      "Epoch 164/200\n",
      "9/9 [==============================] - 0s 4ms/step - loss: 0.2975 - acc: 0.8867 - val_loss: 0.3834 - val_acc: 0.8500\n",
      "Epoch 165/200\n",
      "9/9 [==============================] - 0s 8ms/step - loss: 0.3033 - acc: 0.8831 - val_loss: 0.3591 - val_acc: 0.8214\n",
      "Epoch 166/200\n",
      "9/9 [==============================] - 0s 4ms/step - loss: 0.3028 - acc: 0.8831 - val_loss: 0.3632 - val_acc: 0.8786\n",
      "Epoch 167/200\n",
      "9/9 [==============================] - 0s 4ms/step - loss: 0.2978 - acc: 0.8903 - val_loss: 0.3593 - val_acc: 0.8286\n",
      "Epoch 168/200\n",
      "9/9 [==============================] - 0s 4ms/step - loss: 0.3006 - acc: 0.8885 - val_loss: 0.3708 - val_acc: 0.8571\n",
      "Epoch 169/200\n",
      "9/9 [==============================] - 0s 4ms/step - loss: 0.2962 - acc: 0.8849 - val_loss: 0.3680 - val_acc: 0.8643\n",
      "Epoch 170/200\n",
      "9/9 [==============================] - 0s 4ms/step - loss: 0.2909 - acc: 0.8903 - val_loss: 0.3609 - val_acc: 0.8500\n",
      "Epoch 171/200\n",
      "9/9 [==============================] - 0s 4ms/step - loss: 0.2911 - acc: 0.8957 - val_loss: 0.3886 - val_acc: 0.8500\n",
      "Epoch 172/200\n",
      "9/9 [==============================] - 0s 4ms/step - loss: 0.3004 - acc: 0.8939 - val_loss: 0.3612 - val_acc: 0.8643\n",
      "Epoch 173/200\n",
      "9/9 [==============================] - 0s 9ms/step - loss: 0.2941 - acc: 0.8957 - val_loss: 0.3562 - val_acc: 0.8286\n",
      "Epoch 174/200\n",
      "9/9 [==============================] - 0s 4ms/step - loss: 0.2959 - acc: 0.8939 - val_loss: 0.4227 - val_acc: 0.8357\n",
      "Epoch 175/200\n",
      "9/9 [==============================] - 0s 4ms/step - loss: 0.2992 - acc: 0.8867 - val_loss: 0.3568 - val_acc: 0.8143\n",
      "Epoch 176/200\n",
      "9/9 [==============================] - 0s 8ms/step - loss: 0.3041 - acc: 0.8813 - val_loss: 0.3558 - val_acc: 0.8143\n",
      "Epoch 177/200\n",
      "9/9 [==============================] - 0s 4ms/step - loss: 0.2915 - acc: 0.8921 - val_loss: 0.3927 - val_acc: 0.8571\n",
      "Epoch 178/200\n",
      "9/9 [==============================] - 0s 4ms/step - loss: 0.2929 - acc: 0.8921 - val_loss: 0.3605 - val_acc: 0.8643\n",
      "Epoch 179/200\n",
      "9/9 [==============================] - 0s 10ms/step - loss: 0.2861 - acc: 0.8939 - val_loss: 0.3494 - val_acc: 0.8714\n",
      "Epoch 180/200\n",
      "9/9 [==============================] - 0s 4ms/step - loss: 0.2858 - acc: 0.8939 - val_loss: 0.3649 - val_acc: 0.8643\n",
      "Epoch 181/200\n",
      "9/9 [==============================] - 0s 4ms/step - loss: 0.2840 - acc: 0.8975 - val_loss: 0.3672 - val_acc: 0.8571\n",
      "Epoch 182/200\n",
      "9/9 [==============================] - 0s 4ms/step - loss: 0.2898 - acc: 0.8975 - val_loss: 0.3748 - val_acc: 0.8714\n",
      "Epoch 183/200\n",
      "9/9 [==============================] - 0s 4ms/step - loss: 0.2944 - acc: 0.8849 - val_loss: 0.3805 - val_acc: 0.8357\n",
      "Epoch 184/200\n",
      "9/9 [==============================] - 0s 4ms/step - loss: 0.2958 - acc: 0.8939 - val_loss: 0.3960 - val_acc: 0.8500\n",
      "Epoch 185/200\n",
      "9/9 [==============================] - 0s 4ms/step - loss: 0.2858 - acc: 0.9047 - val_loss: 0.3522 - val_acc: 0.8643\n",
      "Epoch 186/200\n",
      "9/9 [==============================] - 0s 4ms/step - loss: 0.2919 - acc: 0.8957 - val_loss: 0.3495 - val_acc: 0.8143\n",
      "Epoch 187/200\n",
      "9/9 [==============================] - 0s 4ms/step - loss: 0.2866 - acc: 0.8993 - val_loss: 0.3511 - val_acc: 0.8714\n",
      "Epoch 188/200\n",
      "9/9 [==============================] - 0s 4ms/step - loss: 0.2922 - acc: 0.8957 - val_loss: 0.4128 - val_acc: 0.8286\n",
      "Epoch 189/200\n",
      "9/9 [==============================] - 0s 4ms/step - loss: 0.2870 - acc: 0.8975 - val_loss: 0.3599 - val_acc: 0.8286\n",
      "Epoch 190/200\n",
      "9/9 [==============================] - 0s 4ms/step - loss: 0.2820 - acc: 0.8993 - val_loss: 0.3692 - val_acc: 0.8643\n",
      "Epoch 191/200\n",
      "9/9 [==============================] - 0s 4ms/step - loss: 0.2734 - acc: 0.9065 - val_loss: 0.3505 - val_acc: 0.8714\n",
      "Epoch 192/200\n",
      "9/9 [==============================] - 0s 4ms/step - loss: 0.2724 - acc: 0.9083 - val_loss: 0.3517 - val_acc: 0.8714\n",
      "Epoch 193/200\n",
      "9/9 [==============================] - 0s 4ms/step - loss: 0.2733 - acc: 0.9065 - val_loss: 0.3671 - val_acc: 0.8714\n",
      "Epoch 194/200\n",
      "9/9 [==============================] - 0s 9ms/step - loss: 0.2730 - acc: 0.9047 - val_loss: 0.3419 - val_acc: 0.8643\n",
      "Epoch 195/200\n",
      "9/9 [==============================] - 0s 4ms/step - loss: 0.2772 - acc: 0.9011 - val_loss: 0.3470 - val_acc: 0.8643\n",
      "Epoch 196/200\n",
      "9/9 [==============================] - 0s 4ms/step - loss: 0.2736 - acc: 0.9047 - val_loss: 0.3880 - val_acc: 0.8571\n",
      "Epoch 197/200\n",
      "9/9 [==============================] - 0s 10ms/step - loss: 0.2738 - acc: 0.8993 - val_loss: 0.3413 - val_acc: 0.8571\n",
      "Epoch 198/200\n",
      "9/9 [==============================] - 0s 4ms/step - loss: 0.2696 - acc: 0.9047 - val_loss: 0.3465 - val_acc: 0.8714\n",
      "Epoch 199/200\n",
      "9/9 [==============================] - 0s 8ms/step - loss: 0.2649 - acc: 0.9209 - val_loss: 0.3407 - val_acc: 0.8714\n",
      "Epoch 200/200\n",
      "9/9 [==============================] - 0s 4ms/step - loss: 0.2669 - acc: 0.9191 - val_loss: 0.3517 - val_acc: 0.8643\n"
     ]
    }
   ],
   "source": [
    "history1_1 = model.fit(X_train_std, y_train, batch_size=64, epochs=200, validation_split=0.2, callbacks =[model_check_point])"
   ]
  },
  {
   "cell_type": "code",
   "execution_count": 616,
   "id": "0155da5e-e5dc-4cc3-b6a7-d81d5c885272",
   "metadata": {},
   "outputs": [
    {
     "data": {
      "text/html": [
       "<div>\n",
       "<style scoped>\n",
       "    .dataframe tbody tr th:only-of-type {\n",
       "        vertical-align: middle;\n",
       "    }\n",
       "\n",
       "    .dataframe tbody tr th {\n",
       "        vertical-align: top;\n",
       "    }\n",
       "\n",
       "    .dataframe thead th {\n",
       "        text-align: right;\n",
       "    }\n",
       "</style>\n",
       "<table border=\"1\" class=\"dataframe\">\n",
       "  <thead>\n",
       "    <tr style=\"text-align: right;\">\n",
       "      <th></th>\n",
       "      <th>loss</th>\n",
       "      <th>acc</th>\n",
       "      <th>val_loss</th>\n",
       "      <th>val_acc</th>\n",
       "    </tr>\n",
       "  </thead>\n",
       "  <tbody>\n",
       "    <tr>\n",
       "      <th>195</th>\n",
       "      <td>0.273636</td>\n",
       "      <td>0.904676</td>\n",
       "      <td>0.388038</td>\n",
       "      <td>0.857143</td>\n",
       "    </tr>\n",
       "    <tr>\n",
       "      <th>196</th>\n",
       "      <td>0.273792</td>\n",
       "      <td>0.899281</td>\n",
       "      <td>0.341286</td>\n",
       "      <td>0.857143</td>\n",
       "    </tr>\n",
       "    <tr>\n",
       "      <th>197</th>\n",
       "      <td>0.269632</td>\n",
       "      <td>0.904676</td>\n",
       "      <td>0.346525</td>\n",
       "      <td>0.871429</td>\n",
       "    </tr>\n",
       "    <tr>\n",
       "      <th>198</th>\n",
       "      <td>0.264946</td>\n",
       "      <td>0.920863</td>\n",
       "      <td>0.340744</td>\n",
       "      <td>0.871429</td>\n",
       "    </tr>\n",
       "    <tr>\n",
       "      <th>199</th>\n",
       "      <td>0.266927</td>\n",
       "      <td>0.919065</td>\n",
       "      <td>0.351711</td>\n",
       "      <td>0.864286</td>\n",
       "    </tr>\n",
       "  </tbody>\n",
       "</table>\n",
       "</div>"
      ],
      "text/plain": [
       "         loss       acc  val_loss   val_acc\n",
       "195  0.273636  0.904676  0.388038  0.857143\n",
       "196  0.273792  0.899281  0.341286  0.857143\n",
       "197  0.269632  0.904676  0.346525  0.871429\n",
       "198  0.264946  0.920863  0.340744  0.871429\n",
       "199  0.266927  0.919065  0.351711  0.864286"
      ]
     },
     "execution_count": 616,
     "metadata": {},
     "output_type": "execute_result"
    }
   ],
   "source": [
    "import pandas as pd\n",
    "\n",
    "train_results = pd.DataFrame(history1_1.history)\n",
    "train_results[-5:]"
   ]
  },
  {
   "cell_type": "code",
   "execution_count": 617,
   "id": "7a5ab349-e3df-4029-8b59-c224f6fda8e7",
   "metadata": {
    "scrolled": true
   },
   "outputs": [
    {
     "data": {
      "text/plain": [
       "<AxesSubplot:>"
      ]
     },
     "execution_count": 617,
     "metadata": {},
     "output_type": "execute_result"
    },
    {
     "data": {
      "image/png": "[encoded data removed]",
      "text/plain": [
       "<Figure size 640x480 with 1 Axes>"
      ]
     },
     "metadata": {},
     "output_type": "display_data"
    }
   ],
   "source": [
    "train_results[['loss', 'val_loss']].plot()"
   ]
  },
  {
   "cell_type": "code",
   "execution_count": null,
   "id": "be0765ce",
   "metadata": {},
   "outputs": [],
   "source": []
  },
  {
   "cell_type": "code",
   "execution_count": 618,
   "id": "9ef52db3",
   "metadata": {},
   "outputs": [],
   "source": [
    "#model.load_weights(checkpoint_path)"
   ]
  },
  {
   "cell_type": "markdown",
   "id": "71e5435a",
   "metadata": {},
   "source": [
    "## 학습 이상치를 제거한 후 2차 전이학습 시행"
   ]
  },
  {
   "cell_type": "code",
   "execution_count": 619,
   "id": "4ee92e5a-dff9-4e85-87db-5557853e2531",
   "metadata": {},
   "outputs": [
    {
     "name": "stdout",
     "output_type": "stream",
     "text": [
      "22/22 [==============================] - 0s 855us/step\n",
      "631 of 696 are correct [90.66091954022988%]\n"
     ]
    }
   ],
   "source": [
    "Y_pred = model.predict(X_train_std)\n",
    "Y_pred_max = np.max(Y_pred,axis =1)\n",
    "\n",
    "y_pred = np.argmax(Y_pred, axis=1)\n",
    "X_train_selected = []\n",
    "y_pred_selected =[]\n",
    "cnt = 0\n",
    "for i,j,k,m in zip(y_pred,y_train,range(X_train.shape[0]),Y_pred_max):\n",
    "    if(i==j):\n",
    "        cnt=cnt+1\n",
    "        X_train_selected.append(X_train[k])\n",
    "        y_pred_selected.append(i)\n",
    "    else:\n",
    "        if(m < 0.6):\n",
    "            X_train_selected.append(X_train[k])\n",
    "            y_pred_selected.append(i)\n",
    "        \n",
    "print(f'{cnt} of {y_train.shape[0]} are correct [{cnt/y_train.shape[0]*100}%]')"
   ]
  },
  {
   "cell_type": "code",
   "execution_count": null,
   "id": "e67f5860",
   "metadata": {},
   "outputs": [],
   "source": []
  },
  {
   "cell_type": "code",
   "execution_count": 620,
   "id": "0379e588-ad39-4a81-bb78-fb12e240d53b",
   "metadata": {},
   "outputs": [],
   "source": [
    "X_train_selected = np.array(X_train_selected)\n",
    "y_pred_selected = np.array(y_pred_selected)"
   ]
  },
  {
   "cell_type": "code",
   "execution_count": null,
   "id": "86ef42bb",
   "metadata": {},
   "outputs": [],
   "source": [
    "\n"
   ]
  },
  {
   "cell_type": "code",
   "execution_count": 621,
   "id": "44b8ad9f",
   "metadata": {},
   "outputs": [],
   "source": [
    "#history1_2 = model.fit(pre(X_train_selected), y_pred_selected, batch_size = 64, epochs = 1000, validation_split = 0.2, callbacks = model_check_point)"
   ]
  },
  {
   "cell_type": "code",
   "execution_count": null,
   "id": "a8f8e62d",
   "metadata": {},
   "outputs": [],
   "source": []
  },
  {
   "cell_type": "code",
   "execution_count": null,
   "id": "7e2afc5d",
   "metadata": {},
   "outputs": [],
   "source": []
  },
  {
   "cell_type": "code",
   "execution_count": 622,
   "id": "5d016f3e",
   "metadata": {},
   "outputs": [
    {
     "name": "stdout",
     "output_type": "stream",
     "text": [
      "11/11 [==============================] - 0s 898us/step\n"
     ]
    }
   ],
   "source": [
    "Y_Unlabeled_pred = model.predict(sc.transform(X_Unlabeled))\n",
    "Y_Unlabeled_pred = np.argmax(Y_Unlabeled_pred, axis=1)"
   ]
  },
  {
   "cell_type": "code",
   "execution_count": 623,
   "id": "4e9d60b4",
   "metadata": {},
   "outputs": [],
   "source": [
    "y_None = Y_Unlabeled_pred"
   ]
  },
  {
   "cell_type": "code",
   "execution_count": 624,
   "id": "20ef143d",
   "metadata": {},
   "outputs": [
    {
     "data": {
      "text/plain": [
       "(326,)"
      ]
     },
     "execution_count": 624,
     "metadata": {},
     "output_type": "execute_result"
    }
   ],
   "source": [
    "Y_Unlabeled_pred.shape"
   ]
  },
  {
   "cell_type": "markdown",
   "id": "ce00e06e",
   "metadata": {},
   "source": [
    "## 전체 데이터 병합"
   ]
  },
  {
   "cell_type": "code",
   "execution_count": 625,
   "id": "479e9c2c",
   "metadata": {},
   "outputs": [],
   "source": [
    "X_merge = np.concatenate((X_train_selected, X_Unlabeled), axis = 0)\n",
    "y_merge = np.concatenate((y_pred_selected, Y_Unlabeled_pred))"
   ]
  },
  {
   "cell_type": "code",
   "execution_count": 626,
   "id": "54fe774e",
   "metadata": {},
   "outputs": [
    {
     "data": {
      "text/plain": [
       "(696, 34)"
      ]
     },
     "execution_count": 626,
     "metadata": {},
     "output_type": "execute_result"
    }
   ],
   "source": [
    "X_train.shape"
   ]
  },
  {
   "cell_type": "code",
   "execution_count": 627,
   "id": "37bbcef9",
   "metadata": {},
   "outputs": [
    {
     "data": {
      "text/plain": [
       "(645, 34)"
      ]
     },
     "execution_count": 627,
     "metadata": {},
     "output_type": "execute_result"
    }
   ],
   "source": [
    "X_train_selected.shape"
   ]
  },
  {
   "cell_type": "code",
   "execution_count": 628,
   "id": "b3d25bc5",
   "metadata": {},
   "outputs": [
    {
     "data": {
      "text/plain": [
       "(971, 34)"
      ]
     },
     "execution_count": 628,
     "metadata": {},
     "output_type": "execute_result"
    }
   ],
   "source": [
    "X_merge.shape"
   ]
  },
  {
   "cell_type": "code",
   "execution_count": 629,
   "id": "046120d1",
   "metadata": {},
   "outputs": [],
   "source": [
    "y_merge = np.reshape(y_merge, (X_merge.shape[0],1))"
   ]
  },
  {
   "cell_type": "code",
   "execution_count": 630,
   "id": "ef2a3eef",
   "metadata": {},
   "outputs": [],
   "source": [
    "data_merge = np.concatenate((X_merge,y_merge), axis = 1)\n",
    "np.random.shuffle(data_merge)"
   ]
  },
  {
   "cell_type": "code",
   "execution_count": 631,
   "id": "27f0bb86",
   "metadata": {},
   "outputs": [],
   "source": [
    "split = round(X_merge.shape[0]*0.7)"
   ]
  },
  {
   "cell_type": "code",
   "execution_count": 632,
   "id": "fb04cd02",
   "metadata": {},
   "outputs": [],
   "source": [
    "X2_train, y2_train, X2_test, y2_test = data_merge[:split,0:-1], data_merge[:split,-1], data_merge[split:,0:-1], data_merge[split:,-1]"
   ]
  },
  {
   "cell_type": "code",
   "execution_count": 633,
   "id": "77ff60cc",
   "metadata": {},
   "outputs": [
    {
     "data": {
      "text/plain": [
       "(680, 34)"
      ]
     },
     "execution_count": 633,
     "metadata": {},
     "output_type": "execute_result"
    }
   ],
   "source": [
    "X2_train.shape"
   ]
  },
  {
   "cell_type": "code",
   "execution_count": 634,
   "id": "9ba91370",
   "metadata": {},
   "outputs": [
    {
     "data": {
      "text/plain": [
       "(291, 34)"
      ]
     },
     "execution_count": 634,
     "metadata": {},
     "output_type": "execute_result"
    }
   ],
   "source": [
    "X2_test.shape"
   ]
  },
  {
   "cell_type": "markdown",
   "id": "b7556590",
   "metadata": {},
   "source": [
    "## 평가 학습 모델"
   ]
  },
  {
   "cell_type": "code",
   "execution_count": 635,
   "id": "501313b1",
   "metadata": {},
   "outputs": [
    {
     "name": "stdout",
     "output_type": "stream",
     "text": [
      "Model: \"sequential_29\"\n",
      "_________________________________________________________________\n",
      " Layer (type)                Output Shape              Param #   \n",
      "=================================================================\n",
      " dense_87 (Dense)            (None, 34)                1190      \n",
      "                                                                 \n",
      " dense_88 (Dense)            (None, 34)                1190      \n",
      "                                                                 \n",
      " dense_89 (Dense)            (None, 4)                 140       \n",
      "                                                                 \n",
      "=================================================================\n",
      "Total params: 2,520\n",
      "Trainable params: 2,520\n",
      "Non-trainable params: 0\n",
      "_________________________________________________________________\n"
     ]
    }
   ],
   "source": [
    "model2 = models.Sequential()\n",
    "#model2.load_weights(checkpoint_path)\n",
    "checkpoint_path2 = './tmp2/checkpoint'\n",
    "model_check_point2 = tf.keras.callbacks.ModelCheckpoint(\n",
    "    filepath = checkpoint_path2, monitor='val_loss', verbose=0, save_best_only=True,\n",
    "    save_weights_only=True, mode='auto', save_freq='epoch', options=None)\n",
    "\n",
    "model2.add(tf.keras.layers.Dense(X_train.shape[1], input_dim =X_train.shape[1],activation = 'relu'))\n",
    "model2.add(tf.keras.layers.Dense(X_train.shape[1],activation = 'relu'))\n",
    "model2.add(tf.keras.layers.Dense(4,  activation='softmax'))\n",
    "model2.compile(\n",
    "    loss=sparse_categorical_crossentropy, \n",
    "    optimizer=optimizer, \n",
    "    metrics=['acc'])\n",
    "\n",
    "model2.layers[0].trainable = True\n",
    "model2.layers[1].trainable = True\n",
    "\n",
    "model2.summary()\n",
    "\n"
   ]
  },
  {
   "cell_type": "code",
   "execution_count": 636,
   "id": "cede4a5f",
   "metadata": {},
   "outputs": [],
   "source": [
    "#model2.load_weights(checkpoint_path)"
   ]
  },
  {
   "cell_type": "code",
   "execution_count": 637,
   "id": "d7b763b5",
   "metadata": {},
   "outputs": [],
   "source": [
    "X2_train_scaled = sc.transform(X2_train)"
   ]
  },
  {
   "cell_type": "code",
   "execution_count": 638,
   "id": "744f1bd3",
   "metadata": {},
   "outputs": [
    {
     "data": {
      "text/plain": [
       "(696, 34)"
      ]
     },
     "execution_count": 638,
     "metadata": {},
     "output_type": "execute_result"
    }
   ],
   "source": [
    "X_train.shape"
   ]
  },
  {
   "cell_type": "code",
   "execution_count": 639,
   "id": "5af34f70",
   "metadata": {},
   "outputs": [
    {
     "name": "stdout",
     "output_type": "stream",
     "text": [
      "Epoch 1/200\n",
      "9/9 [==============================] - 1s 28ms/step - loss: 1.2515 - acc: 0.4540 - val_loss: 0.8719 - val_acc: 0.6618\n",
      "Epoch 2/200\n",
      "9/9 [==============================] - 0s 8ms/step - loss: 0.8222 - acc: 0.6158 - val_loss: 0.7058 - val_acc: 0.6985\n",
      "Epoch 3/200\n",
      "9/9 [==============================] - 0s 9ms/step - loss: 0.6977 - acc: 0.6710 - val_loss: 0.6816 - val_acc: 0.7279\n",
      "Epoch 4/200\n",
      "9/9 [==============================] - 0s 8ms/step - loss: 0.6224 - acc: 0.7059 - val_loss: 0.5822 - val_acc: 0.7500\n",
      "Epoch 5/200\n",
      "9/9 [==============================] - 0s 8ms/step - loss: 0.5438 - acc: 0.7390 - val_loss: 0.4947 - val_acc: 0.7941\n",
      "Epoch 6/200\n",
      "9/9 [==============================] - 0s 8ms/step - loss: 0.4967 - acc: 0.7960 - val_loss: 0.4576 - val_acc: 0.8162\n",
      "Epoch 7/200\n",
      "9/9 [==============================] - 0s 8ms/step - loss: 0.4765 - acc: 0.7794 - val_loss: 0.4360 - val_acc: 0.8309\n",
      "Epoch 8/200\n",
      "9/9 [==============================] - 0s 8ms/step - loss: 0.4364 - acc: 0.8180 - val_loss: 0.3896 - val_acc: 0.8382\n",
      "Epoch 9/200\n",
      "9/9 [==============================] - 0s 9ms/step - loss: 0.4066 - acc: 0.8493 - val_loss: 0.3731 - val_acc: 0.8529\n",
      "Epoch 10/200\n",
      "9/9 [==============================] - 0s 8ms/step - loss: 0.3978 - acc: 0.8327 - val_loss: 0.3656 - val_acc: 0.8309\n",
      "Epoch 11/200\n",
      "9/9 [==============================] - 0s 8ms/step - loss: 0.3839 - acc: 0.8290 - val_loss: 0.3554 - val_acc: 0.8529\n",
      "Epoch 12/200\n",
      "9/9 [==============================] - 0s 9ms/step - loss: 0.3658 - acc: 0.8456 - val_loss: 0.3387 - val_acc: 0.8456\n",
      "Epoch 13/200\n",
      "9/9 [==============================] - 0s 4ms/step - loss: 0.3419 - acc: 0.8658 - val_loss: 0.3705 - val_acc: 0.8676\n",
      "Epoch 14/200\n",
      "9/9 [==============================] - 0s 4ms/step - loss: 0.3401 - acc: 0.8548 - val_loss: 0.3512 - val_acc: 0.8676\n",
      "Epoch 15/200\n",
      "9/9 [==============================] - 0s 9ms/step - loss: 0.3225 - acc: 0.8750 - val_loss: 0.3126 - val_acc: 0.8824\n",
      "Epoch 16/200\n",
      "9/9 [==============================] - 0s 4ms/step - loss: 0.3296 - acc: 0.8676 - val_loss: 0.3483 - val_acc: 0.8382\n",
      "Epoch 17/200\n",
      "9/9 [==============================] - 0s 9ms/step - loss: 0.3366 - acc: 0.8474 - val_loss: 0.2972 - val_acc: 0.8529\n",
      "Epoch 18/200\n",
      "9/9 [==============================] - 0s 9ms/step - loss: 0.3040 - acc: 0.8805 - val_loss: 0.2908 - val_acc: 0.8971\n",
      "Epoch 19/200\n",
      "9/9 [==============================] - 0s 5ms/step - loss: 0.2890 - acc: 0.8879 - val_loss: 0.3444 - val_acc: 0.8750\n",
      "Epoch 20/200\n",
      "9/9 [==============================] - 0s 10ms/step - loss: 0.2980 - acc: 0.8860 - val_loss: 0.2846 - val_acc: 0.8897\n",
      "Epoch 21/200\n",
      "9/9 [==============================] - 0s 9ms/step - loss: 0.2964 - acc: 0.8860 - val_loss: 0.2822 - val_acc: 0.8603\n",
      "Epoch 22/200\n",
      "9/9 [==============================] - 0s 9ms/step - loss: 0.2723 - acc: 0.8952 - val_loss: 0.2793 - val_acc: 0.8897\n",
      "Epoch 23/200\n",
      "9/9 [==============================] - 0s 5ms/step - loss: 0.2776 - acc: 0.8805 - val_loss: 0.3173 - val_acc: 0.8676\n",
      "Epoch 24/200\n",
      "9/9 [==============================] - 0s 9ms/step - loss: 0.2679 - acc: 0.9026 - val_loss: 0.2749 - val_acc: 0.8897\n",
      "Epoch 25/200\n",
      "9/9 [==============================] - 0s 9ms/step - loss: 0.2495 - acc: 0.9228 - val_loss: 0.2593 - val_acc: 0.8971\n",
      "Epoch 26/200\n",
      "9/9 [==============================] - 0s 8ms/step - loss: 0.2450 - acc: 0.9173 - val_loss: 0.2571 - val_acc: 0.9044\n",
      "Epoch 27/200\n",
      "9/9 [==============================] - 0s 8ms/step - loss: 0.2445 - acc: 0.9191 - val_loss: 0.2516 - val_acc: 0.9044\n",
      "Epoch 28/200\n",
      "9/9 [==============================] - 0s 4ms/step - loss: 0.2357 - acc: 0.9228 - val_loss: 0.2557 - val_acc: 0.8971\n",
      "Epoch 29/200\n",
      "9/9 [==============================] - 0s 4ms/step - loss: 0.2332 - acc: 0.9320 - val_loss: 0.2609 - val_acc: 0.8897\n",
      "Epoch 30/200\n",
      "9/9 [==============================] - 0s 8ms/step - loss: 0.2204 - acc: 0.9430 - val_loss: 0.2406 - val_acc: 0.9118\n",
      "Epoch 31/200\n",
      "9/9 [==============================] - 0s 4ms/step - loss: 0.2190 - acc: 0.9357 - val_loss: 0.2455 - val_acc: 0.8971\n",
      "Epoch 32/200\n",
      "9/9 [==============================] - 0s 8ms/step - loss: 0.2126 - acc: 0.9320 - val_loss: 0.2358 - val_acc: 0.9118\n",
      "Epoch 33/200\n",
      "9/9 [==============================] - 0s 4ms/step - loss: 0.2101 - acc: 0.9357 - val_loss: 0.2493 - val_acc: 0.9044\n",
      "Epoch 34/200\n",
      "9/9 [==============================] - 0s 4ms/step - loss: 0.2110 - acc: 0.9320 - val_loss: 0.2368 - val_acc: 0.8971\n",
      "Epoch 35/200\n",
      "9/9 [==============================] - 0s 4ms/step - loss: 0.2065 - acc: 0.9283 - val_loss: 0.2397 - val_acc: 0.9044\n",
      "Epoch 36/200\n",
      "9/9 [==============================] - 0s 9ms/step - loss: 0.2094 - acc: 0.9246 - val_loss: 0.2219 - val_acc: 0.9044\n",
      "Epoch 37/200\n",
      "9/9 [==============================] - 0s 9ms/step - loss: 0.2017 - acc: 0.9338 - val_loss: 0.2198 - val_acc: 0.9118\n",
      "Epoch 38/200\n",
      "9/9 [==============================] - 0s 4ms/step - loss: 0.2046 - acc: 0.9430 - val_loss: 0.2660 - val_acc: 0.8897\n",
      "Epoch 39/200\n",
      "9/9 [==============================] - 0s 10ms/step - loss: 0.1969 - acc: 0.9375 - val_loss: 0.2182 - val_acc: 0.9118\n",
      "Epoch 40/200\n",
      "9/9 [==============================] - 0s 9ms/step - loss: 0.1891 - acc: 0.9375 - val_loss: 0.2128 - val_acc: 0.9191\n",
      "Epoch 41/200\n",
      "9/9 [==============================] - 0s 8ms/step - loss: 0.1879 - acc: 0.9449 - val_loss: 0.2091 - val_acc: 0.9118\n",
      "Epoch 42/200\n",
      "9/9 [==============================] - 0s 9ms/step - loss: 0.1889 - acc: 0.9430 - val_loss: 0.2072 - val_acc: 0.9118\n",
      "Epoch 43/200\n",
      "9/9 [==============================] - 0s 4ms/step - loss: 0.1811 - acc: 0.9449 - val_loss: 0.2119 - val_acc: 0.9191\n",
      "Epoch 44/200\n",
      "9/9 [==============================] - 0s 9ms/step - loss: 0.1801 - acc: 0.9393 - val_loss: 0.2069 - val_acc: 0.9191\n",
      "Epoch 45/200\n",
      "9/9 [==============================] - 0s 8ms/step - loss: 0.1744 - acc: 0.9430 - val_loss: 0.2013 - val_acc: 0.9118\n",
      "Epoch 46/200\n",
      "9/9 [==============================] - 0s 4ms/step - loss: 0.1736 - acc: 0.9504 - val_loss: 0.2174 - val_acc: 0.9118\n",
      "Epoch 47/200\n",
      "9/9 [==============================] - 0s 4ms/step - loss: 0.1737 - acc: 0.9467 - val_loss: 0.2136 - val_acc: 0.9118\n",
      "Epoch 48/200\n",
      "9/9 [==============================] - 0s 9ms/step - loss: 0.1775 - acc: 0.9393 - val_loss: 0.1985 - val_acc: 0.9044\n",
      "Epoch 49/200\n",
      "9/9 [==============================] - 0s 9ms/step - loss: 0.1718 - acc: 0.9467 - val_loss: 0.1945 - val_acc: 0.9191\n",
      "Epoch 50/200\n",
      "9/9 [==============================] - 0s 4ms/step - loss: 0.1670 - acc: 0.9467 - val_loss: 0.2137 - val_acc: 0.9118\n",
      "Epoch 51/200\n",
      "9/9 [==============================] - 0s 4ms/step - loss: 0.1687 - acc: 0.9504 - val_loss: 0.2054 - val_acc: 0.9118\n",
      "Epoch 52/200\n",
      "9/9 [==============================] - 0s 9ms/step - loss: 0.1638 - acc: 0.9485 - val_loss: 0.1868 - val_acc: 0.9118\n",
      "Epoch 53/200\n",
      "9/9 [==============================] - 0s 4ms/step - loss: 0.1683 - acc: 0.9357 - val_loss: 0.1982 - val_acc: 0.9191\n",
      "Epoch 54/200\n",
      "9/9 [==============================] - 0s 4ms/step - loss: 0.1835 - acc: 0.9393 - val_loss: 0.1989 - val_acc: 0.9118\n",
      "Epoch 55/200\n",
      "9/9 [==============================] - 0s 4ms/step - loss: 0.1619 - acc: 0.9559 - val_loss: 0.2344 - val_acc: 0.9044\n",
      "Epoch 56/200\n",
      "9/9 [==============================] - 0s 4ms/step - loss: 0.1643 - acc: 0.9467 - val_loss: 0.1891 - val_acc: 0.9265\n",
      "Epoch 57/200\n",
      "9/9 [==============================] - 0s 9ms/step - loss: 0.1639 - acc: 0.9504 - val_loss: 0.1810 - val_acc: 0.9191\n",
      "Epoch 58/200\n",
      "9/9 [==============================] - 0s 4ms/step - loss: 0.1622 - acc: 0.9504 - val_loss: 0.2136 - val_acc: 0.9191\n",
      "Epoch 59/200\n",
      "9/9 [==============================] - 0s 4ms/step - loss: 0.1498 - acc: 0.9559 - val_loss: 0.1847 - val_acc: 0.9118\n",
      "Epoch 60/200\n",
      "9/9 [==============================] - 0s 9ms/step - loss: 0.1473 - acc: 0.9559 - val_loss: 0.1798 - val_acc: 0.9191\n",
      "Epoch 61/200\n",
      "9/9 [==============================] - 0s 4ms/step - loss: 0.1450 - acc: 0.9522 - val_loss: 0.1805 - val_acc: 0.9191\n",
      "Epoch 62/200\n",
      "9/9 [==============================] - 0s 8ms/step - loss: 0.1426 - acc: 0.9540 - val_loss: 0.1707 - val_acc: 0.9265\n",
      "Epoch 63/200\n",
      "9/9 [==============================] - 0s 4ms/step - loss: 0.1404 - acc: 0.9559 - val_loss: 0.1764 - val_acc: 0.9118\n",
      "Epoch 64/200\n",
      "9/9 [==============================] - 0s 8ms/step - loss: 0.1406 - acc: 0.9614 - val_loss: 0.1670 - val_acc: 0.9265\n",
      "Epoch 65/200\n",
      "9/9 [==============================] - 0s 4ms/step - loss: 0.1460 - acc: 0.9577 - val_loss: 0.1763 - val_acc: 0.9338\n",
      "Epoch 66/200\n",
      "9/9 [==============================] - 0s 4ms/step - loss: 0.1597 - acc: 0.9412 - val_loss: 0.2013 - val_acc: 0.9118\n",
      "Epoch 67/200\n",
      "9/9 [==============================] - 0s 4ms/step - loss: 0.1568 - acc: 0.9449 - val_loss: 0.2121 - val_acc: 0.9118\n",
      "Epoch 68/200\n",
      "9/9 [==============================] - 0s 9ms/step - loss: 0.1372 - acc: 0.9559 - val_loss: 0.1641 - val_acc: 0.9265\n",
      "Epoch 69/200\n",
      "9/9 [==============================] - 0s 4ms/step - loss: 0.1341 - acc: 0.9577 - val_loss: 0.1748 - val_acc: 0.9338\n",
      "Epoch 70/200\n",
      "9/9 [==============================] - 0s 4ms/step - loss: 0.1332 - acc: 0.9540 - val_loss: 0.1715 - val_acc: 0.9338\n",
      "Epoch 71/200\n",
      "9/9 [==============================] - 0s 9ms/step - loss: 0.1289 - acc: 0.9614 - val_loss: 0.1639 - val_acc: 0.9338\n",
      "Epoch 72/200\n",
      "9/9 [==============================] - 0s 4ms/step - loss: 0.1290 - acc: 0.9632 - val_loss: 0.1764 - val_acc: 0.9338\n",
      "Epoch 73/200\n",
      "9/9 [==============================] - 0s 5ms/step - loss: 0.1300 - acc: 0.9559 - val_loss: 0.1938 - val_acc: 0.9265\n",
      "Epoch 74/200\n",
      "9/9 [==============================] - 0s 12ms/step - loss: 0.1349 - acc: 0.9632 - val_loss: 0.1549 - val_acc: 0.9338\n",
      "Epoch 75/200\n",
      "9/9 [==============================] - 0s 4ms/step - loss: 0.1259 - acc: 0.9596 - val_loss: 0.1651 - val_acc: 0.9338\n",
      "Epoch 76/200\n",
      "9/9 [==============================] - 0s 4ms/step - loss: 0.1228 - acc: 0.9651 - val_loss: 0.1586 - val_acc: 0.9338\n",
      "Epoch 77/200\n",
      "9/9 [==============================] - 0s 4ms/step - loss: 0.1225 - acc: 0.9614 - val_loss: 0.1876 - val_acc: 0.9265\n",
      "Epoch 78/200\n",
      "9/9 [==============================] - 0s 10ms/step - loss: 0.1216 - acc: 0.9577 - val_loss: 0.1492 - val_acc: 0.9338\n",
      "Epoch 79/200\n",
      "9/9 [==============================] - 0s 5ms/step - loss: 0.1214 - acc: 0.9577 - val_loss: 0.1572 - val_acc: 0.9265\n",
      "Epoch 80/200\n",
      "9/9 [==============================] - 0s 4ms/step - loss: 0.1223 - acc: 0.9651 - val_loss: 0.1762 - val_acc: 0.9338\n",
      "Epoch 81/200\n",
      "9/9 [==============================] - 0s 4ms/step - loss: 0.1195 - acc: 0.9614 - val_loss: 0.1510 - val_acc: 0.9338\n",
      "Epoch 82/200\n",
      "9/9 [==============================] - 0s 4ms/step - loss: 0.1144 - acc: 0.9688 - val_loss: 0.1507 - val_acc: 0.9412\n",
      "Epoch 83/200\n",
      "9/9 [==============================] - 0s 9ms/step - loss: 0.1152 - acc: 0.9651 - val_loss: 0.1467 - val_acc: 0.9559\n",
      "Epoch 84/200\n",
      "9/9 [==============================] - 0s 4ms/step - loss: 0.1156 - acc: 0.9669 - val_loss: 0.1480 - val_acc: 0.9338\n",
      "Epoch 85/200\n",
      "9/9 [==============================] - 0s 4ms/step - loss: 0.1125 - acc: 0.9669 - val_loss: 0.1548 - val_acc: 0.9338\n",
      "Epoch 86/200\n",
      "9/9 [==============================] - 0s 10ms/step - loss: 0.1095 - acc: 0.9706 - val_loss: 0.1435 - val_acc: 0.9412\n",
      "Epoch 87/200\n",
      "9/9 [==============================] - 0s 9ms/step - loss: 0.1095 - acc: 0.9688 - val_loss: 0.1387 - val_acc: 0.9485\n",
      "Epoch 88/200\n",
      "9/9 [==============================] - 0s 4ms/step - loss: 0.1074 - acc: 0.9651 - val_loss: 0.2350 - val_acc: 0.9118\n",
      "Epoch 89/200\n",
      "9/9 [==============================] - 0s 4ms/step - loss: 0.1354 - acc: 0.9540 - val_loss: 0.1574 - val_acc: 0.9338\n",
      "Epoch 90/200\n",
      "9/9 [==============================] - 0s 10ms/step - loss: 0.1164 - acc: 0.9614 - val_loss: 0.1362 - val_acc: 0.9485\n",
      "Epoch 91/200\n",
      "9/9 [==============================] - 0s 4ms/step - loss: 0.1080 - acc: 0.9632 - val_loss: 0.1468 - val_acc: 0.9338\n",
      "Epoch 92/200\n",
      "9/9 [==============================] - 0s 8ms/step - loss: 0.1024 - acc: 0.9706 - val_loss: 0.1357 - val_acc: 0.9412\n",
      "Epoch 93/200\n",
      "9/9 [==============================] - 0s 4ms/step - loss: 0.1009 - acc: 0.9724 - val_loss: 0.1429 - val_acc: 0.9338\n",
      "Epoch 94/200\n",
      "9/9 [==============================] - 0s 8ms/step - loss: 0.1003 - acc: 0.9761 - val_loss: 0.1336 - val_acc: 0.9412\n",
      "Epoch 95/200\n",
      "9/9 [==============================] - 0s 8ms/step - loss: 0.1002 - acc: 0.9669 - val_loss: 0.1291 - val_acc: 0.9485\n",
      "Epoch 96/200\n",
      "9/9 [==============================] - 0s 4ms/step - loss: 0.0994 - acc: 0.9706 - val_loss: 0.1550 - val_acc: 0.9338\n",
      "Epoch 97/200\n",
      "9/9 [==============================] - 0s 4ms/step - loss: 0.0960 - acc: 0.9724 - val_loss: 0.1301 - val_acc: 0.9559\n",
      "Epoch 98/200\n",
      "9/9 [==============================] - 0s 4ms/step - loss: 0.0941 - acc: 0.9743 - val_loss: 0.1501 - val_acc: 0.9338\n",
      "Epoch 99/200\n",
      "9/9 [==============================] - 0s 4ms/step - loss: 0.1028 - acc: 0.9669 - val_loss: 0.1536 - val_acc: 0.9338\n",
      "Epoch 100/200\n",
      "9/9 [==============================] - 0s 4ms/step - loss: 0.0946 - acc: 0.9688 - val_loss: 0.1374 - val_acc: 0.9338\n",
      "Epoch 101/200\n",
      "9/9 [==============================] - 0s 9ms/step - loss: 0.0937 - acc: 0.9724 - val_loss: 0.1231 - val_acc: 0.9559\n",
      "Epoch 102/200\n",
      "9/9 [==============================] - 0s 8ms/step - loss: 0.0954 - acc: 0.9669 - val_loss: 0.1227 - val_acc: 0.9485\n",
      "Epoch 103/200\n",
      "9/9 [==============================] - 0s 4ms/step - loss: 0.0982 - acc: 0.9632 - val_loss: 0.2039 - val_acc: 0.9338\n",
      "Epoch 104/200\n",
      "9/9 [==============================] - 0s 4ms/step - loss: 0.1021 - acc: 0.9669 - val_loss: 0.1417 - val_acc: 0.9338\n",
      "Epoch 105/200\n",
      "9/9 [==============================] - 0s 9ms/step - loss: 0.0921 - acc: 0.9651 - val_loss: 0.1190 - val_acc: 0.9559\n",
      "Epoch 106/200\n",
      "9/9 [==============================] - 0s 4ms/step - loss: 0.0954 - acc: 0.9724 - val_loss: 0.1215 - val_acc: 0.9559\n",
      "Epoch 107/200\n",
      "9/9 [==============================] - 0s 4ms/step - loss: 0.0893 - acc: 0.9761 - val_loss: 0.1437 - val_acc: 0.9338\n",
      "Epoch 108/200\n",
      "9/9 [==============================] - 0s 4ms/step - loss: 0.0889 - acc: 0.9724 - val_loss: 0.1336 - val_acc: 0.9338\n",
      "Epoch 109/200\n",
      "9/9 [==============================] - 0s 10ms/step - loss: 0.0913 - acc: 0.9688 - val_loss: 0.1153 - val_acc: 0.9559\n",
      "Epoch 110/200\n",
      "9/9 [==============================] - 0s 4ms/step - loss: 0.0905 - acc: 0.9669 - val_loss: 0.1224 - val_acc: 0.9412\n",
      "Epoch 111/200\n",
      "9/9 [==============================] - 0s 4ms/step - loss: 0.0923 - acc: 0.9688 - val_loss: 0.1432 - val_acc: 0.9338\n",
      "Epoch 112/200\n",
      "9/9 [==============================] - 0s 4ms/step - loss: 0.0871 - acc: 0.9688 - val_loss: 0.1362 - val_acc: 0.9338\n",
      "Epoch 113/200\n",
      "9/9 [==============================] - 0s 4ms/step - loss: 0.0823 - acc: 0.9743 - val_loss: 0.1189 - val_acc: 0.9412\n",
      "Epoch 114/200\n",
      "9/9 [==============================] - 0s 9ms/step - loss: 0.0851 - acc: 0.9761 - val_loss: 0.1132 - val_acc: 0.9559\n",
      "Epoch 115/200\n",
      "9/9 [==============================] - 0s 5ms/step - loss: 0.0848 - acc: 0.9743 - val_loss: 0.1172 - val_acc: 0.9412\n",
      "Epoch 116/200\n",
      "9/9 [==============================] - 0s 4ms/step - loss: 0.0825 - acc: 0.9743 - val_loss: 0.1203 - val_acc: 0.9338\n",
      "Epoch 117/200\n",
      "9/9 [==============================] - 0s 4ms/step - loss: 0.0843 - acc: 0.9761 - val_loss: 0.1813 - val_acc: 0.9265\n",
      "Epoch 118/200\n",
      "9/9 [==============================] - 0s 9ms/step - loss: 0.0883 - acc: 0.9669 - val_loss: 0.1118 - val_acc: 0.9559\n",
      "Epoch 119/200\n",
      "9/9 [==============================] - 0s 4ms/step - loss: 0.1021 - acc: 0.9632 - val_loss: 0.1164 - val_acc: 0.9412\n",
      "Epoch 120/200\n",
      "9/9 [==============================] - 0s 8ms/step - loss: 0.0903 - acc: 0.9688 - val_loss: 0.1103 - val_acc: 0.9632\n",
      "Epoch 121/200\n",
      "9/9 [==============================] - 0s 4ms/step - loss: 0.0884 - acc: 0.9743 - val_loss: 0.1271 - val_acc: 0.9338\n",
      "Epoch 122/200\n",
      "9/9 [==============================] - 0s 4ms/step - loss: 0.0818 - acc: 0.9743 - val_loss: 0.1603 - val_acc: 0.9265\n",
      "Epoch 123/200\n",
      "9/9 [==============================] - 0s 4ms/step - loss: 0.0867 - acc: 0.9743 - val_loss: 0.1385 - val_acc: 0.9338\n",
      "Epoch 124/200\n",
      "9/9 [==============================] - 0s 4ms/step - loss: 0.0835 - acc: 0.9743 - val_loss: 0.1110 - val_acc: 0.9485\n",
      "Epoch 125/200\n",
      "9/9 [==============================] - 0s 4ms/step - loss: 0.0745 - acc: 0.9761 - val_loss: 0.1406 - val_acc: 0.9412\n",
      "Epoch 126/200\n",
      "9/9 [==============================] - 0s 4ms/step - loss: 0.0802 - acc: 0.9761 - val_loss: 0.1211 - val_acc: 0.9338\n",
      "Epoch 127/200\n",
      "9/9 [==============================] - 0s 9ms/step - loss: 0.0776 - acc: 0.9743 - val_loss: 0.1082 - val_acc: 0.9559\n",
      "Epoch 128/200\n",
      "9/9 [==============================] - 0s 4ms/step - loss: 0.0731 - acc: 0.9798 - val_loss: 0.1143 - val_acc: 0.9338\n",
      "Epoch 129/200\n",
      "9/9 [==============================] - 0s 4ms/step - loss: 0.0744 - acc: 0.9761 - val_loss: 0.1513 - val_acc: 0.9265\n",
      "Epoch 130/200\n",
      "9/9 [==============================] - 0s 9ms/step - loss: 0.0695 - acc: 0.9798 - val_loss: 0.1060 - val_acc: 0.9485\n",
      "Epoch 131/200\n",
      "9/9 [==============================] - 0s 4ms/step - loss: 0.0799 - acc: 0.9706 - val_loss: 0.1112 - val_acc: 0.9338\n",
      "Epoch 132/200\n",
      "9/9 [==============================] - 0s 4ms/step - loss: 0.0917 - acc: 0.9706 - val_loss: 0.2585 - val_acc: 0.9044\n",
      "Epoch 133/200\n",
      "9/9 [==============================] - 0s 4ms/step - loss: 0.0982 - acc: 0.9688 - val_loss: 0.1223 - val_acc: 0.9338\n",
      "Epoch 134/200\n",
      "9/9 [==============================] - 0s 4ms/step - loss: 0.0808 - acc: 0.9743 - val_loss: 0.1074 - val_acc: 0.9485\n",
      "Epoch 135/200\n",
      "9/9 [==============================] - 0s 4ms/step - loss: 0.0812 - acc: 0.9724 - val_loss: 0.1220 - val_acc: 0.9338\n",
      "Epoch 136/200\n",
      "9/9 [==============================] - 0s 4ms/step - loss: 0.0746 - acc: 0.9724 - val_loss: 0.1399 - val_acc: 0.9412\n",
      "Epoch 137/200\n",
      "9/9 [==============================] - 0s 4ms/step - loss: 0.0720 - acc: 0.9761 - val_loss: 0.1195 - val_acc: 0.9338\n",
      "Epoch 138/200\n",
      "9/9 [==============================] - 0s 9ms/step - loss: 0.0684 - acc: 0.9816 - val_loss: 0.1005 - val_acc: 0.9706\n",
      "Epoch 139/200\n",
      "9/9 [==============================] - 0s 4ms/step - loss: 0.0717 - acc: 0.9798 - val_loss: 0.1080 - val_acc: 0.9338\n",
      "Epoch 140/200\n",
      "9/9 [==============================] - 0s 4ms/step - loss: 0.0653 - acc: 0.9798 - val_loss: 0.1301 - val_acc: 0.9412\n",
      "Epoch 141/200\n",
      "9/9 [==============================] - 0s 9ms/step - loss: 0.0703 - acc: 0.9743 - val_loss: 0.1004 - val_acc: 0.9706\n",
      "Epoch 142/200\n",
      "9/9 [==============================] - 0s 4ms/step - loss: 0.0673 - acc: 0.9743 - val_loss: 0.1133 - val_acc: 0.9338\n",
      "Epoch 143/200\n",
      "9/9 [==============================] - 0s 4ms/step - loss: 0.0646 - acc: 0.9798 - val_loss: 0.1300 - val_acc: 0.9412\n",
      "Epoch 144/200\n",
      "9/9 [==============================] - 0s 4ms/step - loss: 0.0685 - acc: 0.9798 - val_loss: 0.1320 - val_acc: 0.9338\n",
      "Epoch 145/200\n",
      "9/9 [==============================] - 0s 4ms/step - loss: 0.0699 - acc: 0.9816 - val_loss: 0.1016 - val_acc: 0.9559\n",
      "Epoch 146/200\n",
      "9/9 [==============================] - 0s 4ms/step - loss: 0.0673 - acc: 0.9761 - val_loss: 0.1023 - val_acc: 0.9559\n",
      "Epoch 147/200\n",
      "9/9 [==============================] - 0s 4ms/step - loss: 0.0765 - acc: 0.9724 - val_loss: 0.1761 - val_acc: 0.9265\n",
      "Epoch 148/200\n",
      "9/9 [==============================] - 0s 10ms/step - loss: 0.0657 - acc: 0.9816 - val_loss: 0.0992 - val_acc: 0.9559\n",
      "Epoch 149/200\n",
      "9/9 [==============================] - 0s 5ms/step - loss: 0.0617 - acc: 0.9816 - val_loss: 0.1324 - val_acc: 0.9338\n",
      "Epoch 150/200\n",
      "9/9 [==============================] - 0s 4ms/step - loss: 0.0658 - acc: 0.9779 - val_loss: 0.1216 - val_acc: 0.9338\n",
      "Epoch 151/200\n",
      "9/9 [==============================] - 0s 9ms/step - loss: 0.0612 - acc: 0.9816 - val_loss: 0.0955 - val_acc: 0.9706\n",
      "Epoch 152/200\n",
      "9/9 [==============================] - 0s 4ms/step - loss: 0.0654 - acc: 0.9779 - val_loss: 0.1000 - val_acc: 0.9559\n",
      "Epoch 153/200\n",
      "9/9 [==============================] - 0s 4ms/step - loss: 0.0636 - acc: 0.9835 - val_loss: 0.1044 - val_acc: 0.9412\n",
      "Epoch 154/200\n",
      "9/9 [==============================] - 0s 5ms/step - loss: 0.0726 - acc: 0.9743 - val_loss: 0.2010 - val_acc: 0.9265\n",
      "Epoch 155/200\n",
      "9/9 [==============================] - 0s 4ms/step - loss: 0.0722 - acc: 0.9743 - val_loss: 0.1067 - val_acc: 0.9338\n",
      "Epoch 156/200\n",
      "9/9 [==============================] - 0s 4ms/step - loss: 0.0584 - acc: 0.9816 - val_loss: 0.1221 - val_acc: 0.9338\n",
      "Epoch 157/200\n",
      "9/9 [==============================] - 0s 4ms/step - loss: 0.0600 - acc: 0.9779 - val_loss: 0.1137 - val_acc: 0.9412\n",
      "Epoch 158/200\n",
      "9/9 [==============================] - 0s 4ms/step - loss: 0.0604 - acc: 0.9798 - val_loss: 0.1084 - val_acc: 0.9412\n",
      "Epoch 159/200\n",
      "9/9 [==============================] - 0s 4ms/step - loss: 0.0601 - acc: 0.9835 - val_loss: 0.0968 - val_acc: 0.9559\n",
      "Epoch 160/200\n",
      "9/9 [==============================] - 0s 4ms/step - loss: 0.0593 - acc: 0.9816 - val_loss: 0.1055 - val_acc: 0.9338\n",
      "Epoch 161/200\n",
      "9/9 [==============================] - 0s 4ms/step - loss: 0.0565 - acc: 0.9871 - val_loss: 0.1337 - val_acc: 0.9338\n",
      "Epoch 162/200\n",
      "9/9 [==============================] - 0s 6ms/step - loss: 0.0589 - acc: 0.9798 - val_loss: 0.1025 - val_acc: 0.9338\n",
      "Epoch 163/200\n",
      "9/9 [==============================] - 0s 5ms/step - loss: 0.0592 - acc: 0.9835 - val_loss: 0.1230 - val_acc: 0.9338\n",
      "Epoch 164/200\n",
      "9/9 [==============================] - 0s 10ms/step - loss: 0.0585 - acc: 0.9816 - val_loss: 0.0950 - val_acc: 0.9559\n",
      "Epoch 165/200\n",
      "9/9 [==============================] - 0s 10ms/step - loss: 0.0582 - acc: 0.9798 - val_loss: 0.0923 - val_acc: 0.9632\n",
      "Epoch 166/200\n",
      "9/9 [==============================] - 0s 4ms/step - loss: 0.0573 - acc: 0.9798 - val_loss: 0.1226 - val_acc: 0.9338\n",
      "Epoch 167/200\n",
      "9/9 [==============================] - 0s 4ms/step - loss: 0.0568 - acc: 0.9835 - val_loss: 0.1143 - val_acc: 0.9338\n",
      "Epoch 168/200\n",
      "9/9 [==============================] - 0s 4ms/step - loss: 0.0599 - acc: 0.9779 - val_loss: 0.0976 - val_acc: 0.9485\n",
      "Epoch 169/200\n",
      "9/9 [==============================] - 0s 8ms/step - loss: 0.0593 - acc: 0.9779 - val_loss: 0.0917 - val_acc: 0.9779\n",
      "Epoch 170/200\n",
      "9/9 [==============================] - 0s 4ms/step - loss: 0.0687 - acc: 0.9743 - val_loss: 0.1103 - val_acc: 0.9338\n",
      "Epoch 171/200\n",
      "9/9 [==============================] - 0s 4ms/step - loss: 0.0662 - acc: 0.9816 - val_loss: 0.2535 - val_acc: 0.9118\n",
      "Epoch 172/200\n",
      "9/9 [==============================] - 0s 4ms/step - loss: 0.0867 - acc: 0.9614 - val_loss: 0.0945 - val_acc: 0.9632\n",
      "Epoch 173/200\n",
      "9/9 [==============================] - 0s 4ms/step - loss: 0.0571 - acc: 0.9853 - val_loss: 0.0932 - val_acc: 0.9632\n",
      "Epoch 174/200\n",
      "9/9 [==============================] - 0s 4ms/step - loss: 0.0566 - acc: 0.9816 - val_loss: 0.1276 - val_acc: 0.9338\n",
      "Epoch 175/200\n",
      "9/9 [==============================] - 0s 4ms/step - loss: 0.0586 - acc: 0.9835 - val_loss: 0.1203 - val_acc: 0.9338\n",
      "Epoch 176/200\n",
      "9/9 [==============================] - 0s 4ms/step - loss: 0.0531 - acc: 0.9835 - val_loss: 0.1066 - val_acc: 0.9338\n",
      "Epoch 177/200\n",
      "9/9 [==============================] - 0s 9ms/step - loss: 0.0511 - acc: 0.9853 - val_loss: 0.0868 - val_acc: 0.9779\n",
      "Epoch 178/200\n",
      "9/9 [==============================] - 0s 4ms/step - loss: 0.0574 - acc: 0.9816 - val_loss: 0.1629 - val_acc: 0.9265\n",
      "Epoch 179/200\n",
      "9/9 [==============================] - 0s 4ms/step - loss: 0.0622 - acc: 0.9761 - val_loss: 0.0882 - val_acc: 0.9632\n",
      "Epoch 180/200\n",
      "9/9 [==============================] - 0s 4ms/step - loss: 0.0694 - acc: 0.9743 - val_loss: 0.0979 - val_acc: 0.9559\n",
      "Epoch 181/200\n",
      "9/9 [==============================] - 0s 4ms/step - loss: 0.0613 - acc: 0.9798 - val_loss: 0.1579 - val_acc: 0.9265\n",
      "Epoch 182/200\n",
      "9/9 [==============================] - 0s 4ms/step - loss: 0.0568 - acc: 0.9798 - val_loss: 0.0998 - val_acc: 0.9412\n",
      "Epoch 183/200\n",
      "9/9 [==============================] - 0s 4ms/step - loss: 0.0504 - acc: 0.9816 - val_loss: 0.1117 - val_acc: 0.9338\n",
      "Epoch 184/200\n",
      "9/9 [==============================] - 0s 4ms/step - loss: 0.0523 - acc: 0.9853 - val_loss: 0.0996 - val_acc: 0.9338\n",
      "Epoch 185/200\n",
      "9/9 [==============================] - 0s 4ms/step - loss: 0.0492 - acc: 0.9853 - val_loss: 0.0894 - val_acc: 0.9706\n",
      "Epoch 186/200\n",
      "9/9 [==============================] - 0s 4ms/step - loss: 0.0548 - acc: 0.9798 - val_loss: 0.0920 - val_acc: 0.9559\n",
      "Epoch 187/200\n",
      "9/9 [==============================] - 0s 4ms/step - loss: 0.0568 - acc: 0.9816 - val_loss: 0.1139 - val_acc: 0.9338\n",
      "Epoch 188/200\n",
      "9/9 [==============================] - 0s 4ms/step - loss: 0.0529 - acc: 0.9835 - val_loss: 0.1460 - val_acc: 0.9338\n",
      "Epoch 189/200\n",
      "9/9 [==============================] - 0s 4ms/step - loss: 0.0566 - acc: 0.9871 - val_loss: 0.0959 - val_acc: 0.9412\n",
      "Epoch 190/200\n",
      "9/9 [==============================] - 0s 4ms/step - loss: 0.0487 - acc: 0.9835 - val_loss: 0.0935 - val_acc: 0.9559\n",
      "Epoch 191/200\n",
      "9/9 [==============================] - 0s 4ms/step - loss: 0.0480 - acc: 0.9835 - val_loss: 0.1150 - val_acc: 0.9265\n",
      "Epoch 192/200\n",
      "9/9 [==============================] - 0s 4ms/step - loss: 0.0481 - acc: 0.9890 - val_loss: 0.0944 - val_acc: 0.9559\n",
      "Epoch 193/200\n",
      "9/9 [==============================] - 0s 4ms/step - loss: 0.0459 - acc: 0.9890 - val_loss: 0.0988 - val_acc: 0.9338\n",
      "Epoch 194/200\n",
      "9/9 [==============================] - 0s 4ms/step - loss: 0.0482 - acc: 0.9798 - val_loss: 0.0900 - val_acc: 0.9559\n",
      "Epoch 195/200\n",
      "9/9 [==============================] - 0s 4ms/step - loss: 0.0493 - acc: 0.9853 - val_loss: 0.1361 - val_acc: 0.9338\n",
      "Epoch 196/200\n",
      "9/9 [==============================] - 0s 4ms/step - loss: 0.0551 - acc: 0.9798 - val_loss: 0.0870 - val_acc: 0.9559\n",
      "Epoch 197/200\n",
      "9/9 [==============================] - 0s 4ms/step - loss: 0.0504 - acc: 0.9779 - val_loss: 0.0888 - val_acc: 0.9485\n",
      "Epoch 198/200\n",
      "9/9 [==============================] - 0s 4ms/step - loss: 0.0482 - acc: 0.9853 - val_loss: 0.0882 - val_acc: 0.9559\n",
      "Epoch 199/200\n",
      "9/9 [==============================] - 0s 4ms/step - loss: 0.0451 - acc: 0.9871 - val_loss: 0.0939 - val_acc: 0.9485\n",
      "Epoch 200/200\n",
      "9/9 [==============================] - 0s 4ms/step - loss: 0.0440 - acc: 0.9871 - val_loss: 0.1039 - val_acc: 0.9338\n"
     ]
    }
   ],
   "source": [
    "history2 = model2.fit(X2_train_scaled, y2_train, batch_size = 64, epochs = 200, validation_split = 0.2, callbacks = [model_check_point2])"
   ]
  },
  {
   "cell_type": "code",
   "execution_count": 640,
   "id": "1cd88e81",
   "metadata": {},
   "outputs": [],
   "source": [
    "results = pd.DataFrame(history2.history)"
   ]
  },
  {
   "cell_type": "code",
   "execution_count": 641,
   "id": "89995f11",
   "metadata": {},
   "outputs": [
    {
     "data": {
      "text/plain": [
       "<AxesSubplot:>"
      ]
     },
     "execution_count": 641,
     "metadata": {},
     "output_type": "execute_result"
    },
    {
     "data": {
      "image/png": "[encoded data removed]",
      "text/plain": [
       "<Figure size 640x480 with 1 Axes>"
      ]
     },
     "metadata": {},
     "output_type": "display_data"
    }
   ],
   "source": [
    "results[['loss', 'val_loss']].plot()"
   ]
  },
  {
   "cell_type": "code",
   "execution_count": 642,
   "id": "32be813b",
   "metadata": {},
   "outputs": [],
   "source": [
    "#model2.load_weights(checkpoint_path2)"
   ]
  },
  {
   "cell_type": "code",
   "execution_count": null,
   "id": "a6e13e90",
   "metadata": {},
   "outputs": [],
   "source": []
  },
  {
   "cell_type": "code",
   "execution_count": 643,
   "id": "27f8686c",
   "metadata": {},
   "outputs": [
    {
     "name": "stdout",
     "output_type": "stream",
     "text": [
      "10/10 [==============================] - 0s 886us/step\n",
      "279 of 291 are correct [95.87628865979381%]\n"
     ]
    }
   ],
   "source": [
    "Y2_pred = model2.predict(sc.transform(X2_test))\n",
    "y2_pred = np.argmax(Y2_pred, axis=1)\n",
    "cnt = 0\n",
    "for i, j in zip(y2_test, y2_pred):\n",
    "    if(i ==j ):\n",
    "        cnt = cnt +1\n",
    "print(f'{cnt} of {y2_pred.shape[0]} are correct [{cnt/y2_test.shape[0]*100}%]')"
   ]
  },
  {
   "cell_type": "code",
   "execution_count": 644,
   "id": "d747a8f2",
   "metadata": {},
   "outputs": [],
   "source": [
    "#model2.load_weights(checkpoint_path2)"
   ]
  },
  {
   "cell_type": "code",
   "execution_count": 645,
   "id": "51c1a953",
   "metadata": {},
   "outputs": [
    {
     "name": "stdout",
     "output_type": "stream",
     "text": [
      "10/10 [==============================] - 0s 886us/step\n",
      "279 of 291 are correct [95.87628865979381%]\n"
     ]
    }
   ],
   "source": [
    "Y2_pred = model2.predict(sc.transform(X2_test))\n",
    "y2_pred = np.argmax(Y2_pred, axis=1)\n",
    "cnt = 0\n",
    "for i, j in zip(y2_test, y2_pred):\n",
    "    if(i ==j ):\n",
    "        cnt = cnt +1\n",
    "print(f'{cnt} of {y2_test.shape[0]} are correct [{cnt/y2_test.shape[0]*100}%]')"
   ]
  },
  {
   "cell_type": "code",
   "execution_count": 646,
   "id": "628b64d7",
   "metadata": {},
   "outputs": [],
   "source": [
    "from pickle import dump\n",
    "\n",
    "dump(sc, open('./minmax_scaler.pkl', 'wb'))"
   ]
  },
  {
   "cell_type": "code",
   "execution_count": null,
   "id": "e9207492",
   "metadata": {},
   "outputs": [],
   "source": []
  }
 ],
 "metadata": {
  "kernelspec": {
   "display_name": "Python 3 (ipykernel)",
   "language": "python",
   "name": "python3"
  },
  "language_info": {
   "codemirror_mode": {
    "name": "ipython",
    "version": 3
   },
   "file_extension": ".py",
   "mimetype": "text/x-python",
   "name": "python",
   "nbconvert_exporter": "python",
   "pygments_lexer": "ipython3",
   "version": "3.9.13"
  }
 },
 "nbformat": 4,
 "nbformat_minor": 5
}
