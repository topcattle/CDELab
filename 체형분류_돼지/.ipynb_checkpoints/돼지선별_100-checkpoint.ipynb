{
 "cells": [
  {
   "cell_type": "code",
   "execution_count": 153,
   "id": "d25e1cb2",
   "metadata": {},
   "outputs": [],
   "source": [
    "import pandas as pd\n",
    "import matplotlib.pyplot as plt\n",
    "%matplotlib inline\n",
    "import numpy as np\n",
    "from sklearn.preprocessing import MinMaxScaler\n",
    "from tensorflow.keras.losses import sparse_categorical_crossentropy\n",
    "from tensorflow.keras.optimizers import SGD\n",
    "from keras.utils import np_utils\n",
    "from tensorflow.keras import Sequential, layers, losses, optimizers, models\n",
    "import tensorflow as tf\n",
    "import os\n",
    "from csv import reader\n",
    "os.environ['KMP_DUPLICATE_LIB_OK']='True'"
   ]
  },
  {
   "cell_type": "code",
   "execution_count": 154,
   "id": "59fd2fd1",
   "metadata": {},
   "outputs": [],
   "source": [
    "seed_num = 128\n",
    "import random as python_random\n",
    "np.random.seed(seed_num)\n",
    "python_random.seed(seed_num)\n",
    "tf.random.set_seed(seed_num)"
   ]
  },
  {
   "cell_type": "code",
   "execution_count": 155,
   "id": "789aa6dd",
   "metadata": {},
   "outputs": [],
   "source": [
    "from pickle import load\n",
    "load_minmax_scaler = load(open('./minmax_scaler.pkl', 'rb'))"
   ]
  },
  {
   "cell_type": "code",
   "execution_count": 156,
   "id": "f8d0aca3",
   "metadata": {},
   "outputs": [
    {
     "name": "stdout",
     "output_type": "stream",
     "text": [
      "Model: \"sequential_2\"\n",
      "_________________________________________________________________\n",
      " Layer (type)                Output Shape              Param #   \n",
      "=================================================================\n",
      " dense_10 (Dense)            (None, 38)                1482      \n",
      "                                                                 \n",
      " dense_11 (Dense)            (None, 19)                741       \n",
      "                                                                 \n",
      " dense_12 (Dense)            (None, 19)                380       \n",
      "                                                                 \n",
      " dense_13 (Dense)            (None, 9)                 180       \n",
      "                                                                 \n",
      " dense_14 (Dense)            (None, 3)                 30        \n",
      "                                                                 \n",
      "=================================================================\n",
      "Total params: 2,813\n",
      "Trainable params: 2,813\n",
      "Non-trainable params: 0\n",
      "_________________________________________________________________\n"
     ]
    },
    {
     "data": {
      "text/plain": [
       "<tensorflow.python.training.tracking.util.CheckpointLoadStatus at 0x1f20fd7e6a0>"
      ]
     },
     "execution_count": 156,
     "metadata": {},
     "output_type": "execute_result"
    }
   ],
   "source": [
    "checkpoint_path = './temp2/checkpoint.ckpt'\n",
    "optimizer = optimizers.Adam()\n",
    "model = Sequential()\n",
    "model.add(tf.keras.layers.Dense(38, input_dim =38,activation = 'relu'))\n",
    "model.add(tf.keras.layers.Dense(19,activation = 'relu'))\n",
    "model.add(tf.keras.layers.Dense(19,activation = 'relu'))\n",
    "model.add(tf.keras.layers.Dense(9,activation = 'relu'))\n",
    "model.add(tf.keras.layers.Dense(3,  activation='softmax'))\n",
    "model.compile(\n",
    "    loss=sparse_categorical_crossentropy, \n",
    "    optimizer=optimizer, \n",
    "    metrics=['acc'])\n",
    "model.summary()\n",
    "model.load_weights(checkpoint_path)"
   ]
  },
  {
   "cell_type": "code",
   "execution_count": 157,
   "id": "32e3c44e",
   "metadata": {},
   "outputs": [],
   "source": [
    "excel_data=pd.read_csv('ResultWeight_MainDimension.csv',header=None)"
   ]
  },
  {
   "cell_type": "code",
   "execution_count": 158,
   "id": "4cb70dc1",
   "metadata": {},
   "outputs": [],
   "source": [
    "num_data = excel_data.to_numpy()\n",
    "inx = [1,3,4,5,6,7,8,9,10,11,12,13,14,15,16,18,20,22,24,25,26,27,28,29,30,31,32,33,34,35,36]\n",
    "data1 = num_data[:,inx]"
   ]
  },
  {
   "cell_type": "code",
   "execution_count": 159,
   "id": "ab3a4b7e",
   "metadata": {},
   "outputs": [
    {
     "data": {
      "text/plain": [
       "31"
      ]
     },
     "execution_count": 159,
     "metadata": {},
     "output_type": "execute_result"
    }
   ],
   "source": [
    "len(inx)"
   ]
  },
  {
   "cell_type": "code",
   "execution_count": 160,
   "id": "2c0ea60f",
   "metadata": {
    "scrolled": true
   },
   "outputs": [],
   "source": [
    "폭 = np.average(num_data[:,37:41],axis=1)\n",
    "높이 = np.average(num_data[:,41:45],axis=1)\n",
    "면적 = np.average(num_data[:,49:53],axis=1)\n",
    "둘레 = np.average(num_data[:,53:57],axis=1)\n",
    "\n",
    "면적둘레 = 면적/둘레\n",
    "면적폭 = 면적/폭\n",
    "면적높이 = 면적/높이\n",
    "폭=np.reshape(폭,(num_data.shape[0],1))\n",
    "높이=np.reshape(높이,(num_data.shape[0],1))\n",
    "면적=np.reshape(면적,(num_data.shape[0],1))\n",
    "둘레=np.reshape(둘레,(num_data.shape[0],1))\n",
    "면적둘레=np.reshape(면적둘레,(num_data.shape[0],1))\n",
    "면적폭=np.reshape(면적폭,(num_data.shape[0],1))\n",
    "면적높이=np.reshape(면적높이,(num_data.shape[0],1))"
   ]
  },
  {
   "cell_type": "code",
   "execution_count": 161,
   "id": "7f83a612",
   "metadata": {},
   "outputs": [
    {
     "data": {
      "text/plain": [
       "array([980.01, 428.64, 347.59, 598.48, 160031.48, 1587.94, 355.86, 373.59,\n",
       "       619.81, 632.45, 175869.68, 189565.66, 1613.3, 1655.67, 388.17,\n",
       "       626.65, 202825.1, 1672.26, 381.94, 386.67, 604.5, 623.24,\n",
       "       186301.44, 202817.26, 1622.83, 1674.97, 423.54, 373.74, 590.59,\n",
       "       183721.06, 1644.1, 296.305, 463.41999999999996, 143775.5325,\n",
       "       1238.425, 116.0954700526879, 485.2281686100471, 310.2488725130551,\n",
       "       279, 2], dtype=object)"
      ]
     },
     "execution_count": 161,
     "metadata": {},
     "output_type": "execute_result"
    }
   ],
   "source": [
    "data2 = np.concatenate((data1,폭,높이,면적,둘레,면적둘레,면적폭,면적높이,num_data[:,57:59]),axis=1)\n",
    "data2[0]"
   ]
  },
  {
   "cell_type": "code",
   "execution_count": 162,
   "id": "44256b0b",
   "metadata": {},
   "outputs": [
    {
     "name": "stdout",
     "output_type": "stream",
     "text": [
      "치수_shape = (100, 38)\n",
      "체형_shape = (100,)\n"
     ]
    }
   ],
   "source": [
    "\n",
    "num_data2 = data2\n",
    "\n",
    "돼지파일명 = num_data[0:,0]\n",
    "치수 = num_data2[0:,0:-2]\n",
    "체형 = num_data2[0:,-1].astype('float32')\n",
    "print(f'치수_shape = {치수.shape}\\n체형_shape = {체형.shape}') #35개의 선별 치수 + 둘레, 폭, 높이당 면적"
   ]
  },
  {
   "cell_type": "code",
   "execution_count": null,
   "id": "fd61667f",
   "metadata": {},
   "outputs": [],
   "source": []
  },
  {
   "cell_type": "code",
   "execution_count": 165,
   "id": "86de7579",
   "metadata": {
    "scrolled": true
   },
   "outputs": [
    {
     "name": "stdout",
     "output_type": "stream",
     "text": [
      "4/4 [==============================] - 2s 3ms/step\n"
     ]
    }
   ],
   "source": [
    "result = model.predict(load_minmax_scaler.transform(치수))\n",
    "Results = np.argmax(result,axis =1)\n",
    "Results = Results +1\n",
    "체형[696:] = Results[696:]\n",
    "num_data[697:,-1] = Results[696:]"
   ]
  },
  {
   "cell_type": "code",
   "execution_count": 334,
   "id": "4a252d21",
   "metadata": {},
   "outputs": [
    {
     "name": "stdout",
     "output_type": "stream",
     "text": [
      "acc is 92.46575342465754\n"
     ]
    }
   ],
   "source": [
    "cnt = 0\n",
    "for i in range(치수.shape[0]):\n",
    "    if(Results[i] == 체형[i]):\n",
    "        cnt = cnt +1\n",
    "print(f\"acc is {cnt/치수.shape[0]*100}\")\n"
   ]
  },
  {
   "cell_type": "code",
   "execution_count": 335,
   "id": "8daec074",
   "metadata": {},
   "outputs": [
    {
     "name": "stdout",
     "output_type": "stream",
     "text": [
      "945 of 960 are correct [98.4375%]\n"
     ]
    }
   ],
   "source": [
    "index = []\n",
    "cnt =0\n",
    "for i,m in zip(range(치수.shape[0]),result.max(axis=1)):\n",
    "    if(Results[i] == 체형[i]):\n",
    "        cnt=cnt+1\n",
    "        index.append(i)\n",
    "    else:\n",
    "        if(m < 0.7):\n",
    "            index.append(i)\n",
    "        \n",
    "print(f'{cnt} of {len(index)} are correct [{cnt/len(index)*100}%]')"
   ]
  },
  {
   "cell_type": "code",
   "execution_count": 348,
   "id": "c997922c",
   "metadata": {},
   "outputs": [],
   "source": [
    "np.random.shuffle(index)"
   ]
  },
  {
   "cell_type": "code",
   "execution_count": 379,
   "id": "5e8a583a",
   "metadata": {},
   "outputs": [
    {
     "name": "stdout",
     "output_type": "stream",
     "text": [
      "acc is 97.0\n"
     ]
    }
   ],
   "source": [
    "cnt =0\n",
    "\n",
    "for i in range(100):\n",
    "    if(Results[index][i] == 체형[index][i]):\n",
    "        cnt = cnt +1\n",
    "print(f\"acc is {cnt/100*100}\")"
   ]
  },
  {
   "cell_type": "code",
   "execution_count": 380,
   "id": "5ad5f257",
   "metadata": {},
   "outputs": [],
   "source": [
    "merge = np.concatenate((num_data[1:][index][:100],np.reshape(Results[index][:100],(100,1))),axis =1)"
   ]
  },
  {
   "cell_type": "code",
   "execution_count": 381,
   "id": "314fef4a",
   "metadata": {},
   "outputs": [],
   "source": [
    "TF =[]\n",
    "for i in range(100):\n",
    "    if(merge[i][-1]==merge[i][-2]):\n",
    "        TF.append(\"True\")\n",
    "    else:\n",
    "        TF.append(\"False\")"
   ]
  },
  {
   "cell_type": "code",
   "execution_count": 382,
   "id": "060038cd",
   "metadata": {},
   "outputs": [],
   "source": [
    "TF = np.array(TF)\n",
    "TF = np.reshape(TF,(100,1))"
   ]
  },
  {
   "cell_type": "markdown",
   "id": "55297238",
   "metadata": {},
   "source": [
    "### 측정 데이터 제거"
   ]
  },
  {
   "cell_type": "code",
   "execution_count": 383,
   "id": "2d28867c",
   "metadata": {},
   "outputs": [
    {
     "data": {
      "text/plain": [
       "array([['6143_W229_T0_000000002332999_20210624_08_25_42_301_216.19kg_1.9type_All_03_c1.scd',\n",
       "        2, 2, 'True'],\n",
       "       ['7013_W186_T2_000000007017000_20210527_08_15_42_209.scd', 2.0, 2,\n",
       "        'True'],\n",
       "       ['7011_W185_T1_000000007011000_20210527_08_14_46_240.scd', 1.0, 1,\n",
       "        'True'],\n",
       "       ...,\n",
       "       ['7704_W214_T2_000000007704000_20211007_08_09_53_968_257.30kg_2.4type_Clipped.scd',\n",
       "        2.0, 2, 'True'],\n",
       "       ['6030_W248_T0_000000004944999_20210624_08_25_55_696_265.97kg_3.0type_All_03_c1.scd',\n",
       "        2, 2, 'True'],\n",
       "       ['7248_W171_T0_000000006912000_20210624_08_17_31_956_168.68kg_1.3type_All_03.scd',\n",
       "        1, 1, 'True']], dtype=object)"
      ]
     },
     "execution_count": 383,
     "metadata": {},
     "output_type": "execute_result"
    }
   ],
   "source": [
    "merge = np.concatenate((merge[:,0:1],merge[:,-2:]),axis=1)\n",
    "merge = np.concatenate((merge,TF),axis = 1)\n",
    "merge"
   ]
  },
  {
   "cell_type": "markdown",
   "id": "c046a746",
   "metadata": {},
   "source": [
    "### 엑셀 생성"
   ]
  },
  {
   "cell_type": "code",
   "execution_count": 384,
   "id": "c7a6dc3f",
   "metadata": {},
   "outputs": [],
   "source": [
    "돼지선별 = pd.DataFrame(merge)"
   ]
  },
  {
   "cell_type": "code",
   "execution_count": 385,
   "id": "65960ba4",
   "metadata": {},
   "outputs": [],
   "source": [
    "\n",
    "돼지선별.to_excel('돼지_100.xlsx')"
   ]
  },
  {
   "cell_type": "code",
   "execution_count": null,
   "id": "880347e0",
   "metadata": {},
   "outputs": [],
   "source": []
  }
 ],
 "metadata": {
  "kernelspec": {
   "display_name": "Python 3 (ipykernel)",
   "language": "python",
   "name": "python3"
  },
  "language_info": {
   "codemirror_mode": {
    "name": "ipython",
    "version": 3
   },
   "file_extension": ".py",
   "mimetype": "text/x-python",
   "name": "python",
   "nbconvert_exporter": "python",
   "pygments_lexer": "ipython3",
   "version": "3.9.15"
  }
 },
 "nbformat": 4,
 "nbformat_minor": 5
}
