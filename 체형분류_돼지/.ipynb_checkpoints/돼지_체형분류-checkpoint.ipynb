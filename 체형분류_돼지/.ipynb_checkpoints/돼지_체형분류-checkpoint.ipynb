{
 "cells": [
  {
   "cell_type": "code",
   "execution_count": 1,
   "id": "2b24287b",
   "metadata": {},
   "outputs": [],
   "source": [
    "import pandas as pd\n",
    "import matplotlib.pyplot as plt\n",
    "%matplotlib inline\n",
    "import numpy as np\n",
    "from sklearn.preprocessing import MinMaxScaler\n",
    "from tensorflow.keras.losses import sparse_categorical_crossentropy\n",
    "from tensorflow.keras.optimizers import SGD\n",
    "from keras.utils import np_utils\n",
    "from tensorflow.keras import Sequential, layers, losses, optimizers, models\n",
    "import tensorflow as tf\n",
    "import os\n",
    "os.environ['KMP_DUPLICATE_LIB_OK']='True'"
   ]
  },
  {
   "cell_type": "code",
   "execution_count": 2,
   "id": "f1213675",
   "metadata": {},
   "outputs": [],
   "source": [
    "seed_num = 95\n",
    "import random as python_random\n",
    "np.random.seed(seed_num)\n",
    "python_random.seed(seed_num)\n",
    "tf.random.set_seed(seed_num)"
   ]
  },
  {
   "cell_type": "code",
   "execution_count": null,
   "id": "cb7aca14",
   "metadata": {},
   "outputs": [],
   "source": []
  },
  {
   "cell_type": "code",
   "execution_count": 3,
   "id": "02e8c409",
   "metadata": {},
   "outputs": [],
   "source": [
    "excel_data=pd.read_excel('돼지치수_70마리_1022개.xlsx', sheet_name='체형데이터_1022', header=1)"
   ]
  },
  {
   "cell_type": "code",
   "execution_count": 4,
   "id": "7d162c2c",
   "metadata": {},
   "outputs": [
    {
     "name": "stdout",
     "output_type": "stream",
     "text": [
      "치수_shape = (1022, 38)\n",
      "체형_shape = (1022,)\n"
     ]
    }
   ],
   "source": [
    "num_data = excel_data.to_numpy()\n",
    "Corr = num_data[0,1:]\n",
    "돼지파일명 = num_data[1:,0]\n",
    "치수 = num_data[1:,1:-1]\n",
    "체형 = num_data[1:,-1].astype('float32')\n",
    "print(f'치수_shape = {치수.shape}\\n체형_shape = {체형.shape}') #35개의 선별 치수 + 둘레, 폭, 높이당 면적"
   ]
  },
  {
   "cell_type": "code",
   "execution_count": 5,
   "id": "fa85fc6a",
   "metadata": {},
   "outputs": [
    {
     "data": {
      "text/plain": [
       "\"\\n#---scaler 불러오기---\\nfrom pickle import load\\nload_minmax_scaler = load(open('./minmax_scaler.pkl', 'rb'))\\n\""
      ]
     },
     "execution_count": 5,
     "metadata": {},
     "output_type": "execute_result"
    }
   ],
   "source": [
    "minmax_scaler = MinMaxScaler()\n",
    "minmax_scaler.fit(치수)\n",
    "\n",
    "치수_train, 체형_train, 치수_test, 체형_test = 치수[:696], 체형[:696], 치수[696:], 체형[696:]\n",
    "\n",
    "\n",
    "# ---scaler 저장---\n",
    "from pickle import dump\n",
    "dump(minmax_scaler, open('./minmax_scaler.pkl', 'wb'))\n",
    "\n",
    "'''\n",
    "#---scaler 불러오기---\n",
    "from pickle import load\n",
    "load_minmax_scaler = load(open('./minmax_scaler.pkl', 'rb'))\n",
    "'''"
   ]
  },
  {
   "cell_type": "code",
   "execution_count": 6,
   "id": "0024d07c",
   "metadata": {},
   "outputs": [
    {
     "data": {
      "text/plain": [
       "(326, 38)"
      ]
     },
     "execution_count": 6,
     "metadata": {},
     "output_type": "execute_result"
    }
   ],
   "source": [
    "치수_test.shape"
   ]
  },
  {
   "cell_type": "code",
   "execution_count": 7,
   "id": "93ee45bb",
   "metadata": {},
   "outputs": [],
   "source": [
    "치수_scaled = minmax_scaler.transform(치수_train)"
   ]
  },
  {
   "cell_type": "code",
   "execution_count": 8,
   "id": "2373510b",
   "metadata": {},
   "outputs": [],
   "source": [
    "shuff = np.arange(치수_scaled.shape[0])\n",
    "np.random.shuffle(shuff)\n",
    "shuff_train, shuff_val = shuff[:round(shuff.shape[0]*0.7)], shuff[round(shuff.shape[0]*0.7):]"
   ]
  },
  {
   "cell_type": "markdown",
   "id": "6d04a22d",
   "metadata": {},
   "source": [
    "## 분류모델 생성"
   ]
  },
  {
   "cell_type": "code",
   "execution_count": 9,
   "id": "10a220d5",
   "metadata": {
    "scrolled": true
   },
   "outputs": [
    {
     "name": "stdout",
     "output_type": "stream",
     "text": [
      "Model: \"sequential\"\n",
      "_________________________________________________________________\n",
      " Layer (type)                Output Shape              Param #   \n",
      "=================================================================\n",
      " dense (Dense)               (None, 38)                1482      \n",
      "                                                                 \n",
      " dense_1 (Dense)             (None, 19)                741       \n",
      "                                                                 \n",
      " dense_2 (Dense)             (None, 19)                380       \n",
      "                                                                 \n",
      " dense_3 (Dense)             (None, 9)                 180       \n",
      "                                                                 \n",
      " dense_4 (Dense)             (None, 4)                 40        \n",
      "                                                                 \n",
      "=================================================================\n",
      "Total params: 2,823\n",
      "Trainable params: 2,823\n",
      "Non-trainable params: 0\n",
      "_________________________________________________________________\n"
     ]
    }
   ],
   "source": [
    "checkpoint_path = './temp/checkpoint.ckpt'\n",
    "optimizer = optimizers.Adam()\n",
    "model = Sequential()\n",
    "model_check_point = tf.keras.callbacks.ModelCheckpoint(\n",
    "    filepath = checkpoint_path, monitor='val_loss', verbose=0, save_best_only=True,\n",
    "    save_weights_only=True, mode='auto', save_freq='epoch', options=None)\n",
    "model.add(tf.keras.layers.Dense(38, input_dim =38,activation = 'relu'))\n",
    "model.add(tf.keras.layers.Dense(19,activation = 'relu'))\n",
    "model.add(tf.keras.layers.Dense(19,activation = 'relu'))\n",
    "model.add(tf.keras.layers.Dense(9,activation = 'relu'))\n",
    "model.add(tf.keras.layers.Dense(4,  activation='softmax'))\n",
    "model.compile(\n",
    "    loss=sparse_categorical_crossentropy, \n",
    "    optimizer=optimizer, \n",
    "    metrics=['acc'])\n",
    "model.summary()"
   ]
  },
  {
   "cell_type": "markdown",
   "id": "c1a1f875",
   "metadata": {},
   "source": [
    "## 학습 진행"
   ]
  },
  {
   "cell_type": "code",
   "execution_count": 10,
   "id": "20e26f92",
   "metadata": {},
   "outputs": [
    {
     "name": "stdout",
     "output_type": "stream",
     "text": [
      "Epoch 1/200\n",
      "16/16 [==============================] - 1s 28ms/step - loss: 1.2918 - acc: 0.4497 - val_loss: 1.2268 - val_acc: 0.5885\n",
      "Epoch 2/200\n",
      "16/16 [==============================] - 0s 7ms/step - loss: 1.1503 - acc: 0.6016 - val_loss: 1.0983 - val_acc: 0.5885\n",
      "Epoch 3/200\n",
      "16/16 [==============================] - 0s 7ms/step - loss: 1.0241 - acc: 0.6016 - val_loss: 0.9921 - val_acc: 0.5885\n",
      "Epoch 4/200\n",
      "16/16 [==============================] - 0s 7ms/step - loss: 0.9429 - acc: 0.6016 - val_loss: 0.9373 - val_acc: 0.5885\n",
      "Epoch 5/200\n",
      "16/16 [==============================] - 0s 8ms/step - loss: 0.8856 - acc: 0.6016 - val_loss: 0.8784 - val_acc: 0.5885\n",
      "Epoch 6/200\n",
      "16/16 [==============================] - 0s 7ms/step - loss: 0.8434 - acc: 0.6016 - val_loss: 0.8560 - val_acc: 0.5885\n",
      "Epoch 7/200\n",
      "16/16 [==============================] - 0s 7ms/step - loss: 0.7967 - acc: 0.6016 - val_loss: 0.8032 - val_acc: 0.5885\n",
      "Epoch 8/200\n",
      "16/16 [==============================] - 0s 7ms/step - loss: 0.7561 - acc: 0.6099 - val_loss: 0.7830 - val_acc: 0.5885\n",
      "Epoch 9/200\n",
      "16/16 [==============================] - 0s 8ms/step - loss: 0.7212 - acc: 0.6509 - val_loss: 0.7425 - val_acc: 0.6411\n",
      "Epoch 10/200\n",
      "16/16 [==============================] - 0s 8ms/step - loss: 0.6798 - acc: 0.6715 - val_loss: 0.7303 - val_acc: 0.6364\n",
      "Epoch 11/200\n",
      "16/16 [==============================] - 0s 8ms/step - loss: 0.6357 - acc: 0.6920 - val_loss: 0.7273 - val_acc: 0.6699\n",
      "Epoch 12/200\n",
      "16/16 [==============================] - 0s 8ms/step - loss: 0.6138 - acc: 0.7310 - val_loss: 0.6824 - val_acc: 0.6842\n",
      "Epoch 13/200\n",
      "16/16 [==============================] - 0s 8ms/step - loss: 0.5839 - acc: 0.7228 - val_loss: 0.6722 - val_acc: 0.6794\n",
      "Epoch 14/200\n",
      "16/16 [==============================] - 0s 6ms/step - loss: 0.5811 - acc: 0.7310 - val_loss: 0.7081 - val_acc: 0.6794\n",
      "Epoch 15/200\n",
      "16/16 [==============================] - 0s 6ms/step - loss: 0.5597 - acc: 0.7310 - val_loss: 0.7328 - val_acc: 0.6746\n",
      "Epoch 16/200\n",
      "16/16 [==============================] - 0s 6ms/step - loss: 0.5527 - acc: 0.7556 - val_loss: 0.6811 - val_acc: 0.6986\n",
      "Epoch 17/200\n",
      "16/16 [==============================] - 0s 8ms/step - loss: 0.5250 - acc: 0.7782 - val_loss: 0.6283 - val_acc: 0.6794\n",
      "Epoch 18/200\n",
      "16/16 [==============================] - 0s 8ms/step - loss: 0.5241 - acc: 0.7556 - val_loss: 0.6270 - val_acc: 0.7081\n",
      "Epoch 19/200\n",
      "16/16 [==============================] - 0s 5ms/step - loss: 0.5113 - acc: 0.7762 - val_loss: 0.6310 - val_acc: 0.6890\n",
      "Epoch 20/200\n",
      "16/16 [==============================] - 0s 8ms/step - loss: 0.5191 - acc: 0.7844 - val_loss: 0.6227 - val_acc: 0.7177\n",
      "Epoch 21/200\n",
      "16/16 [==============================] - 0s 6ms/step - loss: 0.5321 - acc: 0.7639 - val_loss: 0.6617 - val_acc: 0.7225\n",
      "Epoch 22/200\n",
      "16/16 [==============================] - 0s 8ms/step - loss: 0.4964 - acc: 0.7741 - val_loss: 0.6141 - val_acc: 0.7416\n",
      "Epoch 23/200\n",
      "16/16 [==============================] - 0s 5ms/step - loss: 0.4868 - acc: 0.7741 - val_loss: 0.6193 - val_acc: 0.7225\n",
      "Epoch 24/200\n",
      "16/16 [==============================] - 0s 5ms/step - loss: 0.4832 - acc: 0.7823 - val_loss: 0.6304 - val_acc: 0.7129\n",
      "Epoch 25/200\n",
      "16/16 [==============================] - 0s 5ms/step - loss: 0.4860 - acc: 0.7782 - val_loss: 0.6400 - val_acc: 0.7225\n",
      "Epoch 26/200\n",
      "16/16 [==============================] - 0s 6ms/step - loss: 0.4769 - acc: 0.7762 - val_loss: 0.6336 - val_acc: 0.7129\n",
      "Epoch 27/200\n",
      "16/16 [==============================] - 0s 8ms/step - loss: 0.4749 - acc: 0.7988 - val_loss: 0.6079 - val_acc: 0.7560\n",
      "Epoch 28/200\n",
      "16/16 [==============================] - 0s 6ms/step - loss: 0.4724 - acc: 0.8070 - val_loss: 0.6305 - val_acc: 0.6986\n",
      "Epoch 29/200\n",
      "16/16 [==============================] - 0s 8ms/step - loss: 0.4738 - acc: 0.7947 - val_loss: 0.5941 - val_acc: 0.7321\n",
      "Epoch 30/200\n",
      "16/16 [==============================] - 0s 5ms/step - loss: 0.4781 - acc: 0.7823 - val_loss: 0.6096 - val_acc: 0.7416\n",
      "Epoch 31/200\n",
      "16/16 [==============================] - 0s 5ms/step - loss: 0.4768 - acc: 0.7844 - val_loss: 0.5944 - val_acc: 0.7368\n",
      "Epoch 32/200\n",
      "16/16 [==============================] - 0s 5ms/step - loss: 0.4599 - acc: 0.7988 - val_loss: 0.5958 - val_acc: 0.7464\n",
      "Epoch 33/200\n",
      "16/16 [==============================] - 0s 8ms/step - loss: 0.4584 - acc: 0.7988 - val_loss: 0.5819 - val_acc: 0.7368\n",
      "Epoch 34/200\n",
      "16/16 [==============================] - 0s 5ms/step - loss: 0.4998 - acc: 0.7762 - val_loss: 0.5826 - val_acc: 0.7416\n",
      "Epoch 35/200\n",
      "16/16 [==============================] - 0s 5ms/step - loss: 0.4707 - acc: 0.7906 - val_loss: 0.5868 - val_acc: 0.7321\n",
      "Epoch 36/200\n",
      "16/16 [==============================] - 0s 5ms/step - loss: 0.4710 - acc: 0.7782 - val_loss: 0.5925 - val_acc: 0.7368\n",
      "Epoch 37/200\n",
      "16/16 [==============================] - 0s 7ms/step - loss: 0.4572 - acc: 0.8090 - val_loss: 0.5794 - val_acc: 0.7368\n",
      "Epoch 38/200\n",
      "16/16 [==============================] - 0s 5ms/step - loss: 0.4539 - acc: 0.8029 - val_loss: 0.5993 - val_acc: 0.7512\n",
      "Epoch 39/200\n",
      "16/16 [==============================] - 0s 8ms/step - loss: 0.4577 - acc: 0.7988 - val_loss: 0.5781 - val_acc: 0.7512\n",
      "Epoch 40/200\n",
      "16/16 [==============================] - 0s 5ms/step - loss: 0.4666 - acc: 0.7967 - val_loss: 0.5979 - val_acc: 0.7608\n",
      "Epoch 41/200\n",
      "16/16 [==============================] - 0s 5ms/step - loss: 0.4507 - acc: 0.8008 - val_loss: 0.5853 - val_acc: 0.7321\n",
      "Epoch 42/200\n",
      "16/16 [==============================] - 0s 5ms/step - loss: 0.4631 - acc: 0.7844 - val_loss: 0.6039 - val_acc: 0.7560\n",
      "Epoch 43/200\n",
      "16/16 [==============================] - 0s 5ms/step - loss: 0.4604 - acc: 0.8111 - val_loss: 0.6437 - val_acc: 0.7033\n",
      "Epoch 44/200\n",
      "16/16 [==============================] - 0s 7ms/step - loss: 0.4669 - acc: 0.8049 - val_loss: 0.5736 - val_acc: 0.7464\n",
      "Epoch 45/200\n",
      "16/16 [==============================] - 0s 5ms/step - loss: 0.4692 - acc: 0.7885 - val_loss: 0.5761 - val_acc: 0.7703\n",
      "Epoch 46/200\n",
      "16/16 [==============================] - 0s 5ms/step - loss: 0.4495 - acc: 0.8029 - val_loss: 0.5769 - val_acc: 0.7273\n",
      "Epoch 47/200\n",
      "16/16 [==============================] - 0s 8ms/step - loss: 0.4603 - acc: 0.7967 - val_loss: 0.5698 - val_acc: 0.7464\n",
      "Epoch 48/200\n",
      "16/16 [==============================] - 0s 8ms/step - loss: 0.4482 - acc: 0.7906 - val_loss: 0.5665 - val_acc: 0.7416\n",
      "Epoch 49/200\n",
      "16/16 [==============================] - 0s 5ms/step - loss: 0.4475 - acc: 0.8049 - val_loss: 0.5687 - val_acc: 0.7560\n",
      "Epoch 50/200\n",
      "16/16 [==============================] - 0s 8ms/step - loss: 0.4425 - acc: 0.7988 - val_loss: 0.5645 - val_acc: 0.7464\n",
      "Epoch 51/200\n",
      "16/16 [==============================] - 0s 5ms/step - loss: 0.4399 - acc: 0.8255 - val_loss: 0.5655 - val_acc: 0.7416\n",
      "Epoch 52/200\n",
      "16/16 [==============================] - 0s 5ms/step - loss: 0.4551 - acc: 0.7988 - val_loss: 0.5660 - val_acc: 0.7464\n",
      "Epoch 53/200\n",
      "16/16 [==============================] - 0s 5ms/step - loss: 0.4424 - acc: 0.8090 - val_loss: 0.5667 - val_acc: 0.7703\n",
      "Epoch 54/200\n",
      "16/16 [==============================] - 0s 5ms/step - loss: 0.4321 - acc: 0.8152 - val_loss: 0.6015 - val_acc: 0.7464\n",
      "Epoch 55/200\n",
      "16/16 [==============================] - 0s 5ms/step - loss: 0.4366 - acc: 0.8234 - val_loss: 0.5682 - val_acc: 0.7799\n",
      "Epoch 56/200\n",
      "16/16 [==============================] - 0s 5ms/step - loss: 0.4410 - acc: 0.8111 - val_loss: 0.5781 - val_acc: 0.7799\n",
      "Epoch 57/200\n",
      "16/16 [==============================] - 0s 5ms/step - loss: 0.4518 - acc: 0.7906 - val_loss: 0.5665 - val_acc: 0.7799\n",
      "Epoch 58/200\n",
      "16/16 [==============================] - 0s 8ms/step - loss: 0.4648 - acc: 0.7885 - val_loss: 0.5540 - val_acc: 0.7512\n",
      "Epoch 59/200\n",
      "16/16 [==============================] - 0s 8ms/step - loss: 0.4592 - acc: 0.7906 - val_loss: 0.5532 - val_acc: 0.7464\n",
      "Epoch 60/200\n",
      "16/16 [==============================] - 0s 6ms/step - loss: 0.4368 - acc: 0.8090 - val_loss: 0.5554 - val_acc: 0.7751\n",
      "Epoch 61/200\n",
      "16/16 [==============================] - 0s 5ms/step - loss: 0.4275 - acc: 0.8214 - val_loss: 0.5824 - val_acc: 0.7177\n",
      "Epoch 62/200\n",
      "16/16 [==============================] - 0s 5ms/step - loss: 0.4498 - acc: 0.8008 - val_loss: 0.5775 - val_acc: 0.7225\n",
      "Epoch 63/200\n"
     ]
    },
    {
     "name": "stdout",
     "output_type": "stream",
     "text": [
      "16/16 [==============================] - 0s 7ms/step - loss: 0.4495 - acc: 0.7967 - val_loss: 0.5511 - val_acc: 0.7464\n",
      "Epoch 64/200\n",
      "16/16 [==============================] - 0s 7ms/step - loss: 0.4255 - acc: 0.8337 - val_loss: 0.5484 - val_acc: 0.7560\n",
      "Epoch 65/200\n",
      "16/16 [==============================] - 0s 5ms/step - loss: 0.4206 - acc: 0.8296 - val_loss: 0.5602 - val_acc: 0.7799\n",
      "Epoch 66/200\n",
      "16/16 [==============================] - 0s 6ms/step - loss: 0.4288 - acc: 0.8172 - val_loss: 0.5940 - val_acc: 0.7608\n",
      "Epoch 67/200\n",
      "16/16 [==============================] - 0s 8ms/step - loss: 0.4226 - acc: 0.8214 - val_loss: 0.5456 - val_acc: 0.7608\n",
      "Epoch 68/200\n",
      "16/16 [==============================] - 0s 7ms/step - loss: 0.4153 - acc: 0.8296 - val_loss: 0.5437 - val_acc: 0.7608\n",
      "Epoch 69/200\n",
      "16/16 [==============================] - 0s 5ms/step - loss: 0.4170 - acc: 0.8337 - val_loss: 0.5775 - val_acc: 0.7656\n",
      "Epoch 70/200\n",
      "16/16 [==============================] - 0s 5ms/step - loss: 0.4326 - acc: 0.8111 - val_loss: 0.5471 - val_acc: 0.7751\n",
      "Epoch 71/200\n",
      "16/16 [==============================] - 0s 7ms/step - loss: 0.4383 - acc: 0.7823 - val_loss: 0.5429 - val_acc: 0.7560\n",
      "Epoch 72/200\n",
      "16/16 [==============================] - 0s 5ms/step - loss: 0.4236 - acc: 0.8193 - val_loss: 0.5485 - val_acc: 0.7847\n",
      "Epoch 73/200\n",
      "16/16 [==============================] - 0s 8ms/step - loss: 0.4115 - acc: 0.8316 - val_loss: 0.5393 - val_acc: 0.7656\n",
      "Epoch 74/200\n",
      "16/16 [==============================] - 0s 6ms/step - loss: 0.4290 - acc: 0.8131 - val_loss: 0.5419 - val_acc: 0.7608\n",
      "Epoch 75/200\n",
      "16/16 [==============================] - 0s 5ms/step - loss: 0.4168 - acc: 0.8111 - val_loss: 0.5484 - val_acc: 0.7895\n",
      "Epoch 76/200\n",
      "16/16 [==============================] - 0s 6ms/step - loss: 0.4037 - acc: 0.8234 - val_loss: 0.5416 - val_acc: 0.7847\n",
      "Epoch 77/200\n",
      "16/16 [==============================] - 0s 8ms/step - loss: 0.4012 - acc: 0.8501 - val_loss: 0.5382 - val_acc: 0.7608\n",
      "Epoch 78/200\n",
      "16/16 [==============================] - 0s 5ms/step - loss: 0.3994 - acc: 0.8337 - val_loss: 0.5513 - val_acc: 0.7895\n",
      "Epoch 79/200\n",
      "16/16 [==============================] - 0s 5ms/step - loss: 0.3951 - acc: 0.8398 - val_loss: 0.5953 - val_acc: 0.7416\n",
      "Epoch 80/200\n",
      "16/16 [==============================] - 0s 6ms/step - loss: 0.3932 - acc: 0.8255 - val_loss: 0.5300 - val_acc: 0.7703\n",
      "Epoch 81/200\n",
      "16/16 [==============================] - 0s 5ms/step - loss: 0.3990 - acc: 0.8480 - val_loss: 0.5324 - val_acc: 0.7703\n",
      "Epoch 82/200\n",
      "16/16 [==============================] - 0s 5ms/step - loss: 0.3934 - acc: 0.8604 - val_loss: 0.5356 - val_acc: 0.7990\n",
      "Epoch 83/200\n",
      "16/16 [==============================] - 0s 5ms/step - loss: 0.3914 - acc: 0.8419 - val_loss: 0.5347 - val_acc: 0.8038\n",
      "Epoch 84/200\n",
      "16/16 [==============================] - 0s 5ms/step - loss: 0.3862 - acc: 0.8665 - val_loss: 0.5472 - val_acc: 0.7847\n",
      "Epoch 85/200\n",
      "16/16 [==============================] - 0s 8ms/step - loss: 0.3810 - acc: 0.8645 - val_loss: 0.5241 - val_acc: 0.7990\n",
      "Epoch 86/200\n",
      "16/16 [==============================] - 0s 5ms/step - loss: 0.3795 - acc: 0.8583 - val_loss: 0.5710 - val_acc: 0.7751\n",
      "Epoch 87/200\n",
      "16/16 [==============================] - 0s 5ms/step - loss: 0.3850 - acc: 0.8398 - val_loss: 0.6368 - val_acc: 0.7081\n",
      "Epoch 88/200\n",
      "16/16 [==============================] - 0s 6ms/step - loss: 0.3980 - acc: 0.8460 - val_loss: 0.5701 - val_acc: 0.7656\n",
      "Epoch 89/200\n",
      "16/16 [==============================] - 0s 6ms/step - loss: 0.3765 - acc: 0.8583 - val_loss: 0.5738 - val_acc: 0.7560\n",
      "Epoch 90/200\n",
      "16/16 [==============================] - 0s 5ms/step - loss: 0.3897 - acc: 0.8357 - val_loss: 0.6274 - val_acc: 0.7081\n",
      "Epoch 91/200\n",
      "16/16 [==============================] - 0s 8ms/step - loss: 0.3634 - acc: 0.8645 - val_loss: 0.5162 - val_acc: 0.7990\n",
      "Epoch 92/200\n",
      "16/16 [==============================] - 0s 6ms/step - loss: 0.3834 - acc: 0.8645 - val_loss: 0.5995 - val_acc: 0.7321\n",
      "Epoch 93/200\n",
      "16/16 [==============================] - 0s 6ms/step - loss: 0.3827 - acc: 0.8460 - val_loss: 0.5473 - val_acc: 0.7990\n",
      "Epoch 94/200\n",
      "16/16 [==============================] - 0s 6ms/step - loss: 0.3708 - acc: 0.8645 - val_loss: 0.5410 - val_acc: 0.7847\n",
      "Epoch 95/200\n",
      "16/16 [==============================] - 0s 8ms/step - loss: 0.3820 - acc: 0.8604 - val_loss: 0.5042 - val_acc: 0.8038\n",
      "Epoch 96/200\n",
      "16/16 [==============================] - 0s 8ms/step - loss: 0.3583 - acc: 0.8768 - val_loss: 0.5040 - val_acc: 0.7847\n",
      "Epoch 97/200\n",
      "16/16 [==============================] - 0s 6ms/step - loss: 0.3746 - acc: 0.8522 - val_loss: 0.5241 - val_acc: 0.7560\n",
      "Epoch 98/200\n",
      "16/16 [==============================] - 0s 9ms/step - loss: 0.3694 - acc: 0.8480 - val_loss: 0.4977 - val_acc: 0.7895\n",
      "Epoch 99/200\n",
      "16/16 [==============================] - 0s 5ms/step - loss: 0.3685 - acc: 0.8501 - val_loss: 0.5354 - val_acc: 0.8038\n",
      "Epoch 100/200\n",
      "16/16 [==============================] - 0s 8ms/step - loss: 0.3735 - acc: 0.8563 - val_loss: 0.4956 - val_acc: 0.7799\n",
      "Epoch 101/200\n",
      "16/16 [==============================] - 0s 6ms/step - loss: 0.3729 - acc: 0.8480 - val_loss: 0.5051 - val_acc: 0.8134\n",
      "Epoch 102/200\n",
      "16/16 [==============================] - 0s 8ms/step - loss: 0.3616 - acc: 0.8522 - val_loss: 0.4922 - val_acc: 0.7895\n",
      "Epoch 103/200\n",
      "16/16 [==============================] - 0s 8ms/step - loss: 0.3475 - acc: 0.8747 - val_loss: 0.4897 - val_acc: 0.7895\n",
      "Epoch 104/200\n",
      "16/16 [==============================] - 0s 5ms/step - loss: 0.3396 - acc: 0.8871 - val_loss: 0.5095 - val_acc: 0.7512\n",
      "Epoch 105/200\n",
      "16/16 [==============================] - 0s 5ms/step - loss: 0.3532 - acc: 0.8665 - val_loss: 0.4929 - val_acc: 0.7799\n",
      "Epoch 106/200\n",
      "16/16 [==============================] - 0s 5ms/step - loss: 0.3479 - acc: 0.8747 - val_loss: 0.4977 - val_acc: 0.7416\n",
      "Epoch 107/200\n",
      "16/16 [==============================] - 0s 5ms/step - loss: 0.3347 - acc: 0.8789 - val_loss: 0.4959 - val_acc: 0.8086\n",
      "Epoch 108/200\n",
      "16/16 [==============================] - 0s 7ms/step - loss: 0.3283 - acc: 0.8768 - val_loss: 0.4882 - val_acc: 0.7608\n",
      "Epoch 109/200\n",
      "16/16 [==============================] - 0s 5ms/step - loss: 0.3269 - acc: 0.8747 - val_loss: 0.5139 - val_acc: 0.8086\n",
      "Epoch 110/200\n",
      "16/16 [==============================] - 0s 7ms/step - loss: 0.3459 - acc: 0.8665 - val_loss: 0.4834 - val_acc: 0.7847\n",
      "Epoch 111/200\n",
      "16/16 [==============================] - 0s 4ms/step - loss: 0.3258 - acc: 0.8830 - val_loss: 0.4858 - val_acc: 0.8134\n",
      "Epoch 112/200\n",
      "16/16 [==============================] - 0s 4ms/step - loss: 0.3302 - acc: 0.8789 - val_loss: 0.4835 - val_acc: 0.7703\n",
      "Epoch 113/200\n",
      "16/16 [==============================] - 0s 4ms/step - loss: 0.3193 - acc: 0.8809 - val_loss: 0.4834 - val_acc: 0.7895\n",
      "Epoch 114/200\n",
      "16/16 [==============================] - 0s 5ms/step - loss: 0.3344 - acc: 0.8706 - val_loss: 0.4930 - val_acc: 0.8230\n",
      "Epoch 115/200\n",
      "16/16 [==============================] - 0s 5ms/step - loss: 0.3362 - acc: 0.8522 - val_loss: 0.4992 - val_acc: 0.8134\n",
      "Epoch 116/200\n",
      "16/16 [==============================] - 0s 5ms/step - loss: 0.3281 - acc: 0.8727 - val_loss: 0.5149 - val_acc: 0.7895\n",
      "Epoch 117/200\n",
      "16/16 [==============================] - 0s 7ms/step - loss: 0.3102 - acc: 0.8809 - val_loss: 0.4757 - val_acc: 0.8086\n",
      "Epoch 118/200\n",
      "16/16 [==============================] - 0s 5ms/step - loss: 0.3295 - acc: 0.8583 - val_loss: 0.5016 - val_acc: 0.7512\n",
      "Epoch 119/200\n",
      "16/16 [==============================] - 0s 5ms/step - loss: 0.3249 - acc: 0.8645 - val_loss: 0.5128 - val_acc: 0.7990\n",
      "Epoch 120/200\n",
      "16/16 [==============================] - 0s 5ms/step - loss: 0.3067 - acc: 0.8789 - val_loss: 0.5128 - val_acc: 0.8182\n",
      "Epoch 121/200\n",
      "16/16 [==============================] - 0s 5ms/step - loss: 0.3257 - acc: 0.8686 - val_loss: 0.4783 - val_acc: 0.7751\n",
      "Epoch 122/200\n",
      "16/16 [==============================] - 0s 5ms/step - loss: 0.3182 - acc: 0.8747 - val_loss: 0.4868 - val_acc: 0.8182\n",
      "Epoch 123/200\n",
      "16/16 [==============================] - 0s 7ms/step - loss: 0.3073 - acc: 0.8645 - val_loss: 0.4682 - val_acc: 0.8230\n",
      "Epoch 124/200\n",
      "16/16 [==============================] - 0s 5ms/step - loss: 0.2963 - acc: 0.8850 - val_loss: 0.4682 - val_acc: 0.7990\n"
     ]
    },
    {
     "name": "stdout",
     "output_type": "stream",
     "text": [
      "Epoch 125/200\n",
      "16/16 [==============================] - 0s 7ms/step - loss: 0.2998 - acc: 0.8809 - val_loss: 0.4677 - val_acc: 0.8134\n",
      "Epoch 126/200\n",
      "16/16 [==============================] - 0s 5ms/step - loss: 0.3110 - acc: 0.8768 - val_loss: 0.4696 - val_acc: 0.7560\n",
      "Epoch 127/200\n",
      "16/16 [==============================] - 0s 7ms/step - loss: 0.3026 - acc: 0.8665 - val_loss: 0.4639 - val_acc: 0.8134\n",
      "Epoch 128/200\n",
      "16/16 [==============================] - 0s 5ms/step - loss: 0.3055 - acc: 0.8665 - val_loss: 0.5350 - val_acc: 0.8038\n",
      "Epoch 129/200\n",
      "16/16 [==============================] - 0s 5ms/step - loss: 0.2966 - acc: 0.8891 - val_loss: 0.4839 - val_acc: 0.8038\n",
      "Epoch 130/200\n",
      "16/16 [==============================] - 0s 6ms/step - loss: 0.3064 - acc: 0.8747 - val_loss: 0.4952 - val_acc: 0.7560\n",
      "Epoch 131/200\n",
      "16/16 [==============================] - 0s 7ms/step - loss: 0.2917 - acc: 0.8789 - val_loss: 0.4520 - val_acc: 0.7895\n",
      "Epoch 132/200\n",
      "16/16 [==============================] - 0s 7ms/step - loss: 0.3069 - acc: 0.8768 - val_loss: 0.4480 - val_acc: 0.7990\n",
      "Epoch 133/200\n",
      "16/16 [==============================] - 0s 5ms/step - loss: 0.3160 - acc: 0.8727 - val_loss: 0.4569 - val_acc: 0.7847\n",
      "Epoch 134/200\n",
      "16/16 [==============================] - 0s 5ms/step - loss: 0.3319 - acc: 0.8522 - val_loss: 0.4932 - val_acc: 0.7608\n",
      "Epoch 135/200\n",
      "16/16 [==============================] - 0s 5ms/step - loss: 0.3228 - acc: 0.8604 - val_loss: 0.4796 - val_acc: 0.7608\n",
      "Epoch 136/200\n",
      "16/16 [==============================] - 0s 5ms/step - loss: 0.2871 - acc: 0.8953 - val_loss: 0.4684 - val_acc: 0.8182\n",
      "Epoch 137/200\n",
      "16/16 [==============================] - 0s 5ms/step - loss: 0.2833 - acc: 0.8953 - val_loss: 0.4505 - val_acc: 0.8134\n",
      "Epoch 138/200\n",
      "16/16 [==============================] - 0s 5ms/step - loss: 0.2816 - acc: 0.8932 - val_loss: 0.4608 - val_acc: 0.7799\n",
      "Epoch 139/200\n",
      "16/16 [==============================] - 0s 4ms/step - loss: 0.2865 - acc: 0.8768 - val_loss: 0.4562 - val_acc: 0.7799\n",
      "Epoch 140/200\n",
      "16/16 [==============================] - 0s 5ms/step - loss: 0.2891 - acc: 0.8912 - val_loss: 0.4644 - val_acc: 0.7751\n",
      "Epoch 141/200\n",
      "16/16 [==============================] - 0s 4ms/step - loss: 0.2839 - acc: 0.8871 - val_loss: 0.4510 - val_acc: 0.7895\n",
      "Epoch 142/200\n",
      "16/16 [==============================] - 0s 4ms/step - loss: 0.2770 - acc: 0.8953 - val_loss: 0.4617 - val_acc: 0.7895\n",
      "Epoch 143/200\n",
      "16/16 [==============================] - 0s 6ms/step - loss: 0.2812 - acc: 0.8891 - val_loss: 0.4385 - val_acc: 0.7943\n",
      "Epoch 144/200\n",
      "16/16 [==============================] - 0s 4ms/step - loss: 0.2724 - acc: 0.8850 - val_loss: 0.4431 - val_acc: 0.8038\n",
      "Epoch 145/200\n",
      "16/16 [==============================] - 0s 5ms/step - loss: 0.2800 - acc: 0.8809 - val_loss: 0.4453 - val_acc: 0.7751\n",
      "Epoch 146/200\n",
      "16/16 [==============================] - 0s 5ms/step - loss: 0.2797 - acc: 0.8850 - val_loss: 0.4542 - val_acc: 0.7799\n",
      "Epoch 147/200\n",
      "16/16 [==============================] - 0s 5ms/step - loss: 0.2878 - acc: 0.8747 - val_loss: 0.4390 - val_acc: 0.7895\n",
      "Epoch 148/200\n",
      "16/16 [==============================] - 0s 7ms/step - loss: 0.2768 - acc: 0.8830 - val_loss: 0.4300 - val_acc: 0.7943\n",
      "Epoch 149/200\n",
      "16/16 [==============================] - 0s 5ms/step - loss: 0.2640 - acc: 0.8994 - val_loss: 0.4443 - val_acc: 0.7990\n",
      "Epoch 150/200\n",
      "16/16 [==============================] - 0s 5ms/step - loss: 0.2722 - acc: 0.8830 - val_loss: 0.4341 - val_acc: 0.7943\n",
      "Epoch 151/200\n",
      "16/16 [==============================] - 0s 5ms/step - loss: 0.2643 - acc: 0.8912 - val_loss: 0.4358 - val_acc: 0.7895\n",
      "Epoch 152/200\n",
      "16/16 [==============================] - 0s 4ms/step - loss: 0.2575 - acc: 0.8891 - val_loss: 0.5238 - val_acc: 0.7560\n",
      "Epoch 153/200\n",
      "16/16 [==============================] - 0s 7ms/step - loss: 0.3126 - acc: 0.8706 - val_loss: 0.4222 - val_acc: 0.8086\n",
      "Epoch 154/200\n",
      "16/16 [==============================] - 0s 5ms/step - loss: 0.2581 - acc: 0.8953 - val_loss: 0.4261 - val_acc: 0.8182\n",
      "Epoch 155/200\n",
      "16/16 [==============================] - 0s 5ms/step - loss: 0.2670 - acc: 0.9014 - val_loss: 0.4733 - val_acc: 0.7799\n",
      "Epoch 156/200\n",
      "16/16 [==============================] - 0s 5ms/step - loss: 0.2690 - acc: 0.8953 - val_loss: 0.4671 - val_acc: 0.8182\n",
      "Epoch 157/200\n",
      "16/16 [==============================] - 0s 5ms/step - loss: 0.2631 - acc: 0.8973 - val_loss: 0.4258 - val_acc: 0.8134\n",
      "Epoch 158/200\n",
      "16/16 [==============================] - 0s 5ms/step - loss: 0.2557 - acc: 0.8953 - val_loss: 0.4314 - val_acc: 0.8230\n",
      "Epoch 159/200\n",
      "16/16 [==============================] - 0s 5ms/step - loss: 0.2596 - acc: 0.8912 - val_loss: 0.4384 - val_acc: 0.8230\n",
      "Epoch 160/200\n",
      "16/16 [==============================] - 0s 5ms/step - loss: 0.2678 - acc: 0.8768 - val_loss: 0.4287 - val_acc: 0.7990\n",
      "Epoch 161/200\n",
      "16/16 [==============================] - 0s 5ms/step - loss: 0.2685 - acc: 0.9014 - val_loss: 0.4636 - val_acc: 0.7608\n",
      "Epoch 162/200\n",
      "16/16 [==============================] - 0s 4ms/step - loss: 0.2680 - acc: 0.8830 - val_loss: 0.4471 - val_acc: 0.8278\n",
      "Epoch 163/200\n",
      "16/16 [==============================] - 0s 6ms/step - loss: 0.2623 - acc: 0.8953 - val_loss: 0.4748 - val_acc: 0.8038\n",
      "Epoch 164/200\n",
      "16/16 [==============================] - 0s 5ms/step - loss: 0.2553 - acc: 0.8891 - val_loss: 0.4413 - val_acc: 0.7990\n",
      "Epoch 165/200\n",
      "16/16 [==============================] - 0s 5ms/step - loss: 0.2725 - acc: 0.8789 - val_loss: 0.4307 - val_acc: 0.8038\n",
      "Epoch 166/200\n",
      "16/16 [==============================] - 0s 5ms/step - loss: 0.2791 - acc: 0.8891 - val_loss: 0.4628 - val_acc: 0.8230\n",
      "Epoch 167/200\n",
      "16/16 [==============================] - 0s 8ms/step - loss: 0.2856 - acc: 0.8871 - val_loss: 0.4158 - val_acc: 0.8278\n",
      "Epoch 168/200\n",
      "16/16 [==============================] - 0s 5ms/step - loss: 0.2630 - acc: 0.8932 - val_loss: 0.4593 - val_acc: 0.7751\n",
      "Epoch 169/200\n",
      "16/16 [==============================] - 0s 5ms/step - loss: 0.2562 - acc: 0.8809 - val_loss: 0.4441 - val_acc: 0.7847\n",
      "Epoch 170/200\n",
      "16/16 [==============================] - 0s 5ms/step - loss: 0.2452 - acc: 0.9014 - val_loss: 0.4219 - val_acc: 0.7943\n",
      "Epoch 171/200\n",
      "16/16 [==============================] - 0s 5ms/step - loss: 0.2555 - acc: 0.8871 - val_loss: 0.4207 - val_acc: 0.7943\n",
      "Epoch 172/200\n",
      "16/16 [==============================] - 0s 5ms/step - loss: 0.3153 - acc: 0.8665 - val_loss: 0.4938 - val_acc: 0.7799\n",
      "Epoch 173/200\n",
      "16/16 [==============================] - 0s 7ms/step - loss: 0.2689 - acc: 0.8891 - val_loss: 0.4071 - val_acc: 0.8182\n",
      "Epoch 174/200\n",
      "16/16 [==============================] - 0s 7ms/step - loss: 0.2440 - acc: 0.8973 - val_loss: 0.4070 - val_acc: 0.8038\n",
      "Epoch 175/200\n",
      "16/16 [==============================] - 0s 4ms/step - loss: 0.2467 - acc: 0.8994 - val_loss: 0.4335 - val_acc: 0.7847\n",
      "Epoch 176/200\n",
      "16/16 [==============================] - 0s 5ms/step - loss: 0.2625 - acc: 0.8809 - val_loss: 0.4404 - val_acc: 0.7799\n",
      "Epoch 177/200\n",
      "16/16 [==============================] - 0s 5ms/step - loss: 0.2845 - acc: 0.8665 - val_loss: 0.4163 - val_acc: 0.8086\n",
      "Epoch 178/200\n",
      "16/16 [==============================] - 0s 5ms/step - loss: 0.2543 - acc: 0.8809 - val_loss: 0.4727 - val_acc: 0.8134\n",
      "Epoch 179/200\n",
      "16/16 [==============================] - 0s 5ms/step - loss: 0.2640 - acc: 0.8768 - val_loss: 0.4442 - val_acc: 0.8325\n",
      "Epoch 180/200\n",
      "16/16 [==============================] - 0s 5ms/step - loss: 0.2876 - acc: 0.8789 - val_loss: 0.4150 - val_acc: 0.8086\n",
      "Epoch 181/200\n",
      "16/16 [==============================] - 0s 5ms/step - loss: 0.3161 - acc: 0.8604 - val_loss: 0.4748 - val_acc: 0.8278\n",
      "Epoch 182/200\n",
      "16/16 [==============================] - 0s 5ms/step - loss: 0.2765 - acc: 0.8830 - val_loss: 0.4572 - val_acc: 0.8325\n",
      "Epoch 183/200\n",
      "16/16 [==============================] - 0s 5ms/step - loss: 0.2427 - acc: 0.8891 - val_loss: 0.4183 - val_acc: 0.8230\n",
      "Epoch 184/200\n",
      "16/16 [==============================] - 0s 7ms/step - loss: 0.2265 - acc: 0.9076 - val_loss: 0.3933 - val_acc: 0.8278\n",
      "Epoch 185/200\n",
      "16/16 [==============================] - 0s 4ms/step - loss: 0.2282 - acc: 0.9014 - val_loss: 0.4068 - val_acc: 0.8421\n",
      "Epoch 186/200\n"
     ]
    },
    {
     "name": "stdout",
     "output_type": "stream",
     "text": [
      "16/16 [==============================] - 0s 5ms/step - loss: 0.2414 - acc: 0.8912 - val_loss: 0.4319 - val_acc: 0.8373\n",
      "Epoch 187/200\n",
      "16/16 [==============================] - 0s 4ms/step - loss: 0.2360 - acc: 0.8994 - val_loss: 0.4018 - val_acc: 0.8134\n",
      "Epoch 188/200\n",
      "16/16 [==============================] - 0s 4ms/step - loss: 0.2772 - acc: 0.8809 - val_loss: 0.4757 - val_acc: 0.7799\n",
      "Epoch 189/200\n",
      "16/16 [==============================] - 0s 4ms/step - loss: 0.2398 - acc: 0.8912 - val_loss: 0.4033 - val_acc: 0.8086\n",
      "Epoch 190/200\n",
      "16/16 [==============================] - 0s 4ms/step - loss: 0.2349 - acc: 0.9055 - val_loss: 0.4012 - val_acc: 0.8278\n",
      "Epoch 191/200\n",
      "16/16 [==============================] - 0s 8ms/step - loss: 0.2182 - acc: 0.9220 - val_loss: 0.3775 - val_acc: 0.8469\n",
      "Epoch 192/200\n",
      "16/16 [==============================] - 0s 4ms/step - loss: 0.2255 - acc: 0.9055 - val_loss: 0.3976 - val_acc: 0.8182\n",
      "Epoch 193/200\n",
      "16/16 [==============================] - 0s 5ms/step - loss: 0.2180 - acc: 0.9199 - val_loss: 0.3836 - val_acc: 0.8278\n",
      "Epoch 194/200\n",
      "16/16 [==============================] - 0s 5ms/step - loss: 0.2107 - acc: 0.9138 - val_loss: 0.3879 - val_acc: 0.8373\n",
      "Epoch 195/200\n",
      "16/16 [==============================] - 0s 4ms/step - loss: 0.2188 - acc: 0.9138 - val_loss: 0.3842 - val_acc: 0.8182\n",
      "Epoch 196/200\n",
      "16/16 [==============================] - 0s 5ms/step - loss: 0.2189 - acc: 0.9097 - val_loss: 0.4062 - val_acc: 0.7990\n",
      "Epoch 197/200\n",
      "16/16 [==============================] - 0s 7ms/step - loss: 0.2265 - acc: 0.9055 - val_loss: 0.3736 - val_acc: 0.8469\n",
      "Epoch 198/200\n",
      "16/16 [==============================] - 0s 5ms/step - loss: 0.2124 - acc: 0.9158 - val_loss: 0.3781 - val_acc: 0.8373\n",
      "Epoch 199/200\n",
      "16/16 [==============================] - 0s 5ms/step - loss: 0.2056 - acc: 0.9240 - val_loss: 0.4177 - val_acc: 0.8086\n",
      "Epoch 200/200\n",
      "16/16 [==============================] - 0s 5ms/step - loss: 0.2127 - acc: 0.9138 - val_loss: 0.3865 - val_acc: 0.8230\n"
     ]
    }
   ],
   "source": [
    "history = model.fit(치수_scaled[shuff_train], 체형_train[shuff_train], validation_data=(치수_scaled[shuff_val], 체형_train[shuff_val]), batch_size=32, epochs=200, callbacks = model_check_point)"
   ]
  },
  {
   "cell_type": "code",
   "execution_count": 11,
   "id": "7e3f90b2",
   "metadata": {},
   "outputs": [
    {
     "data": {
      "text/plain": [
       "<AxesSubplot:>"
      ]
     },
     "execution_count": 11,
     "metadata": {},
     "output_type": "execute_result"
    },
    {
     "data": {
      "image/png": "[encoded data removed]",
      "text/plain": [
       "<Figure size 640x480 with 1 Axes>"
      ]
     },
     "metadata": {},
     "output_type": "display_data"
    },
    {
     "data": {
      "image/png": "[encoded data removed]",
      "text/plain": [
       "<Figure size 640x480 with 1 Axes>"
      ]
     },
     "metadata": {},
     "output_type": "display_data"
    }
   ],
   "source": [
    "train_results =  pd.DataFrame(history.history)\n",
    "train_results[['loss','val_loss']].plot()\n",
    "train_results[['acc','val_acc']].plot()"
   ]
  },
  {
   "cell_type": "markdown",
   "id": "ec5afa6d",
   "metadata": {},
   "source": [
    "## 이상치 제거"
   ]
  },
  {
   "cell_type": "code",
   "execution_count": 12,
   "id": "8d1afae1",
   "metadata": {},
   "outputs": [
    {
     "data": {
      "text/plain": [
       "<tensorflow.python.training.tracking.util.CheckpointLoadStatus at 0x282bd93afa0>"
      ]
     },
     "execution_count": 12,
     "metadata": {},
     "output_type": "execute_result"
    }
   ],
   "source": [
    "model.load_weights(checkpoint_path)"
   ]
  },
  {
   "cell_type": "code",
   "execution_count": 13,
   "id": "daeef22a",
   "metadata": {},
   "outputs": [
    {
     "name": "stdout",
     "output_type": "stream",
     "text": [
      "16/16 [==============================] - 0s 3ms/step\n",
      "7/7 [==============================] - 0s 2ms/step\n",
      "학습 데이터:446 of 487 are correct [91.58110882956879%]\n",
      "검증 데이터:177 of 209 are correct [84.688995215311%]\n"
     ]
    }
   ],
   "source": [
    "학습 = model.predict(치수_scaled[shuff_train])\n",
    "검증 = model.predict(치수_scaled[shuff_val])\n",
    "\n",
    "학습데이터 = np.argmax(학습, axis = 1)\n",
    "검증데이터 = np.argmax(검증, axis = 1)\n",
    "cnt_학습 = 0\n",
    "cnt_검증 = 0\n",
    "for i,j in zip(학습데이터, 체형_train[shuff_train]):\n",
    "    if(i==j):\n",
    "        cnt_학습 = cnt_학습 +1\n",
    "print(f'학습 데이터:{cnt_학습} of {치수_scaled[shuff_train].shape[0]} are correct [{cnt_학습/치수_scaled[shuff_train].shape[0]*100}%]')\n",
    "\n",
    "for i,j in zip(검증데이터, 체형_train[shuff_val]):\n",
    "    if(i==j):\n",
    "        cnt_검증 = cnt_검증 +1\n",
    "print(f'검증 데이터:{cnt_검증} of {치수_scaled[shuff_val].shape[0]} are correct [{cnt_검증/치수_scaled[shuff_val].shape[0]*100}%]')"
   ]
  },
  {
   "cell_type": "code",
   "execution_count": 14,
   "id": "dfdbbef3",
   "metadata": {},
   "outputs": [
    {
     "name": "stdout",
     "output_type": "stream",
     "text": [
      "22/22 [==============================] - 0s 2ms/step\n",
      "623 of 696 are correct [89.51149425287356%]\n"
     ]
    }
   ],
   "source": [
    "Y_pred = model.predict(치수_scaled)\n",
    "Y_pred_max = np.max(Y_pred,axis =1)\n",
    "\n",
    "체형_pred = np.argmax(Y_pred, axis=1)\n",
    "치수_train_selected = []\n",
    "체형_pred_selected =[]\n",
    "cnt = 0\n",
    "for i,j,k,m in zip(체형_pred,체형_train,range(치수_scaled.shape[0]),Y_pred_max):\n",
    "    if(i==j):\n",
    "        cnt=cnt+1\n",
    "        치수_train_selected.append(치수_train[k])\n",
    "        체형_pred_selected.append(i)\n",
    "    else:\n",
    "        '''\n",
    "        치수_train_selected.append(치수_train[k])\n",
    "        체형_pred_selected.append(i)\n",
    "        '''\n",
    "        if(m < 0.7):\n",
    "            치수_train_selected.append(치수_train[k])\n",
    "            체형_pred_selected.append(i)\n",
    "        \n",
    "print(f'{cnt} of {체형_train.shape[0]} are correct [{cnt/체형_train.shape[0]*100}%]')\n"
   ]
  },
  {
   "cell_type": "code",
   "execution_count": 15,
   "id": "258b72fd",
   "metadata": {},
   "outputs": [
    {
     "name": "stdout",
     "output_type": "stream",
     "text": [
      "623개의 정답과 30개의 모호한 데이터추출\n",
      "653\n"
     ]
    }
   ],
   "source": [
    "print(f'{cnt}개의 정답과 {len(치수_train_selected)-cnt}개의 모호한 데이터추출')\n",
    "print(len(치수_train_selected))"
   ]
  },
  {
   "cell_type": "markdown",
   "id": "8caec962",
   "metadata": {},
   "source": [
    "## 레이블 지정"
   ]
  },
  {
   "cell_type": "code",
   "execution_count": 16,
   "id": "d30a6578",
   "metadata": {},
   "outputs": [
    {
     "name": "stdout",
     "output_type": "stream",
     "text": [
      "11/11 [==============================] - 0s 2ms/step\n"
     ]
    }
   ],
   "source": [
    "체형_Unlabeled_pred = model.predict(minmax_scaler.transform(치수_test))\n",
    "체형_Unlabeled_pred = np.argmax(체형_Unlabeled_pred, axis=1)"
   ]
  },
  {
   "cell_type": "code",
   "execution_count": 17,
   "id": "bc7a0dc4",
   "metadata": {},
   "outputs": [],
   "source": [
    "체형_test = 체형_Unlabeled_pred"
   ]
  },
  {
   "cell_type": "markdown",
   "id": "2087815d",
   "metadata": {},
   "source": [
    "## 데이터 병합"
   ]
  },
  {
   "cell_type": "code",
   "execution_count": 18,
   "id": "1ece08b1",
   "metadata": {},
   "outputs": [],
   "source": [
    "치수_merge = np.concatenate((치수_train_selected, 치수_test), axis = 0)\n",
    "체형_merge = np.concatenate((체형_pred_selected, 체형_test))\n",
    "체형_merge = np.reshape(체형_merge, (치수_merge.shape[0],1))\n",
    "data_merge = np.concatenate((치수_merge,체형_merge), axis = 1)\n",
    "np.random.shuffle(data_merge)"
   ]
  },
  {
   "cell_type": "code",
   "execution_count": 19,
   "id": "1971ca0c",
   "metadata": {},
   "outputs": [],
   "source": [
    "split = round(치수_merge.shape[0]*0.7)"
   ]
  },
  {
   "cell_type": "code",
   "execution_count": 20,
   "id": "3d6bb12f",
   "metadata": {},
   "outputs": [],
   "source": [
    "치수2_train, 체형2_train, 치수2_test, 체형2_test = data_merge[:split,0:-1], data_merge[:split,-1], data_merge[split:,0:-1], data_merge[split:,-1]\n",
    "체형2_train = 체형2_train.astype('float32')\n",
    "체형2_test = 체형2_test.astype('float32')\n",
    "치수2_train_scaled = minmax_scaler.transform(치수2_train)"
   ]
  },
  {
   "cell_type": "code",
   "execution_count": 21,
   "id": "cc931d33",
   "metadata": {},
   "outputs": [
    {
     "data": {
      "text/plain": [
       "(685, 38)"
      ]
     },
     "execution_count": 21,
     "metadata": {},
     "output_type": "execute_result"
    }
   ],
   "source": [
    "치수2_train.shape"
   ]
  },
  {
   "cell_type": "code",
   "execution_count": 22,
   "id": "255117c5",
   "metadata": {},
   "outputs": [],
   "source": [
    "th = round(치수2_train_scaled.shape[0]*0.7)"
   ]
  },
  {
   "cell_type": "markdown",
   "id": "1d530986",
   "metadata": {},
   "source": [
    "## 평가 모델 생성"
   ]
  },
  {
   "cell_type": "code",
   "execution_count": 23,
   "id": "3a627ab7",
   "metadata": {},
   "outputs": [
    {
     "name": "stdout",
     "output_type": "stream",
     "text": [
      "Model: \"sequential_1\"\n",
      "_________________________________________________________________\n",
      " Layer (type)                Output Shape              Param #   \n",
      "=================================================================\n",
      " dense_5 (Dense)             (None, 38)                1482      \n",
      "                                                                 \n",
      " dense_6 (Dense)             (None, 19)                741       \n",
      "                                                                 \n",
      " dense_7 (Dense)             (None, 19)                380       \n",
      "                                                                 \n",
      " dense_8 (Dense)             (None, 9)                 180       \n",
      "                                                                 \n",
      " dense_9 (Dense)             (None, 4)                 40        \n",
      "                                                                 \n",
      "=================================================================\n",
      "Total params: 2,823\n",
      "Trainable params: 2,823\n",
      "Non-trainable params: 0\n",
      "_________________________________________________________________\n"
     ]
    }
   ],
   "source": [
    "checkpoint_path2 = './temp2/checkpoint.ckpt'\n",
    "optimizer = optimizers.Adam()\n",
    "model2 = Sequential()\n",
    "model_check_point2 = tf.keras.callbacks.ModelCheckpoint(\n",
    "    filepath = checkpoint_path2, monitor='val_loss', verbose=0, save_best_only=True,\n",
    "    save_weights_only=True, mode='auto', save_freq='epoch', options=None)\n",
    "model2.add(tf.keras.layers.Dense(38, input_dim =38,activation = 'relu'))\n",
    "model2.add(tf.keras.layers.Dense(19,activation = 'relu'))\n",
    "model2.add(tf.keras.layers.Dense(19,activation = 'relu'))\n",
    "model2.add(tf.keras.layers.Dense(9,activation = 'relu'))\n",
    "model2.add(tf.keras.layers.Dense(4,  activation='softmax'))\n",
    "model2.compile(\n",
    "    loss=sparse_categorical_crossentropy, \n",
    "    optimizer=optimizer, \n",
    "    metrics=['acc'])\n",
    "model2.summary()"
   ]
  },
  {
   "cell_type": "code",
   "execution_count": 24,
   "id": "6ce1381b",
   "metadata": {},
   "outputs": [
    {
     "name": "stdout",
     "output_type": "stream",
     "text": [
      "Epoch 1/200\n",
      "15/15 [==============================] - 1s 24ms/step - loss: 1.2681 - acc: 0.2818 - val_loss: 1.2091 - val_acc: 0.2427\n",
      "Epoch 2/200\n",
      "15/15 [==============================] - 0s 8ms/step - loss: 1.1375 - acc: 0.3486 - val_loss: 1.0558 - val_acc: 0.7330\n",
      "Epoch 3/200\n",
      "15/15 [==============================] - 0s 8ms/step - loss: 1.0089 - acc: 0.6075 - val_loss: 0.9334 - val_acc: 0.7330\n",
      "Epoch 4/200\n",
      "15/15 [==============================] - 0s 8ms/step - loss: 0.9244 - acc: 0.6701 - val_loss: 0.8506 - val_acc: 0.6359\n",
      "Epoch 5/200\n",
      "15/15 [==============================] - 0s 7ms/step - loss: 0.8769 - acc: 0.5992 - val_loss: 0.8077 - val_acc: 0.6650\n",
      "Epoch 6/200\n",
      "15/15 [==============================] - 0s 7ms/step - loss: 0.8360 - acc: 0.6326 - val_loss: 0.7745 - val_acc: 0.7427\n",
      "Epoch 7/200\n",
      "15/15 [==============================] - 0s 7ms/step - loss: 0.8131 - acc: 0.6388 - val_loss: 0.7317 - val_acc: 0.7718\n",
      "Epoch 8/200\n",
      "15/15 [==============================] - 0s 5ms/step - loss: 0.7676 - acc: 0.6806 - val_loss: 0.7350 - val_acc: 0.7184\n",
      "Epoch 9/200\n",
      "15/15 [==============================] - 0s 8ms/step - loss: 0.7676 - acc: 0.6472 - val_loss: 0.6747 - val_acc: 0.7621\n",
      "Epoch 10/200\n",
      "15/15 [==============================] - 0s 7ms/step - loss: 0.7234 - acc: 0.6722 - val_loss: 0.6685 - val_acc: 0.6699\n",
      "Epoch 11/200\n",
      "15/15 [==============================] - 0s 7ms/step - loss: 0.6627 - acc: 0.7119 - val_loss: 0.6056 - val_acc: 0.7379\n",
      "Epoch 12/200\n",
      "15/15 [==============================] - 0s 7ms/step - loss: 0.6160 - acc: 0.7203 - val_loss: 0.5554 - val_acc: 0.7767\n",
      "Epoch 13/200\n",
      "15/15 [==============================] - 0s 7ms/step - loss: 0.5694 - acc: 0.7390 - val_loss: 0.5196 - val_acc: 0.8058\n",
      "Epoch 14/200\n",
      "15/15 [==============================] - 0s 7ms/step - loss: 0.5253 - acc: 0.7850 - val_loss: 0.4824 - val_acc: 0.8010\n",
      "Epoch 15/200\n",
      "15/15 [==============================] - 0s 7ms/step - loss: 0.4918 - acc: 0.8142 - val_loss: 0.4579 - val_acc: 0.8350\n",
      "Epoch 16/200\n",
      "15/15 [==============================] - 0s 7ms/step - loss: 0.4629 - acc: 0.8100 - val_loss: 0.4420 - val_acc: 0.7961\n",
      "Epoch 17/200\n",
      "15/15 [==============================] - 0s 7ms/step - loss: 0.4607 - acc: 0.8058 - val_loss: 0.4121 - val_acc: 0.8641\n",
      "Epoch 18/200\n",
      "15/15 [==============================] - 0s 8ms/step - loss: 0.4336 - acc: 0.8079 - val_loss: 0.4061 - val_acc: 0.8204\n",
      "Epoch 19/200\n",
      "15/15 [==============================] - 0s 7ms/step - loss: 0.4065 - acc: 0.8246 - val_loss: 0.3737 - val_acc: 0.8544\n",
      "Epoch 20/200\n",
      "15/15 [==============================] - 0s 8ms/step - loss: 0.3813 - acc: 0.8413 - val_loss: 0.3597 - val_acc: 0.8495\n",
      "Epoch 21/200\n",
      "15/15 [==============================] - 0s 4ms/step - loss: 0.3675 - acc: 0.8518 - val_loss: 0.3649 - val_acc: 0.8592\n",
      "Epoch 22/200\n",
      "15/15 [==============================] - 0s 18ms/step - loss: 0.3590 - acc: 0.8372 - val_loss: 0.3542 - val_acc: 0.8398\n",
      "Epoch 23/200\n",
      "15/15 [==============================] - 0s 7ms/step - loss: 0.3474 - acc: 0.8559 - val_loss: 0.3351 - val_acc: 0.8641\n",
      "Epoch 24/200\n",
      "15/15 [==============================] - 0s 7ms/step - loss: 0.3372 - acc: 0.8580 - val_loss: 0.3090 - val_acc: 0.8641\n",
      "Epoch 25/200\n",
      "15/15 [==============================] - 0s 8ms/step - loss: 0.3309 - acc: 0.8622 - val_loss: 0.3070 - val_acc: 0.8883\n",
      "Epoch 26/200\n",
      "15/15 [==============================] - 0s 7ms/step - loss: 0.3237 - acc: 0.8727 - val_loss: 0.3030 - val_acc: 0.8786\n",
      "Epoch 27/200\n",
      "15/15 [==============================] - 0s 8ms/step - loss: 0.3195 - acc: 0.8622 - val_loss: 0.2907 - val_acc: 0.8786\n",
      "Epoch 28/200\n",
      "15/15 [==============================] - 0s 5ms/step - loss: 0.3453 - acc: 0.8580 - val_loss: 0.3421 - val_acc: 0.8495\n",
      "Epoch 29/200\n",
      "15/15 [==============================] - 0s 4ms/step - loss: 0.3363 - acc: 0.8455 - val_loss: 0.2942 - val_acc: 0.8738\n",
      "Epoch 30/200\n",
      "15/15 [==============================] - 0s 8ms/step - loss: 0.3044 - acc: 0.8643 - val_loss: 0.2765 - val_acc: 0.8835\n",
      "Epoch 31/200\n",
      "15/15 [==============================] - 0s 4ms/step - loss: 0.2891 - acc: 0.8706 - val_loss: 0.2828 - val_acc: 0.9078\n",
      "Epoch 32/200\n",
      "15/15 [==============================] - 0s 7ms/step - loss: 0.2932 - acc: 0.8894 - val_loss: 0.2674 - val_acc: 0.8835\n",
      "Epoch 33/200\n",
      "15/15 [==============================] - 0s 7ms/step - loss: 0.2834 - acc: 0.8768 - val_loss: 0.2614 - val_acc: 0.8932\n",
      "Epoch 34/200\n",
      "15/15 [==============================] - 0s 7ms/step - loss: 0.2803 - acc: 0.8706 - val_loss: 0.2532 - val_acc: 0.9078\n",
      "Epoch 35/200\n",
      "15/15 [==============================] - 0s 5ms/step - loss: 0.2787 - acc: 0.8768 - val_loss: 0.2737 - val_acc: 0.8689\n",
      "Epoch 36/200\n",
      "15/15 [==============================] - 0s 6ms/step - loss: 0.3013 - acc: 0.8706 - val_loss: 0.2646 - val_acc: 0.8835\n",
      "Epoch 37/200\n",
      "15/15 [==============================] - 0s 8ms/step - loss: 0.2570 - acc: 0.8873 - val_loss: 0.2316 - val_acc: 0.9078\n",
      "Epoch 38/200\n",
      "15/15 [==============================] - 0s 7ms/step - loss: 0.2517 - acc: 0.8977 - val_loss: 0.2292 - val_acc: 0.9223\n",
      "Epoch 39/200\n",
      "15/15 [==============================] - 0s 5ms/step - loss: 0.2516 - acc: 0.8914 - val_loss: 0.2472 - val_acc: 0.9175\n",
      "Epoch 40/200\n",
      "15/15 [==============================] - 0s 5ms/step - loss: 0.2573 - acc: 0.8914 - val_loss: 0.2429 - val_acc: 0.8835\n",
      "Epoch 41/200\n",
      "15/15 [==============================] - 0s 5ms/step - loss: 0.2799 - acc: 0.8747 - val_loss: 0.2638 - val_acc: 0.9029\n",
      "Epoch 42/200\n",
      "15/15 [==============================] - 0s 5ms/step - loss: 0.2649 - acc: 0.8914 - val_loss: 0.2506 - val_acc: 0.8786\n",
      "Epoch 43/200\n",
      "15/15 [==============================] - 0s 7ms/step - loss: 0.2388 - acc: 0.8998 - val_loss: 0.2197 - val_acc: 0.9223\n",
      "Epoch 44/200\n",
      "15/15 [==============================] - 0s 8ms/step - loss: 0.2320 - acc: 0.9081 - val_loss: 0.2088 - val_acc: 0.9369\n",
      "Epoch 45/200\n",
      "15/15 [==============================] - 0s 8ms/step - loss: 0.2308 - acc: 0.9186 - val_loss: 0.2057 - val_acc: 0.9320\n",
      "Epoch 46/200\n",
      "15/15 [==============================] - 0s 5ms/step - loss: 0.2418 - acc: 0.9081 - val_loss: 0.2679 - val_acc: 0.8641\n",
      "Epoch 47/200\n",
      "15/15 [==============================] - 0s 8ms/step - loss: 0.2613 - acc: 0.8894 - val_loss: 0.1981 - val_acc: 0.9369\n",
      "Epoch 48/200\n",
      "15/15 [==============================] - 0s 5ms/step - loss: 0.2389 - acc: 0.8956 - val_loss: 0.3142 - val_acc: 0.8592\n",
      "Epoch 49/200\n",
      "15/15 [==============================] - 0s 4ms/step - loss: 0.3018 - acc: 0.8622 - val_loss: 0.2134 - val_acc: 0.9175\n",
      "Epoch 50/200\n",
      "15/15 [==============================] - 0s 5ms/step - loss: 0.2612 - acc: 0.8810 - val_loss: 0.2319 - val_acc: 0.9175\n",
      "Epoch 51/200\n",
      "15/15 [==============================] - 0s 8ms/step - loss: 0.2217 - acc: 0.9040 - val_loss: 0.1959 - val_acc: 0.9272\n",
      "Epoch 52/200\n",
      "15/15 [==============================] - 0s 6ms/step - loss: 0.2173 - acc: 0.9061 - val_loss: 0.2266 - val_acc: 0.9078\n",
      "Epoch 53/200\n",
      "15/15 [==============================] - 0s 6ms/step - loss: 0.2278 - acc: 0.9019 - val_loss: 0.1970 - val_acc: 0.9175\n",
      "Epoch 54/200\n",
      "15/15 [==============================] - 0s 8ms/step - loss: 0.2245 - acc: 0.9102 - val_loss: 0.1885 - val_acc: 0.9466\n",
      "Epoch 55/200\n",
      "15/15 [==============================] - 0s 5ms/step - loss: 0.2053 - acc: 0.9102 - val_loss: 0.1898 - val_acc: 0.9175\n",
      "Epoch 56/200\n",
      "15/15 [==============================] - 0s 5ms/step - loss: 0.2074 - acc: 0.9102 - val_loss: 0.1994 - val_acc: 0.9320\n",
      "Epoch 57/200\n",
      "15/15 [==============================] - 0s 8ms/step - loss: 0.2021 - acc: 0.9102 - val_loss: 0.1732 - val_acc: 0.9417\n",
      "Epoch 58/200\n",
      "15/15 [==============================] - 0s 6ms/step - loss: 0.1973 - acc: 0.9040 - val_loss: 0.1748 - val_acc: 0.9223\n",
      "Epoch 59/200\n",
      "15/15 [==============================] - 0s 6ms/step - loss: 0.1941 - acc: 0.9207 - val_loss: 0.1861 - val_acc: 0.9369\n",
      "Epoch 60/200\n",
      "15/15 [==============================] - 0s 9ms/step - loss: 0.1971 - acc: 0.9123 - val_loss: 0.1715 - val_acc: 0.9466\n",
      "Epoch 61/200\n",
      "15/15 [==============================] - 0s 8ms/step - loss: 0.1935 - acc: 0.9165 - val_loss: 0.1708 - val_acc: 0.9417\n",
      "Epoch 62/200\n",
      "15/15 [==============================] - 0s 5ms/step - loss: 0.2030 - acc: 0.9144 - val_loss: 0.2212 - val_acc: 0.9029\n",
      "Epoch 63/200\n"
     ]
    },
    {
     "name": "stdout",
     "output_type": "stream",
     "text": [
      "15/15 [==============================] - 0s 7ms/step - loss: 0.2146 - acc: 0.8998 - val_loss: 0.1703 - val_acc: 0.9417\n",
      "Epoch 64/200\n",
      "15/15 [==============================] - 0s 8ms/step - loss: 0.2053 - acc: 0.9353 - val_loss: 0.1673 - val_acc: 0.9563\n",
      "Epoch 65/200\n",
      "15/15 [==============================] - 0s 7ms/step - loss: 0.1829 - acc: 0.9207 - val_loss: 0.1607 - val_acc: 0.9515\n",
      "Epoch 66/200\n",
      "15/15 [==============================] - 0s 5ms/step - loss: 0.1911 - acc: 0.9165 - val_loss: 0.1612 - val_acc: 0.9466\n",
      "Epoch 67/200\n",
      "15/15 [==============================] - 0s 5ms/step - loss: 0.1803 - acc: 0.9395 - val_loss: 0.1629 - val_acc: 0.9466\n",
      "Epoch 68/200\n",
      "15/15 [==============================] - 0s 7ms/step - loss: 0.1926 - acc: 0.9311 - val_loss: 0.1543 - val_acc: 0.9515\n",
      "Epoch 69/200\n",
      "15/15 [==============================] - 0s 5ms/step - loss: 0.1852 - acc: 0.9228 - val_loss: 0.1595 - val_acc: 0.9466\n",
      "Epoch 70/200\n",
      "15/15 [==============================] - 0s 5ms/step - loss: 0.1779 - acc: 0.9269 - val_loss: 0.1713 - val_acc: 0.9369\n",
      "Epoch 71/200\n",
      "15/15 [==============================] - 0s 8ms/step - loss: 0.1923 - acc: 0.9186 - val_loss: 0.1515 - val_acc: 0.9612\n",
      "Epoch 72/200\n",
      "15/15 [==============================] - 0s 7ms/step - loss: 0.1726 - acc: 0.9311 - val_loss: 0.1500 - val_acc: 0.9515\n",
      "Epoch 73/200\n",
      "15/15 [==============================] - 0s 5ms/step - loss: 0.1773 - acc: 0.9353 - val_loss: 0.1628 - val_acc: 0.9515\n",
      "Epoch 74/200\n",
      "15/15 [==============================] - 0s 4ms/step - loss: 0.1945 - acc: 0.9102 - val_loss: 0.1574 - val_acc: 0.9417\n",
      "Epoch 75/200\n",
      "15/15 [==============================] - 0s 5ms/step - loss: 0.2041 - acc: 0.9102 - val_loss: 0.1979 - val_acc: 0.9223\n",
      "Epoch 76/200\n",
      "15/15 [==============================] - 0s 8ms/step - loss: 0.2253 - acc: 0.9019 - val_loss: 0.1493 - val_acc: 0.9563\n",
      "Epoch 77/200\n",
      "15/15 [==============================] - 0s 6ms/step - loss: 0.1812 - acc: 0.9228 - val_loss: 0.1733 - val_acc: 0.9272\n",
      "Epoch 78/200\n",
      "15/15 [==============================] - 0s 5ms/step - loss: 0.1674 - acc: 0.9207 - val_loss: 0.1663 - val_acc: 0.9417\n",
      "Epoch 79/200\n",
      "15/15 [==============================] - 0s 8ms/step - loss: 0.1954 - acc: 0.9144 - val_loss: 0.1439 - val_acc: 0.9515\n",
      "Epoch 80/200\n",
      "15/15 [==============================] - 0s 5ms/step - loss: 0.1596 - acc: 0.9290 - val_loss: 0.1722 - val_acc: 0.9223\n",
      "Epoch 81/200\n",
      "15/15 [==============================] - 0s 5ms/step - loss: 0.1623 - acc: 0.9353 - val_loss: 0.1686 - val_acc: 0.9369\n",
      "Epoch 82/200\n",
      "15/15 [==============================] - 0s 4ms/step - loss: 0.1618 - acc: 0.9374 - val_loss: 0.1528 - val_acc: 0.9417\n",
      "Epoch 83/200\n",
      "15/15 [==============================] - 0s 4ms/step - loss: 0.1506 - acc: 0.9415 - val_loss: 0.1485 - val_acc: 0.9612\n",
      "Epoch 84/200\n",
      "15/15 [==============================] - 0s 5ms/step - loss: 0.1731 - acc: 0.9228 - val_loss: 0.2191 - val_acc: 0.8835\n",
      "Epoch 85/200\n",
      "15/15 [==============================] - 0s 8ms/step - loss: 0.1687 - acc: 0.9353 - val_loss: 0.1356 - val_acc: 0.9612\n",
      "Epoch 86/200\n",
      "15/15 [==============================] - 0s 4ms/step - loss: 0.1492 - acc: 0.9374 - val_loss: 0.1551 - val_acc: 0.9369\n",
      "Epoch 87/200\n",
      "15/15 [==============================] - 0s 7ms/step - loss: 0.1634 - acc: 0.9290 - val_loss: 0.1281 - val_acc: 0.9563\n",
      "Epoch 88/200\n",
      "15/15 [==============================] - 0s 5ms/step - loss: 0.1577 - acc: 0.9311 - val_loss: 0.1453 - val_acc: 0.9417\n",
      "Epoch 89/200\n",
      "15/15 [==============================] - 0s 5ms/step - loss: 0.1738 - acc: 0.9144 - val_loss: 0.2172 - val_acc: 0.8981\n",
      "Epoch 90/200\n",
      "15/15 [==============================] - 0s 5ms/step - loss: 0.1624 - acc: 0.9228 - val_loss: 0.1432 - val_acc: 0.9417\n",
      "Epoch 91/200\n",
      "15/15 [==============================] - 0s 6ms/step - loss: 0.1567 - acc: 0.9248 - val_loss: 0.1327 - val_acc: 0.9563\n",
      "Epoch 92/200\n",
      "15/15 [==============================] - 0s 4ms/step - loss: 0.1397 - acc: 0.9436 - val_loss: 0.1347 - val_acc: 0.9515\n",
      "Epoch 93/200\n",
      "15/15 [==============================] - 0s 4ms/step - loss: 0.1572 - acc: 0.9228 - val_loss: 0.1664 - val_acc: 0.9223\n",
      "Epoch 94/200\n",
      "15/15 [==============================] - 0s 8ms/step - loss: 0.1506 - acc: 0.9290 - val_loss: 0.1256 - val_acc: 0.9612\n",
      "Epoch 95/200\n",
      "15/15 [==============================] - 0s 5ms/step - loss: 0.1531 - acc: 0.9374 - val_loss: 0.2116 - val_acc: 0.9126\n",
      "Epoch 96/200\n",
      "15/15 [==============================] - 0s 5ms/step - loss: 0.2044 - acc: 0.9123 - val_loss: 0.1724 - val_acc: 0.9175\n",
      "Epoch 97/200\n",
      "15/15 [==============================] - 0s 5ms/step - loss: 0.1433 - acc: 0.9374 - val_loss: 0.1265 - val_acc: 0.9757\n",
      "Epoch 98/200\n",
      "15/15 [==============================] - 0s 5ms/step - loss: 0.1332 - acc: 0.9395 - val_loss: 0.1261 - val_acc: 0.9466\n",
      "Epoch 99/200\n",
      "15/15 [==============================] - 0s 5ms/step - loss: 0.1317 - acc: 0.9478 - val_loss: 0.1425 - val_acc: 0.9369\n",
      "Epoch 100/200\n",
      "15/15 [==============================] - 0s 7ms/step - loss: 0.1368 - acc: 0.9395 - val_loss: 0.1253 - val_acc: 0.9660\n",
      "Epoch 101/200\n",
      "15/15 [==============================] - 0s 5ms/step - loss: 0.1439 - acc: 0.9374 - val_loss: 0.1450 - val_acc: 0.9272\n",
      "Epoch 102/200\n",
      "15/15 [==============================] - 0s 7ms/step - loss: 0.1367 - acc: 0.9436 - val_loss: 0.1131 - val_acc: 0.9563\n",
      "Epoch 103/200\n",
      "15/15 [==============================] - 0s 4ms/step - loss: 0.1312 - acc: 0.9457 - val_loss: 0.1386 - val_acc: 0.9466\n",
      "Epoch 104/200\n",
      "15/15 [==============================] - 0s 7ms/step - loss: 0.1298 - acc: 0.9520 - val_loss: 0.1127 - val_acc: 0.9709\n",
      "Epoch 105/200\n",
      "15/15 [==============================] - 0s 5ms/step - loss: 0.1359 - acc: 0.9374 - val_loss: 0.1349 - val_acc: 0.9563\n",
      "Epoch 106/200\n",
      "15/15 [==============================] - 0s 5ms/step - loss: 0.1864 - acc: 0.9165 - val_loss: 0.1316 - val_acc: 0.9466\n",
      "Epoch 107/200\n",
      "15/15 [==============================] - 0s 5ms/step - loss: 0.1474 - acc: 0.9353 - val_loss: 0.1313 - val_acc: 0.9515\n",
      "Epoch 108/200\n",
      "15/15 [==============================] - 0s 4ms/step - loss: 0.1355 - acc: 0.9436 - val_loss: 0.1162 - val_acc: 0.9757\n",
      "Epoch 109/200\n",
      "15/15 [==============================] - 0s 5ms/step - loss: 0.1327 - acc: 0.9415 - val_loss: 0.1154 - val_acc: 0.9466\n",
      "Epoch 110/200\n",
      "15/15 [==============================] - 0s 7ms/step - loss: 0.1198 - acc: 0.9582 - val_loss: 0.1095 - val_acc: 0.9563\n",
      "Epoch 111/200\n",
      "15/15 [==============================] - 0s 5ms/step - loss: 0.1205 - acc: 0.9499 - val_loss: 0.1558 - val_acc: 0.9126\n",
      "Epoch 112/200\n",
      "15/15 [==============================] - 0s 5ms/step - loss: 0.1393 - acc: 0.9311 - val_loss: 0.1266 - val_acc: 0.9612\n",
      "Epoch 113/200\n",
      "15/15 [==============================] - 0s 7ms/step - loss: 0.1328 - acc: 0.9478 - val_loss: 0.1083 - val_acc: 0.9612\n",
      "Epoch 114/200\n",
      "15/15 [==============================] - 0s 7ms/step - loss: 0.1179 - acc: 0.9499 - val_loss: 0.1036 - val_acc: 0.9806\n",
      "Epoch 115/200\n",
      "15/15 [==============================] - 0s 5ms/step - loss: 0.1169 - acc: 0.9541 - val_loss: 0.1092 - val_acc: 0.9660\n",
      "Epoch 116/200\n",
      "15/15 [==============================] - 0s 8ms/step - loss: 0.1395 - acc: 0.9395 - val_loss: 0.1011 - val_acc: 0.9563\n",
      "Epoch 117/200\n",
      "15/15 [==============================] - 0s 5ms/step - loss: 0.1065 - acc: 0.9624 - val_loss: 0.1075 - val_acc: 0.9612\n",
      "Epoch 118/200\n",
      "15/15 [==============================] - 0s 5ms/step - loss: 0.1131 - acc: 0.9562 - val_loss: 0.1094 - val_acc: 0.9709\n",
      "Epoch 119/200\n",
      "15/15 [==============================] - 0s 4ms/step - loss: 0.1333 - acc: 0.9353 - val_loss: 0.1032 - val_acc: 0.9660\n",
      "Epoch 120/200\n",
      "15/15 [==============================] - 0s 5ms/step - loss: 0.1179 - acc: 0.9499 - val_loss: 0.1050 - val_acc: 0.9612\n",
      "Epoch 121/200\n",
      "15/15 [==============================] - 0s 5ms/step - loss: 0.1196 - acc: 0.9541 - val_loss: 0.1015 - val_acc: 0.9612\n",
      "Epoch 122/200\n",
      "15/15 [==============================] - 0s 5ms/step - loss: 0.1125 - acc: 0.9582 - val_loss: 0.1094 - val_acc: 0.9563\n",
      "Epoch 123/200\n",
      "15/15 [==============================] - 0s 8ms/step - loss: 0.1136 - acc: 0.9562 - val_loss: 0.0937 - val_acc: 0.9563\n",
      "Epoch 124/200\n",
      "15/15 [==============================] - 0s 5ms/step - loss: 0.1069 - acc: 0.9603 - val_loss: 0.0993 - val_acc: 0.9709\n"
     ]
    },
    {
     "name": "stdout",
     "output_type": "stream",
     "text": [
      "Epoch 125/200\n",
      "15/15 [==============================] - 0s 5ms/step - loss: 0.1012 - acc: 0.9645 - val_loss: 0.1118 - val_acc: 0.9515\n",
      "Epoch 126/200\n",
      "15/15 [==============================] - 0s 5ms/step - loss: 0.1141 - acc: 0.9582 - val_loss: 0.1062 - val_acc: 0.9612\n",
      "Epoch 127/200\n",
      "15/15 [==============================] - 0s 7ms/step - loss: 0.1127 - acc: 0.9582 - val_loss: 0.0933 - val_acc: 0.9709\n",
      "Epoch 128/200\n",
      "15/15 [==============================] - 0s 8ms/step - loss: 0.0987 - acc: 0.9687 - val_loss: 0.0922 - val_acc: 0.9612\n",
      "Epoch 129/200\n",
      "15/15 [==============================] - 0s 4ms/step - loss: 0.1070 - acc: 0.9541 - val_loss: 0.1073 - val_acc: 0.9612\n",
      "Epoch 130/200\n",
      "15/15 [==============================] - 0s 7ms/step - loss: 0.1002 - acc: 0.9666 - val_loss: 0.0916 - val_acc: 0.9612\n",
      "Epoch 131/200\n",
      "15/15 [==============================] - 0s 5ms/step - loss: 0.0991 - acc: 0.9666 - val_loss: 0.1166 - val_acc: 0.9660\n",
      "Epoch 132/200\n",
      "15/15 [==============================] - 0s 8ms/step - loss: 0.1196 - acc: 0.9499 - val_loss: 0.0909 - val_acc: 0.9563\n",
      "Epoch 133/200\n",
      "15/15 [==============================] - 0s 5ms/step - loss: 0.0987 - acc: 0.9687 - val_loss: 0.1045 - val_acc: 0.9515\n",
      "Epoch 134/200\n",
      "15/15 [==============================] - 0s 7ms/step - loss: 0.1532 - acc: 0.9290 - val_loss: 0.0845 - val_acc: 0.9757\n",
      "Epoch 135/200\n",
      "15/15 [==============================] - 0s 7ms/step - loss: 0.0936 - acc: 0.9666 - val_loss: 0.0817 - val_acc: 0.9806\n",
      "Epoch 136/200\n",
      "15/15 [==============================] - 0s 5ms/step - loss: 0.0905 - acc: 0.9749 - val_loss: 0.0885 - val_acc: 0.9515\n",
      "Epoch 137/200\n",
      "15/15 [==============================] - 0s 4ms/step - loss: 0.0908 - acc: 0.9708 - val_loss: 0.0850 - val_acc: 0.9806\n",
      "Epoch 138/200\n",
      "15/15 [==============================] - 0s 8ms/step - loss: 0.0985 - acc: 0.9603 - val_loss: 0.0807 - val_acc: 0.9757\n",
      "Epoch 139/200\n",
      "15/15 [==============================] - 0s 4ms/step - loss: 0.0970 - acc: 0.9666 - val_loss: 0.0839 - val_acc: 0.9806\n",
      "Epoch 140/200\n",
      "15/15 [==============================] - 0s 5ms/step - loss: 0.1049 - acc: 0.9603 - val_loss: 0.1097 - val_acc: 0.9757\n",
      "Epoch 141/200\n",
      "15/15 [==============================] - 0s 5ms/step - loss: 0.0895 - acc: 0.9687 - val_loss: 0.0824 - val_acc: 0.9806\n",
      "Epoch 142/200\n",
      "15/15 [==============================] - 0s 4ms/step - loss: 0.0881 - acc: 0.9708 - val_loss: 0.1054 - val_acc: 0.9660\n",
      "Epoch 143/200\n",
      "15/15 [==============================] - 0s 8ms/step - loss: 0.0839 - acc: 0.9749 - val_loss: 0.0806 - val_acc: 0.9709\n",
      "Epoch 144/200\n",
      "15/15 [==============================] - 0s 5ms/step - loss: 0.1012 - acc: 0.9582 - val_loss: 0.0868 - val_acc: 0.9612\n",
      "Epoch 145/200\n",
      "15/15 [==============================] - 0s 5ms/step - loss: 0.1025 - acc: 0.9603 - val_loss: 0.1179 - val_acc: 0.9466\n",
      "Epoch 146/200\n",
      "15/15 [==============================] - 0s 4ms/step - loss: 0.1104 - acc: 0.9499 - val_loss: 0.0808 - val_acc: 0.9612\n",
      "Epoch 147/200\n",
      "15/15 [==============================] - 0s 4ms/step - loss: 0.1228 - acc: 0.9478 - val_loss: 0.1092 - val_acc: 0.9612\n",
      "Epoch 148/200\n",
      "15/15 [==============================] - 0s 7ms/step - loss: 0.1163 - acc: 0.9415 - val_loss: 0.0805 - val_acc: 0.9806\n",
      "Epoch 149/200\n",
      "15/15 [==============================] - 0s 6ms/step - loss: 0.0871 - acc: 0.9666 - val_loss: 0.0874 - val_acc: 0.9612\n",
      "Epoch 150/200\n",
      "15/15 [==============================] - 0s 8ms/step - loss: 0.0907 - acc: 0.9624 - val_loss: 0.0761 - val_acc: 0.9903\n",
      "Epoch 151/200\n",
      "15/15 [==============================] - 0s 5ms/step - loss: 0.0956 - acc: 0.9603 - val_loss: 0.0977 - val_acc: 0.9709\n",
      "Epoch 152/200\n",
      "15/15 [==============================] - 0s 6ms/step - loss: 0.1048 - acc: 0.9645 - val_loss: 0.1068 - val_acc: 0.9563\n",
      "Epoch 153/200\n",
      "15/15 [==============================] - 0s 4ms/step - loss: 0.1124 - acc: 0.9562 - val_loss: 0.1343 - val_acc: 0.9417\n",
      "Epoch 154/200\n",
      "15/15 [==============================] - 0s 5ms/step - loss: 0.1199 - acc: 0.9499 - val_loss: 0.0861 - val_acc: 0.9709\n",
      "Epoch 155/200\n",
      "15/15 [==============================] - 0s 5ms/step - loss: 0.0883 - acc: 0.9624 - val_loss: 0.1047 - val_acc: 0.9660\n",
      "Epoch 156/200\n",
      "15/15 [==============================] - 0s 7ms/step - loss: 0.1069 - acc: 0.9541 - val_loss: 0.0712 - val_acc: 0.9854\n",
      "Epoch 157/200\n",
      "15/15 [==============================] - 0s 4ms/step - loss: 0.0967 - acc: 0.9603 - val_loss: 0.0910 - val_acc: 0.9660\n",
      "Epoch 158/200\n",
      "15/15 [==============================] - 0s 5ms/step - loss: 0.0810 - acc: 0.9645 - val_loss: 0.0956 - val_acc: 0.9417\n",
      "Epoch 159/200\n",
      "15/15 [==============================] - 0s 5ms/step - loss: 0.0851 - acc: 0.9687 - val_loss: 0.0741 - val_acc: 0.9854\n",
      "Epoch 160/200\n",
      "15/15 [==============================] - 0s 5ms/step - loss: 0.0770 - acc: 0.9729 - val_loss: 0.0766 - val_acc: 0.9806\n",
      "Epoch 161/200\n",
      "15/15 [==============================] - 0s 4ms/step - loss: 0.0755 - acc: 0.9708 - val_loss: 0.0719 - val_acc: 0.9903\n",
      "Epoch 162/200\n",
      "15/15 [==============================] - 0s 5ms/step - loss: 0.0935 - acc: 0.9541 - val_loss: 0.0740 - val_acc: 0.9660\n",
      "Epoch 163/200\n",
      "15/15 [==============================] - 0s 7ms/step - loss: 0.0839 - acc: 0.9666 - val_loss: 0.0695 - val_acc: 0.9757\n",
      "Epoch 164/200\n",
      "15/15 [==============================] - 0s 5ms/step - loss: 0.0742 - acc: 0.9687 - val_loss: 0.0868 - val_acc: 0.9709\n",
      "Epoch 165/200\n",
      "15/15 [==============================] - 0s 4ms/step - loss: 0.0840 - acc: 0.9749 - val_loss: 0.0703 - val_acc: 0.9709\n",
      "Epoch 166/200\n",
      "15/15 [==============================] - 0s 5ms/step - loss: 0.0855 - acc: 0.9666 - val_loss: 0.0950 - val_acc: 0.9806\n",
      "Epoch 167/200\n",
      "15/15 [==============================] - 0s 5ms/step - loss: 0.0910 - acc: 0.9603 - val_loss: 0.0793 - val_acc: 0.9709\n",
      "Epoch 168/200\n",
      "15/15 [==============================] - 0s 4ms/step - loss: 0.1160 - acc: 0.9415 - val_loss: 0.0762 - val_acc: 0.9612\n",
      "Epoch 169/200\n",
      "15/15 [==============================] - 0s 5ms/step - loss: 0.0891 - acc: 0.9645 - val_loss: 0.0698 - val_acc: 0.9854\n",
      "Epoch 170/200\n",
      "15/15 [==============================] - 0s 8ms/step - loss: 0.1046 - acc: 0.9562 - val_loss: 0.0673 - val_acc: 0.9757\n",
      "Epoch 171/200\n",
      "15/15 [==============================] - 0s 5ms/step - loss: 0.0849 - acc: 0.9603 - val_loss: 0.0839 - val_acc: 0.9709\n",
      "Epoch 172/200\n",
      "15/15 [==============================] - 0s 7ms/step - loss: 0.0731 - acc: 0.9666 - val_loss: 0.0651 - val_acc: 0.9806\n",
      "Epoch 173/200\n",
      "15/15 [==============================] - 0s 5ms/step - loss: 0.0670 - acc: 0.9749 - val_loss: 0.0695 - val_acc: 0.9660\n",
      "Epoch 174/200\n",
      "15/15 [==============================] - 0s 5ms/step - loss: 0.0693 - acc: 0.9791 - val_loss: 0.0806 - val_acc: 0.9612\n",
      "Epoch 175/200\n",
      "15/15 [==============================] - 0s 5ms/step - loss: 0.0757 - acc: 0.9770 - val_loss: 0.0793 - val_acc: 0.9660\n",
      "Epoch 176/200\n",
      "15/15 [==============================] - 0s 5ms/step - loss: 0.0785 - acc: 0.9770 - val_loss: 0.0760 - val_acc: 0.9806\n",
      "Epoch 177/200\n",
      "15/15 [==============================] - 0s 4ms/step - loss: 0.0799 - acc: 0.9729 - val_loss: 0.0665 - val_acc: 0.9854\n",
      "Epoch 178/200\n",
      "15/15 [==============================] - 0s 5ms/step - loss: 0.0918 - acc: 0.9562 - val_loss: 0.0765 - val_acc: 0.9612\n",
      "Epoch 179/200\n",
      "15/15 [==============================] - 0s 7ms/step - loss: 0.0936 - acc: 0.9582 - val_loss: 0.0634 - val_acc: 0.9854\n",
      "Epoch 180/200\n",
      "15/15 [==============================] - 0s 5ms/step - loss: 0.0646 - acc: 0.9833 - val_loss: 0.0641 - val_acc: 0.9806\n",
      "Epoch 181/200\n",
      "15/15 [==============================] - 0s 8ms/step - loss: 0.0687 - acc: 0.9749 - val_loss: 0.0617 - val_acc: 0.9806\n",
      "Epoch 182/200\n",
      "15/15 [==============================] - 0s 4ms/step - loss: 0.0646 - acc: 0.9770 - val_loss: 0.0642 - val_acc: 0.9660\n",
      "Epoch 183/200\n",
      "15/15 [==============================] - 0s 5ms/step - loss: 0.0664 - acc: 0.9791 - val_loss: 0.0619 - val_acc: 0.9709\n",
      "Epoch 184/200\n",
      "15/15 [==============================] - 0s 4ms/step - loss: 0.0641 - acc: 0.9791 - val_loss: 0.0655 - val_acc: 0.9757\n",
      "Epoch 185/200\n",
      "15/15 [==============================] - 0s 5ms/step - loss: 0.0670 - acc: 0.9791 - val_loss: 0.0734 - val_acc: 0.9757\n",
      "Epoch 186/200\n"
     ]
    },
    {
     "name": "stdout",
     "output_type": "stream",
     "text": [
      "15/15 [==============================] - 0s 6ms/step - loss: 0.0786 - acc: 0.9687 - val_loss: 0.0758 - val_acc: 0.9757\n",
      "Epoch 187/200\n",
      "15/15 [==============================] - 0s 5ms/step - loss: 0.0697 - acc: 0.9770 - val_loss: 0.0765 - val_acc: 0.9806\n",
      "Epoch 188/200\n",
      "15/15 [==============================] - 0s 5ms/step - loss: 0.0718 - acc: 0.9708 - val_loss: 0.0855 - val_acc: 0.9515\n",
      "Epoch 189/200\n",
      "15/15 [==============================] - 0s 5ms/step - loss: 0.0838 - acc: 0.9624 - val_loss: 0.1071 - val_acc: 0.9515\n",
      "Epoch 190/200\n",
      "15/15 [==============================] - 0s 5ms/step - loss: 0.0817 - acc: 0.9687 - val_loss: 0.0631 - val_acc: 0.9854\n",
      "Epoch 191/200\n",
      "15/15 [==============================] - 0s 4ms/step - loss: 0.0930 - acc: 0.9624 - val_loss: 0.0816 - val_acc: 0.9660\n",
      "Epoch 192/200\n",
      "15/15 [==============================] - 0s 8ms/step - loss: 0.0582 - acc: 0.9854 - val_loss: 0.0588 - val_acc: 0.9854\n",
      "Epoch 193/200\n",
      "15/15 [==============================] - 0s 5ms/step - loss: 0.0632 - acc: 0.9833 - val_loss: 0.0616 - val_acc: 0.9903\n",
      "Epoch 194/200\n",
      "15/15 [==============================] - 0s 4ms/step - loss: 0.0594 - acc: 0.9833 - val_loss: 0.0693 - val_acc: 0.9612\n",
      "Epoch 195/200\n",
      "15/15 [==============================] - 0s 5ms/step - loss: 0.0741 - acc: 0.9708 - val_loss: 0.0732 - val_acc: 0.9757\n",
      "Epoch 196/200\n",
      "15/15 [==============================] - 0s 5ms/step - loss: 0.0625 - acc: 0.9812 - val_loss: 0.0851 - val_acc: 0.9660\n",
      "Epoch 197/200\n",
      "15/15 [==============================] - 0s 8ms/step - loss: 0.0633 - acc: 0.9791 - val_loss: 0.0583 - val_acc: 0.9806\n",
      "Epoch 198/200\n",
      "15/15 [==============================] - 0s 5ms/step - loss: 0.0590 - acc: 0.9749 - val_loss: 0.0634 - val_acc: 0.9660\n",
      "Epoch 199/200\n",
      "15/15 [==============================] - 0s 5ms/step - loss: 0.0670 - acc: 0.9729 - val_loss: 0.0590 - val_acc: 0.9854\n",
      "Epoch 200/200\n",
      "15/15 [==============================] - 0s 5ms/step - loss: 0.0588 - acc: 0.9791 - val_loss: 0.0587 - val_acc: 0.9709\n"
     ]
    }
   ],
   "source": [
    "history2 = model2.fit(치수2_train_scaled[:th], 체형2_train[:th], validation_data=(치수2_train_scaled[th:], 체형2_train[th:]), epochs = 200, callbacks = [model_check_point2])"
   ]
  },
  {
   "cell_type": "code",
   "execution_count": 25,
   "id": "dea7e103",
   "metadata": {},
   "outputs": [
    {
     "data": {
      "text/plain": [
       "<AxesSubplot:>"
      ]
     },
     "execution_count": 25,
     "metadata": {},
     "output_type": "execute_result"
    },
    {
     "data": {
      "image/png": "[encoded data removed]",
      "text/plain": [
       "<Figure size 640x480 with 1 Axes>"
      ]
     },
     "metadata": {},
     "output_type": "display_data"
    },
    {
     "data": {
      "image/png": "[encoded data removed]",
      "text/plain": [
       "<Figure size 640x480 with 1 Axes>"
      ]
     },
     "metadata": {},
     "output_type": "display_data"
    }
   ],
   "source": [
    "results = pd.DataFrame(history2.history)\n",
    "results[['loss', 'val_loss']].plot()\n",
    "train_results[['acc','val_acc']].plot()"
   ]
  },
  {
   "cell_type": "code",
   "execution_count": 26,
   "id": "609813f6",
   "metadata": {},
   "outputs": [
    {
     "data": {
      "text/plain": [
       "<tensorflow.python.training.tracking.util.CheckpointLoadStatus at 0x282bee9ab50>"
      ]
     },
     "execution_count": 26,
     "metadata": {},
     "output_type": "execute_result"
    }
   ],
   "source": [
    "model2.load_weights(checkpoint_path2)"
   ]
  },
  {
   "cell_type": "code",
   "execution_count": 27,
   "id": "e25faa62",
   "metadata": {},
   "outputs": [
    {
     "name": "stdout",
     "output_type": "stream",
     "text": [
      "15/15 [==============================] - 0s 2ms/step\n",
      "7/7 [==============================] - 0s 3ms/step\n",
      "학습 데이터:473 of 479 are correct [98.74739039665971%]\n",
      "검증 데이터:202 of 206 are correct [98.05825242718447%]\n"
     ]
    }
   ],
   "source": [
    "학습2 = model2.predict(치수2_train_scaled[:th])\n",
    "검증2 = model2.predict(치수2_train_scaled[th:])\n",
    "\n",
    "학습데이터2 = np.argmax(학습2, axis = 1)\n",
    "검증데이터2 = np.argmax(검증2, axis = 1)\n",
    "cnt_학습2 = 0\n",
    "cnt_검증2 = 0\n",
    "for i,j in zip(학습데이터2, 체형2_train[:th]):\n",
    "    if(i==j):\n",
    "        cnt_학습2 = cnt_학습2 +1\n",
    "print(f'학습 데이터:{cnt_학습2} of {치수2_train_scaled[:th].shape[0]} are correct [{cnt_학습2/치수2_train_scaled[:th].shape[0]*100}%]')\n",
    "\n",
    "for i,j in zip(검증데이터2, 체형2_train[th:]):\n",
    "    if(i==j):\n",
    "        cnt_검증2 = cnt_검증2 +1\n",
    "print(f'검증 데이터:{cnt_검증2} of {치수2_train_scaled[th:].shape[0]} are correct [{cnt_검증2/치수2_train_scaled[th:].shape[0]*100}%]')"
   ]
  },
  {
   "cell_type": "code",
   "execution_count": null,
   "id": "b308ee43",
   "metadata": {},
   "outputs": [],
   "source": []
  },
  {
   "cell_type": "code",
   "execution_count": 28,
   "id": "ec9a93d0",
   "metadata": {},
   "outputs": [
    {
     "name": "stdout",
     "output_type": "stream",
     "text": [
      "10/10 [==============================] - 0s 1ms/step\n",
      "286 of 294 are correct [97.27891156462584%]\n"
     ]
    }
   ],
   "source": [
    "Y2_pred = model2.predict(minmax_scaler.transform(치수2_test))\n",
    "체형2_pred = np.argmax(Y2_pred, axis=1)\n",
    "cnt2 = 0\n",
    "for i, j in zip(체형2_test, 체형2_pred):\n",
    "    if(i ==j ):\n",
    "        cnt2 = cnt2 +1\n",
    "print(f'{cnt2} of {체형2_test.shape[0]} are correct [{cnt2/체형2_test.shape[0]*100}%]')\n"
   ]
  },
  {
   "cell_type": "code",
   "execution_count": 29,
   "id": "89057208",
   "metadata": {},
   "outputs": [
    {
     "name": "stdout",
     "output_type": "stream",
     "text": [
      "89.51149425287356%   97.27891156462584%\n"
     ]
    }
   ],
   "source": [
    "print(f'{cnt/체형_train.shape[0]*100}%   {cnt2/체형2_test.shape[0]*100}%')"
   ]
  },
  {
   "cell_type": "code",
   "execution_count": 30,
   "id": "cd2aabdc",
   "metadata": {},
   "outputs": [
    {
     "name": "stdout",
     "output_type": "stream",
     "text": [
      "22/22 [==============================] - 0s 2ms/step - loss: 0.2586 - acc: 0.8951\n"
     ]
    },
    {
     "data": {
      "text/plain": [
       "[0.2585762143135071, 0.8951149582862854]"
      ]
     },
     "execution_count": 30,
     "metadata": {},
     "output_type": "execute_result"
    }
   ],
   "source": [
    "model.evaluate(치수_scaled[shuff], 체형_train[shuff])"
   ]
  },
  {
   "cell_type": "code",
   "execution_count": 31,
   "id": "a5cd38b6",
   "metadata": {},
   "outputs": [
    {
     "name": "stdout",
     "output_type": "stream",
     "text": [
      "10/10 [==============================] - 0s 2ms/step - loss: 0.0786 - acc: 0.9728\n"
     ]
    },
    {
     "data": {
      "text/plain": [
       "[0.07861223071813583, 0.9727891087532043]"
      ]
     },
     "execution_count": 31,
     "metadata": {},
     "output_type": "execute_result"
    }
   ],
   "source": [
    "model2.evaluate(minmax_scaler.transform(치수2_test), 체형2_test)"
   ]
  },
  {
   "cell_type": "code",
   "execution_count": null,
   "id": "9c7e8fb7",
   "metadata": {},
   "outputs": [],
   "source": []
  }
 ],
 "metadata": {
  "kernelspec": {
   "display_name": "Python 3 (ipykernel)",
   "language": "python",
   "name": "python3"
  },
  "language_info": {
   "codemirror_mode": {
    "name": "ipython",
    "version": 3
   },
   "file_extension": ".py",
   "mimetype": "text/x-python",
   "name": "python",
   "nbconvert_exporter": "python",
   "pygments_lexer": "ipython3",
   "version": "3.9.15"
  }
 },
 "nbformat": 4,
 "nbformat_minor": 5
}
