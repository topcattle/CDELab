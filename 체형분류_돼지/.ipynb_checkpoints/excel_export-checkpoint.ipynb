{
 "cells": [
  {
   "cell_type": "code",
   "execution_count": 12,
   "id": "250e65a0",
   "metadata": {},
   "outputs": [],
   "source": [
    "import pandas as pd\n",
    "import matplotlib.pyplot as plt\n",
    "%matplotlib inline\n",
    "import numpy as np\n",
    "from tensorflow.keras.losses import sparse_categorical_crossentropy\n",
    "from tensorflow.keras.optimizers import SGD\n",
    "from keras.utils import np_utils\n",
    "from tensorflow.keras import Sequential, layers, losses, optimizers, models\n",
    "import tensorflow as tf\n",
    "import os\n",
    "os.environ['KMP_DUPLICATE_LIB_OK']='True'"
   ]
  },
  {
   "cell_type": "code",
   "execution_count": 13,
   "id": "c9cc98ca",
   "metadata": {},
   "outputs": [],
   "source": [
    "excel_data=pd.read_excel('돼지치수_70마리_1022개.xlsx', sheet_name='체형데이터_1022', header=1)"
   ]
  },
  {
   "cell_type": "code",
   "execution_count": 14,
   "id": "6dbae895",
   "metadata": {
    "scrolled": true
   },
   "outputs": [
    {
     "name": "stdout",
     "output_type": "stream",
     "text": [
      "치수_shape = (1022, 38)\n",
      "체형_shape = (1022,)\n"
     ]
    }
   ],
   "source": [
    "num_data = excel_data.to_numpy()\n",
    "Corr = num_data[0,1:]\n",
    "돼지파일명 = num_data[1:,0]\n",
    "치수 = num_data[1:,1:-1]\n",
    "체형 = num_data[1:,-1].astype('float32')\n",
    "print(f'치수_shape = {치수.shape}\\n체형_shape = {체형.shape}') #35개의 선별 치수 + 둘레, 폭, 높이당 면적\n",
    "치수_train, 체형_train, 치수_test, 체형_test = 치수[:696], 체형[:696], 치수[696:], 체형[696:]"
   ]
  },
  {
   "cell_type": "code",
   "execution_count": 15,
   "id": "65aaa83e",
   "metadata": {},
   "outputs": [],
   "source": [
    "from pickle import load\n",
    "load_minmax_scaler = load(open('./minmax_scaler.pkl', 'rb'))"
   ]
  },
  {
   "cell_type": "code",
   "execution_count": 16,
   "id": "bd42d776",
   "metadata": {},
   "outputs": [],
   "source": [
    "치수_scaled = load_minmax_scaler.transform(치수_train)"
   ]
  },
  {
   "cell_type": "code",
   "execution_count": 17,
   "id": "dda93519",
   "metadata": {},
   "outputs": [
    {
     "name": "stdout",
     "output_type": "stream",
     "text": [
      "Model: \"sequential\"\n",
      "_________________________________________________________________\n",
      " Layer (type)                Output Shape              Param #   \n",
      "=================================================================\n",
      " dense (Dense)               (None, 38)                1482      \n",
      "                                                                 \n",
      " dense_1 (Dense)             (None, 19)                741       \n",
      "                                                                 \n",
      " dense_2 (Dense)             (None, 19)                380       \n",
      "                                                                 \n",
      " dense_3 (Dense)             (None, 9)                 180       \n",
      "                                                                 \n",
      " dense_4 (Dense)             (None, 4)                 40        \n",
      "                                                                 \n",
      "=================================================================\n",
      "Total params: 2,823\n",
      "Trainable params: 2,823\n",
      "Non-trainable params: 0\n",
      "_________________________________________________________________\n"
     ]
    }
   ],
   "source": [
    "checkpoint_path = './temp2/checkpoint.ckpt'\n",
    "optimizer = optimizers.Adam()\n",
    "model = Sequential()\n",
    "model_check_point = tf.keras.callbacks.ModelCheckpoint(\n",
    "    filepath = checkpoint_path, monitor='val_loss', verbose=0, save_best_only=True,\n",
    "    save_weights_only=True, mode='auto', save_freq='epoch', options=None)\n",
    "model.add(tf.keras.layers.Dense(38, input_dim =38,activation = 'relu'))\n",
    "model.add(tf.keras.layers.Dense(19,activation = 'relu'))\n",
    "model.add(tf.keras.layers.Dense(19,activation = 'relu'))\n",
    "model.add(tf.keras.layers.Dense(9,activation = 'relu'))\n",
    "model.add(tf.keras.layers.Dense(4,  activation='softmax'))\n",
    "model.compile(\n",
    "    loss=sparse_categorical_crossentropy, \n",
    "    optimizer=optimizer, \n",
    "    metrics=['acc'])\n",
    "model.summary()"
   ]
  },
  {
   "cell_type": "code",
   "execution_count": 18,
   "id": "7d802bcd",
   "metadata": {},
   "outputs": [
    {
     "data": {
      "text/plain": [
       "<tensorflow.python.training.tracking.util.CheckpointLoadStatus at 0x27c20a42220>"
      ]
     },
     "execution_count": 18,
     "metadata": {},
     "output_type": "execute_result"
    }
   ],
   "source": [
    "model.load_weights(checkpoint_path)"
   ]
  },
  {
   "cell_type": "code",
   "execution_count": 19,
   "id": "c00ee2b3",
   "metadata": {},
   "outputs": [],
   "source": [
    "X_Unlabeled_test = load_minmax_scaler.transform(치수_test)"
   ]
  },
  {
   "cell_type": "code",
   "execution_count": 20,
   "id": "9f7e93ec",
   "metadata": {},
   "outputs": [
    {
     "name": "stdout",
     "output_type": "stream",
     "text": [
      "11/11 [==============================] - 0s 1ms/step\n"
     ]
    }
   ],
   "source": [
    "Y_Unlabeled_pred = model.predict(X_Unlabeled_test)\n",
    "Y_Unlabeled_pred = np.argmax(Y_Unlabeled_pred, axis=1)"
   ]
  },
  {
   "cell_type": "code",
   "execution_count": 21,
   "id": "eda58974",
   "metadata": {},
   "outputs": [],
   "source": [
    "체형_test = Y_Unlabeled_pred"
   ]
  },
  {
   "cell_type": "code",
   "execution_count": 22,
   "id": "a850b941",
   "metadata": {},
   "outputs": [],
   "source": [
    "X_merge = np.concatenate((치수_train, 치수_test), axis = 0)\n",
    "y_merge = np.concatenate((체형_train, 체형_test))"
   ]
  },
  {
   "cell_type": "code",
   "execution_count": 23,
   "id": "3ee38726",
   "metadata": {},
   "outputs": [
    {
     "data": {
      "text/plain": [
       "array([3, 2, 2, 2, 2, 2, 2, 3, 3, 3, 2, 2, 3, 3, 3, 3, 1, 1, 1, 1, 3, 3,\n",
       "       3, 3, 3, 3, 3, 2, 2, 2, 2, 2, 2, 2, 2, 2, 2, 2, 2, 2, 2, 2, 2, 2,\n",
       "       2, 2, 2, 3, 3, 3, 3, 3, 3, 3, 3, 3, 3, 2, 3, 3, 3, 2, 2, 2, 2, 2,\n",
       "       2, 2, 2, 2, 3, 3, 3, 3, 3, 3, 3, 3, 3, 3, 3, 3, 3, 3, 3, 2, 2, 2,\n",
       "       2, 1, 1, 1, 1, 1, 1, 1, 1, 1, 1, 1, 1, 1, 2, 2, 2, 2, 2, 2, 2, 2,\n",
       "       2, 2, 2, 2, 2, 2, 2, 2, 2, 2, 2, 2, 2, 2, 2, 2, 2, 2, 2, 2, 2, 2,\n",
       "       2, 2, 2, 2, 1, 1, 1, 1, 1, 1, 1, 1, 1, 1, 1, 1, 1, 1, 1, 1, 1, 1,\n",
       "       1, 1, 1, 1, 1, 1, 1, 1, 1, 1, 1, 1, 1, 1, 1, 1, 1, 1, 1, 1, 1, 1,\n",
       "       1, 1, 1, 1, 1, 2, 2, 1, 2, 2, 2, 1, 1, 1, 3, 3, 3, 3, 3, 3, 3, 3,\n",
       "       3, 3, 3, 3, 3, 3, 3, 3, 3, 3, 2, 2, 2, 2, 2, 2, 2, 2, 2, 2, 2, 2,\n",
       "       2, 2, 2, 2, 2, 3, 3, 3, 3, 3, 3, 3, 3, 3, 3, 3, 3, 3, 3, 3, 3, 2,\n",
       "       2, 2, 2, 3, 3, 3, 3, 3, 2, 3, 3, 3, 2, 3, 3, 3, 2, 2, 2, 2, 2, 2,\n",
       "       2, 2, 2, 2, 2, 2, 2, 2, 2, 2, 2, 2, 2, 2, 2, 2, 2, 2, 2, 2, 2, 2,\n",
       "       2, 2, 2, 2, 2, 2, 3, 2, 3, 3, 3, 3, 3, 3, 3, 2, 2, 2, 2, 2, 2, 3,\n",
       "       3, 2, 2, 2, 2, 2, 2, 2, 2, 2, 2, 2, 2, 2, 2, 2, 2, 2], dtype=int64)"
      ]
     },
     "execution_count": 23,
     "metadata": {},
     "output_type": "execute_result"
    }
   ],
   "source": [
    "Y_Unlabeled_pred"
   ]
  },
  {
   "cell_type": "code",
   "execution_count": null,
   "id": "4a9cc37e",
   "metadata": {},
   "outputs": [],
   "source": []
  },
  {
   "cell_type": "code",
   "execution_count": 24,
   "id": "5a2f6032",
   "metadata": {},
   "outputs": [],
   "source": [
    "y_merge = np.reshape(y_merge,(1022,1))"
   ]
  },
  {
   "cell_type": "code",
   "execution_count": 25,
   "id": "edd8bada",
   "metadata": {},
   "outputs": [],
   "source": [
    "#y_merge = np.reshape(y_merge, (X_merge.shape[0],1))"
   ]
  },
  {
   "cell_type": "code",
   "execution_count": 26,
   "id": "6570fc0c",
   "metadata": {},
   "outputs": [],
   "source": [
    "data_merge = np.concatenate((X_merge,y_merge), axis = 1)\n",
    "data_merge = pd.DataFrame(data_merge)"
   ]
  },
  {
   "cell_type": "code",
   "execution_count": 27,
   "id": "d143810e",
   "metadata": {},
   "outputs": [
    {
     "data": {
      "text/plain": [
       "(1022, 39)"
      ]
     },
     "execution_count": 27,
     "metadata": {},
     "output_type": "execute_result"
    }
   ],
   "source": [
    "data_merge.shape"
   ]
  },
  {
   "cell_type": "code",
   "execution_count": null,
   "id": "1ed56d57",
   "metadata": {},
   "outputs": [],
   "source": []
  },
  {
   "cell_type": "code",
   "execution_count": 28,
   "id": "da1b5ad6",
   "metadata": {},
   "outputs": [],
   "source": [
    "data_DataFrame = pd.DataFrame(data_merge)"
   ]
  },
  {
   "cell_type": "code",
   "execution_count": 29,
   "id": "c284215c",
   "metadata": {},
   "outputs": [],
   "source": [
    "data_DataFrame.to_excel('Data_result.xlsx')"
   ]
  },
  {
   "cell_type": "code",
   "execution_count": null,
   "id": "edd687bb",
   "metadata": {},
   "outputs": [],
   "source": []
  }
 ],
 "metadata": {
  "kernelspec": {
   "display_name": "Python 3 (ipykernel)",
   "language": "python",
   "name": "python3"
  },
  "language_info": {
   "codemirror_mode": {
    "name": "ipython",
    "version": 3
   },
   "file_extension": ".py",
   "mimetype": "text/x-python",
   "name": "python",
   "nbconvert_exporter": "python",
   "pygments_lexer": "ipython3",
   "version": "3.9.15"
  }
 },
 "nbformat": 4,
 "nbformat_minor": 5
}
