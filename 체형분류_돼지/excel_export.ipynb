{
 "cells": [
  {
   "cell_type": "code",
   "execution_count": 32,
   "id": "250e65a0",
   "metadata": {},
   "outputs": [],
   "source": [
    "import pandas as pd\n",
    "import matplotlib.pyplot as plt\n",
    "%matplotlib inline\n",
    "import numpy as np\n",
    "from sklearn.preprocessing import MinMaxScaler\n",
    "from tensorflow.keras.losses import sparse_categorical_crossentropy\n",
    "from tensorflow.keras.optimizers import SGD\n",
    "from keras.utils import np_utils\n",
    "from tensorflow.keras import Sequential, layers, losses, optimizers, models\n",
    "import tensorflow as tf\n",
    "import os\n",
    "from csv import reader\n",
    "os.environ['KMP_DUPLICATE_LIB_OK']='True'"
   ]
  },
  {
   "cell_type": "code",
   "execution_count": 33,
   "id": "b6b8e3c1",
   "metadata": {},
   "outputs": [],
   "source": [
    "seed_num = 128\n",
    "import random as python_random\n",
    "np.random.seed(seed_num)\n",
    "python_random.seed(seed_num)\n",
    "tf.random.set_seed(seed_num)\n",
    "from pickle import load\n",
    "load_minmax_scaler = load(open('./minmax_scaler.pkl', 'rb'))"
   ]
  },
  {
   "cell_type": "code",
   "execution_count": 34,
   "id": "33e318c4",
   "metadata": {},
   "outputs": [
    {
     "name": "stdout",
     "output_type": "stream",
     "text": [
      "Model: \"sequential_1\"\n",
      "_________________________________________________________________\n",
      " Layer (type)                Output Shape              Param #   \n",
      "=================================================================\n",
      " dense_5 (Dense)             (None, 38)                1482      \n",
      "                                                                 \n",
      " dense_6 (Dense)             (None, 19)                741       \n",
      "                                                                 \n",
      " dense_7 (Dense)             (None, 19)                380       \n",
      "                                                                 \n",
      " dense_8 (Dense)             (None, 9)                 180       \n",
      "                                                                 \n",
      " dense_9 (Dense)             (None, 3)                 30        \n",
      "                                                                 \n",
      "=================================================================\n",
      "Total params: 2,813\n",
      "Trainable params: 2,813\n",
      "Non-trainable params: 0\n",
      "_________________________________________________________________\n"
     ]
    },
    {
     "data": {
      "text/plain": [
       "<tensorflow.python.training.tracking.util.CheckpointLoadStatus at 0x215e2f1efa0>"
      ]
     },
     "execution_count": 34,
     "metadata": {},
     "output_type": "execute_result"
    }
   ],
   "source": [
    "checkpoint_path = './temp2/checkpoint.ckpt'\n",
    "optimizer = optimizers.Adam()\n",
    "model = Sequential()\n",
    "model.add(tf.keras.layers.Dense(38, input_dim =38,activation = 'relu'))\n",
    "model.add(tf.keras.layers.Dense(19,activation = 'relu'))\n",
    "model.add(tf.keras.layers.Dense(19,activation = 'relu'))\n",
    "model.add(tf.keras.layers.Dense(9,activation = 'relu'))\n",
    "model.add(tf.keras.layers.Dense(3,  activation='softmax'))\n",
    "model.compile(\n",
    "    loss=sparse_categorical_crossentropy, \n",
    "    optimizer=optimizer, \n",
    "    metrics=['acc'])\n",
    "model.summary()\n",
    "model.load_weights(checkpoint_path)"
   ]
  },
  {
   "cell_type": "code",
   "execution_count": 35,
   "id": "b36535ab",
   "metadata": {},
   "outputs": [],
   "source": [
    "excel_data=pd.read_csv('ResultWeight_MainDimension.csv',header=None)"
   ]
  },
  {
   "cell_type": "code",
   "execution_count": 36,
   "id": "8fdbca09",
   "metadata": {},
   "outputs": [],
   "source": [
    "num_data = excel_data.to_numpy()\n",
    "inx = [1,3,4,5,6,7,8,9,10,11,12,13,14,15,16,18,20,22,24,25,26,27,28,29,30,31,32,33,34,35,36]\n",
    "data1 = num_data[:,inx]"
   ]
  },
  {
   "cell_type": "code",
   "execution_count": 37,
   "id": "66946a50",
   "metadata": {},
   "outputs": [],
   "source": [
    "폭 = np.average(num_data[:,37:41],axis=1)\n",
    "높이 = np.average(num_data[:,41:45],axis=1)\n",
    "면적 = np.average(num_data[:,49:53],axis=1)\n",
    "둘레 = np.average(num_data[:,53:57],axis=1)\n",
    "\n",
    "면적둘레 = 면적/둘레\n",
    "면적폭 = 면적/폭\n",
    "면적높이 = 면적/높이\n",
    "폭=np.reshape(폭,(num_data.shape[0],1))\n",
    "높이=np.reshape(높이,(num_data.shape[0],1))\n",
    "면적=np.reshape(면적,(num_data.shape[0],1))\n",
    "둘레=np.reshape(둘레,(num_data.shape[0],1))\n",
    "면적둘레=np.reshape(면적둘레,(num_data.shape[0],1))\n",
    "면적폭=np.reshape(면적폭,(num_data.shape[0],1))\n",
    "면적높이=np.reshape(면적높이,(num_data.shape[0],1))"
   ]
  },
  {
   "cell_type": "code",
   "execution_count": 38,
   "id": "00e36b04",
   "metadata": {},
   "outputs": [
    {
     "data": {
      "text/plain": [
       "array([980.01, 428.64, 347.59, 598.48, 160031.48, 1587.94, 355.86, 373.59,\n",
       "       619.81, 632.45, 175869.68, 189565.66, 1613.3, 1655.67, 388.17,\n",
       "       626.65, 202825.1, 1672.26, 381.94, 386.67, 604.5, 623.24,\n",
       "       186301.44, 202817.26, 1622.83, 1674.97, 423.54, 373.74, 590.59,\n",
       "       183721.06, 1644.1, 296.305, 463.41999999999996, 143775.5325,\n",
       "       1238.425, 116.0954700526879, 485.2281686100471, 310.2488725130551,\n",
       "       279, 2], dtype=object)"
      ]
     },
     "execution_count": 38,
     "metadata": {},
     "output_type": "execute_result"
    }
   ],
   "source": [
    "data2 = np.concatenate((data1,폭,높이,면적,둘레,면적둘레,면적폭,면적높이,num_data[:,57:59]),axis=1)\n",
    "data2[0]"
   ]
  },
  {
   "cell_type": "code",
   "execution_count": 39,
   "id": "8bb39e6f",
   "metadata": {},
   "outputs": [
    {
     "name": "stdout",
     "output_type": "stream",
     "text": [
      "치수_shape = (100, 38)\n",
      "체형_shape = (100,)\n"
     ]
    }
   ],
   "source": [
    "num_data2 = data2\n",
    "\n",
    "돼지파일명 = num_data[0:,0]\n",
    "치수 = num_data2[0:,0:-2]\n",
    "체형 = num_data2[0:,-1].astype('float32')\n",
    "print(f'치수_shape = {치수.shape}\\n체형_shape = {체형.shape}') #35개의 선별 치수 + 둘레, 폭, 높이당 면적"
   ]
  },
  {
   "cell_type": "code",
   "execution_count": 40,
   "id": "d33460e6",
   "metadata": {},
   "outputs": [
    {
     "name": "stdout",
     "output_type": "stream",
     "text": [
      "4/4 [==============================] - 0s 4ms/step\n"
     ]
    }
   ],
   "source": [
    "result = model.predict(load_minmax_scaler.transform(치수))\n",
    "Results = np.argmax(result,axis =1)\n",
    "Results = Results +1"
   ]
  },
  {
   "cell_type": "code",
   "execution_count": 41,
   "id": "2884fe32",
   "metadata": {},
   "outputs": [
    {
     "name": "stdout",
     "output_type": "stream",
     "text": [
      "acc is 47.0\n"
     ]
    }
   ],
   "source": [
    "cnt =0\n",
    "\n",
    "for i in range(100):\n",
    "    if(Results[i] == 체형[i]):\n",
    "        cnt = cnt +1\n",
    "print(f\"acc is {cnt/100*100}\")"
   ]
  },
  {
   "cell_type": "code",
   "execution_count": 42,
   "id": "cb6137ae",
   "metadata": {},
   "outputs": [
    {
     "data": {
      "text/plain": [
       "array([2, 2, 3, 3, 3, 2, 1, 2, 2, 2, 2, 2, 2, 2, 2, 2, 2, 2, 2, 1, 2, 2,\n",
       "       2, 2, 2, 1, 1, 1, 1, 2, 2, 3, 2, 2, 3, 3, 3, 2, 2, 3, 3, 1, 1, 1,\n",
       "       1, 1, 1, 2, 2, 2, 2, 2, 3, 3, 2, 1, 1, 1, 1, 1, 1, 1, 1, 1, 1, 1,\n",
       "       1, 2, 2, 2, 1, 1, 1, 1, 1, 1, 1, 1, 1, 2, 2, 1, 1, 2, 2, 1, 1, 1,\n",
       "       1, 1, 2, 1, 1, 1, 2, 1, 1, 2, 2, 2], dtype=int64)"
      ]
     },
     "execution_count": 42,
     "metadata": {},
     "output_type": "execute_result"
    }
   ],
   "source": [
    "Results"
   ]
  },
  {
   "cell_type": "code",
   "execution_count": null,
   "id": "d39ed209",
   "metadata": {},
   "outputs": [],
   "source": []
  },
  {
   "cell_type": "code",
   "execution_count": null,
   "id": "db6a650b",
   "metadata": {},
   "outputs": [],
   "source": []
  },
  {
   "cell_type": "code",
   "execution_count": 13,
   "id": "c9cc98ca",
   "metadata": {},
   "outputs": [],
   "source": [
    "excel_data=pd.read_excel('돼지치수_70마리_1022개.xlsx', sheet_name='체형데이터_1022', header=1)"
   ]
  },
  {
   "cell_type": "code",
   "execution_count": 14,
   "id": "6dbae895",
   "metadata": {
    "scrolled": true
   },
   "outputs": [
    {
     "name": "stdout",
     "output_type": "stream",
     "text": [
      "치수_shape = (1022, 38)\n",
      "체형_shape = (1022,)\n"
     ]
    }
   ],
   "source": [
    "num_data = excel_data.to_numpy()\n",
    "Corr = num_data[0,1:]\n",
    "돼지파일명 = num_data[1:,0]\n",
    "치수 = num_data[1:,1:-1]\n",
    "체형 = num_data[1:,-1].astype('float32')\n",
    "print(f'치수_shape = {치수.shape}\\n체형_shape = {체형.shape}') #35개의 선별 치수 + 둘레, 폭, 높이당 면적\n",
    "치수_train, 체형_train, 치수_test, 체형_test = 치수[:696], 체형[:696], 치수[696:], 체형[696:]"
   ]
  },
  {
   "cell_type": "code",
   "execution_count": 15,
   "id": "65aaa83e",
   "metadata": {},
   "outputs": [],
   "source": [
    "from pickle import load\n",
    "load_minmax_scaler = load(open('./minmax_scaler.pkl', 'rb'))"
   ]
  },
  {
   "cell_type": "code",
   "execution_count": 16,
   "id": "bd42d776",
   "metadata": {},
   "outputs": [],
   "source": [
    "치수_scaled = load_minmax_scaler.transform(치수_train)"
   ]
  },
  {
   "cell_type": "code",
   "execution_count": 17,
   "id": "dda93519",
   "metadata": {},
   "outputs": [
    {
     "name": "stdout",
     "output_type": "stream",
     "text": [
      "Model: \"sequential\"\n",
      "_________________________________________________________________\n",
      " Layer (type)                Output Shape              Param #   \n",
      "=================================================================\n",
      " dense (Dense)               (None, 38)                1482      \n",
      "                                                                 \n",
      " dense_1 (Dense)             (None, 19)                741       \n",
      "                                                                 \n",
      " dense_2 (Dense)             (None, 19)                380       \n",
      "                                                                 \n",
      " dense_3 (Dense)             (None, 9)                 180       \n",
      "                                                                 \n",
      " dense_4 (Dense)             (None, 4)                 40        \n",
      "                                                                 \n",
      "=================================================================\n",
      "Total params: 2,823\n",
      "Trainable params: 2,823\n",
      "Non-trainable params: 0\n",
      "_________________________________________________________________\n"
     ]
    }
   ],
   "source": [
    "checkpoint_path = './temp2/checkpoint.ckpt'\n",
    "optimizer = optimizers.Adam()\n",
    "model = Sequential()\n",
    "model_check_point = tf.keras.callbacks.ModelCheckpoint(\n",
    "    filepath = checkpoint_path, monitor='val_loss', verbose=0, save_best_only=True,\n",
    "    save_weights_only=True, mode='auto', save_freq='epoch', options=None)\n",
    "model.add(tf.keras.layers.Dense(38, input_dim =38,activation = 'relu'))\n",
    "model.add(tf.keras.layers.Dense(19,activation = 'relu'))\n",
    "model.add(tf.keras.layers.Dense(19,activation = 'relu'))\n",
    "model.add(tf.keras.layers.Dense(9,activation = 'relu'))\n",
    "model.add(tf.keras.layers.Dense(4,  activation='softmax'))\n",
    "model.compile(\n",
    "    loss=sparse_categorical_crossentropy, \n",
    "    optimizer=optimizer, \n",
    "    metrics=['acc'])\n",
    "model.summary()"
   ]
  },
  {
   "cell_type": "code",
   "execution_count": 18,
   "id": "7d802bcd",
   "metadata": {},
   "outputs": [
    {
     "data": {
      "text/plain": [
       "<tensorflow.python.training.tracking.util.CheckpointLoadStatus at 0x27c20a42220>"
      ]
     },
     "execution_count": 18,
     "metadata": {},
     "output_type": "execute_result"
    }
   ],
   "source": [
    "model.load_weights(checkpoint_path)"
   ]
  },
  {
   "cell_type": "code",
   "execution_count": 19,
   "id": "c00ee2b3",
   "metadata": {},
   "outputs": [],
   "source": [
    "X_Unlabeled_test = load_minmax_scaler.transform(치수_test)"
   ]
  },
  {
   "cell_type": "code",
   "execution_count": 20,
   "id": "9f7e93ec",
   "metadata": {},
   "outputs": [
    {
     "name": "stdout",
     "output_type": "stream",
     "text": [
      "11/11 [==============================] - 0s 1ms/step\n"
     ]
    }
   ],
   "source": [
    "Y_Unlabeled_pred = model.predict(X_Unlabeled_test)\n",
    "Y_Unlabeled_pred = np.argmax(Y_Unlabeled_pred, axis=1)"
   ]
  },
  {
   "cell_type": "code",
   "execution_count": 21,
   "id": "eda58974",
   "metadata": {},
   "outputs": [],
   "source": [
    "체형_test = Y_Unlabeled_pred"
   ]
  },
  {
   "cell_type": "code",
   "execution_count": 22,
   "id": "a850b941",
   "metadata": {},
   "outputs": [],
   "source": [
    "X_merge = np.concatenate((치수_train, 치수_test), axis = 0)\n",
    "y_merge = np.concatenate((체형_train, 체형_test))"
   ]
  },
  {
   "cell_type": "code",
   "execution_count": 23,
   "id": "3ee38726",
   "metadata": {},
   "outputs": [
    {
     "data": {
      "text/plain": [
       "array([3, 2, 2, 2, 2, 2, 2, 3, 3, 3, 2, 2, 3, 3, 3, 3, 1, 1, 1, 1, 3, 3,\n",
       "       3, 3, 3, 3, 3, 2, 2, 2, 2, 2, 2, 2, 2, 2, 2, 2, 2, 2, 2, 2, 2, 2,\n",
       "       2, 2, 2, 3, 3, 3, 3, 3, 3, 3, 3, 3, 3, 2, 3, 3, 3, 2, 2, 2, 2, 2,\n",
       "       2, 2, 2, 2, 3, 3, 3, 3, 3, 3, 3, 3, 3, 3, 3, 3, 3, 3, 3, 2, 2, 2,\n",
       "       2, 1, 1, 1, 1, 1, 1, 1, 1, 1, 1, 1, 1, 1, 2, 2, 2, 2, 2, 2, 2, 2,\n",
       "       2, 2, 2, 2, 2, 2, 2, 2, 2, 2, 2, 2, 2, 2, 2, 2, 2, 2, 2, 2, 2, 2,\n",
       "       2, 2, 2, 2, 1, 1, 1, 1, 1, 1, 1, 1, 1, 1, 1, 1, 1, 1, 1, 1, 1, 1,\n",
       "       1, 1, 1, 1, 1, 1, 1, 1, 1, 1, 1, 1, 1, 1, 1, 1, 1, 1, 1, 1, 1, 1,\n",
       "       1, 1, 1, 1, 1, 2, 2, 1, 2, 2, 2, 1, 1, 1, 3, 3, 3, 3, 3, 3, 3, 3,\n",
       "       3, 3, 3, 3, 3, 3, 3, 3, 3, 3, 2, 2, 2, 2, 2, 2, 2, 2, 2, 2, 2, 2,\n",
       "       2, 2, 2, 2, 2, 3, 3, 3, 3, 3, 3, 3, 3, 3, 3, 3, 3, 3, 3, 3, 3, 2,\n",
       "       2, 2, 2, 3, 3, 3, 3, 3, 2, 3, 3, 3, 2, 3, 3, 3, 2, 2, 2, 2, 2, 2,\n",
       "       2, 2, 2, 2, 2, 2, 2, 2, 2, 2, 2, 2, 2, 2, 2, 2, 2, 2, 2, 2, 2, 2,\n",
       "       2, 2, 2, 2, 2, 2, 3, 2, 3, 3, 3, 3, 3, 3, 3, 2, 2, 2, 2, 2, 2, 3,\n",
       "       3, 2, 2, 2, 2, 2, 2, 2, 2, 2, 2, 2, 2, 2, 2, 2, 2, 2], dtype=int64)"
      ]
     },
     "execution_count": 23,
     "metadata": {},
     "output_type": "execute_result"
    }
   ],
   "source": [
    "Y_Unlabeled_pred"
   ]
  },
  {
   "cell_type": "code",
   "execution_count": null,
   "id": "4a9cc37e",
   "metadata": {},
   "outputs": [],
   "source": []
  },
  {
   "cell_type": "code",
   "execution_count": 24,
   "id": "5a2f6032",
   "metadata": {},
   "outputs": [],
   "source": [
    "y_merge = np.reshape(y_merge,(1022,1))"
   ]
  },
  {
   "cell_type": "code",
   "execution_count": 25,
   "id": "edd8bada",
   "metadata": {},
   "outputs": [],
   "source": [
    "#y_merge = np.reshape(y_merge, (X_merge.shape[0],1))"
   ]
  },
  {
   "cell_type": "code",
   "execution_count": 26,
   "id": "6570fc0c",
   "metadata": {},
   "outputs": [],
   "source": [
    "data_merge = np.concatenate((X_merge,y_merge), axis = 1)\n",
    "data_merge = pd.DataFrame(data_merge)"
   ]
  },
  {
   "cell_type": "code",
   "execution_count": 27,
   "id": "d143810e",
   "metadata": {},
   "outputs": [
    {
     "data": {
      "text/plain": [
       "(1022, 39)"
      ]
     },
     "execution_count": 27,
     "metadata": {},
     "output_type": "execute_result"
    }
   ],
   "source": [
    "data_merge.shape"
   ]
  },
  {
   "cell_type": "code",
   "execution_count": null,
   "id": "1ed56d57",
   "metadata": {},
   "outputs": [],
   "source": []
  },
  {
   "cell_type": "code",
   "execution_count": 28,
   "id": "da1b5ad6",
   "metadata": {},
   "outputs": [],
   "source": [
    "data_DataFrame = pd.DataFrame(data_merge)"
   ]
  },
  {
   "cell_type": "code",
   "execution_count": 29,
   "id": "c284215c",
   "metadata": {},
   "outputs": [],
   "source": [
    "data_DataFrame.to_excel('Data_result.xlsx')"
   ]
  },
  {
   "cell_type": "code",
   "execution_count": null,
   "id": "edd687bb",
   "metadata": {},
   "outputs": [],
   "source": []
  }
 ],
 "metadata": {
  "kernelspec": {
   "display_name": "Python 3 (ipykernel)",
   "language": "python",
   "name": "python3"
  },
  "language_info": {
   "codemirror_mode": {
    "name": "ipython",
    "version": 3
   },
   "file_extension": ".py",
   "mimetype": "text/x-python",
   "name": "python",
   "nbconvert_exporter": "python",
   "pygments_lexer": "ipython3",
   "version": "3.9.15"
  }
 },
 "nbformat": 4,
 "nbformat_minor": 5
}
