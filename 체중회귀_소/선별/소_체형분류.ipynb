{
 "cells": [
  {
   "cell_type": "code",
   "execution_count": 358,
   "id": "897c2d62",
   "metadata": {},
   "outputs": [],
   "source": [
    "import pandas as pd\n",
    "import matplotlib.pyplot as plt\n",
    "%matplotlib inline\n",
    "import numpy as np\n",
    "from sklearn.preprocessing import MinMaxScaler\n",
    "from tensorflow.keras.losses import sparse_categorical_crossentropy\n",
    "from tensorflow.keras.optimizers import SGD\n",
    "from keras.utils import np_utils\n",
    "from tensorflow.keras import Sequential, layers, losses, optimizers, models\n",
    "import tensorflow as tf\n",
    "import os\n",
    "from sklearn.metrics import roc_curve\n",
    "import random as python_random\n",
    "os.environ['KMP_DUPLICATE_LIB_OK']='True'"
   ]
  },
  {
   "cell_type": "code",
   "execution_count": 359,
   "id": "f270b2c3",
   "metadata": {},
   "outputs": [],
   "source": [
    "seed_num = 1008  #394 1007 1008 \n",
    "np.random.seed(seed_num)\n",
    "python_random.seed(seed_num)\n",
    "tf.random.set_seed(seed_num)"
   ]
  },
  {
   "cell_type": "code",
   "execution_count": 360,
   "id": "374ed1b1",
   "metadata": {},
   "outputs": [],
   "source": [
    "excel_data=pd.read_excel('축우 치수데이터(20221129) - 체형추가.xlsx', sheet_name='ResultWeight_MainDimension', header=1)"
   ]
  },
  {
   "cell_type": "code",
   "execution_count": 361,
   "id": "af0a293f",
   "metadata": {},
   "outputs": [
    {
     "name": "stdout",
     "output_type": "stream",
     "text": [
      "치수_shape = (312, 23)\n",
      "체형_shape = (312,)\n"
     ]
    }
   ],
   "source": [
    "num_data = excel_data.to_numpy()\n",
    "Corr = num_data[1,3:]\n",
    "소파일명 = num_data[2:,2]\n",
    "치수 = num_data[2:,3:-1]\n",
    "체형 = num_data[2:,-1].astype('float32')\n",
    "print(f'치수_shape = {치수.shape}\\n체형_shape = {체형.shape}') #35개의 선별 치수 + 둘레, 폭, 높이당 면적"
   ]
  },
  {
   "cell_type": "code",
   "execution_count": 362,
   "id": "9c22f4eb",
   "metadata": {},
   "outputs": [
    {
     "data": {
      "text/plain": [
       "\"\\n#---scaler 불러오기---\\nfrom pickle import load\\nload_minmax_scaler = load(open('./minmax_scaler.pkl', 'rb'))\\n\""
      ]
     },
     "execution_count": 362,
     "metadata": {},
     "output_type": "execute_result"
    }
   ],
   "source": [
    "minmax_scaler = MinMaxScaler()\n",
    "minmax_scaler.fit(치수)\n",
    "\n",
    "치수_train, 체형_train, 치수_test, 체형_test = 치수[:212], 체형[:212], 치수[212:], 체형[212:]\n",
    "\n",
    "\n",
    "# ---scaler 저장---\n",
    "from pickle import dump\n",
    "dump(minmax_scaler, open('./minmax_scaler.pkl', 'wb'))\n",
    "\n",
    "'''\n",
    "#---scaler 불러오기---\n",
    "from pickle import load\n",
    "load_minmax_scaler = load(open('./minmax_scaler.pkl', 'rb'))\n",
    "'''"
   ]
  },
  {
   "cell_type": "code",
   "execution_count": 363,
   "id": "ae8fe8a2",
   "metadata": {},
   "outputs": [
    {
     "data": {
      "text/plain": [
       "(212, 23)"
      ]
     },
     "execution_count": 363,
     "metadata": {},
     "output_type": "execute_result"
    }
   ],
   "source": [
    "치수_train.shape"
   ]
  },
  {
   "cell_type": "code",
   "execution_count": 364,
   "id": "44e48791",
   "metadata": {},
   "outputs": [
    {
     "data": {
      "text/plain": [
       "(212, 23)"
      ]
     },
     "execution_count": 364,
     "metadata": {},
     "output_type": "execute_result"
    }
   ],
   "source": [
    "치수_scaled = minmax_scaler.transform(치수_train)\n",
    "치수_all_scaled = minmax_scaler.transform(치수)\n",
    "치수_scaled.shape"
   ]
  },
  {
   "cell_type": "code",
   "execution_count": 365,
   "id": "4318c3d7",
   "metadata": {},
   "outputs": [],
   "source": [
    "shuff = np.arange(치수_scaled.shape[0])\n",
    "np.random.shuffle(shuff)\n",
    "shuff_train, shuff_val = shuff[:round(shuff.shape[0]*0.7)], shuff[round(shuff.shape[0]*0.7):]"
   ]
  },
  {
   "cell_type": "code",
   "execution_count": 366,
   "id": "06c49643",
   "metadata": {},
   "outputs": [
    {
     "name": "stdout",
     "output_type": "stream",
     "text": [
      "Model: \"sequential_30\"\n",
      "_________________________________________________________________\n",
      " Layer (type)                Output Shape              Param #   \n",
      "=================================================================\n",
      " dense_149 (Dense)           (None, 23)                552       \n",
      "                                                                 \n",
      " dense_150 (Dense)           (None, 23)                552       \n",
      "                                                                 \n",
      " dense_151 (Dense)           (None, 11)                264       \n",
      "                                                                 \n",
      " dense_152 (Dense)           (None, 11)                132       \n",
      "                                                                 \n",
      " dense_153 (Dense)           (None, 5)                 60        \n",
      "                                                                 \n",
      "=================================================================\n",
      "Total params: 1,560\n",
      "Trainable params: 1,560\n",
      "Non-trainable params: 0\n",
      "_________________________________________________________________\n"
     ]
    }
   ],
   "source": [
    "checkpoint_path = './temp/checkpoint.ckpt'\n",
    "optimizer = optimizers.Adam()\n",
    "model = Sequential()\n",
    "model_check_point = tf.keras.callbacks.ModelCheckpoint(\n",
    "    filepath = checkpoint_path, monitor='val_loss', verbose=0, save_best_only=True,\n",
    "    save_weights_only=True, mode='auto', save_freq='epoch', options=None)\n",
    "model.add(tf.keras.layers.Dense(23, input_dim =23,activation = 'relu'))\n",
    "model.add(tf.keras.layers.Dense(23,activation = 'relu'))\n",
    "model.add(tf.keras.layers.Dense(11,activation = 'relu'))\n",
    "model.add(tf.keras.layers.Dense(11,activation = 'relu'))\n",
    "model.add(tf.keras.layers.Dense(5,  activation='softmax'))\n",
    "model.compile(\n",
    "    loss=sparse_categorical_crossentropy, \n",
    "    optimizer=optimizer, \n",
    "    metrics=['acc'])\n",
    "model.summary()"
   ]
  },
  {
   "cell_type": "code",
   "execution_count": null,
   "id": "31813ce8",
   "metadata": {},
   "outputs": [],
   "source": []
  },
  {
   "cell_type": "code",
   "execution_count": 367,
   "id": "b3f2f1e9",
   "metadata": {},
   "outputs": [
    {
     "name": "stdout",
     "output_type": "stream",
     "text": [
      "Epoch 1/200\n",
      "5/5 [==============================] - 1s 125ms/step - loss: 1.6181 - acc: 0.0135 - val_loss: 1.6041 - val_acc: 0.1875\n",
      "Epoch 2/200\n",
      "5/5 [==============================] - 0s 16ms/step - loss: 1.6006 - acc: 0.3649 - val_loss: 1.5912 - val_acc: 0.5938\n",
      "Epoch 3/200\n",
      "5/5 [==============================] - 0s 15ms/step - loss: 1.5909 - acc: 0.5811 - val_loss: 1.5805 - val_acc: 0.6250\n",
      "Epoch 4/200\n",
      "5/5 [==============================] - 0s 16ms/step - loss: 1.5808 - acc: 0.6014 - val_loss: 1.5664 - val_acc: 0.6250\n",
      "Epoch 5/200\n",
      "5/5 [==============================] - 0s 17ms/step - loss: 1.5695 - acc: 0.6081 - val_loss: 1.5521 - val_acc: 0.6250\n",
      "Epoch 6/200\n",
      "5/5 [==============================] - 0s 59ms/step - loss: 1.5574 - acc: 0.6081 - val_loss: 1.5358 - val_acc: 0.6250\n",
      "Epoch 7/200\n",
      "5/5 [==============================] - 0s 16ms/step - loss: 1.5432 - acc: 0.6081 - val_loss: 1.5173 - val_acc: 0.6250\n",
      "Epoch 8/200\n",
      "5/5 [==============================] - 0s 16ms/step - loss: 1.5273 - acc: 0.6081 - val_loss: 1.4952 - val_acc: 0.6250\n",
      "Epoch 9/200\n",
      "5/5 [==============================] - 0s 16ms/step - loss: 1.5084 - acc: 0.6081 - val_loss: 1.4698 - val_acc: 0.6250\n",
      "Epoch 10/200\n",
      "5/5 [==============================] - 0s 54ms/step - loss: 1.4865 - acc: 0.6081 - val_loss: 1.4407 - val_acc: 0.6250\n",
      "Epoch 11/200\n",
      "5/5 [==============================] - 0s 18ms/step - loss: 1.4627 - acc: 0.6081 - val_loss: 1.4062 - val_acc: 0.6250\n",
      "Epoch 12/200\n",
      "5/5 [==============================] - 0s 18ms/step - loss: 1.4311 - acc: 0.6081 - val_loss: 1.3685 - val_acc: 0.6250\n",
      "Epoch 13/200\n",
      "5/5 [==============================] - 0s 16ms/step - loss: 1.3997 - acc: 0.6081 - val_loss: 1.3241 - val_acc: 0.6250\n",
      "Epoch 14/200\n",
      "5/5 [==============================] - 0s 15ms/step - loss: 1.3637 - acc: 0.6081 - val_loss: 1.2757 - val_acc: 0.6250\n",
      "Epoch 15/200\n",
      "5/5 [==============================] - 0s 18ms/step - loss: 1.3269 - acc: 0.6081 - val_loss: 1.2244 - val_acc: 0.6250\n",
      "Epoch 16/200\n",
      "5/5 [==============================] - 0s 17ms/step - loss: 1.2846 - acc: 0.6081 - val_loss: 1.1746 - val_acc: 0.6250\n",
      "Epoch 17/200\n",
      "5/5 [==============================] - 0s 18ms/step - loss: 1.2466 - acc: 0.6081 - val_loss: 1.1259 - val_acc: 0.6250\n",
      "Epoch 18/200\n",
      "5/5 [==============================] - 0s 57ms/step - loss: 1.2086 - acc: 0.6081 - val_loss: 1.0814 - val_acc: 0.6250\n",
      "Epoch 19/200\n",
      "5/5 [==============================] - 0s 15ms/step - loss: 1.1782 - acc: 0.6081 - val_loss: 1.0422 - val_acc: 0.6250\n",
      "Epoch 20/200\n",
      "5/5 [==============================] - 0s 15ms/step - loss: 1.1523 - acc: 0.6081 - val_loss: 1.0109 - val_acc: 0.6250\n",
      "Epoch 21/200\n",
      "5/5 [==============================] - 0s 15ms/step - loss: 1.1279 - acc: 0.6081 - val_loss: 0.9873 - val_acc: 0.6250\n",
      "Epoch 22/200\n",
      "5/5 [==============================] - 0s 16ms/step - loss: 1.1106 - acc: 0.6081 - val_loss: 0.9684 - val_acc: 0.6250\n",
      "Epoch 23/200\n",
      "5/5 [==============================] - 0s 16ms/step - loss: 1.0957 - acc: 0.6081 - val_loss: 0.9532 - val_acc: 0.6250\n",
      "Epoch 24/200\n",
      "5/5 [==============================] - 0s 15ms/step - loss: 1.0821 - acc: 0.6081 - val_loss: 0.9424 - val_acc: 0.6250\n",
      "Epoch 25/200\n",
      "5/5 [==============================] - 0s 16ms/step - loss: 1.0703 - acc: 0.6081 - val_loss: 0.9350 - val_acc: 0.6250\n",
      "Epoch 26/200\n",
      "5/5 [==============================] - 0s 16ms/step - loss: 1.0609 - acc: 0.6081 - val_loss: 0.9284 - val_acc: 0.6250\n",
      "Epoch 27/200\n",
      "5/5 [==============================] - 0s 55ms/step - loss: 1.0488 - acc: 0.6081 - val_loss: 0.9231 - val_acc: 0.6250\n",
      "Epoch 28/200\n",
      "5/5 [==============================] - 0s 16ms/step - loss: 1.0394 - acc: 0.6081 - val_loss: 0.9189 - val_acc: 0.6250\n",
      "Epoch 29/200\n",
      "5/5 [==============================] - 0s 15ms/step - loss: 1.0311 - acc: 0.6081 - val_loss: 0.9134 - val_acc: 0.6250\n",
      "Epoch 30/200\n",
      "5/5 [==============================] - 0s 17ms/step - loss: 1.0215 - acc: 0.6081 - val_loss: 0.9097 - val_acc: 0.6250\n",
      "Epoch 31/200\n",
      "5/5 [==============================] - 0s 15ms/step - loss: 1.0120 - acc: 0.6081 - val_loss: 0.9059 - val_acc: 0.6250\n",
      "Epoch 32/200\n",
      "5/5 [==============================] - 0s 15ms/step - loss: 1.0032 - acc: 0.6081 - val_loss: 0.9014 - val_acc: 0.6250\n",
      "Epoch 33/200\n",
      "5/5 [==============================] - 0s 15ms/step - loss: 0.9947 - acc: 0.6081 - val_loss: 0.8960 - val_acc: 0.6250\n",
      "Epoch 34/200\n",
      "5/5 [==============================] - 0s 15ms/step - loss: 0.9860 - acc: 0.6081 - val_loss: 0.8914 - val_acc: 0.6250\n",
      "Epoch 35/200\n",
      "5/5 [==============================] - 0s 15ms/step - loss: 0.9778 - acc: 0.6081 - val_loss: 0.8876 - val_acc: 0.6250\n",
      "Epoch 36/200\n",
      "5/5 [==============================] - 0s 16ms/step - loss: 0.9689 - acc: 0.6081 - val_loss: 0.8834 - val_acc: 0.6250\n",
      "Epoch 37/200\n",
      "5/5 [==============================] - 0s 17ms/step - loss: 0.9608 - acc: 0.6081 - val_loss: 0.8802 - val_acc: 0.6250\n",
      "Epoch 38/200\n",
      "5/5 [==============================] - 0s 16ms/step - loss: 0.9521 - acc: 0.6081 - val_loss: 0.8765 - val_acc: 0.6250\n",
      "Epoch 39/200\n",
      "5/5 [==============================] - 0s 53ms/step - loss: 0.9451 - acc: 0.6081 - val_loss: 0.8722 - val_acc: 0.6250\n",
      "Epoch 40/200\n",
      "5/5 [==============================] - 0s 16ms/step - loss: 0.9350 - acc: 0.6081 - val_loss: 0.8703 - val_acc: 0.6250\n",
      "Epoch 41/200\n",
      "5/5 [==============================] - 0s 16ms/step - loss: 0.9272 - acc: 0.6081 - val_loss: 0.8652 - val_acc: 0.6250\n",
      "Epoch 42/200\n",
      "5/5 [==============================] - 0s 16ms/step - loss: 0.9200 - acc: 0.6081 - val_loss: 0.8599 - val_acc: 0.6250\n",
      "Epoch 43/200\n",
      "5/5 [==============================] - 0s 17ms/step - loss: 0.9098 - acc: 0.6081 - val_loss: 0.8568 - val_acc: 0.6250\n",
      "Epoch 44/200\n",
      "5/5 [==============================] - 0s 17ms/step - loss: 0.9025 - acc: 0.6081 - val_loss: 0.8537 - val_acc: 0.6250\n",
      "Epoch 45/200\n",
      "5/5 [==============================] - 0s 16ms/step - loss: 0.8931 - acc: 0.6081 - val_loss: 0.8510 - val_acc: 0.6250\n",
      "Epoch 46/200\n",
      "5/5 [==============================] - 0s 17ms/step - loss: 0.8841 - acc: 0.6081 - val_loss: 0.8465 - val_acc: 0.6250\n",
      "Epoch 47/200\n",
      "5/5 [==============================] - 0s 19ms/step - loss: 0.8730 - acc: 0.6149 - val_loss: 0.8408 - val_acc: 0.6562\n",
      "Epoch 48/200\n",
      "5/5 [==============================] - 0s 18ms/step - loss: 0.8640 - acc: 0.6554 - val_loss: 0.8370 - val_acc: 0.7031\n",
      "Epoch 49/200\n",
      "5/5 [==============================] - 0s 18ms/step - loss: 0.8547 - acc: 0.6892 - val_loss: 0.8341 - val_acc: 0.7188\n",
      "Epoch 50/200\n",
      "5/5 [==============================] - 0s 17ms/step - loss: 0.8467 - acc: 0.7027 - val_loss: 0.8306 - val_acc: 0.7031\n",
      "Epoch 51/200\n",
      "5/5 [==============================] - 0s 20ms/step - loss: 0.8405 - acc: 0.6689 - val_loss: 0.8273 - val_acc: 0.6875\n",
      "Epoch 52/200\n",
      "5/5 [==============================] - 0s 17ms/step - loss: 0.8279 - acc: 0.6689 - val_loss: 0.8230 - val_acc: 0.7031\n",
      "Epoch 53/200\n",
      "5/5 [==============================] - 0s 7ms/step - loss: 0.8247 - acc: 0.7095 - val_loss: 0.8251 - val_acc: 0.7031\n",
      "Epoch 54/200\n",
      "5/5 [==============================] - 0s 18ms/step - loss: 0.8139 - acc: 0.7027 - val_loss: 0.8168 - val_acc: 0.7031\n",
      "Epoch 55/200\n",
      "5/5 [==============================] - 0s 57ms/step - loss: 0.8030 - acc: 0.7095 - val_loss: 0.8139 - val_acc: 0.7031\n",
      "Epoch 56/200\n",
      "5/5 [==============================] - 0s 17ms/step - loss: 0.7950 - acc: 0.7095 - val_loss: 0.8119 - val_acc: 0.7031\n",
      "Epoch 57/200\n",
      "5/5 [==============================] - 0s 16ms/step - loss: 0.7860 - acc: 0.7027 - val_loss: 0.8092 - val_acc: 0.7188\n",
      "Epoch 58/200\n",
      "5/5 [==============================] - 0s 16ms/step - loss: 0.7787 - acc: 0.7095 - val_loss: 0.8082 - val_acc: 0.7031\n",
      "Epoch 59/200\n",
      "5/5 [==============================] - 0s 58ms/step - loss: 0.7704 - acc: 0.7095 - val_loss: 0.8058 - val_acc: 0.7031\n",
      "Epoch 60/200\n",
      "5/5 [==============================] - 0s 16ms/step - loss: 0.7659 - acc: 0.7027 - val_loss: 0.8033 - val_acc: 0.7188\n",
      "Epoch 61/200\n",
      "5/5 [==============================] - 0s 18ms/step - loss: 0.7549 - acc: 0.7162 - val_loss: 0.8025 - val_acc: 0.7188\n",
      "Epoch 62/200\n",
      "5/5 [==============================] - 0s 17ms/step - loss: 0.7478 - acc: 0.7365 - val_loss: 0.8014 - val_acc: 0.7031\n",
      "Epoch 63/200\n"
     ]
    },
    {
     "name": "stdout",
     "output_type": "stream",
     "text": [
      "5/5 [==============================] - 0s 16ms/step - loss: 0.7405 - acc: 0.7365 - val_loss: 0.7997 - val_acc: 0.7031\n",
      "Epoch 64/200\n",
      "5/5 [==============================] - 0s 15ms/step - loss: 0.7335 - acc: 0.7230 - val_loss: 0.7975 - val_acc: 0.7188\n",
      "Epoch 65/200\n",
      "5/5 [==============================] - 0s 16ms/step - loss: 0.7294 - acc: 0.7095 - val_loss: 0.7963 - val_acc: 0.7031\n",
      "Epoch 66/200\n",
      "5/5 [==============================] - 0s 7ms/step - loss: 0.7202 - acc: 0.7162 - val_loss: 0.7980 - val_acc: 0.7031\n",
      "Epoch 67/200\n",
      "5/5 [==============================] - 0s 7ms/step - loss: 0.7138 - acc: 0.7432 - val_loss: 0.7982 - val_acc: 0.7031\n",
      "Epoch 68/200\n",
      "5/5 [==============================] - 0s 17ms/step - loss: 0.7076 - acc: 0.7432 - val_loss: 0.7955 - val_acc: 0.7031\n",
      "Epoch 69/200\n",
      "5/5 [==============================] - 0s 16ms/step - loss: 0.7017 - acc: 0.7297 - val_loss: 0.7947 - val_acc: 0.7031\n",
      "Epoch 70/200\n",
      "5/5 [==============================] - 0s 58ms/step - loss: 0.6966 - acc: 0.7297 - val_loss: 0.7943 - val_acc: 0.7031\n",
      "Epoch 71/200\n",
      "5/5 [==============================] - 0s 7ms/step - loss: 0.6931 - acc: 0.7162 - val_loss: 0.7962 - val_acc: 0.7031\n",
      "Epoch 72/200\n",
      "5/5 [==============================] - 0s 6ms/step - loss: 0.6857 - acc: 0.7432 - val_loss: 0.7974 - val_acc: 0.7188\n",
      "Epoch 73/200\n",
      "5/5 [==============================] - 0s 6ms/step - loss: 0.6836 - acc: 0.7432 - val_loss: 0.7997 - val_acc: 0.7188\n",
      "Epoch 74/200\n",
      "5/5 [==============================] - 0s 56ms/step - loss: 0.6805 - acc: 0.7162 - val_loss: 0.7943 - val_acc: 0.7031\n",
      "Epoch 75/200\n",
      "5/5 [==============================] - 0s 6ms/step - loss: 0.6721 - acc: 0.7297 - val_loss: 0.7981 - val_acc: 0.7188\n",
      "Epoch 76/200\n",
      "5/5 [==============================] - 0s 6ms/step - loss: 0.6680 - acc: 0.7432 - val_loss: 0.8015 - val_acc: 0.7031\n",
      "Epoch 77/200\n",
      "5/5 [==============================] - 0s 6ms/step - loss: 0.6666 - acc: 0.7297 - val_loss: 0.8010 - val_acc: 0.7031\n",
      "Epoch 78/200\n",
      "5/5 [==============================] - 0s 6ms/step - loss: 0.6652 - acc: 0.7432 - val_loss: 0.7963 - val_acc: 0.7188\n",
      "Epoch 79/200\n",
      "5/5 [==============================] - 0s 6ms/step - loss: 0.6564 - acc: 0.7432 - val_loss: 0.8037 - val_acc: 0.7188\n",
      "Epoch 80/200\n",
      "5/5 [==============================] - 0s 6ms/step - loss: 0.6532 - acc: 0.7365 - val_loss: 0.8095 - val_acc: 0.7031\n",
      "Epoch 81/200\n",
      "5/5 [==============================] - 0s 6ms/step - loss: 0.6508 - acc: 0.7297 - val_loss: 0.8025 - val_acc: 0.7031\n",
      "Epoch 82/200\n",
      "5/5 [==============================] - 0s 6ms/step - loss: 0.6464 - acc: 0.7365 - val_loss: 0.8013 - val_acc: 0.7031\n",
      "Epoch 83/200\n",
      "5/5 [==============================] - 0s 6ms/step - loss: 0.6438 - acc: 0.7432 - val_loss: 0.8057 - val_acc: 0.7188\n",
      "Epoch 84/200\n",
      "5/5 [==============================] - 0s 6ms/step - loss: 0.6408 - acc: 0.7568 - val_loss: 0.8137 - val_acc: 0.6875\n",
      "Epoch 85/200\n",
      "5/5 [==============================] - 0s 6ms/step - loss: 0.6445 - acc: 0.7365 - val_loss: 0.8052 - val_acc: 0.7031\n",
      "Epoch 86/200\n",
      "5/5 [==============================] - 0s 6ms/step - loss: 0.6354 - acc: 0.7568 - val_loss: 0.8151 - val_acc: 0.7031\n",
      "Epoch 87/200\n",
      "5/5 [==============================] - 0s 6ms/step - loss: 0.6356 - acc: 0.7432 - val_loss: 0.8093 - val_acc: 0.7188\n",
      "Epoch 88/200\n",
      "5/5 [==============================] - 0s 6ms/step - loss: 0.6292 - acc: 0.7500 - val_loss: 0.8100 - val_acc: 0.7188\n",
      "Epoch 89/200\n",
      "5/5 [==============================] - 0s 6ms/step - loss: 0.6274 - acc: 0.7500 - val_loss: 0.8136 - val_acc: 0.7031\n",
      "Epoch 90/200\n",
      "5/5 [==============================] - 0s 6ms/step - loss: 0.6236 - acc: 0.7500 - val_loss: 0.8106 - val_acc: 0.7188\n",
      "Epoch 91/200\n",
      "5/5 [==============================] - 0s 6ms/step - loss: 0.6232 - acc: 0.7432 - val_loss: 0.8109 - val_acc: 0.7031\n",
      "Epoch 92/200\n",
      "5/5 [==============================] - 0s 6ms/step - loss: 0.6241 - acc: 0.7297 - val_loss: 0.8219 - val_acc: 0.6875\n",
      "Epoch 93/200\n",
      "5/5 [==============================] - 0s 6ms/step - loss: 0.6201 - acc: 0.7500 - val_loss: 0.8162 - val_acc: 0.7188\n",
      "Epoch 94/200\n",
      "5/5 [==============================] - 0s 6ms/step - loss: 0.6209 - acc: 0.7162 - val_loss: 0.8160 - val_acc: 0.7188\n",
      "Epoch 95/200\n",
      "5/5 [==============================] - 0s 6ms/step - loss: 0.6314 - acc: 0.7432 - val_loss: 0.8428 - val_acc: 0.6875\n",
      "Epoch 96/200\n",
      "5/5 [==============================] - 0s 6ms/step - loss: 0.6133 - acc: 0.7432 - val_loss: 0.8150 - val_acc: 0.6875\n",
      "Epoch 97/200\n",
      "5/5 [==============================] - 0s 6ms/step - loss: 0.6283 - acc: 0.7027 - val_loss: 0.8151 - val_acc: 0.6719\n",
      "Epoch 98/200\n",
      "5/5 [==============================] - 0s 7ms/step - loss: 0.6192 - acc: 0.7230 - val_loss: 0.8342 - val_acc: 0.6875\n",
      "Epoch 99/200\n",
      "5/5 [==============================] - 0s 6ms/step - loss: 0.6081 - acc: 0.7432 - val_loss: 0.8223 - val_acc: 0.7031\n",
      "Epoch 100/200\n",
      "5/5 [==============================] - 0s 6ms/step - loss: 0.6028 - acc: 0.7635 - val_loss: 0.8219 - val_acc: 0.7188\n",
      "Epoch 101/200\n",
      "5/5 [==============================] - 0s 6ms/step - loss: 0.6000 - acc: 0.7500 - val_loss: 0.8292 - val_acc: 0.7031\n",
      "Epoch 102/200\n",
      "5/5 [==============================] - 0s 6ms/step - loss: 0.6013 - acc: 0.7365 - val_loss: 0.8358 - val_acc: 0.6875\n",
      "Epoch 103/200\n",
      "5/5 [==============================] - 0s 6ms/step - loss: 0.6007 - acc: 0.7500 - val_loss: 0.8240 - val_acc: 0.7031\n",
      "Epoch 104/200\n",
      "5/5 [==============================] - 0s 6ms/step - loss: 0.6005 - acc: 0.7568 - val_loss: 0.8311 - val_acc: 0.7031\n",
      "Epoch 105/200\n",
      "5/5 [==============================] - 0s 6ms/step - loss: 0.5946 - acc: 0.7568 - val_loss: 0.8331 - val_acc: 0.6875\n",
      "Epoch 106/200\n",
      "5/5 [==============================] - 0s 6ms/step - loss: 0.6028 - acc: 0.7297 - val_loss: 0.8251 - val_acc: 0.6875\n",
      "Epoch 107/200\n",
      "5/5 [==============================] - 0s 6ms/step - loss: 0.5946 - acc: 0.7568 - val_loss: 0.8400 - val_acc: 0.6875\n",
      "Epoch 108/200\n",
      "5/5 [==============================] - 0s 6ms/step - loss: 0.5927 - acc: 0.7568 - val_loss: 0.8321 - val_acc: 0.7031\n",
      "Epoch 109/200\n",
      "5/5 [==============================] - 0s 6ms/step - loss: 0.5866 - acc: 0.7635 - val_loss: 0.8312 - val_acc: 0.6875\n",
      "Epoch 110/200\n",
      "5/5 [==============================] - 0s 6ms/step - loss: 0.5862 - acc: 0.7568 - val_loss: 0.8321 - val_acc: 0.6875\n",
      "Epoch 111/200\n",
      "5/5 [==============================] - 0s 6ms/step - loss: 0.5842 - acc: 0.7568 - val_loss: 0.8366 - val_acc: 0.6875\n",
      "Epoch 112/200\n",
      "5/5 [==============================] - 0s 6ms/step - loss: 0.5834 - acc: 0.7568 - val_loss: 0.8411 - val_acc: 0.6875\n",
      "Epoch 113/200\n",
      "5/5 [==============================] - 0s 6ms/step - loss: 0.5814 - acc: 0.7500 - val_loss: 0.8368 - val_acc: 0.6875\n",
      "Epoch 114/200\n",
      "5/5 [==============================] - 0s 6ms/step - loss: 0.5818 - acc: 0.7568 - val_loss: 0.8351 - val_acc: 0.6875\n",
      "Epoch 115/200\n",
      "5/5 [==============================] - 0s 6ms/step - loss: 0.5787 - acc: 0.7568 - val_loss: 0.8399 - val_acc: 0.6875\n",
      "Epoch 116/200\n",
      "5/5 [==============================] - 0s 6ms/step - loss: 0.5806 - acc: 0.7432 - val_loss: 0.8541 - val_acc: 0.6875\n",
      "Epoch 117/200\n",
      "5/5 [==============================] - 0s 6ms/step - loss: 0.5774 - acc: 0.7500 - val_loss: 0.8399 - val_acc: 0.6875\n",
      "Epoch 118/200\n",
      "5/5 [==============================] - 0s 6ms/step - loss: 0.5752 - acc: 0.7568 - val_loss: 0.8369 - val_acc: 0.7031\n",
      "Epoch 119/200\n",
      "5/5 [==============================] - 0s 6ms/step - loss: 0.5731 - acc: 0.7500 - val_loss: 0.8450 - val_acc: 0.6875\n",
      "Epoch 120/200\n",
      "5/5 [==============================] - 0s 6ms/step - loss: 0.5712 - acc: 0.7635 - val_loss: 0.8475 - val_acc: 0.6875\n",
      "Epoch 121/200\n",
      "5/5 [==============================] - 0s 6ms/step - loss: 0.5705 - acc: 0.7635 - val_loss: 0.8478 - val_acc: 0.6719\n",
      "Epoch 122/200\n",
      "5/5 [==============================] - 0s 6ms/step - loss: 0.5681 - acc: 0.7568 - val_loss: 0.8456 - val_acc: 0.6875\n",
      "Epoch 123/200\n",
      "5/5 [==============================] - 0s 6ms/step - loss: 0.5666 - acc: 0.7568 - val_loss: 0.8472 - val_acc: 0.6875\n",
      "Epoch 124/200\n",
      "5/5 [==============================] - 0s 6ms/step - loss: 0.5664 - acc: 0.7635 - val_loss: 0.8473 - val_acc: 0.6875\n",
      "Epoch 125/200\n",
      "5/5 [==============================] - 0s 6ms/step - loss: 0.5634 - acc: 0.7635 - val_loss: 0.8549 - val_acc: 0.6875\n"
     ]
    },
    {
     "name": "stdout",
     "output_type": "stream",
     "text": [
      "Epoch 126/200\n",
      "5/5 [==============================] - 0s 6ms/step - loss: 0.5637 - acc: 0.7500 - val_loss: 0.8560 - val_acc: 0.6875\n",
      "Epoch 127/200\n",
      "5/5 [==============================] - 0s 6ms/step - loss: 0.5638 - acc: 0.7568 - val_loss: 0.8509 - val_acc: 0.6719\n",
      "Epoch 128/200\n",
      "5/5 [==============================] - 0s 6ms/step - loss: 0.5618 - acc: 0.7568 - val_loss: 0.8601 - val_acc: 0.6875\n",
      "Epoch 129/200\n",
      "5/5 [==============================] - 0s 6ms/step - loss: 0.5641 - acc: 0.7432 - val_loss: 0.8576 - val_acc: 0.6719\n",
      "Epoch 130/200\n",
      "5/5 [==============================] - 0s 6ms/step - loss: 0.5576 - acc: 0.7500 - val_loss: 0.8481 - val_acc: 0.6875\n",
      "Epoch 131/200\n",
      "5/5 [==============================] - 0s 6ms/step - loss: 0.5615 - acc: 0.7500 - val_loss: 0.8524 - val_acc: 0.6875\n",
      "Epoch 132/200\n",
      "5/5 [==============================] - 0s 6ms/step - loss: 0.5559 - acc: 0.7568 - val_loss: 0.8640 - val_acc: 0.6875\n",
      "Epoch 133/200\n",
      "5/5 [==============================] - 0s 6ms/step - loss: 0.5567 - acc: 0.7500 - val_loss: 0.8625 - val_acc: 0.6875\n",
      "Epoch 134/200\n",
      "5/5 [==============================] - 0s 6ms/step - loss: 0.5544 - acc: 0.7635 - val_loss: 0.8516 - val_acc: 0.6875\n",
      "Epoch 135/200\n",
      "5/5 [==============================] - 0s 6ms/step - loss: 0.5527 - acc: 0.7635 - val_loss: 0.8584 - val_acc: 0.6719\n",
      "Epoch 136/200\n",
      "5/5 [==============================] - 0s 6ms/step - loss: 0.5511 - acc: 0.7568 - val_loss: 0.8710 - val_acc: 0.6875\n",
      "Epoch 137/200\n",
      "5/5 [==============================] - 0s 6ms/step - loss: 0.5513 - acc: 0.7568 - val_loss: 0.8639 - val_acc: 0.6719\n",
      "Epoch 138/200\n",
      "5/5 [==============================] - 0s 6ms/step - loss: 0.5479 - acc: 0.7703 - val_loss: 0.8563 - val_acc: 0.7031\n",
      "Epoch 139/200\n",
      "5/5 [==============================] - 0s 6ms/step - loss: 0.5547 - acc: 0.7432 - val_loss: 0.8585 - val_acc: 0.6875\n",
      "Epoch 140/200\n",
      "5/5 [==============================] - 0s 6ms/step - loss: 0.5586 - acc: 0.7500 - val_loss: 0.8871 - val_acc: 0.6875\n",
      "Epoch 141/200\n",
      "5/5 [==============================] - 0s 8ms/step - loss: 0.5535 - acc: 0.7568 - val_loss: 0.8629 - val_acc: 0.6719\n",
      "Epoch 142/200\n",
      "5/5 [==============================] - 0s 7ms/step - loss: 0.5447 - acc: 0.7703 - val_loss: 0.8628 - val_acc: 0.6719\n",
      "Epoch 143/200\n",
      "5/5 [==============================] - 0s 6ms/step - loss: 0.5453 - acc: 0.7635 - val_loss: 0.8598 - val_acc: 0.6875\n",
      "Epoch 144/200\n",
      "5/5 [==============================] - 0s 7ms/step - loss: 0.5393 - acc: 0.7703 - val_loss: 0.8719 - val_acc: 0.6719\n",
      "Epoch 145/200\n",
      "5/5 [==============================] - 0s 7ms/step - loss: 0.5424 - acc: 0.7568 - val_loss: 0.8799 - val_acc: 0.6875\n",
      "Epoch 146/200\n",
      "5/5 [==============================] - 0s 7ms/step - loss: 0.5424 - acc: 0.7635 - val_loss: 0.8647 - val_acc: 0.6719\n",
      "Epoch 147/200\n",
      "5/5 [==============================] - 0s 7ms/step - loss: 0.5377 - acc: 0.7635 - val_loss: 0.8650 - val_acc: 0.6719\n",
      "Epoch 148/200\n",
      "5/5 [==============================] - 0s 6ms/step - loss: 0.5388 - acc: 0.7635 - val_loss: 0.8738 - val_acc: 0.6719\n",
      "Epoch 149/200\n",
      "5/5 [==============================] - 0s 7ms/step - loss: 0.5360 - acc: 0.7635 - val_loss: 0.8641 - val_acc: 0.6875\n",
      "Epoch 150/200\n",
      "5/5 [==============================] - 0s 6ms/step - loss: 0.5409 - acc: 0.7635 - val_loss: 0.8749 - val_acc: 0.6719\n",
      "Epoch 151/200\n",
      "5/5 [==============================] - 0s 6ms/step - loss: 0.5331 - acc: 0.7635 - val_loss: 0.8676 - val_acc: 0.6719\n",
      "Epoch 152/200\n",
      "5/5 [==============================] - 0s 6ms/step - loss: 0.5334 - acc: 0.7635 - val_loss: 0.8644 - val_acc: 0.6875\n",
      "Epoch 153/200\n",
      "5/5 [==============================] - 0s 6ms/step - loss: 0.5310 - acc: 0.7635 - val_loss: 0.8750 - val_acc: 0.6719\n",
      "Epoch 154/200\n",
      "5/5 [==============================] - 0s 7ms/step - loss: 0.5312 - acc: 0.7568 - val_loss: 0.8929 - val_acc: 0.6875\n",
      "Epoch 155/200\n",
      "5/5 [==============================] - 0s 7ms/step - loss: 0.5396 - acc: 0.7500 - val_loss: 0.8702 - val_acc: 0.6719\n",
      "Epoch 156/200\n",
      "5/5 [==============================] - 0s 7ms/step - loss: 0.5277 - acc: 0.7703 - val_loss: 0.8717 - val_acc: 0.6719\n",
      "Epoch 157/200\n",
      "5/5 [==============================] - 0s 6ms/step - loss: 0.5268 - acc: 0.7635 - val_loss: 0.8728 - val_acc: 0.6719\n",
      "Epoch 158/200\n",
      "5/5 [==============================] - 0s 6ms/step - loss: 0.5261 - acc: 0.7568 - val_loss: 0.8730 - val_acc: 0.6719\n",
      "Epoch 159/200\n",
      "5/5 [==============================] - 0s 6ms/step - loss: 0.5235 - acc: 0.7703 - val_loss: 0.8819 - val_acc: 0.6719\n",
      "Epoch 160/200\n",
      "5/5 [==============================] - 0s 6ms/step - loss: 0.5270 - acc: 0.7635 - val_loss: 0.8865 - val_acc: 0.6719\n",
      "Epoch 161/200\n",
      "5/5 [==============================] - 0s 6ms/step - loss: 0.5225 - acc: 0.7635 - val_loss: 0.8728 - val_acc: 0.6719\n",
      "Epoch 162/200\n",
      "5/5 [==============================] - 0s 6ms/step - loss: 0.5237 - acc: 0.7703 - val_loss: 0.8736 - val_acc: 0.6719\n",
      "Epoch 163/200\n",
      "5/5 [==============================] - 0s 6ms/step - loss: 0.5208 - acc: 0.7703 - val_loss: 0.8777 - val_acc: 0.6719\n",
      "Epoch 164/200\n",
      "5/5 [==============================] - 0s 6ms/step - loss: 0.5200 - acc: 0.7635 - val_loss: 0.8890 - val_acc: 0.6719\n",
      "Epoch 165/200\n",
      "5/5 [==============================] - 0s 6ms/step - loss: 0.5172 - acc: 0.7703 - val_loss: 0.8806 - val_acc: 0.6719\n",
      "Epoch 166/200\n",
      "5/5 [==============================] - 0s 6ms/step - loss: 0.5175 - acc: 0.7703 - val_loss: 0.8799 - val_acc: 0.6719\n",
      "Epoch 167/200\n",
      "5/5 [==============================] - 0s 6ms/step - loss: 0.5174 - acc: 0.7703 - val_loss: 0.8932 - val_acc: 0.6719\n",
      "Epoch 168/200\n",
      "5/5 [==============================] - 0s 6ms/step - loss: 0.5153 - acc: 0.7635 - val_loss: 0.8856 - val_acc: 0.6719\n",
      "Epoch 169/200\n",
      "5/5 [==============================] - 0s 6ms/step - loss: 0.5149 - acc: 0.7703 - val_loss: 0.8807 - val_acc: 0.6719\n",
      "Epoch 170/200\n",
      "5/5 [==============================] - 0s 6ms/step - loss: 0.5147 - acc: 0.7703 - val_loss: 0.8909 - val_acc: 0.6719\n",
      "Epoch 171/200\n",
      "5/5 [==============================] - 0s 6ms/step - loss: 0.5119 - acc: 0.7635 - val_loss: 0.8957 - val_acc: 0.6719\n",
      "Epoch 172/200\n",
      "5/5 [==============================] - 0s 6ms/step - loss: 0.5145 - acc: 0.7703 - val_loss: 0.9078 - val_acc: 0.6719\n",
      "Epoch 173/200\n",
      "5/5 [==============================] - 0s 6ms/step - loss: 0.5136 - acc: 0.7703 - val_loss: 0.8878 - val_acc: 0.6719\n",
      "Epoch 174/200\n",
      "5/5 [==============================] - 0s 6ms/step - loss: 0.5167 - acc: 0.7703 - val_loss: 0.8923 - val_acc: 0.6719\n",
      "Epoch 175/200\n",
      "5/5 [==============================] - 0s 6ms/step - loss: 0.5136 - acc: 0.7500 - val_loss: 0.9299 - val_acc: 0.7031\n",
      "Epoch 176/200\n",
      "5/5 [==============================] - 0s 6ms/step - loss: 0.5181 - acc: 0.7635 - val_loss: 0.9031 - val_acc: 0.6875\n",
      "Epoch 177/200\n",
      "5/5 [==============================] - 0s 6ms/step - loss: 0.5088 - acc: 0.7770 - val_loss: 0.8917 - val_acc: 0.6875\n",
      "Epoch 178/200\n",
      "5/5 [==============================] - 0s 6ms/step - loss: 0.5066 - acc: 0.7770 - val_loss: 0.9037 - val_acc: 0.6875\n",
      "Epoch 179/200\n",
      "5/5 [==============================] - 0s 6ms/step - loss: 0.5064 - acc: 0.7703 - val_loss: 0.8993 - val_acc: 0.6875\n",
      "Epoch 180/200\n",
      "5/5 [==============================] - 0s 6ms/step - loss: 0.5088 - acc: 0.7635 - val_loss: 0.9083 - val_acc: 0.6875\n",
      "Epoch 181/200\n",
      "5/5 [==============================] - 0s 6ms/step - loss: 0.5017 - acc: 0.7770 - val_loss: 0.8996 - val_acc: 0.6875\n",
      "Epoch 182/200\n",
      "5/5 [==============================] - 0s 6ms/step - loss: 0.5148 - acc: 0.7568 - val_loss: 0.8963 - val_acc: 0.6875\n",
      "Epoch 183/200\n",
      "5/5 [==============================] - 0s 6ms/step - loss: 0.4997 - acc: 0.7770 - val_loss: 0.9167 - val_acc: 0.6875\n",
      "Epoch 184/200\n",
      "5/5 [==============================] - 0s 7ms/step - loss: 0.5049 - acc: 0.7703 - val_loss: 0.9177 - val_acc: 0.6875\n",
      "Epoch 185/200\n",
      "5/5 [==============================] - 0s 6ms/step - loss: 0.4975 - acc: 0.7635 - val_loss: 0.8997 - val_acc: 0.6875\n",
      "Epoch 186/200\n",
      "5/5 [==============================] - 0s 6ms/step - loss: 0.5004 - acc: 0.7703 - val_loss: 0.9038 - val_acc: 0.6875\n",
      "Epoch 187/200\n",
      "5/5 [==============================] - 0s 6ms/step - loss: 0.4966 - acc: 0.7770 - val_loss: 0.9109 - val_acc: 0.6875\n",
      "Epoch 188/200\n"
     ]
    },
    {
     "name": "stdout",
     "output_type": "stream",
     "text": [
      "5/5 [==============================] - 0s 6ms/step - loss: 0.4949 - acc: 0.7770 - val_loss: 0.9186 - val_acc: 0.6875\n",
      "Epoch 189/200\n",
      "5/5 [==============================] - 0s 6ms/step - loss: 0.4964 - acc: 0.7703 - val_loss: 0.9118 - val_acc: 0.6875\n",
      "Epoch 190/200\n",
      "5/5 [==============================] - 0s 6ms/step - loss: 0.4943 - acc: 0.7703 - val_loss: 0.9152 - val_acc: 0.6875\n",
      "Epoch 191/200\n",
      "5/5 [==============================] - 0s 6ms/step - loss: 0.4928 - acc: 0.7770 - val_loss: 0.9155 - val_acc: 0.6875\n",
      "Epoch 192/200\n",
      "5/5 [==============================] - 0s 6ms/step - loss: 0.4915 - acc: 0.7703 - val_loss: 0.9172 - val_acc: 0.6875\n",
      "Epoch 193/200\n",
      "5/5 [==============================] - 0s 6ms/step - loss: 0.4949 - acc: 0.7703 - val_loss: 0.9235 - val_acc: 0.6875\n",
      "Epoch 194/200\n",
      "5/5 [==============================] - 0s 6ms/step - loss: 0.4952 - acc: 0.7703 - val_loss: 0.9111 - val_acc: 0.6875\n",
      "Epoch 195/200\n",
      "5/5 [==============================] - 0s 6ms/step - loss: 0.4897 - acc: 0.7703 - val_loss: 0.9314 - val_acc: 0.6875\n",
      "Epoch 196/200\n",
      "5/5 [==============================] - 0s 6ms/step - loss: 0.4921 - acc: 0.7770 - val_loss: 0.9236 - val_acc: 0.6875\n",
      "Epoch 197/200\n",
      "5/5 [==============================] - 0s 6ms/step - loss: 0.4910 - acc: 0.7770 - val_loss: 0.9312 - val_acc: 0.6875\n",
      "Epoch 198/200\n",
      "5/5 [==============================] - 0s 6ms/step - loss: 0.4867 - acc: 0.7838 - val_loss: 0.9151 - val_acc: 0.6875\n",
      "Epoch 199/200\n",
      "5/5 [==============================] - 0s 6ms/step - loss: 0.4873 - acc: 0.7770 - val_loss: 0.9195 - val_acc: 0.6875\n",
      "Epoch 200/200\n",
      "5/5 [==============================] - 0s 6ms/step - loss: 0.4863 - acc: 0.7770 - val_loss: 0.9227 - val_acc: 0.6875\n"
     ]
    }
   ],
   "source": [
    "history = model.fit(치수_scaled[shuff_train], 체형_train[shuff_train], validation_data=(치수_scaled[shuff_val], 체형_train[shuff_val]), batch_size=32, epochs=200, callbacks = model_check_point)"
   ]
  },
  {
   "cell_type": "code",
   "execution_count": 368,
   "id": "8784c277",
   "metadata": {},
   "outputs": [
    {
     "data": {
      "text/plain": [
       "<AxesSubplot:>"
      ]
     },
     "execution_count": 368,
     "metadata": {},
     "output_type": "execute_result"
    },
    {
     "data": {
      "image/png": "[encoded data removed]",
      "text/plain": [
       "<Figure size 640x480 with 1 Axes>"
      ]
     },
     "metadata": {},
     "output_type": "display_data"
    },
    {
     "data": {
      "image/png": "[encoded data removed]",
      "text/plain": [
       "<Figure size 640x480 with 1 Axes>"
      ]
     },
     "metadata": {},
     "output_type": "display_data"
    }
   ],
   "source": [
    "train_results =  pd.DataFrame(history.history)\n",
    "train_results[['loss','val_loss']].plot()\n",
    "train_results[['acc','val_acc']].plot()"
   ]
  },
  {
   "cell_type": "code",
   "execution_count": 369,
   "id": "d574913b",
   "metadata": {},
   "outputs": [
    {
     "data": {
      "text/plain": [
       "<tensorflow.python.training.tracking.util.CheckpointLoadStatus at 0x1d63c136550>"
      ]
     },
     "execution_count": 369,
     "metadata": {},
     "output_type": "execute_result"
    }
   ],
   "source": [
    "model.load_weights(checkpoint_path)"
   ]
  },
  {
   "cell_type": "code",
   "execution_count": 370,
   "id": "c30ef115",
   "metadata": {},
   "outputs": [
    {
     "name": "stdout",
     "output_type": "stream",
     "text": [
      "5/5 [==============================] - 0s 998us/step\n",
      "2/2 [==============================] - 0s 2ms/step\n",
      "학습 데이터:106 of 148 are correct [71.62162162162163%]\n",
      "검증 데이터:45 of 64 are correct [70.3125%]\n"
     ]
    }
   ],
   "source": [
    "학습 = model.predict(치수_scaled[shuff_train])\n",
    "검증 = model.predict(치수_scaled[shuff_val])\n",
    "\n",
    "학습데이터 = np.argmax(학습, axis = 1)\n",
    "검증데이터 = np.argmax(검증, axis = 1)\n",
    "cnt_학습 = 0\n",
    "cnt_검증 = 0\n",
    "for i,j in zip(학습데이터, 체형_train[shuff_train]):\n",
    "    if(i==j):\n",
    "        cnt_학습 = cnt_학습 +1\n",
    "print(f'학습 데이터:{cnt_학습} of {치수_scaled[shuff_train].shape[0]} are correct [{cnt_학습/치수_scaled[shuff_train].shape[0]*100}%]')\n",
    "\n",
    "for i,j in zip(검증데이터, 체형_train[shuff_val]):\n",
    "    if(i==j):\n",
    "        cnt_검증 = cnt_검증 +1\n",
    "print(f'검증 데이터:{cnt_검증} of {치수_scaled[shuff_val].shape[0]} are correct [{cnt_검증/치수_scaled[shuff_val].shape[0]*100}%]')"
   ]
  },
  {
   "cell_type": "code",
   "execution_count": 371,
   "id": "84be6014",
   "metadata": {},
   "outputs": [
    {
     "data": {
      "text/plain": [
       "(312, 23)"
      ]
     },
     "execution_count": 371,
     "metadata": {},
     "output_type": "execute_result"
    }
   ],
   "source": [
    "치수_all_scaled.shape"
   ]
  },
  {
   "cell_type": "code",
   "execution_count": 372,
   "id": "fb0201a8",
   "metadata": {},
   "outputs": [
    {
     "data": {
      "text/plain": [
       "\"\\n        \\nprint(f'{cnt} of {체형.shape[0]} are correct [{cnt/체형.shape[0]*100}%]')\\n\""
      ]
     },
     "execution_count": 372,
     "metadata": {},
     "output_type": "execute_result"
    }
   ],
   "source": [
    "'''\n",
    "Y_pred = model.predict(치수_all_scaled)\n",
    "Y_pred_max = np.max(Y_pred,axis =1)\n",
    "\n",
    "체형_pred = np.argmax(Y_pred, axis=1)\n",
    "치수_train_selected = []\n",
    "체형_pred_selected =[]\n",
    "cnt = 0\n",
    "for i,j,k,m in zip(체형_pred,체형,range(312),Y_pred_max):\n",
    "    if(i==j):\n",
    "        if(m>0.75):\n",
    "            cnt=cnt+1\n",
    "            치수_train_selected.append(치수[k])\n",
    "            체형_pred_selected.append(i)\n",
    "    else:\n",
    "        '''\n",
    "'''\n",
    "        치수_train_selected.append(치수_train[k])\n",
    "        체형_pred_selected.append(i)\n",
    "        \n",
    "        if(m < 0.7):\n",
    "            치수_train_selected.append(치수[k])\n",
    "            체형_pred_selected.append(i)\n",
    "'''\n",
    "'''\n",
    "        \n",
    "print(f'{cnt} of {체형.shape[0]} are correct [{cnt/체형.shape[0]*100}%]')\n",
    "'''"
   ]
  },
  {
   "cell_type": "code",
   "execution_count": 373,
   "id": "65137cf9",
   "metadata": {},
   "outputs": [
    {
     "name": "stdout",
     "output_type": "stream",
     "text": [
      "7/7 [==============================] - 0s 1ms/step\n",
      "151 of 212 are correct [71.22641509433963%]\n"
     ]
    }
   ],
   "source": [
    "Y_pred = model.predict(치수_scaled)\n",
    "Y_pred_max = np.max(Y_pred,axis =1)\n",
    "\n",
    "체형_pred = np.argmax(Y_pred, axis=1)\n",
    "치수_train_selected = []\n",
    "체형_pred_selected =[]\n",
    "cnt = 0\n",
    "for i,j,k,m in zip(체형_pred,체형_train,range(치수_scaled.shape[0]),Y_pred_max):\n",
    "    if(i==j):\n",
    "        cnt=cnt+1\n",
    "        치수_train_selected.append(치수_train[k])\n",
    "        체형_pred_selected.append(i)\n",
    "    else:\n",
    "        '''\n",
    "        치수_train_selected.append(치수_train[k])\n",
    "        체형_pred_selected.append(i)\n",
    "        '''\n",
    "        if(m < 0.7):\n",
    "            치수_train_selected.append(치수_train[k])\n",
    "            체형_pred_selected.append(i)\n",
    "        \n",
    "        \n",
    "print(f'{cnt} of {체형_train.shape[0]} are correct [{cnt/체형_train.shape[0]*100}%]')"
   ]
  },
  {
   "cell_type": "code",
   "execution_count": 374,
   "id": "b76581ed",
   "metadata": {},
   "outputs": [
    {
     "name": "stdout",
     "output_type": "stream",
     "text": [
      "151개의 정답과 48개의 모호한 데이터추출\n",
      "199\n"
     ]
    }
   ],
   "source": [
    "print(f'{cnt}개의 정답과 {len(치수_train_selected)-cnt}개의 모호한 데이터추출')\n",
    "print(len(치수_train_selected))"
   ]
  },
  {
   "cell_type": "code",
   "execution_count": 375,
   "id": "ddb967ab",
   "metadata": {},
   "outputs": [
    {
     "name": "stdout",
     "output_type": "stream",
     "text": [
      "4/4 [==============================] - 0s 1ms/step\n"
     ]
    }
   ],
   "source": [
    "체형_Unlabeled_pred = model.predict(minmax_scaler.transform(치수_test))\n",
    "체형_Unlabeled_pred = np.argmax(체형_Unlabeled_pred, axis=1)"
   ]
  },
  {
   "cell_type": "code",
   "execution_count": 376,
   "id": "9a165415",
   "metadata": {},
   "outputs": [],
   "source": [
    "체형_test = 체형_Unlabeled_pred"
   ]
  },
  {
   "cell_type": "code",
   "execution_count": 377,
   "id": "95ac435b",
   "metadata": {},
   "outputs": [],
   "source": [
    "치수_merge = np.concatenate((치수_train_selected, 치수_test), axis = 0)\n",
    "체형_merge = np.concatenate((체형_pred_selected, 체형_test))\n",
    "체형_merge = np.reshape(체형_merge, (치수_merge.shape[0],1))\n",
    "data_merge = np.concatenate((치수_merge,체형_merge), axis = 1)\n",
    "np.random.shuffle(data_merge)"
   ]
  },
  {
   "cell_type": "code",
   "execution_count": 378,
   "id": "68977939",
   "metadata": {},
   "outputs": [],
   "source": [
    "split = round(치수_merge.shape[0]*0.7)"
   ]
  },
  {
   "cell_type": "code",
   "execution_count": 379,
   "id": "88309de3",
   "metadata": {},
   "outputs": [],
   "source": [
    "치수2_train, 체형2_train, 치수2_test, 체형2_test = data_merge[:split,0:-1], data_merge[:split,-1], data_merge[split:,0:-1], data_merge[split:,-1]\n",
    "체형2_train = 체형2_train.astype('float32')\n",
    "체형2_test = 체형2_test.astype('float32')\n",
    "치수2_train_scaled = minmax_scaler.transform(치수2_train)"
   ]
  },
  {
   "cell_type": "code",
   "execution_count": 380,
   "id": "84c976f3",
   "metadata": {},
   "outputs": [
    {
     "data": {
      "text/plain": [
       "(209, 23)"
      ]
     },
     "execution_count": 380,
     "metadata": {},
     "output_type": "execute_result"
    }
   ],
   "source": [
    "치수2_train.shape"
   ]
  },
  {
   "cell_type": "code",
   "execution_count": 381,
   "id": "514430de",
   "metadata": {},
   "outputs": [],
   "source": [
    "th = round(치수2_train_scaled.shape[0]*0.7)"
   ]
  },
  {
   "cell_type": "code",
   "execution_count": 382,
   "id": "39f35768",
   "metadata": {},
   "outputs": [
    {
     "name": "stdout",
     "output_type": "stream",
     "text": [
      "Model: \"sequential_31\"\n",
      "_________________________________________________________________\n",
      " Layer (type)                Output Shape              Param #   \n",
      "=================================================================\n",
      " dense_154 (Dense)           (None, 23)                552       \n",
      "                                                                 \n",
      " dense_155 (Dense)           (None, 23)                552       \n",
      "                                                                 \n",
      " dense_156 (Dense)           (None, 11)                264       \n",
      "                                                                 \n",
      " dense_157 (Dense)           (None, 11)                132       \n",
      "                                                                 \n",
      " dense_158 (Dense)           (None, 5)                 60        \n",
      "                                                                 \n",
      "=================================================================\n",
      "Total params: 1,560\n",
      "Trainable params: 1,560\n",
      "Non-trainable params: 0\n",
      "_________________________________________________________________\n"
     ]
    }
   ],
   "source": [
    "checkpoint_path2 = './temp2/checkpoint.ckpt'\n",
    "optimizer = optimizers.Adam()\n",
    "model2 = Sequential()\n",
    "model_check_point2 = tf.keras.callbacks.ModelCheckpoint(\n",
    "    filepath = checkpoint_path2, monitor='val_loss', verbose=0, save_best_only=True,\n",
    "    save_weights_only=True, mode='auto', save_freq='epoch', options=None)\n",
    "model2.add(tf.keras.layers.Dense(23, input_dim =23,activation = 'relu'))\n",
    "model2.add(tf.keras.layers.Dense(23,activation = 'relu'))\n",
    "model2.add(tf.keras.layers.Dense(11,activation = 'relu'))\n",
    "model2.add(tf.keras.layers.Dense(11,activation = 'relu'))\n",
    "model2.add(tf.keras.layers.Dense(5,  activation='softmax'))\n",
    "model2.compile(\n",
    "    loss=sparse_categorical_crossentropy, \n",
    "    optimizer=optimizer, \n",
    "    metrics=['acc'])\n",
    "model2.summary()"
   ]
  },
  {
   "cell_type": "code",
   "execution_count": null,
   "id": "c2a9c128",
   "metadata": {},
   "outputs": [],
   "source": []
  },
  {
   "cell_type": "code",
   "execution_count": 383,
   "id": "d915900f",
   "metadata": {},
   "outputs": [
    {
     "name": "stdout",
     "output_type": "stream",
     "text": [
      "Epoch 1/200\n",
      "5/5 [==============================] - 1s 58ms/step - loss: 1.5279 - acc: 0.2466 - val_loss: 1.4589 - val_acc: 0.2857\n",
      "Epoch 2/200\n",
      "5/5 [==============================] - 0s 15ms/step - loss: 1.4330 - acc: 0.2808 - val_loss: 1.3803 - val_acc: 0.2857\n",
      "Epoch 3/200\n",
      "5/5 [==============================] - 0s 59ms/step - loss: 1.3532 - acc: 0.2808 - val_loss: 1.3066 - val_acc: 0.3651\n",
      "Epoch 4/200\n",
      "5/5 [==============================] - 0s 16ms/step - loss: 1.2754 - acc: 0.4041 - val_loss: 1.2301 - val_acc: 0.5873\n",
      "Epoch 5/200\n",
      "5/5 [==============================] - 0s 17ms/step - loss: 1.1962 - acc: 0.7329 - val_loss: 1.1514 - val_acc: 0.7302\n",
      "Epoch 6/200\n",
      "5/5 [==============================] - 0s 16ms/step - loss: 1.1161 - acc: 0.7123 - val_loss: 1.0714 - val_acc: 0.7143\n",
      "Epoch 7/200\n",
      "5/5 [==============================] - 0s 17ms/step - loss: 1.0344 - acc: 0.7192 - val_loss: 0.9939 - val_acc: 0.7143\n",
      "Epoch 8/200\n",
      "5/5 [==============================] - 0s 17ms/step - loss: 0.9578 - acc: 0.7192 - val_loss: 0.9226 - val_acc: 0.7143\n",
      "Epoch 9/200\n",
      "5/5 [==============================] - 0s 16ms/step - loss: 0.8875 - acc: 0.7192 - val_loss: 0.8591 - val_acc: 0.7143\n",
      "Epoch 10/200\n",
      "5/5 [==============================] - 0s 17ms/step - loss: 0.8275 - acc: 0.7192 - val_loss: 0.8057 - val_acc: 0.7143\n",
      "Epoch 11/200\n",
      "5/5 [==============================] - 0s 17ms/step - loss: 0.7744 - acc: 0.7192 - val_loss: 0.7646 - val_acc: 0.7143\n",
      "Epoch 12/200\n",
      "5/5 [==============================] - 0s 16ms/step - loss: 0.7351 - acc: 0.7192 - val_loss: 0.7340 - val_acc: 0.7143\n",
      "Epoch 13/200\n",
      "5/5 [==============================] - 0s 19ms/step - loss: 0.7050 - acc: 0.7192 - val_loss: 0.7131 - val_acc: 0.7143\n",
      "Epoch 14/200\n",
      "5/5 [==============================] - 0s 53ms/step - loss: 0.6852 - acc: 0.7192 - val_loss: 0.6997 - val_acc: 0.7143\n",
      "Epoch 15/200\n",
      "5/5 [==============================] - 0s 16ms/step - loss: 0.6721 - acc: 0.7192 - val_loss: 0.6915 - val_acc: 0.7143\n",
      "Epoch 16/200\n",
      "5/5 [==============================] - 0s 15ms/step - loss: 0.6659 - acc: 0.7192 - val_loss: 0.6867 - val_acc: 0.7143\n",
      "Epoch 17/200\n",
      "5/5 [==============================] - 0s 16ms/step - loss: 0.6595 - acc: 0.7192 - val_loss: 0.6825 - val_acc: 0.7143\n",
      "Epoch 18/200\n",
      "5/5 [==============================] - 0s 15ms/step - loss: 0.6553 - acc: 0.7192 - val_loss: 0.6780 - val_acc: 0.7143\n",
      "Epoch 19/200\n",
      "5/5 [==============================] - 0s 15ms/step - loss: 0.6513 - acc: 0.7192 - val_loss: 0.6735 - val_acc: 0.7143\n",
      "Epoch 20/200\n",
      "5/5 [==============================] - 0s 16ms/step - loss: 0.6478 - acc: 0.7192 - val_loss: 0.6693 - val_acc: 0.7143\n",
      "Epoch 21/200\n",
      "5/5 [==============================] - 0s 53ms/step - loss: 0.6445 - acc: 0.7192 - val_loss: 0.6657 - val_acc: 0.7143\n",
      "Epoch 22/200\n",
      "5/5 [==============================] - 0s 15ms/step - loss: 0.6428 - acc: 0.7192 - val_loss: 0.6624 - val_acc: 0.7143\n",
      "Epoch 23/200\n",
      "5/5 [==============================] - 0s 16ms/step - loss: 0.6408 - acc: 0.7192 - val_loss: 0.6598 - val_acc: 0.7143\n",
      "Epoch 24/200\n",
      "5/5 [==============================] - 0s 16ms/step - loss: 0.6387 - acc: 0.7192 - val_loss: 0.6579 - val_acc: 0.7143\n",
      "Epoch 25/200\n",
      "5/5 [==============================] - 0s 16ms/step - loss: 0.6368 - acc: 0.7192 - val_loss: 0.6561 - val_acc: 0.7143\n",
      "Epoch 26/200\n",
      "5/5 [==============================] - 0s 15ms/step - loss: 0.6351 - acc: 0.7192 - val_loss: 0.6544 - val_acc: 0.7143\n",
      "Epoch 27/200\n",
      "5/5 [==============================] - 0s 16ms/step - loss: 0.6336 - acc: 0.7192 - val_loss: 0.6536 - val_acc: 0.7143\n",
      "Epoch 28/200\n",
      "5/5 [==============================] - 0s 15ms/step - loss: 0.6327 - acc: 0.7192 - val_loss: 0.6532 - val_acc: 0.7143\n",
      "Epoch 29/200\n",
      "5/5 [==============================] - 0s 15ms/step - loss: 0.6321 - acc: 0.7192 - val_loss: 0.6509 - val_acc: 0.7143\n",
      "Epoch 30/200\n",
      "5/5 [==============================] - 0s 16ms/step - loss: 0.6297 - acc: 0.7192 - val_loss: 0.6492 - val_acc: 0.7143\n",
      "Epoch 31/200\n",
      "5/5 [==============================] - 0s 16ms/step - loss: 0.6288 - acc: 0.7192 - val_loss: 0.6477 - val_acc: 0.7143\n",
      "Epoch 32/200\n",
      "5/5 [==============================] - 0s 18ms/step - loss: 0.6275 - acc: 0.7192 - val_loss: 0.6466 - val_acc: 0.7143\n",
      "Epoch 33/200\n",
      "5/5 [==============================] - 0s 19ms/step - loss: 0.6264 - acc: 0.7192 - val_loss: 0.6453 - val_acc: 0.7143\n",
      "Epoch 34/200\n",
      "5/5 [==============================] - 0s 18ms/step - loss: 0.6258 - acc: 0.7192 - val_loss: 0.6438 - val_acc: 0.7143\n",
      "Epoch 35/200\n",
      "5/5 [==============================] - 0s 18ms/step - loss: 0.6241 - acc: 0.7192 - val_loss: 0.6421 - val_acc: 0.7143\n",
      "Epoch 36/200\n",
      "5/5 [==============================] - 0s 16ms/step - loss: 0.6222 - acc: 0.7192 - val_loss: 0.6399 - val_acc: 0.7143\n",
      "Epoch 37/200\n",
      "5/5 [==============================] - 0s 16ms/step - loss: 0.6209 - acc: 0.7192 - val_loss: 0.6384 - val_acc: 0.7143\n",
      "Epoch 38/200\n",
      "5/5 [==============================] - 0s 18ms/step - loss: 0.6194 - acc: 0.7192 - val_loss: 0.6366 - val_acc: 0.7143\n",
      "Epoch 39/200\n",
      "5/5 [==============================] - 0s 17ms/step - loss: 0.6183 - acc: 0.7192 - val_loss: 0.6345 - val_acc: 0.7143\n",
      "Epoch 40/200\n",
      "5/5 [==============================] - 0s 19ms/step - loss: 0.6166 - acc: 0.7192 - val_loss: 0.6329 - val_acc: 0.7143\n",
      "Epoch 41/200\n",
      "5/5 [==============================] - 0s 18ms/step - loss: 0.6151 - acc: 0.7192 - val_loss: 0.6313 - val_acc: 0.7143\n",
      "Epoch 42/200\n",
      "5/5 [==============================] - 0s 16ms/step - loss: 0.6139 - acc: 0.7192 - val_loss: 0.6299 - val_acc: 0.7143\n",
      "Epoch 43/200\n",
      "5/5 [==============================] - 0s 17ms/step - loss: 0.6123 - acc: 0.7192 - val_loss: 0.6272 - val_acc: 0.7143\n",
      "Epoch 44/200\n",
      "5/5 [==============================] - 0s 16ms/step - loss: 0.6103 - acc: 0.7192 - val_loss: 0.6252 - val_acc: 0.7143\n",
      "Epoch 45/200\n",
      "5/5 [==============================] - 0s 59ms/step - loss: 0.6084 - acc: 0.7192 - val_loss: 0.6244 - val_acc: 0.7143\n",
      "Epoch 46/200\n",
      "5/5 [==============================] - 0s 17ms/step - loss: 0.6072 - acc: 0.7192 - val_loss: 0.6230 - val_acc: 0.7143\n",
      "Epoch 47/200\n",
      "5/5 [==============================] - 0s 18ms/step - loss: 0.6061 - acc: 0.7192 - val_loss: 0.6176 - val_acc: 0.7143\n",
      "Epoch 48/200\n",
      "5/5 [==============================] - 0s 18ms/step - loss: 0.6031 - acc: 0.7192 - val_loss: 0.6144 - val_acc: 0.7143\n",
      "Epoch 49/200\n",
      "5/5 [==============================] - 0s 16ms/step - loss: 0.5992 - acc: 0.7192 - val_loss: 0.6130 - val_acc: 0.7143\n",
      "Epoch 50/200\n",
      "5/5 [==============================] - 0s 15ms/step - loss: 0.5968 - acc: 0.7192 - val_loss: 0.6110 - val_acc: 0.7143\n",
      "Epoch 51/200\n",
      "5/5 [==============================] - 0s 15ms/step - loss: 0.5923 - acc: 0.7192 - val_loss: 0.5977 - val_acc: 0.7143\n",
      "Epoch 52/200\n",
      "5/5 [==============================] - 0s 17ms/step - loss: 0.5853 - acc: 0.7192 - val_loss: 0.5915 - val_acc: 0.7143\n",
      "Epoch 53/200\n",
      "5/5 [==============================] - 0s 16ms/step - loss: 0.5822 - acc: 0.7192 - val_loss: 0.5865 - val_acc: 0.7143\n",
      "Epoch 54/200\n",
      "5/5 [==============================] - 0s 15ms/step - loss: 0.5746 - acc: 0.7192 - val_loss: 0.5846 - val_acc: 0.7143\n",
      "Epoch 55/200\n",
      "5/5 [==============================] - 0s 15ms/step - loss: 0.5705 - acc: 0.7192 - val_loss: 0.5811 - val_acc: 0.7143\n",
      "Epoch 56/200\n",
      "5/5 [==============================] - 0s 18ms/step - loss: 0.5663 - acc: 0.7192 - val_loss: 0.5708 - val_acc: 0.7143\n",
      "Epoch 57/200\n",
      "5/5 [==============================] - 0s 18ms/step - loss: 0.5571 - acc: 0.7192 - val_loss: 0.5610 - val_acc: 0.7143\n",
      "Epoch 58/200\n",
      "5/5 [==============================] - 0s 16ms/step - loss: 0.5504 - acc: 0.7192 - val_loss: 0.5530 - val_acc: 0.7143\n",
      "Epoch 59/200\n",
      "5/5 [==============================] - 0s 15ms/step - loss: 0.5425 - acc: 0.7192 - val_loss: 0.5392 - val_acc: 0.7143\n",
      "Epoch 60/200\n",
      "5/5 [==============================] - 0s 16ms/step - loss: 0.5337 - acc: 0.7192 - val_loss: 0.5278 - val_acc: 0.7143\n",
      "Epoch 61/200\n",
      "5/5 [==============================] - 0s 16ms/step - loss: 0.5239 - acc: 0.7192 - val_loss: 0.5241 - val_acc: 0.7143\n",
      "Epoch 62/200\n",
      "5/5 [==============================] - 0s 15ms/step - loss: 0.5111 - acc: 0.7192 - val_loss: 0.5055 - val_acc: 0.7143\n",
      "Epoch 63/200\n"
     ]
    },
    {
     "name": "stdout",
     "output_type": "stream",
     "text": [
      "5/5 [==============================] - 0s 18ms/step - loss: 0.4989 - acc: 0.7260 - val_loss: 0.4853 - val_acc: 0.7143\n",
      "Epoch 64/200\n",
      "5/5 [==============================] - 0s 18ms/step - loss: 0.4875 - acc: 0.7329 - val_loss: 0.4732 - val_acc: 0.7143\n",
      "Epoch 65/200\n",
      "5/5 [==============================] - 0s 17ms/step - loss: 0.4744 - acc: 0.7192 - val_loss: 0.4617 - val_acc: 0.7143\n",
      "Epoch 66/200\n",
      "5/5 [==============================] - 0s 15ms/step - loss: 0.4556 - acc: 0.7260 - val_loss: 0.4403 - val_acc: 0.7302\n",
      "Epoch 67/200\n",
      "5/5 [==============================] - 0s 15ms/step - loss: 0.4408 - acc: 0.7740 - val_loss: 0.4263 - val_acc: 0.7460\n",
      "Epoch 68/200\n",
      "5/5 [==============================] - 0s 18ms/step - loss: 0.4234 - acc: 0.7945 - val_loss: 0.4063 - val_acc: 0.8413\n",
      "Epoch 69/200\n",
      "5/5 [==============================] - 0s 18ms/step - loss: 0.4071 - acc: 0.8219 - val_loss: 0.3920 - val_acc: 0.8413\n",
      "Epoch 70/200\n",
      "5/5 [==============================] - 0s 16ms/step - loss: 0.3902 - acc: 0.8973 - val_loss: 0.3732 - val_acc: 0.9048\n",
      "Epoch 71/200\n",
      "5/5 [==============================] - 0s 15ms/step - loss: 0.3738 - acc: 0.9110 - val_loss: 0.3603 - val_acc: 0.9048\n",
      "Epoch 72/200\n",
      "5/5 [==============================] - 0s 16ms/step - loss: 0.3573 - acc: 0.9041 - val_loss: 0.3418 - val_acc: 0.9048\n",
      "Epoch 73/200\n",
      "5/5 [==============================] - 0s 17ms/step - loss: 0.3424 - acc: 0.9452 - val_loss: 0.3288 - val_acc: 0.9048\n",
      "Epoch 74/200\n",
      "5/5 [==============================] - 0s 16ms/step - loss: 0.3264 - acc: 0.9589 - val_loss: 0.3173 - val_acc: 0.9048\n",
      "Epoch 75/200\n",
      "5/5 [==============================] - 0s 17ms/step - loss: 0.3096 - acc: 0.9247 - val_loss: 0.3100 - val_acc: 0.9048\n",
      "Epoch 76/200\n",
      "5/5 [==============================] - 0s 15ms/step - loss: 0.2937 - acc: 0.9315 - val_loss: 0.2809 - val_acc: 0.9365\n",
      "Epoch 77/200\n",
      "5/5 [==============================] - 0s 7ms/step - loss: 0.2813 - acc: 0.9452 - val_loss: 0.2930 - val_acc: 0.9048\n",
      "Epoch 78/200\n",
      "5/5 [==============================] - 0s 18ms/step - loss: 0.2655 - acc: 0.9384 - val_loss: 0.2675 - val_acc: 0.9365\n",
      "Epoch 79/200\n",
      "5/5 [==============================] - 0s 19ms/step - loss: 0.2556 - acc: 0.9589 - val_loss: 0.2579 - val_acc: 0.9365\n",
      "Epoch 80/200\n",
      "5/5 [==============================] - 0s 19ms/step - loss: 0.2445 - acc: 0.9521 - val_loss: 0.2532 - val_acc: 0.9365\n",
      "Epoch 81/200\n",
      "5/5 [==============================] - 0s 7ms/step - loss: 0.2378 - acc: 0.9315 - val_loss: 0.2635 - val_acc: 0.9048\n",
      "Epoch 82/200\n",
      "5/5 [==============================] - 0s 16ms/step - loss: 0.2205 - acc: 0.9589 - val_loss: 0.2275 - val_acc: 0.9524\n",
      "Epoch 83/200\n",
      "5/5 [==============================] - 0s 7ms/step - loss: 0.2120 - acc: 0.9589 - val_loss: 0.2499 - val_acc: 0.9048\n",
      "Epoch 84/200\n",
      "5/5 [==============================] - 0s 7ms/step - loss: 0.2015 - acc: 0.9658 - val_loss: 0.2315 - val_acc: 0.9524\n",
      "Epoch 85/200\n",
      "5/5 [==============================] - 0s 15ms/step - loss: 0.1943 - acc: 0.9589 - val_loss: 0.2204 - val_acc: 0.9365\n",
      "Epoch 86/200\n",
      "5/5 [==============================] - 0s 7ms/step - loss: 0.1873 - acc: 0.9658 - val_loss: 0.2342 - val_acc: 0.9365\n",
      "Epoch 87/200\n",
      "5/5 [==============================] - 0s 16ms/step - loss: 0.1820 - acc: 0.9658 - val_loss: 0.2121 - val_acc: 0.9365\n",
      "Epoch 88/200\n",
      "5/5 [==============================] - 0s 7ms/step - loss: 0.1718 - acc: 0.9589 - val_loss: 0.2218 - val_acc: 0.9524\n",
      "Epoch 89/200\n",
      "5/5 [==============================] - 0s 17ms/step - loss: 0.1679 - acc: 0.9658 - val_loss: 0.2105 - val_acc: 0.9524\n",
      "Epoch 90/200\n",
      "5/5 [==============================] - 0s 8ms/step - loss: 0.1605 - acc: 0.9658 - val_loss: 0.2294 - val_acc: 0.9365\n",
      "Epoch 91/200\n",
      "5/5 [==============================] - 0s 19ms/step - loss: 0.1572 - acc: 0.9589 - val_loss: 0.2005 - val_acc: 0.9524\n",
      "Epoch 92/200\n",
      "5/5 [==============================] - 0s 8ms/step - loss: 0.1519 - acc: 0.9589 - val_loss: 0.2065 - val_acc: 0.9524\n",
      "Epoch 93/200\n",
      "5/5 [==============================] - 0s 7ms/step - loss: 0.1444 - acc: 0.9658 - val_loss: 0.2155 - val_acc: 0.9524\n",
      "Epoch 94/200\n",
      "5/5 [==============================] - 0s 16ms/step - loss: 0.1436 - acc: 0.9658 - val_loss: 0.2002 - val_acc: 0.9524\n",
      "Epoch 95/200\n",
      "5/5 [==============================] - 0s 16ms/step - loss: 0.1393 - acc: 0.9658 - val_loss: 0.1993 - val_acc: 0.9524\n",
      "Epoch 96/200\n",
      "5/5 [==============================] - 0s 16ms/step - loss: 0.1500 - acc: 0.9589 - val_loss: 0.1926 - val_acc: 0.9683\n",
      "Epoch 97/200\n",
      "5/5 [==============================] - 0s 8ms/step - loss: 0.1316 - acc: 0.9589 - val_loss: 0.2296 - val_acc: 0.9365\n",
      "Epoch 98/200\n",
      "5/5 [==============================] - 0s 18ms/step - loss: 0.1402 - acc: 0.9521 - val_loss: 0.1864 - val_acc: 0.9683\n",
      "Epoch 99/200\n",
      "5/5 [==============================] - 0s 8ms/step - loss: 0.1240 - acc: 0.9726 - val_loss: 0.2123 - val_acc: 0.9524\n",
      "Epoch 100/200\n",
      "5/5 [==============================] - 0s 16ms/step - loss: 0.1228 - acc: 0.9658 - val_loss: 0.1854 - val_acc: 0.9683\n",
      "Epoch 101/200\n",
      "5/5 [==============================] - 0s 7ms/step - loss: 0.1193 - acc: 0.9658 - val_loss: 0.2001 - val_acc: 0.9524\n",
      "Epoch 102/200\n",
      "5/5 [==============================] - 0s 7ms/step - loss: 0.1148 - acc: 0.9658 - val_loss: 0.1883 - val_acc: 0.9683\n",
      "Epoch 103/200\n",
      "5/5 [==============================] - 0s 7ms/step - loss: 0.1120 - acc: 0.9726 - val_loss: 0.1965 - val_acc: 0.9524\n",
      "Epoch 104/200\n",
      "5/5 [==============================] - 0s 7ms/step - loss: 0.1103 - acc: 0.9726 - val_loss: 0.1874 - val_acc: 0.9683\n",
      "Epoch 105/200\n",
      "5/5 [==============================] - 0s 15ms/step - loss: 0.1096 - acc: 0.9658 - val_loss: 0.1810 - val_acc: 0.9683\n",
      "Epoch 106/200\n",
      "5/5 [==============================] - 0s 6ms/step - loss: 0.1067 - acc: 0.9726 - val_loss: 0.2135 - val_acc: 0.9524\n",
      "Epoch 107/200\n",
      "5/5 [==============================] - 0s 15ms/step - loss: 0.1092 - acc: 0.9521 - val_loss: 0.1786 - val_acc: 0.9683\n",
      "Epoch 108/200\n",
      "5/5 [==============================] - 0s 7ms/step - loss: 0.1014 - acc: 0.9726 - val_loss: 0.1935 - val_acc: 0.9524\n",
      "Epoch 109/200\n",
      "5/5 [==============================] - 0s 7ms/step - loss: 0.0985 - acc: 0.9726 - val_loss: 0.2005 - val_acc: 0.9524\n",
      "Epoch 110/200\n",
      "5/5 [==============================] - 0s 7ms/step - loss: 0.1011 - acc: 0.9658 - val_loss: 0.1791 - val_acc: 0.9683\n",
      "Epoch 111/200\n",
      "5/5 [==============================] - 0s 6ms/step - loss: 0.0990 - acc: 0.9658 - val_loss: 0.2029 - val_acc: 0.9524\n",
      "Epoch 112/200\n",
      "5/5 [==============================] - 0s 6ms/step - loss: 0.0992 - acc: 0.9589 - val_loss: 0.1803 - val_acc: 0.9683\n",
      "Epoch 113/200\n",
      "5/5 [==============================] - 0s 7ms/step - loss: 0.0883 - acc: 0.9795 - val_loss: 0.2169 - val_acc: 0.9524\n",
      "Epoch 114/200\n",
      "5/5 [==============================] - 0s 15ms/step - loss: 0.0936 - acc: 0.9658 - val_loss: 0.1784 - val_acc: 0.9683\n",
      "Epoch 115/200\n",
      "5/5 [==============================] - 0s 6ms/step - loss: 0.0875 - acc: 0.9658 - val_loss: 0.1930 - val_acc: 0.9683\n",
      "Epoch 116/200\n",
      "5/5 [==============================] - 0s 7ms/step - loss: 0.0868 - acc: 0.9658 - val_loss: 0.1884 - val_acc: 0.9683\n",
      "Epoch 117/200\n",
      "5/5 [==============================] - 0s 15ms/step - loss: 0.0852 - acc: 0.9658 - val_loss: 0.1751 - val_acc: 0.9683\n",
      "Epoch 118/200\n",
      "5/5 [==============================] - 0s 6ms/step - loss: 0.1029 - acc: 0.9658 - val_loss: 0.1875 - val_acc: 0.9683\n",
      "Epoch 119/200\n",
      "5/5 [==============================] - 0s 6ms/step - loss: 0.0804 - acc: 0.9795 - val_loss: 0.2210 - val_acc: 0.9524\n",
      "Epoch 120/200\n",
      "5/5 [==============================] - 0s 6ms/step - loss: 0.0886 - acc: 0.9658 - val_loss: 0.1832 - val_acc: 0.9683\n",
      "Epoch 121/200\n",
      "5/5 [==============================] - 0s 7ms/step - loss: 0.0783 - acc: 0.9795 - val_loss: 0.1930 - val_acc: 0.9683\n",
      "Epoch 122/200\n",
      "5/5 [==============================] - 0s 6ms/step - loss: 0.0774 - acc: 0.9795 - val_loss: 0.1852 - val_acc: 0.9683\n",
      "Epoch 123/200\n",
      "5/5 [==============================] - 0s 7ms/step - loss: 0.0781 - acc: 0.9795 - val_loss: 0.1884 - val_acc: 0.9683\n",
      "Epoch 124/200\n",
      "5/5 [==============================] - 0s 7ms/step - loss: 0.0775 - acc: 0.9726 - val_loss: 0.1806 - val_acc: 0.9683\n",
      "Epoch 125/200\n",
      "5/5 [==============================] - 0s 7ms/step - loss: 0.0751 - acc: 0.9863 - val_loss: 0.1911 - val_acc: 0.9683\n"
     ]
    },
    {
     "name": "stdout",
     "output_type": "stream",
     "text": [
      "Epoch 126/200\n",
      "5/5 [==============================] - 0s 15ms/step - loss: 0.0709 - acc: 0.9795 - val_loss: 0.1718 - val_acc: 0.9683\n",
      "Epoch 127/200\n",
      "5/5 [==============================] - 0s 6ms/step - loss: 0.0783 - acc: 0.9658 - val_loss: 0.1929 - val_acc: 0.9683\n",
      "Epoch 128/200\n",
      "5/5 [==============================] - 0s 6ms/step - loss: 0.0745 - acc: 0.9795 - val_loss: 0.1926 - val_acc: 0.9683\n",
      "Epoch 129/200\n",
      "5/5 [==============================] - 0s 6ms/step - loss: 0.0697 - acc: 0.9863 - val_loss: 0.1758 - val_acc: 0.9683\n",
      "Epoch 130/200\n",
      "5/5 [==============================] - 0s 7ms/step - loss: 0.0685 - acc: 0.9795 - val_loss: 0.1933 - val_acc: 0.9683\n",
      "Epoch 131/200\n",
      "5/5 [==============================] - 0s 7ms/step - loss: 0.0724 - acc: 0.9795 - val_loss: 0.1834 - val_acc: 0.9683\n",
      "Epoch 132/200\n",
      "5/5 [==============================] - 0s 15ms/step - loss: 0.0658 - acc: 0.9726 - val_loss: 0.1701 - val_acc: 0.9683\n",
      "Epoch 133/200\n",
      "5/5 [==============================] - 0s 6ms/step - loss: 0.0667 - acc: 0.9863 - val_loss: 0.1961 - val_acc: 0.9683\n",
      "Epoch 134/200\n",
      "5/5 [==============================] - 0s 6ms/step - loss: 0.0736 - acc: 0.9863 - val_loss: 0.1914 - val_acc: 0.9683\n",
      "Epoch 135/200\n",
      "5/5 [==============================] - 0s 15ms/step - loss: 0.0658 - acc: 0.9795 - val_loss: 0.1589 - val_acc: 0.9683\n",
      "Epoch 136/200\n",
      "5/5 [==============================] - 0s 7ms/step - loss: 0.0709 - acc: 0.9658 - val_loss: 0.2097 - val_acc: 0.9683\n",
      "Epoch 137/200\n",
      "5/5 [==============================] - 0s 7ms/step - loss: 0.0639 - acc: 0.9932 - val_loss: 0.1698 - val_acc: 0.9683\n",
      "Epoch 138/200\n",
      "5/5 [==============================] - 0s 7ms/step - loss: 0.0627 - acc: 0.9795 - val_loss: 0.1764 - val_acc: 0.9683\n",
      "Epoch 139/200\n",
      "5/5 [==============================] - 0s 7ms/step - loss: 0.0648 - acc: 0.9863 - val_loss: 0.1827 - val_acc: 0.9683\n",
      "Epoch 140/200\n",
      "5/5 [==============================] - 0s 7ms/step - loss: 0.0595 - acc: 0.9863 - val_loss: 0.1827 - val_acc: 0.9683\n",
      "Epoch 141/200\n",
      "5/5 [==============================] - 0s 9ms/step - loss: 0.0583 - acc: 0.9932 - val_loss: 0.1880 - val_acc: 0.9683\n",
      "Epoch 142/200\n",
      "5/5 [==============================] - 0s 7ms/step - loss: 0.0569 - acc: 0.9932 - val_loss: 0.1805 - val_acc: 0.9683\n",
      "Epoch 143/200\n",
      "5/5 [==============================] - 0s 7ms/step - loss: 0.0571 - acc: 0.9932 - val_loss: 0.1830 - val_acc: 0.9683\n",
      "Epoch 144/200\n",
      "5/5 [==============================] - 0s 7ms/step - loss: 0.0576 - acc: 0.9932 - val_loss: 0.1963 - val_acc: 0.9683\n",
      "Epoch 145/200\n",
      "5/5 [==============================] - 0s 7ms/step - loss: 0.0601 - acc: 0.9795 - val_loss: 0.1670 - val_acc: 0.9683\n",
      "Epoch 146/200\n",
      "5/5 [==============================] - 0s 7ms/step - loss: 0.0654 - acc: 0.9726 - val_loss: 0.2049 - val_acc: 0.9683\n",
      "Epoch 147/200\n",
      "5/5 [==============================] - 0s 7ms/step - loss: 0.0557 - acc: 0.9932 - val_loss: 0.1701 - val_acc: 0.9683\n",
      "Epoch 148/200\n",
      "5/5 [==============================] - 0s 7ms/step - loss: 0.0552 - acc: 0.9863 - val_loss: 0.1935 - val_acc: 0.9683\n",
      "Epoch 149/200\n",
      "5/5 [==============================] - 0s 7ms/step - loss: 0.0524 - acc: 0.9932 - val_loss: 0.1769 - val_acc: 0.9683\n",
      "Epoch 150/200\n",
      "5/5 [==============================] - 0s 7ms/step - loss: 0.0540 - acc: 0.9932 - val_loss: 0.1806 - val_acc: 0.9683\n",
      "Epoch 151/200\n",
      "5/5 [==============================] - 0s 7ms/step - loss: 0.0514 - acc: 0.9932 - val_loss: 0.1778 - val_acc: 0.9683\n",
      "Epoch 152/200\n",
      "5/5 [==============================] - 0s 7ms/step - loss: 0.0494 - acc: 0.9932 - val_loss: 0.1939 - val_acc: 0.9683\n",
      "Epoch 153/200\n",
      "5/5 [==============================] - 0s 6ms/step - loss: 0.0498 - acc: 0.9932 - val_loss: 0.1855 - val_acc: 0.9683\n",
      "Epoch 154/200\n",
      "5/5 [==============================] - 0s 7ms/step - loss: 0.0483 - acc: 0.9932 - val_loss: 0.1787 - val_acc: 0.9683\n",
      "Epoch 155/200\n",
      "5/5 [==============================] - 0s 7ms/step - loss: 0.0489 - acc: 0.9932 - val_loss: 0.1841 - val_acc: 0.9683\n",
      "Epoch 156/200\n",
      "5/5 [==============================] - 0s 6ms/step - loss: 0.0506 - acc: 0.9932 - val_loss: 0.1891 - val_acc: 0.9683\n",
      "Epoch 157/200\n",
      "5/5 [==============================] - 0s 6ms/step - loss: 0.0491 - acc: 0.9932 - val_loss: 0.1876 - val_acc: 0.9683\n",
      "Epoch 158/200\n",
      "5/5 [==============================] - 0s 6ms/step - loss: 0.0475 - acc: 0.9932 - val_loss: 0.1744 - val_acc: 0.9683\n",
      "Epoch 159/200\n",
      "5/5 [==============================] - 0s 7ms/step - loss: 0.0481 - acc: 0.9932 - val_loss: 0.1704 - val_acc: 0.9683\n",
      "Epoch 160/200\n",
      "5/5 [==============================] - 0s 6ms/step - loss: 0.0554 - acc: 0.9795 - val_loss: 0.1998 - val_acc: 0.9683\n",
      "Epoch 161/200\n",
      "5/5 [==============================] - 0s 6ms/step - loss: 0.0439 - acc: 0.9932 - val_loss: 0.1605 - val_acc: 0.9683\n",
      "Epoch 162/200\n",
      "5/5 [==============================] - 0s 6ms/step - loss: 0.0548 - acc: 0.9932 - val_loss: 0.2157 - val_acc: 0.9683\n",
      "Epoch 163/200\n",
      "5/5 [==============================] - 0s 6ms/step - loss: 0.0553 - acc: 0.9863 - val_loss: 0.1769 - val_acc: 0.9683\n",
      "Epoch 164/200\n",
      "5/5 [==============================] - 0s 7ms/step - loss: 0.0417 - acc: 0.9932 - val_loss: 0.2040 - val_acc: 0.9683\n",
      "Epoch 165/200\n",
      "5/5 [==============================] - 0s 6ms/step - loss: 0.0449 - acc: 0.9863 - val_loss: 0.1785 - val_acc: 0.9683\n",
      "Epoch 166/200\n",
      "5/5 [==============================] - 0s 7ms/step - loss: 0.0433 - acc: 1.0000 - val_loss: 0.1724 - val_acc: 0.9683\n",
      "Epoch 167/200\n",
      "5/5 [==============================] - 0s 6ms/step - loss: 0.0407 - acc: 1.0000 - val_loss: 0.1963 - val_acc: 0.9683\n",
      "Epoch 168/200\n",
      "5/5 [==============================] - 0s 6ms/step - loss: 0.0453 - acc: 0.9932 - val_loss: 0.1854 - val_acc: 0.9683\n",
      "Epoch 169/200\n",
      "5/5 [==============================] - 0s 7ms/step - loss: 0.0406 - acc: 0.9932 - val_loss: 0.1785 - val_acc: 0.9683\n",
      "Epoch 170/200\n",
      "5/5 [==============================] - 0s 7ms/step - loss: 0.0441 - acc: 0.9932 - val_loss: 0.1800 - val_acc: 0.9683\n",
      "Epoch 171/200\n",
      "5/5 [==============================] - 0s 7ms/step - loss: 0.0391 - acc: 1.0000 - val_loss: 0.2115 - val_acc: 0.9683\n",
      "Epoch 172/200\n",
      "5/5 [==============================] - 0s 7ms/step - loss: 0.0449 - acc: 0.9863 - val_loss: 0.1895 - val_acc: 0.9683\n",
      "Epoch 173/200\n",
      "5/5 [==============================] - 0s 7ms/step - loss: 0.0372 - acc: 0.9932 - val_loss: 0.1774 - val_acc: 0.9683\n",
      "Epoch 174/200\n",
      "5/5 [==============================] - 0s 6ms/step - loss: 0.0381 - acc: 1.0000 - val_loss: 0.1892 - val_acc: 0.9683\n",
      "Epoch 175/200\n",
      "5/5 [==============================] - 0s 7ms/step - loss: 0.0372 - acc: 0.9932 - val_loss: 0.1922 - val_acc: 0.9683\n",
      "Epoch 176/200\n",
      "5/5 [==============================] - 0s 6ms/step - loss: 0.0379 - acc: 0.9932 - val_loss: 0.1840 - val_acc: 0.9683\n",
      "Epoch 177/200\n",
      "5/5 [==============================] - 0s 7ms/step - loss: 0.0375 - acc: 1.0000 - val_loss: 0.1853 - val_acc: 0.9683\n",
      "Epoch 178/200\n",
      "5/5 [==============================] - 0s 6ms/step - loss: 0.0355 - acc: 1.0000 - val_loss: 0.1779 - val_acc: 0.9683\n",
      "Epoch 179/200\n",
      "5/5 [==============================] - 0s 6ms/step - loss: 0.0389 - acc: 0.9932 - val_loss: 0.1949 - val_acc: 0.9683\n",
      "Epoch 180/200\n",
      "5/5 [==============================] - 0s 6ms/step - loss: 0.0344 - acc: 0.9932 - val_loss: 0.1761 - val_acc: 0.9683\n",
      "Epoch 181/200\n",
      "5/5 [==============================] - 0s 6ms/step - loss: 0.0397 - acc: 1.0000 - val_loss: 0.1909 - val_acc: 0.9683\n",
      "Epoch 182/200\n",
      "5/5 [==============================] - 0s 6ms/step - loss: 0.0385 - acc: 0.9932 - val_loss: 0.1977 - val_acc: 0.9683\n",
      "Epoch 183/200\n",
      "5/5 [==============================] - 0s 6ms/step - loss: 0.0335 - acc: 1.0000 - val_loss: 0.1776 - val_acc: 0.9683\n",
      "Epoch 184/200\n",
      "5/5 [==============================] - 0s 6ms/step - loss: 0.0360 - acc: 0.9932 - val_loss: 0.1911 - val_acc: 0.9683\n",
      "Epoch 185/200\n",
      "5/5 [==============================] - 0s 6ms/step - loss: 0.0324 - acc: 1.0000 - val_loss: 0.1809 - val_acc: 0.9683\n",
      "Epoch 186/200\n",
      "5/5 [==============================] - 0s 7ms/step - loss: 0.0335 - acc: 1.0000 - val_loss: 0.1849 - val_acc: 0.9683\n",
      "Epoch 187/200\n",
      "5/5 [==============================] - 0s 7ms/step - loss: 0.0337 - acc: 1.0000 - val_loss: 0.1886 - val_acc: 0.9683\n",
      "Epoch 188/200\n"
     ]
    },
    {
     "name": "stdout",
     "output_type": "stream",
     "text": [
      "5/5 [==============================] - 0s 6ms/step - loss: 0.0332 - acc: 0.9863 - val_loss: 0.1991 - val_acc: 0.9683\n",
      "Epoch 189/200\n",
      "5/5 [==============================] - 0s 7ms/step - loss: 0.0317 - acc: 0.9932 - val_loss: 0.1758 - val_acc: 0.9683\n",
      "Epoch 190/200\n",
      "5/5 [==============================] - 0s 7ms/step - loss: 0.0336 - acc: 1.0000 - val_loss: 0.1937 - val_acc: 0.9683\n",
      "Epoch 191/200\n",
      "5/5 [==============================] - 0s 6ms/step - loss: 0.0355 - acc: 0.9863 - val_loss: 0.1923 - val_acc: 0.9683\n",
      "Epoch 192/200\n",
      "5/5 [==============================] - 0s 7ms/step - loss: 0.0336 - acc: 0.9863 - val_loss: 0.1890 - val_acc: 0.9683\n",
      "Epoch 193/200\n",
      "5/5 [==============================] - 0s 7ms/step - loss: 0.0315 - acc: 1.0000 - val_loss: 0.1869 - val_acc: 0.9683\n",
      "Epoch 194/200\n",
      "5/5 [==============================] - 0s 7ms/step - loss: 0.0303 - acc: 1.0000 - val_loss: 0.1964 - val_acc: 0.9683\n",
      "Epoch 195/200\n",
      "5/5 [==============================] - 0s 6ms/step - loss: 0.0340 - acc: 1.0000 - val_loss: 0.1843 - val_acc: 0.9683\n",
      "Epoch 196/200\n",
      "5/5 [==============================] - 0s 7ms/step - loss: 0.0333 - acc: 0.9932 - val_loss: 0.2049 - val_acc: 0.9683\n",
      "Epoch 197/200\n",
      "5/5 [==============================] - 0s 7ms/step - loss: 0.0288 - acc: 1.0000 - val_loss: 0.1814 - val_acc: 0.9683\n",
      "Epoch 198/200\n",
      "5/5 [==============================] - 0s 6ms/step - loss: 0.0321 - acc: 1.0000 - val_loss: 0.1920 - val_acc: 0.9683\n",
      "Epoch 199/200\n",
      "5/5 [==============================] - 0s 6ms/step - loss: 0.0283 - acc: 1.0000 - val_loss: 0.1912 - val_acc: 0.9683\n",
      "Epoch 200/200\n",
      "5/5 [==============================] - 0s 6ms/step - loss: 0.0341 - acc: 1.0000 - val_loss: 0.1909 - val_acc: 0.9683\n"
     ]
    }
   ],
   "source": [
    "history2 = model2.fit(치수2_train_scaled[:th], 체형2_train[:th], validation_data=(치수2_train_scaled[th:], 체형2_train[th:]), epochs = 200, callbacks = [model_check_point2])"
   ]
  },
  {
   "cell_type": "code",
   "execution_count": 384,
   "id": "a727c9f4",
   "metadata": {},
   "outputs": [
    {
     "data": {
      "text/plain": [
       "<AxesSubplot:>"
      ]
     },
     "execution_count": 384,
     "metadata": {},
     "output_type": "execute_result"
    },
    {
     "data": {
      "image/png": "[encoded data removed]",
      "text/plain": [
       "<Figure size 640x480 with 1 Axes>"
      ]
     },
     "metadata": {},
     "output_type": "display_data"
    },
    {
     "data": {
      "image/png": "[encoded data removed]",
      "text/plain": [
       "<Figure size 640x480 with 1 Axes>"
      ]
     },
     "metadata": {},
     "output_type": "display_data"
    }
   ],
   "source": [
    "results = pd.DataFrame(history2.history)\n",
    "results[['loss', 'val_loss']].plot()\n",
    "train_results[['acc','val_acc']].plot()"
   ]
  },
  {
   "cell_type": "code",
   "execution_count": 385,
   "id": "6d0a1a35",
   "metadata": {},
   "outputs": [
    {
     "data": {
      "text/plain": [
       "<tensorflow.python.training.tracking.util.CheckpointLoadStatus at 0x1d63d8c1760>"
      ]
     },
     "execution_count": 385,
     "metadata": {},
     "output_type": "execute_result"
    }
   ],
   "source": [
    "model2.load_weights(checkpoint_path2)"
   ]
  },
  {
   "cell_type": "code",
   "execution_count": 386,
   "id": "f94b2111",
   "metadata": {},
   "outputs": [
    {
     "name": "stdout",
     "output_type": "stream",
     "text": [
      "5/5 [==============================] - 0s 997us/step\n",
      "2/2 [==============================] - 0s 997us/step\n",
      "학습 데이터:142 of 146 are correct [97.26027397260275%]\n",
      "검증 데이터:61 of 63 are correct [96.82539682539682%]\n"
     ]
    }
   ],
   "source": [
    "학습2 = model2.predict(치수2_train_scaled[:th])\n",
    "검증2 = model2.predict(치수2_train_scaled[th:])\n",
    "\n",
    "학습데이터2 = np.argmax(학습2, axis = 1)\n",
    "검증데이터2 = np.argmax(검증2, axis = 1)\n",
    "cnt_학습2 = 0\n",
    "cnt_검증2 = 0\n",
    "for i,j in zip(학습데이터2, 체형2_train[:th]):\n",
    "    if(i==j):\n",
    "        cnt_학습2 = cnt_학습2 +1\n",
    "print(f'학습 데이터:{cnt_학습2} of {치수2_train_scaled[:th].shape[0]} are correct [{cnt_학습2/치수2_train_scaled[:th].shape[0]*100}%]')\n",
    "\n",
    "for i,j in zip(검증데이터2, 체형2_train[th:]):\n",
    "    if(i==j):\n",
    "        cnt_검증2 = cnt_검증2 +1\n",
    "print(f'검증 데이터:{cnt_검증2} of {치수2_train_scaled[th:].shape[0]} are correct [{cnt_검증2/치수2_train_scaled[th:].shape[0]*100}%]')"
   ]
  },
  {
   "cell_type": "code",
   "execution_count": 387,
   "id": "0f36adff",
   "metadata": {},
   "outputs": [
    {
     "name": "stdout",
     "output_type": "stream",
     "text": [
      "3/3 [==============================] - 0s 1ms/step\n",
      "87 of 90 are correct [96.66666666666667%]\n"
     ]
    }
   ],
   "source": [
    "Y2_pred = model2.predict(minmax_scaler.transform(치수2_test))\n",
    "체형2_pred = np.argmax(Y2_pred, axis=1)\n",
    "cnt2 = 0\n",
    "for i, j in zip(체형2_test, 체형2_pred):\n",
    "    if(i ==j ):\n",
    "        cnt2 = cnt2 +1\n",
    "print(f'{cnt2} of {체형2_test.shape[0]} are correct [{cnt2/체형2_test.shape[0]*100}%]')\n"
   ]
  },
  {
   "cell_type": "code",
   "execution_count": 388,
   "id": "8c0817f1",
   "metadata": {
    "scrolled": true
   },
   "outputs": [
    {
     "name": "stdout",
     "output_type": "stream",
     "text": [
      "71.22641509433963%   96.66666666666667%\n"
     ]
    }
   ],
   "source": [
    "print(f'{cnt/체형_train.shape[0]*100}%   {cnt2/체형2_test.shape[0]*100}%')"
   ]
  },
  {
   "cell_type": "code",
   "execution_count": 389,
   "id": "21c6b36c",
   "metadata": {},
   "outputs": [
    {
     "name": "stdout",
     "output_type": "stream",
     "text": [
      "7/7 [==============================] - 0s 997us/step - loss: 0.7102 - acc: 0.7123\n"
     ]
    },
    {
     "data": {
      "text/plain": [
       "[0.7102386355400085, 0.7122641801834106]"
      ]
     },
     "execution_count": 389,
     "metadata": {},
     "output_type": "execute_result"
    }
   ],
   "source": [
    "model.evaluate(치수_scaled[shuff], 체형_train[shuff])"
   ]
  },
  {
   "cell_type": "code",
   "execution_count": 390,
   "id": "e2143f7b",
   "metadata": {},
   "outputs": [
    {
     "name": "stdout",
     "output_type": "stream",
     "text": [
      "3/3 [==============================] - 0s 1ms/step - loss: 0.0653 - acc: 0.9667\n"
     ]
    },
    {
     "data": {
      "text/plain": [
       "[0.06529112160205841, 0.9666666388511658]"
      ]
     },
     "execution_count": 390,
     "metadata": {},
     "output_type": "execute_result"
    }
   ],
   "source": [
    "model2.evaluate(minmax_scaler.transform(치수2_test), 체형2_test)"
   ]
  },
  {
   "cell_type": "code",
   "execution_count": 391,
   "id": "0ee645e9",
   "metadata": {},
   "outputs": [
    {
     "name": "stdout",
     "output_type": "stream",
     "text": [
      "10/10 [==============================] - 0s 888us/step\n"
     ]
    }
   ],
   "source": [
    "y_pred_result = model2.predict(minmax_scaler.transform(치수))"
   ]
  },
  {
   "cell_type": "code",
   "execution_count": 392,
   "id": "caea95ee",
   "metadata": {},
   "outputs": [],
   "source": [
    "체형예측결과 = np.argmax(y_pred_result,axis = 1)\n",
    "Y_pred_max2 = np.max(y_pred_result,axis =1)"
   ]
  },
  {
   "cell_type": "code",
   "execution_count": 451,
   "id": "2c2495b6",
   "metadata": {},
   "outputs": [],
   "source": [
    "선별 =[]\n",
    "오차 = []\n",
    "for i,j,k in zip(체형예측결과,체형,range(체형.shape[0])):\n",
    "    if(i == j):\n",
    "        if((Y_pred_max2[k] >= 0.9)):\n",
    "            선별.append(k)\n",
    "            \n",
    "for i,j,k in zip(체형예측결과,체형,range(체형.shape[0])):\n",
    "    if(i != j):\n",
    "        오차.append(k)"
   ]
  },
  {
   "cell_type": "code",
   "execution_count": 454,
   "id": "182e89f5",
   "metadata": {},
   "outputs": [],
   "source": [
    "len(선별)\n",
    "np.random.shuffle(선별)"
   ]
  },
  {
   "cell_type": "code",
   "execution_count": 455,
   "id": "b20254ec",
   "metadata": {},
   "outputs": [
    {
     "data": {
      "text/plain": [
       "array([['2022_08_11_112650_642_3337.pcd', 830.01, 587.76, ..., 2473.35,\n",
       "        2651.65, 2],\n",
       "       ['2022_11_17_074128_750_5491.scd', 900.01, 611.78, ..., 2626.62,\n",
       "        2784.84, 2],\n",
       "       ['2022_11_17_074208_750_5491.scd', 1360.01, 598.04, ..., 2725.98,\n",
       "        3047.45, 2],\n",
       "       ...,\n",
       "       ['2022_11_17_173647_722_1534.scd', 780.01, 688.04, ..., 2639.9,\n",
       "        2763.15, 2],\n",
       "       ['2022_11_17_170940_748_3891.scd', 900.01, 626.48, ..., 2618.48,\n",
       "        2806.56, 2],\n",
       "       ['2022_11_17_173608_722_1534.scd', 780.01, 634.89, ..., 2630.85,\n",
       "        2782.91, 2]], dtype=object)"
      ]
     },
     "execution_count": 455,
     "metadata": {},
     "output_type": "execute_result"
    }
   ],
   "source": [
    "num_data[2:,2:][선별]"
   ]
  },
  {
   "cell_type": "code",
   "execution_count": 456,
   "id": "c81caf76",
   "metadata": {},
   "outputs": [
    {
     "data": {
      "text/plain": [
       "(97, 25)"
      ]
     },
     "execution_count": 456,
     "metadata": {},
     "output_type": "execute_result"
    }
   ],
   "source": [
    "num_data[2:,2:][선별[:97]].shape"
   ]
  },
  {
   "cell_type": "code",
   "execution_count": 457,
   "id": "d68fb3f0",
   "metadata": {},
   "outputs": [
    {
     "data": {
      "text/plain": [
       "87"
      ]
     },
     "execution_count": 457,
     "metadata": {},
     "output_type": "execute_result"
    }
   ],
   "source": [
    "len(오차)"
   ]
  },
  {
   "cell_type": "code",
   "execution_count": 458,
   "id": "387384b8",
   "metadata": {},
   "outputs": [
    {
     "data": {
      "text/plain": [
       "array([['2022_08_10_165601_760_123454.pcd', 970.01, 622.54, 675.94,\n",
       "        461765.7, 808.44, 853.45, 549666.94, 2649.29, 663.43, 864.49,\n",
       "        449852.03, 2501.56, 662.73, 695.8, 813.32, 837.79, 864.83, 0.87,\n",
       "        0.95, 499497.47, 567715.08, 2537.74, 2691.14, 3],\n",
       "       ['2022_08_10_165803_700_123456.pcd', 700.01, 696.68, 703.77,\n",
       "        468718.41, 817.1, 868.14, 562018.52, 2660.47, 642.44, 876.33,\n",
       "        443294.4, 2463.53, 647.76, 712.73, 837.88, 848.09, 901.17, 0.89,\n",
       "        0.96, 519239.96, 590198.55, 2545.8, 2754.54, 2],\n",
       "       ['2022_08_10_170204_700_123123.pcd', 960.01, 603.49, 614.55,\n",
       "        371601.44, 750.18, 764.14, 467379.3, 2437.73, 645.62, 831.8,\n",
       "        424863.04, 2381.24, 437.34, 662.44, 768.73, 760.68, 843.88, 0.9,\n",
       "        1.01, 434706.62, 483358.75, 2298.18, 2483.84, 1]], dtype=object)"
      ]
     },
     "execution_count": 458,
     "metadata": {},
     "output_type": "execute_result"
    }
   ],
   "source": [
    "num_data[2:,2:][오차[:3]]"
   ]
  },
  {
   "cell_type": "code",
   "execution_count": 459,
   "id": "257ff71c",
   "metadata": {},
   "outputs": [],
   "source": [
    "선별_merge = np.concatenate((num_data[2:,2:][선별[:97]], num_data[2:,2:][오차[:3]]), axis = 0)"
   ]
  },
  {
   "cell_type": "code",
   "execution_count": 460,
   "id": "b6cbd68f",
   "metadata": {},
   "outputs": [
    {
     "data": {
      "text/plain": [
       "(100, 25)"
      ]
     },
     "execution_count": 460,
     "metadata": {},
     "output_type": "execute_result"
    }
   ],
   "source": [
    "선별_merge.shape"
   ]
  },
  {
   "cell_type": "code",
   "execution_count": 461,
   "id": "dbf9f10c",
   "metadata": {},
   "outputs": [],
   "source": [
    "dataF = pd.DataFrame(선별_merge)\n",
    "filename = 'Results.csv'\n",
    "dataF.to_csv(filename, encoding=\"euc-kr\", index=False)"
   ]
  },
  {
   "cell_type": "code",
   "execution_count": null,
   "id": "bd4badc4",
   "metadata": {},
   "outputs": [],
   "source": []
  }
 ],
 "metadata": {
  "kernelspec": {
   "display_name": "Python 3 (ipykernel)",
   "language": "python",
   "name": "python3"
  },
  "language_info": {
   "codemirror_mode": {
    "name": "ipython",
    "version": 3
   },
   "file_extension": ".py",
   "mimetype": "text/x-python",
   "name": "python",
   "nbconvert_exporter": "python",
   "pygments_lexer": "ipython3",
   "version": "3.9.13"
  }
 },
 "nbformat": 4,
 "nbformat_minor": 5
}
